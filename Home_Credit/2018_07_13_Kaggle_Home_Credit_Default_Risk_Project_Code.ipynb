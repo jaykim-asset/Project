{
 "cells": [
  {
   "cell_type": "markdown",
   "metadata": {},
   "source": [
    "### Data Specification Parts Code ### "
   ]
  },
  {
   "cell_type": "code",
   "execution_count": 45,
   "metadata": {},
   "outputs": [],
   "source": [
    "path = 'C:\\\\Users\\\\Jongjae\\\\Project\\\\Home_Credit\\\\'\n",
    "train = pd.read_csv(path + 'application_train.csv')\n",
    "test = pd.read_csv(path + 'application_test.csv')\n",
    "bureau = pd.read_csv(path + 'bureau.csv')\n",
    "bureau_balance = pd.read_csv(path + 'bureau_balance.csv')\n",
    "# test = pd.read_csv('\\\\Project\\\\Home_credit\\\\application_test.csv')"
   ]
  },
  {
   "cell_type": "markdown",
   "metadata": {},
   "source": [
    "### `test.csv`와 `train.csv`의 다른 Columns가 있는지 없는지 검증\n",
    "- 다른 Column: Only `Target Column`이 추가적으로 train.csv에 포함되어 있음 => `결과 값`"
   ]
  },
  {
   "cell_type": "code",
   "execution_count": 28,
   "metadata": {},
   "outputs": [
    {
     "name": "stdout",
     "output_type": "stream",
     "text": [
      "Index(['TARGET'], dtype='object')\n",
      "Index([], dtype='object')\n"
     ]
    }
   ],
   "source": [
    "print((train.columns).difference(test.columns))\n",
    "print((test.columns).difference(train.columns))"
   ]
  },
  {
   "cell_type": "markdown",
   "metadata": {},
   "source": [
    "## Missing_Value Verification"
   ]
  },
  {
   "cell_type": "code",
   "execution_count": 60,
   "metadata": {},
   "outputs": [
    {
     "data": {
      "text/plain": [
       "<matplotlib.axes._subplots.AxesSubplot at 0xddeba90>"
      ]
     },
     "execution_count": 60,
     "metadata": {},
     "output_type": "execute_result"
    },
    {
     "name": "stderr",
     "output_type": "stream",
     "text": [
      "C:\\ProgramData\\Anaconda3\\lib\\site-packages\\matplotlib\\font_manager.py:1320: UserWarning: findfont: Font family ['nanumgothic'] not found. Falling back to DejaVu Sans\n",
      "  (prop.get_family(), self.defaultFamily[fontext]))\n"
     ]
    },
    {
     "data": {
      "image/png": "[encoded data removed]",
      "text/plain": [
       "<matplotlib.figure.Figure at 0xdeea6d8>"
      ]
     },
     "metadata": {},
     "output_type": "display_data"
    }
   ],
   "source": [
    "plt.figure(figsize=(15,5))\n",
    "sns.barplot(np.arange(len(test.isnull().sum().index)), test.isnull().sum().values)"
   ]
  },
  {
   "cell_type": "code",
   "execution_count": 62,
   "metadata": {},
   "outputs": [
    {
     "data": {
      "text/plain": [
       "SK_ID_CURR                        0\n",
       "NAME_CONTRACT_TYPE                0\n",
       "CODE_GENDER                       0\n",
       "FLAG_OWN_CAR                      0\n",
       "FLAG_OWN_REALTY                   0\n",
       "CNT_CHILDREN                      0\n",
       "AMT_INCOME_TOTAL                  0\n",
       "AMT_CREDIT                        0\n",
       "AMT_ANNUITY                      24\n",
       "AMT_GOODS_PRICE                   0\n",
       "NAME_TYPE_SUITE                 911\n",
       "NAME_INCOME_TYPE                  0\n",
       "NAME_EDUCATION_TYPE               0\n",
       "NAME_FAMILY_STATUS                0\n",
       "NAME_HOUSING_TYPE                 0\n",
       "REGION_POPULATION_RELATIVE        0\n",
       "DAYS_BIRTH                        0\n",
       "DAYS_EMPLOYED                     0\n",
       "DAYS_REGISTRATION                 0\n",
       "DAYS_ID_PUBLISH                   0\n",
       "OWN_CAR_AGE                   32312\n",
       "FLAG_MOBIL                        0\n",
       "FLAG_EMP_PHONE                    0\n",
       "FLAG_WORK_PHONE                   0\n",
       "FLAG_CONT_MOBILE                  0\n",
       "FLAG_PHONE                        0\n",
       "FLAG_EMAIL                        0\n",
       "OCCUPATION_TYPE               15605\n",
       "CNT_FAM_MEMBERS                   0\n",
       "REGION_RATING_CLIENT              0\n",
       "                              ...  \n",
       "DEF_30_CNT_SOCIAL_CIRCLE         29\n",
       "OBS_60_CNT_SOCIAL_CIRCLE         29\n",
       "DEF_60_CNT_SOCIAL_CIRCLE         29\n",
       "DAYS_LAST_PHONE_CHANGE            0\n",
       "FLAG_DOCUMENT_2                   0\n",
       "FLAG_DOCUMENT_3                   0\n",
       "FLAG_DOCUMENT_4                   0\n",
       "FLAG_DOCUMENT_5                   0\n",
       "FLAG_DOCUMENT_6                   0\n",
       "FLAG_DOCUMENT_7                   0\n",
       "FLAG_DOCUMENT_8                   0\n",
       "FLAG_DOCUMENT_9                   0\n",
       "FLAG_DOCUMENT_10                  0\n",
       "FLAG_DOCUMENT_11                  0\n",
       "FLAG_DOCUMENT_12                  0\n",
       "FLAG_DOCUMENT_13                  0\n",
       "FLAG_DOCUMENT_14                  0\n",
       "FLAG_DOCUMENT_15                  0\n",
       "FLAG_DOCUMENT_16                  0\n",
       "FLAG_DOCUMENT_17                  0\n",
       "FLAG_DOCUMENT_18                  0\n",
       "FLAG_DOCUMENT_19                  0\n",
       "FLAG_DOCUMENT_20                  0\n",
       "FLAG_DOCUMENT_21                  0\n",
       "AMT_REQ_CREDIT_BUREAU_HOUR     6049\n",
       "AMT_REQ_CREDIT_BUREAU_DAY      6049\n",
       "AMT_REQ_CREDIT_BUREAU_WEEK     6049\n",
       "AMT_REQ_CREDIT_BUREAU_MON      6049\n",
       "AMT_REQ_CREDIT_BUREAU_QRT      6049\n",
       "AMT_REQ_CREDIT_BUREAU_YEAR     6049\n",
       "Length: 121, dtype: int64"
      ]
     },
     "execution_count": 62,
     "metadata": {},
     "output_type": "execute_result"
    }
   ],
   "source": [
    "test.isnull().sum()"
   ]
  },
  {
   "cell_type": "markdown",
   "metadata": {},
   "source": [
    "# *Application_{Train|Test}.csv*"
   ]
  },
  {
   "cell_type": "markdown",
   "metadata": {},
   "source": [
    "## 1) SK_ID_CURR"
   ]
  },
  {
   "cell_type": "markdown",
   "metadata": {},
   "source": [
    "### `test.csv` 와 `train.csv`의 공통된 ID 값이 있는지 없는지 검증  \n",
    "- 공통된 ID(SK_ID_CURR)가 없음 확인"
   ]
  },
  {
   "cell_type": "code",
   "execution_count": 14,
   "metadata": {},
   "outputs": [
    {
     "data": {
      "text/plain": [
       "set()"
      ]
     },
     "execution_count": 14,
     "metadata": {},
     "output_type": "execute_result"
    }
   ],
   "source": [
    "set(test['SK_ID_CURR']).intersection(train['SK_ID_CURR'])"
   ]
  },
  {
   "cell_type": "code",
   "execution_count": 30,
   "metadata": {},
   "outputs": [
    {
     "data": {
      "text/plain": [
       "((48744, 121), (307511, 122))"
      ]
     },
     "execution_count": 30,
     "metadata": {},
     "output_type": "execute_result"
    }
   ],
   "source": [
    "test.shape, train.shape"
   ]
  },
  {
   "cell_type": "markdown",
   "metadata": {},
   "source": [
    "## 2) NAME_CONTRACT_TYPE"
   ]
  },
  {
   "cell_type": "code",
   "execution_count": 77,
   "metadata": {},
   "outputs": [
    {
     "data": {
      "text/plain": [
       "array(['Cash loans', 'Revolving loans'], dtype=object)"
      ]
     },
     "execution_count": 77,
     "metadata": {},
     "output_type": "execute_result"
    }
   ],
   "source": [
    "train['NAME_CONTRACT_TYPE'].unique() ## Unique value 2개: Cash_Loans와 Revloving Loans "
   ]
  },
  {
   "cell_type": "code",
   "execution_count": 86,
   "metadata": {},
   "outputs": [
    {
     "data": {
      "text/plain": [
       "count         307511\n",
       "unique             2\n",
       "top       Cash loans\n",
       "freq          278232\n",
       "Name: NAME_CONTRACT_TYPE, dtype: object"
      ]
     },
     "execution_count": 86,
     "metadata": {},
     "output_type": "execute_result"
    }
   ],
   "source": [
    "train['NAME_CONTRACT_TYPE'].describe()"
   ]
  },
  {
   "cell_type": "markdown",
   "metadata": {},
   "source": [
    "## 3) CODE_GENDER"
   ]
  },
  {
   "cell_type": "code",
   "execution_count": 79,
   "metadata": {},
   "outputs": [
    {
     "data": {
      "text/plain": [
       "array(['M', 'F', 'XNA'], dtype=object)"
      ]
     },
     "execution_count": 79,
     "metadata": {},
     "output_type": "execute_result"
    }
   ],
   "source": [
    "train['CODE_GENDER'].unique()"
   ]
  },
  {
   "cell_type": "code",
   "execution_count": 81,
   "metadata": {},
   "outputs": [
    {
     "data": {
      "text/plain": [
       "count     307511\n",
       "unique         3\n",
       "top            F\n",
       "freq      202448\n",
       "Name: CODE_GENDER, dtype: object"
      ]
     },
     "execution_count": 81,
     "metadata": {},
     "output_type": "execute_result"
    }
   ],
   "source": [
    "train['CODE_GENDER'].describe()"
   ]
  },
  {
   "cell_type": "markdown",
   "metadata": {},
   "source": [
    "## 4) FLAG_OWN_CAR"
   ]
  },
  {
   "cell_type": "code",
   "execution_count": 87,
   "metadata": {},
   "outputs": [
    {
     "data": {
      "text/plain": [
       "array(['N', 'Y'], dtype=object)"
      ]
     },
     "execution_count": 87,
     "metadata": {},
     "output_type": "execute_result"
    }
   ],
   "source": [
    "train['FLAG_OWN_CAR'].unique()"
   ]
  },
  {
   "cell_type": "code",
   "execution_count": 88,
   "metadata": {},
   "outputs": [
    {
     "data": {
      "text/plain": [
       "count     307511\n",
       "unique         2\n",
       "top            N\n",
       "freq      202924\n",
       "Name: FLAG_OWN_CAR, dtype: object"
      ]
     },
     "execution_count": 88,
     "metadata": {},
     "output_type": "execute_result"
    }
   ],
   "source": [
    "train['FLAG_OWN_CAR'].describe()"
   ]
  },
  {
   "cell_type": "code",
   "execution_count": null,
   "metadata": {},
   "outputs": [],
   "source": []
  },
  {
   "cell_type": "markdown",
   "metadata": {},
   "source": [
    "## 5) FLAG_OWN_REALTY"
   ]
  },
  {
   "cell_type": "code",
   "execution_count": 89,
   "metadata": {},
   "outputs": [
    {
     "data": {
      "text/plain": [
       "array(['Y', 'N'], dtype=object)"
      ]
     },
     "execution_count": 89,
     "metadata": {},
     "output_type": "execute_result"
    }
   ],
   "source": [
    "train['FLAG_OWN_REALTY'].unique()"
   ]
  },
  {
   "cell_type": "code",
   "execution_count": 90,
   "metadata": {},
   "outputs": [
    {
     "data": {
      "text/plain": [
       "count     307511\n",
       "unique         2\n",
       "top            Y\n",
       "freq      213312\n",
       "Name: FLAG_OWN_REALTY, dtype: object"
      ]
     },
     "execution_count": 90,
     "metadata": {},
     "output_type": "execute_result"
    }
   ],
   "source": [
    "train['FLAG_OWN_REALTY'].describe()"
   ]
  },
  {
   "cell_type": "markdown",
   "metadata": {},
   "source": [
    "## 6) CNT_CHILDREN"
   ]
  },
  {
   "cell_type": "code",
   "execution_count": 91,
   "metadata": {},
   "outputs": [
    {
     "data": {
      "text/plain": [
       "array([ 0,  1,  2,  3,  4,  7,  5,  6,  8,  9, 11, 12, 10, 19, 14],\n",
       "      dtype=int64)"
      ]
     },
     "execution_count": 91,
     "metadata": {},
     "output_type": "execute_result"
    }
   ],
   "source": [
    "train['CNT_CHILDREN'].unique()"
   ]
  },
  {
   "cell_type": "code",
   "execution_count": 92,
   "metadata": {},
   "outputs": [
    {
     "data": {
      "text/plain": [
       "count    307511.000000\n",
       "mean          0.417052\n",
       "std           0.722121\n",
       "min           0.000000\n",
       "25%           0.000000\n",
       "50%           0.000000\n",
       "75%           1.000000\n",
       "max          19.000000\n",
       "Name: CNT_CHILDREN, dtype: float64"
      ]
     },
     "execution_count": 92,
     "metadata": {},
     "output_type": "execute_result"
    }
   ],
   "source": [
    "train['CNT_CHILDREN'].describe()"
   ]
  },
  {
   "cell_type": "markdown",
   "metadata": {},
   "source": [
    "## 7) AMT_INCOME_TOTAL"
   ]
  },
  {
   "cell_type": "code",
   "execution_count": 93,
   "metadata": {},
   "outputs": [
    {
     "data": {
      "text/plain": [
       "array([202500. , 270000. ,  67500. , ...,  96768. , 546250.5, 113062.5])"
      ]
     },
     "execution_count": 93,
     "metadata": {},
     "output_type": "execute_result"
    }
   ],
   "source": [
    "train['AMT_INCOME_TOTAL'].unique()"
   ]
  },
  {
   "cell_type": "code",
   "execution_count": 94,
   "metadata": {},
   "outputs": [
    {
     "data": {
      "text/plain": [
       "count    3.075110e+05\n",
       "mean     1.687979e+05\n",
       "std      2.371231e+05\n",
       "min      2.565000e+04\n",
       "25%      1.125000e+05\n",
       "50%      1.471500e+05\n",
       "75%      2.025000e+05\n",
       "max      1.170000e+08\n",
       "Name: AMT_INCOME_TOTAL, dtype: float64"
      ]
     },
     "execution_count": 94,
     "metadata": {},
     "output_type": "execute_result"
    }
   ],
   "source": [
    "train['AMT_INCOME_TOTAL'].describe()"
   ]
  },
  {
   "cell_type": "markdown",
   "metadata": {},
   "source": [
    "## 8) AMT_CREDIT"
   ]
  },
  {
   "cell_type": "code",
   "execution_count": 96,
   "metadata": {},
   "outputs": [
    {
     "data": {
      "text/plain": [
       "array([ 406597.5, 1293502.5,  135000. , ...,  181989. ,  743863.5,\n",
       "       1391130. ])"
      ]
     },
     "execution_count": 96,
     "metadata": {},
     "output_type": "execute_result"
    }
   ],
   "source": [
    "train['AMT_CREDIT'].unique()"
   ]
  },
  {
   "cell_type": "code",
   "execution_count": 97,
   "metadata": {},
   "outputs": [
    {
     "data": {
      "text/plain": [
       "count    3.075110e+05\n",
       "mean     5.990260e+05\n",
       "std      4.024908e+05\n",
       "min      4.500000e+04\n",
       "25%      2.700000e+05\n",
       "50%      5.135310e+05\n",
       "75%      8.086500e+05\n",
       "max      4.050000e+06\n",
       "Name: AMT_CREDIT, dtype: float64"
      ]
     },
     "execution_count": 97,
     "metadata": {},
     "output_type": "execute_result"
    }
   ],
   "source": [
    "train['AMT_CREDIT'].describe()"
   ]
  },
  {
   "cell_type": "markdown",
   "metadata": {},
   "source": [
    "## 9) AMT_ANNUITY"
   ]
  },
  {
   "cell_type": "code",
   "execution_count": 98,
   "metadata": {},
   "outputs": [
    {
     "data": {
      "text/plain": [
       "array([24700.5, 35698.5,  6750. , ..., 71986.5, 58770. , 77809.5])"
      ]
     },
     "execution_count": 98,
     "metadata": {},
     "output_type": "execute_result"
    }
   ],
   "source": [
    "train['AMT_ANNUITY'].unique()"
   ]
  },
  {
   "cell_type": "code",
   "execution_count": 103,
   "metadata": {},
   "outputs": [
    {
     "data": {
      "text/plain": [
       "count    307499.000000\n",
       "mean      27108.573909\n",
       "std       14493.737315\n",
       "min        1615.500000\n",
       "25%       16524.000000\n",
       "50%       24903.000000\n",
       "75%       34596.000000\n",
       "max      258025.500000\n",
       "Name: AMT_ANNUITY, dtype: float64"
      ]
     },
     "execution_count": 103,
     "metadata": {},
     "output_type": "execute_result"
    }
   ],
   "source": [
    "train['AMT_ANNUITY'].describe()"
   ]
  },
  {
   "cell_type": "markdown",
   "metadata": {},
   "source": [
    "## 10) AMT_GOODS_PRICE"
   ]
  },
  {
   "cell_type": "code",
   "execution_count": 108,
   "metadata": {},
   "outputs": [
    {
     "data": {
      "text/html": [
       "<div>\n",
       "<style scoped>\n",
       "    .dataframe tbody tr th:only-of-type {\n",
       "        vertical-align: middle;\n",
       "    }\n",
       "\n",
       "    .dataframe tbody tr th {\n",
       "        vertical-align: top;\n",
       "    }\n",
       "\n",
       "    .dataframe thead th {\n",
       "        text-align: right;\n",
       "    }\n",
       "</style>\n",
       "<table border=\"1\" class=\"dataframe\">\n",
       "  <thead>\n",
       "    <tr style=\"text-align: right;\">\n",
       "      <th></th>\n",
       "      <th>SK_ID_CURR</th>\n",
       "      <th>TARGET</th>\n",
       "      <th>NAME_CONTRACT_TYPE</th>\n",
       "      <th>CODE_GENDER</th>\n",
       "      <th>FLAG_OWN_CAR</th>\n",
       "      <th>FLAG_OWN_REALTY</th>\n",
       "      <th>CNT_CHILDREN</th>\n",
       "      <th>AMT_INCOME_TOTAL</th>\n",
       "      <th>AMT_CREDIT</th>\n",
       "      <th>AMT_ANNUITY</th>\n",
       "      <th>AMT_GOODS_PRICE</th>\n",
       "      <th>NAME_TYPE_SUITE</th>\n",
       "    </tr>\n",
       "  </thead>\n",
       "  <tbody>\n",
       "    <tr>\n",
       "      <th>0</th>\n",
       "      <td>100002</td>\n",
       "      <td>1</td>\n",
       "      <td>Cash loans</td>\n",
       "      <td>M</td>\n",
       "      <td>N</td>\n",
       "      <td>Y</td>\n",
       "      <td>0</td>\n",
       "      <td>202500.0</td>\n",
       "      <td>406597.5</td>\n",
       "      <td>24700.5</td>\n",
       "      <td>351000.0</td>\n",
       "      <td>Unaccompanied</td>\n",
       "    </tr>\n",
       "    <tr>\n",
       "      <th>1</th>\n",
       "      <td>100003</td>\n",
       "      <td>0</td>\n",
       "      <td>Cash loans</td>\n",
       "      <td>F</td>\n",
       "      <td>N</td>\n",
       "      <td>N</td>\n",
       "      <td>0</td>\n",
       "      <td>270000.0</td>\n",
       "      <td>1293502.5</td>\n",
       "      <td>35698.5</td>\n",
       "      <td>1129500.0</td>\n",
       "      <td>Family</td>\n",
       "    </tr>\n",
       "    <tr>\n",
       "      <th>2</th>\n",
       "      <td>100004</td>\n",
       "      <td>0</td>\n",
       "      <td>Revolving loans</td>\n",
       "      <td>M</td>\n",
       "      <td>Y</td>\n",
       "      <td>Y</td>\n",
       "      <td>0</td>\n",
       "      <td>67500.0</td>\n",
       "      <td>135000.0</td>\n",
       "      <td>6750.0</td>\n",
       "      <td>135000.0</td>\n",
       "      <td>Unaccompanied</td>\n",
       "    </tr>\n",
       "    <tr>\n",
       "      <th>3</th>\n",
       "      <td>100006</td>\n",
       "      <td>0</td>\n",
       "      <td>Cash loans</td>\n",
       "      <td>F</td>\n",
       "      <td>N</td>\n",
       "      <td>Y</td>\n",
       "      <td>0</td>\n",
       "      <td>135000.0</td>\n",
       "      <td>312682.5</td>\n",
       "      <td>29686.5</td>\n",
       "      <td>297000.0</td>\n",
       "      <td>Unaccompanied</td>\n",
       "    </tr>\n",
       "    <tr>\n",
       "      <th>4</th>\n",
       "      <td>100007</td>\n",
       "      <td>0</td>\n",
       "      <td>Cash loans</td>\n",
       "      <td>M</td>\n",
       "      <td>N</td>\n",
       "      <td>Y</td>\n",
       "      <td>0</td>\n",
       "      <td>121500.0</td>\n",
       "      <td>513000.0</td>\n",
       "      <td>21865.5</td>\n",
       "      <td>513000.0</td>\n",
       "      <td>Unaccompanied</td>\n",
       "    </tr>\n",
       "  </tbody>\n",
       "</table>\n",
       "</div>"
      ],
      "text/plain": [
       "   SK_ID_CURR  TARGET NAME_CONTRACT_TYPE CODE_GENDER FLAG_OWN_CAR  \\\n",
       "0      100002       1         Cash loans           M            N   \n",
       "1      100003       0         Cash loans           F            N   \n",
       "2      100004       0    Revolving loans           M            Y   \n",
       "3      100006       0         Cash loans           F            N   \n",
       "4      100007       0         Cash loans           M            N   \n",
       "\n",
       "  FLAG_OWN_REALTY  CNT_CHILDREN  AMT_INCOME_TOTAL  AMT_CREDIT  AMT_ANNUITY  \\\n",
       "0               Y             0          202500.0    406597.5      24700.5   \n",
       "1               N             0          270000.0   1293502.5      35698.5   \n",
       "2               Y             0           67500.0    135000.0       6750.0   \n",
       "3               Y             0          135000.0    312682.5      29686.5   \n",
       "4               Y             0          121500.0    513000.0      21865.5   \n",
       "\n",
       "   AMT_GOODS_PRICE NAME_TYPE_SUITE  \n",
       "0         351000.0   Unaccompanied  \n",
       "1        1129500.0          Family  \n",
       "2         135000.0   Unaccompanied  \n",
       "3         297000.0   Unaccompanied  \n",
       "4         513000.0   Unaccompanied  "
      ]
     },
     "execution_count": 108,
     "metadata": {},
     "output_type": "execute_result"
    }
   ],
   "source": [
    "train.iloc[:, [0,1,2,3,4,5,6,7,8,9,10,11]].head()"
   ]
  },
  {
   "cell_type": "code",
   "execution_count": 105,
   "metadata": {},
   "outputs": [
    {
     "data": {
      "text/plain": [
       "array([ 351000. , 1129500. ,  135000. , ...,  453465. ,  143977.5,\n",
       "        743863.5])"
      ]
     },
     "execution_count": 105,
     "metadata": {},
     "output_type": "execute_result"
    }
   ],
   "source": [
    "train['AMT_GOODS_PRICE'].unique()"
   ]
  },
  {
   "cell_type": "code",
   "execution_count": 106,
   "metadata": {},
   "outputs": [
    {
     "data": {
      "text/plain": [
       "count    3.072330e+05\n",
       "mean     5.383962e+05\n",
       "std      3.694465e+05\n",
       "min      4.050000e+04\n",
       "25%      2.385000e+05\n",
       "50%      4.500000e+05\n",
       "75%      6.795000e+05\n",
       "max      4.050000e+06\n",
       "Name: AMT_GOODS_PRICE, dtype: float64"
      ]
     },
     "execution_count": 106,
     "metadata": {},
     "output_type": "execute_result"
    }
   ],
   "source": [
    "train['AMT_GOODS_PRICE'].describe()"
   ]
  },
  {
   "cell_type": "code",
   "execution_count": 109,
   "metadata": {},
   "outputs": [
    {
     "data": {
      "text/plain": [
       "(40500.0, 4050000.0)"
      ]
     },
     "execution_count": 109,
     "metadata": {},
     "output_type": "execute_result"
    }
   ],
   "source": [
    "train['AMT_GOODS_PRICE'].min(), train['AMT_GOODS_PRICE'].max() \n"
   ]
  },
  {
   "cell_type": "markdown",
   "metadata": {},
   "source": [
    "## 11) NAME_TYPE_SUITE"
   ]
  },
  {
   "cell_type": "code",
   "execution_count": 110,
   "metadata": {},
   "outputs": [
    {
     "data": {
      "text/plain": [
       "array(['Unaccompanied', 'Family', 'Spouse, partner', 'Children',\n",
       "       'Other_A', nan, 'Other_B', 'Group of people'], dtype=object)"
      ]
     },
     "execution_count": 110,
     "metadata": {},
     "output_type": "execute_result"
    }
   ],
   "source": [
    "train['NAME_TYPE_SUITE'].unique()"
   ]
  },
  {
   "cell_type": "code",
   "execution_count": 3,
   "metadata": {},
   "outputs": [
    {
     "data": {
      "text/plain": [
       "count            248526\n",
       "unique                1\n",
       "top       Unaccompanied\n",
       "freq             248526\n",
       "Name: NAME_TYPE_SUITE, dtype: object"
      ]
     },
     "execution_count": 3,
     "metadata": {},
     "output_type": "execute_result"
    }
   ],
   "source": [
    "train['NAME_TYPE_SUITE'][train['NAME_TYPE_SUITE'] == 'Unaccompanied'].describe()"
   ]
  },
  {
   "cell_type": "code",
   "execution_count": 4,
   "metadata": {},
   "outputs": [
    {
     "data": {
      "text/plain": [
       "count      40149\n",
       "unique         1\n",
       "top       Family\n",
       "freq       40149\n",
       "Name: NAME_TYPE_SUITE, dtype: object"
      ]
     },
     "execution_count": 4,
     "metadata": {},
     "output_type": "execute_result"
    }
   ],
   "source": [
    "train['NAME_TYPE_SUITE'][train['NAME_TYPE_SUITE'] == 'Family'].describe()"
   ]
  },
  {
   "cell_type": "code",
   "execution_count": 5,
   "metadata": {},
   "outputs": [
    {
     "data": {
      "text/plain": [
       "count               11370\n",
       "unique                  1\n",
       "top       Spouse, partner\n",
       "freq                11370\n",
       "Name: NAME_TYPE_SUITE, dtype: object"
      ]
     },
     "execution_count": 5,
     "metadata": {},
     "output_type": "execute_result"
    }
   ],
   "source": [
    "train['NAME_TYPE_SUITE'][train['NAME_TYPE_SUITE'] == 'Spouse, partner'].describe()"
   ]
  },
  {
   "cell_type": "code",
   "execution_count": 6,
   "metadata": {},
   "outputs": [
    {
     "data": {
      "text/plain": [
       "count         3267\n",
       "unique           1\n",
       "top       Children\n",
       "freq          3267\n",
       "Name: NAME_TYPE_SUITE, dtype: object"
      ]
     },
     "execution_count": 6,
     "metadata": {},
     "output_type": "execute_result"
    }
   ],
   "source": [
    "train['NAME_TYPE_SUITE'][train['NAME_TYPE_SUITE'] == 'Children'].describe()"
   ]
  },
  {
   "cell_type": "code",
   "execution_count": 7,
   "metadata": {},
   "outputs": [
    {
     "data": {
      "text/plain": [
       "count         866\n",
       "unique          1\n",
       "top       Other_A\n",
       "freq          866\n",
       "Name: NAME_TYPE_SUITE, dtype: object"
      ]
     },
     "execution_count": 7,
     "metadata": {},
     "output_type": "execute_result"
    }
   ],
   "source": [
    "train['NAME_TYPE_SUITE'][train['NAME_TYPE_SUITE'] == 'Other_A'].describe()"
   ]
  },
  {
   "cell_type": "code",
   "execution_count": 8,
   "metadata": {},
   "outputs": [
    {
     "data": {
      "text/plain": [
       "count        1770\n",
       "unique          1\n",
       "top       Other_B\n",
       "freq         1770\n",
       "Name: NAME_TYPE_SUITE, dtype: object"
      ]
     },
     "execution_count": 8,
     "metadata": {},
     "output_type": "execute_result"
    }
   ],
   "source": [
    "train['NAME_TYPE_SUITE'][train['NAME_TYPE_SUITE'] == 'Other_B'].describe()"
   ]
  },
  {
   "cell_type": "code",
   "execution_count": 10,
   "metadata": {},
   "outputs": [
    {
     "data": {
      "text/plain": [
       "count                 271\n",
       "unique                  1\n",
       "top       Group of people\n",
       "freq                  271\n",
       "Name: NAME_TYPE_SUITE, dtype: object"
      ]
     },
     "execution_count": 10,
     "metadata": {},
     "output_type": "execute_result"
    }
   ],
   "source": [
    "train['NAME_TYPE_SUITE'][train['NAME_TYPE_SUITE'] == 'Group of people'].describe()"
   ]
  },
  {
   "cell_type": "markdown",
   "metadata": {},
   "source": [
    "## 12) NAME_INCOME_TYPE"
   ]
  },
  {
   "cell_type": "code",
   "execution_count": 11,
   "metadata": {},
   "outputs": [
    {
     "data": {
      "text/plain": [
       "array(['Working', 'State servant', 'Commercial associate', 'Pensioner',\n",
       "       'Unemployed', 'Student', 'Businessman', 'Maternity leave'],\n",
       "      dtype=object)"
      ]
     },
     "execution_count": 11,
     "metadata": {},
     "output_type": "execute_result"
    }
   ],
   "source": [
    "train['NAME_INCOME_TYPE'].unique()"
   ]
  },
  {
   "cell_type": "code",
   "execution_count": 12,
   "metadata": {},
   "outputs": [
    {
     "data": {
      "text/plain": [
       "count      307511\n",
       "unique          8\n",
       "top       Working\n",
       "freq       158774\n",
       "Name: NAME_INCOME_TYPE, dtype: object"
      ]
     },
     "execution_count": 12,
     "metadata": {},
     "output_type": "execute_result"
    }
   ],
   "source": [
    "train['NAME_INCOME_TYPE'].describe()"
   ]
  },
  {
   "cell_type": "code",
   "execution_count": 14,
   "metadata": {},
   "outputs": [
    {
     "data": {
      "text/plain": [
       "count      158774\n",
       "unique          1\n",
       "top       Working\n",
       "freq       158774\n",
       "Name: NAME_INCOME_TYPE, dtype: object"
      ]
     },
     "execution_count": 14,
     "metadata": {},
     "output_type": "execute_result"
    }
   ],
   "source": [
    "train['NAME_INCOME_TYPE'][train['NAME_INCOME_TYPE'] == 'Working'].describe()"
   ]
  },
  {
   "cell_type": "code",
   "execution_count": 15,
   "metadata": {},
   "outputs": [
    {
     "data": {
      "text/plain": [
       "count             21703\n",
       "unique                1\n",
       "top       State servant\n",
       "freq              21703\n",
       "Name: NAME_INCOME_TYPE, dtype: object"
      ]
     },
     "execution_count": 15,
     "metadata": {},
     "output_type": "execute_result"
    }
   ],
   "source": [
    "train['NAME_INCOME_TYPE'][train['NAME_INCOME_TYPE'] == 'State servant'].describe()"
   ]
  },
  {
   "cell_type": "code",
   "execution_count": 16,
   "metadata": {},
   "outputs": [
    {
     "data": {
      "text/plain": [
       "count                    71617\n",
       "unique                       1\n",
       "top       Commercial associate\n",
       "freq                     71617\n",
       "Name: NAME_INCOME_TYPE, dtype: object"
      ]
     },
     "execution_count": 16,
     "metadata": {},
     "output_type": "execute_result"
    }
   ],
   "source": [
    "train['NAME_INCOME_TYPE'][train['NAME_INCOME_TYPE'] == 'Commercial associate'].describe()"
   ]
  },
  {
   "cell_type": "code",
   "execution_count": 17,
   "metadata": {},
   "outputs": [
    {
     "data": {
      "text/plain": [
       "count         55362\n",
       "unique            1\n",
       "top       Pensioner\n",
       "freq          55362\n",
       "Name: NAME_INCOME_TYPE, dtype: object"
      ]
     },
     "execution_count": 17,
     "metadata": {},
     "output_type": "execute_result"
    }
   ],
   "source": [
    "train['NAME_INCOME_TYPE'][train['NAME_INCOME_TYPE'] == 'Pensioner'].describe()"
   ]
  },
  {
   "cell_type": "code",
   "execution_count": 18,
   "metadata": {},
   "outputs": [
    {
     "data": {
      "text/plain": [
       "count             22\n",
       "unique             1\n",
       "top       Unemployed\n",
       "freq              22\n",
       "Name: NAME_INCOME_TYPE, dtype: object"
      ]
     },
     "execution_count": 18,
     "metadata": {},
     "output_type": "execute_result"
    }
   ],
   "source": [
    "train['NAME_INCOME_TYPE'][train['NAME_INCOME_TYPE'] == 'Unemployed'].describe()"
   ]
  },
  {
   "cell_type": "code",
   "execution_count": 20,
   "metadata": {},
   "outputs": [
    {
     "data": {
      "text/plain": [
       "count          18\n",
       "unique          1\n",
       "top       Student\n",
       "freq           18\n",
       "Name: NAME_INCOME_TYPE, dtype: object"
      ]
     },
     "execution_count": 20,
     "metadata": {},
     "output_type": "execute_result"
    }
   ],
   "source": [
    "train['NAME_INCOME_TYPE'][train['NAME_INCOME_TYPE'] == 'Student'].describe()"
   ]
  },
  {
   "cell_type": "code",
   "execution_count": 21,
   "metadata": {},
   "outputs": [
    {
     "data": {
      "text/plain": [
       "count              10\n",
       "unique              1\n",
       "top       Businessman\n",
       "freq               10\n",
       "Name: NAME_INCOME_TYPE, dtype: object"
      ]
     },
     "execution_count": 21,
     "metadata": {},
     "output_type": "execute_result"
    }
   ],
   "source": [
    "train['NAME_INCOME_TYPE'][train['NAME_INCOME_TYPE'] == 'Businessman'].describe()"
   ]
  },
  {
   "cell_type": "code",
   "execution_count": 22,
   "metadata": {},
   "outputs": [
    {
     "data": {
      "text/plain": [
       "count                   5\n",
       "unique                  1\n",
       "top       Maternity leave\n",
       "freq                    5\n",
       "Name: NAME_INCOME_TYPE, dtype: object"
      ]
     },
     "execution_count": 22,
     "metadata": {},
     "output_type": "execute_result"
    }
   ],
   "source": [
    "train['NAME_INCOME_TYPE'][train['NAME_INCOME_TYPE'] == 'Maternity leave'].describe()"
   ]
  },
  {
   "cell_type": "markdown",
   "metadata": {},
   "source": [
    "## 13) NAME_EDUCATION_TYPE"
   ]
  },
  {
   "cell_type": "code",
   "execution_count": 25,
   "metadata": {},
   "outputs": [
    {
     "data": {
      "text/plain": [
       "array(['Secondary / secondary special', 'Higher education',\n",
       "       'Incomplete higher', 'Lower secondary', 'Academic degree'],\n",
       "      dtype=object)"
      ]
     },
     "execution_count": 25,
     "metadata": {},
     "output_type": "execute_result"
    }
   ],
   "source": [
    "ls = train['NAME_EDUCATION_TYPE'].unique()\n",
    "train['NAME_EDUCATION_TYPE'].unique()"
   ]
  },
  {
   "cell_type": "code",
   "execution_count": 28,
   "metadata": {},
   "outputs": [
    {
     "data": {
      "text/plain": [
       "count                            218391\n",
       "unique                                1\n",
       "top       Secondary / secondary special\n",
       "freq                             218391\n",
       "Name: NAME_EDUCATION_TYPE, dtype: object"
      ]
     },
     "execution_count": 28,
     "metadata": {},
     "output_type": "execute_result"
    }
   ],
   "source": [
    "train['NAME_EDUCATION_TYPE'][train['NAME_EDUCATION_TYPE'] == ls[0]].describe()"
   ]
  },
  {
   "cell_type": "code",
   "execution_count": 29,
   "metadata": {},
   "outputs": [
    {
     "data": {
      "text/plain": [
       "count                74863\n",
       "unique                   1\n",
       "top       Higher education\n",
       "freq                 74863\n",
       "Name: NAME_EDUCATION_TYPE, dtype: object"
      ]
     },
     "execution_count": 29,
     "metadata": {},
     "output_type": "execute_result"
    }
   ],
   "source": [
    "train['NAME_EDUCATION_TYPE'][train['NAME_EDUCATION_TYPE'] == ls[1]].describe()"
   ]
  },
  {
   "cell_type": "code",
   "execution_count": 30,
   "metadata": {},
   "outputs": [
    {
     "data": {
      "text/plain": [
       "count                 10277\n",
       "unique                    1\n",
       "top       Incomplete higher\n",
       "freq                  10277\n",
       "Name: NAME_EDUCATION_TYPE, dtype: object"
      ]
     },
     "execution_count": 30,
     "metadata": {},
     "output_type": "execute_result"
    }
   ],
   "source": [
    "train['NAME_EDUCATION_TYPE'][train['NAME_EDUCATION_TYPE'] == ls[2]].describe()"
   ]
  },
  {
   "cell_type": "code",
   "execution_count": 31,
   "metadata": {},
   "outputs": [
    {
     "data": {
      "text/plain": [
       "count                3816\n",
       "unique                  1\n",
       "top       Lower secondary\n",
       "freq                 3816\n",
       "Name: NAME_EDUCATION_TYPE, dtype: object"
      ]
     },
     "execution_count": 31,
     "metadata": {},
     "output_type": "execute_result"
    }
   ],
   "source": [
    "train['NAME_EDUCATION_TYPE'][train['NAME_EDUCATION_TYPE'] == ls[3]].describe()"
   ]
  },
  {
   "cell_type": "code",
   "execution_count": 32,
   "metadata": {},
   "outputs": [
    {
     "data": {
      "text/plain": [
       "count                 164\n",
       "unique                  1\n",
       "top       Academic degree\n",
       "freq                  164\n",
       "Name: NAME_EDUCATION_TYPE, dtype: object"
      ]
     },
     "execution_count": 32,
     "metadata": {},
     "output_type": "execute_result"
    }
   ],
   "source": [
    "train['NAME_EDUCATION_TYPE'][train['NAME_EDUCATION_TYPE'] == ls[4]].describe()"
   ]
  },
  {
   "cell_type": "markdown",
   "metadata": {},
   "source": [
    "## 14) NAME_FAMILY_STATUS"
   ]
  },
  {
   "cell_type": "code",
   "execution_count": 36,
   "metadata": {},
   "outputs": [
    {
     "data": {
      "text/plain": [
       "array(['Single / not married', 'Married', 'Civil marriage', 'Widow',\n",
       "       'Separated', 'Unknown'], dtype=object)"
      ]
     },
     "execution_count": 36,
     "metadata": {},
     "output_type": "execute_result"
    }
   ],
   "source": [
    "ls = train['NAME_FAMILY_STATUS'].unique()\n",
    "train['NAME_FAMILY_STATUS'].unique()"
   ]
  },
  {
   "cell_type": "code",
   "execution_count": 37,
   "metadata": {},
   "outputs": [
    {
     "data": {
      "text/plain": [
       "count                    45444\n",
       "unique                       1\n",
       "top       Single / not married\n",
       "freq                     45444\n",
       "Name: NAME_FAMILY_STATUS, dtype: object"
      ]
     },
     "execution_count": 37,
     "metadata": {},
     "output_type": "execute_result"
    }
   ],
   "source": [
    "train['NAME_FAMILY_STATUS'][train['NAME_FAMILY_STATUS'] == ls[0]].describe()"
   ]
  },
  {
   "cell_type": "code",
   "execution_count": 38,
   "metadata": {},
   "outputs": [
    {
     "data": {
      "text/plain": [
       "count      196432\n",
       "unique          1\n",
       "top       Married\n",
       "freq       196432\n",
       "Name: NAME_FAMILY_STATUS, dtype: object"
      ]
     },
     "execution_count": 38,
     "metadata": {},
     "output_type": "execute_result"
    }
   ],
   "source": [
    "train['NAME_FAMILY_STATUS'][train['NAME_FAMILY_STATUS'] == ls[1]].describe()"
   ]
  },
  {
   "cell_type": "code",
   "execution_count": 39,
   "metadata": {},
   "outputs": [
    {
     "data": {
      "text/plain": [
       "count              29775\n",
       "unique                 1\n",
       "top       Civil marriage\n",
       "freq               29775\n",
       "Name: NAME_FAMILY_STATUS, dtype: object"
      ]
     },
     "execution_count": 39,
     "metadata": {},
     "output_type": "execute_result"
    }
   ],
   "source": [
    "train['NAME_FAMILY_STATUS'][train['NAME_FAMILY_STATUS'] == ls[2]].describe()"
   ]
  },
  {
   "cell_type": "code",
   "execution_count": 40,
   "metadata": {},
   "outputs": [
    {
     "data": {
      "text/plain": [
       "count     16088\n",
       "unique        1\n",
       "top       Widow\n",
       "freq      16088\n",
       "Name: NAME_FAMILY_STATUS, dtype: object"
      ]
     },
     "execution_count": 40,
     "metadata": {},
     "output_type": "execute_result"
    }
   ],
   "source": [
    "train['NAME_FAMILY_STATUS'][train['NAME_FAMILY_STATUS'] == ls[3]].describe()"
   ]
  },
  {
   "cell_type": "code",
   "execution_count": 41,
   "metadata": {},
   "outputs": [
    {
     "data": {
      "text/plain": [
       "count         19770\n",
       "unique            1\n",
       "top       Separated\n",
       "freq          19770\n",
       "Name: NAME_FAMILY_STATUS, dtype: object"
      ]
     },
     "execution_count": 41,
     "metadata": {},
     "output_type": "execute_result"
    }
   ],
   "source": [
    "train['NAME_FAMILY_STATUS'][train['NAME_FAMILY_STATUS'] == ls[4]].describe()"
   ]
  },
  {
   "cell_type": "code",
   "execution_count": 42,
   "metadata": {},
   "outputs": [
    {
     "data": {
      "text/plain": [
       "count           2\n",
       "unique          1\n",
       "top       Unknown\n",
       "freq            2\n",
       "Name: NAME_FAMILY_STATUS, dtype: object"
      ]
     },
     "execution_count": 42,
     "metadata": {},
     "output_type": "execute_result"
    }
   ],
   "source": [
    "train['NAME_FAMILY_STATUS'][train['NAME_FAMILY_STATUS'] == ls[5]].describe()"
   ]
  },
  {
   "cell_type": "markdown",
   "metadata": {},
   "source": [
    "## 15) NAME_HOUSING_TYPE "
   ]
  },
  {
   "cell_type": "code",
   "execution_count": 45,
   "metadata": {},
   "outputs": [
    {
     "data": {
      "text/plain": [
       "array(['House / apartment', 'Rented apartment', 'With parents',\n",
       "       'Municipal apartment', 'Office apartment', 'Co-op apartment'],\n",
       "      dtype=object)"
      ]
     },
     "execution_count": 45,
     "metadata": {},
     "output_type": "execute_result"
    }
   ],
   "source": [
    "ls = train['NAME_HOUSING_TYPE'].unique()\n",
    "train['NAME_HOUSING_TYPE'].unique()"
   ]
  },
  {
   "cell_type": "code",
   "execution_count": 46,
   "metadata": {},
   "outputs": [
    {
     "data": {
      "text/plain": [
       "count                307511\n",
       "unique                    6\n",
       "top       House / apartment\n",
       "freq                 272868\n",
       "Name: NAME_HOUSING_TYPE, dtype: object"
      ]
     },
     "execution_count": 46,
     "metadata": {},
     "output_type": "execute_result"
    }
   ],
   "source": [
    "train['NAME_HOUSING_TYPE'].describe()"
   ]
  },
  {
   "cell_type": "code",
   "execution_count": 49,
   "metadata": {},
   "outputs": [
    {
     "data": {
      "text/plain": [
       "count                272868\n",
       "unique                    1\n",
       "top       House / apartment\n",
       "freq                 272868\n",
       "Name: NAME_HOUSING_TYPE, dtype: object"
      ]
     },
     "execution_count": 49,
     "metadata": {},
     "output_type": "execute_result"
    }
   ],
   "source": [
    "train['NAME_HOUSING_TYPE'][train['NAME_HOUSING_TYPE'] == ls[0]].describe()"
   ]
  },
  {
   "cell_type": "code",
   "execution_count": 50,
   "metadata": {},
   "outputs": [
    {
     "data": {
      "text/plain": [
       "count                 4881\n",
       "unique                   1\n",
       "top       Rented apartment\n",
       "freq                  4881\n",
       "Name: NAME_HOUSING_TYPE, dtype: object"
      ]
     },
     "execution_count": 50,
     "metadata": {},
     "output_type": "execute_result"
    }
   ],
   "source": [
    "train['NAME_HOUSING_TYPE'][train['NAME_HOUSING_TYPE'] == ls[1]].describe()"
   ]
  },
  {
   "cell_type": "code",
   "execution_count": 51,
   "metadata": {},
   "outputs": [
    {
     "data": {
      "text/plain": [
       "count            14840\n",
       "unique               1\n",
       "top       With parents\n",
       "freq             14840\n",
       "Name: NAME_HOUSING_TYPE, dtype: object"
      ]
     },
     "execution_count": 51,
     "metadata": {},
     "output_type": "execute_result"
    }
   ],
   "source": [
    "train['NAME_HOUSING_TYPE'][train['NAME_HOUSING_TYPE'] == ls[2]].describe()"
   ]
  },
  {
   "cell_type": "code",
   "execution_count": 52,
   "metadata": {},
   "outputs": [
    {
     "data": {
      "text/plain": [
       "count                   11183\n",
       "unique                      1\n",
       "top       Municipal apartment\n",
       "freq                    11183\n",
       "Name: NAME_HOUSING_TYPE, dtype: object"
      ]
     },
     "execution_count": 52,
     "metadata": {},
     "output_type": "execute_result"
    }
   ],
   "source": [
    "train['NAME_HOUSING_TYPE'][train['NAME_HOUSING_TYPE'] == ls[3]].describe()"
   ]
  },
  {
   "cell_type": "code",
   "execution_count": 53,
   "metadata": {},
   "outputs": [
    {
     "data": {
      "text/plain": [
       "count                 2617\n",
       "unique                   1\n",
       "top       Office apartment\n",
       "freq                  2617\n",
       "Name: NAME_HOUSING_TYPE, dtype: object"
      ]
     },
     "execution_count": 53,
     "metadata": {},
     "output_type": "execute_result"
    }
   ],
   "source": [
    "train['NAME_HOUSING_TYPE'][train['NAME_HOUSING_TYPE'] == ls[4]].describe()"
   ]
  },
  {
   "cell_type": "code",
   "execution_count": 54,
   "metadata": {},
   "outputs": [
    {
     "data": {
      "text/plain": [
       "count                1122\n",
       "unique                  1\n",
       "top       Co-op apartment\n",
       "freq                 1122\n",
       "Name: NAME_HOUSING_TYPE, dtype: object"
      ]
     },
     "execution_count": 54,
     "metadata": {},
     "output_type": "execute_result"
    }
   ],
   "source": [
    "train['NAME_HOUSING_TYPE'][train['NAME_HOUSING_TYPE'] == ls[5]].describe()"
   ]
  },
  {
   "cell_type": "markdown",
   "metadata": {},
   "source": [
    "## 16) REGION_POPULATION_RELATIVE"
   ]
  },
  {
   "cell_type": "code",
   "execution_count": 55,
   "metadata": {},
   "outputs": [
    {
     "data": {
      "text/plain": [
       "array([0.018801, 0.003541, 0.010032, 0.008019, 0.028663, 0.035792,\n",
       "       0.003122, 0.018634, 0.019689, 0.0228  , 0.015221, 0.031329,\n",
       "       0.016612, 0.010006, 0.020713, 0.010966, 0.04622 , 0.025164,\n",
       "       0.006296, 0.026392, 0.018029, 0.019101, 0.030755, 0.008575,\n",
       "       0.01885 , 0.006207, 0.009175, 0.007305, 0.007114, 0.009334,\n",
       "       0.022625, 0.01452 , 0.006629, 0.00733 , 0.032561, 0.00496 ,\n",
       "       0.072508, 0.009657, 0.02461 , 0.003069, 0.020246, 0.018209,\n",
       "       0.009549, 0.007274, 0.002134, 0.010276, 0.003813, 0.003818,\n",
       "       0.00712 , 0.0105  , 0.010147, 0.010643, 0.008866, 0.00702 ,\n",
       "       0.002506, 0.005313, 0.006233, 0.008474, 0.005144, 0.011657,\n",
       "       0.008625, 0.014464, 0.004849, 0.006008, 0.00963 , 0.005002,\n",
       "       0.006852, 0.011703, 0.006305, 0.010556, 0.00823 , 0.006671,\n",
       "       0.002042, 0.005084, 0.008068, 0.001333, 0.001417, 0.001276,\n",
       "       0.000938, 0.000533, 0.00029 ])"
      ]
     },
     "execution_count": 55,
     "metadata": {},
     "output_type": "execute_result"
    }
   ],
   "source": [
    "train['REGION_POPULATION_RELATIVE'].unique()"
   ]
  },
  {
   "cell_type": "code",
   "execution_count": 57,
   "metadata": {},
   "outputs": [
    {
     "data": {
      "text/plain": [
       "0"
      ]
     },
     "execution_count": 57,
     "metadata": {},
     "output_type": "execute_result"
    }
   ],
   "source": [
    "train['REGION_POPULATION_RELATIVE'].isnull().sum()"
   ]
  },
  {
   "cell_type": "markdown",
   "metadata": {},
   "source": [
    "## 17) DAYS_BIRTH"
   ]
  },
  {
   "cell_type": "code",
   "execution_count": 59,
   "metadata": {},
   "outputs": [
    {
     "data": {
      "text/plain": [
       "0    -9461\n",
       "1   -16765\n",
       "2   -19046\n",
       "3   -19005\n",
       "4   -19932\n",
       "Name: DAYS_BIRTH, dtype: int64"
      ]
     },
     "execution_count": 59,
     "metadata": {},
     "output_type": "execute_result"
    }
   ],
   "source": [
    "train['DAYS_BIRTH'].head()"
   ]
  },
  {
   "cell_type": "code",
   "execution_count": 60,
   "metadata": {},
   "outputs": [
    {
     "data": {
      "text/plain": [
       "count    307511.000000\n",
       "mean     -16036.995067\n",
       "std        4363.988632\n",
       "min      -25229.000000\n",
       "25%      -19682.000000\n",
       "50%      -15750.000000\n",
       "75%      -12413.000000\n",
       "max       -7489.000000\n",
       "Name: DAYS_BIRTH, dtype: float64"
      ]
     },
     "execution_count": 60,
     "metadata": {},
     "output_type": "execute_result"
    }
   ],
   "source": [
    "train['DAYS_BIRTH'].describe()"
   ]
  },
  {
   "cell_type": "code",
   "execution_count": 61,
   "metadata": {},
   "outputs": [
    {
     "data": {
      "text/plain": [
       "0"
      ]
     },
     "execution_count": 61,
     "metadata": {},
     "output_type": "execute_result"
    }
   ],
   "source": [
    "train['DAYS_BIRTH'].isnull().sum()"
   ]
  },
  {
   "cell_type": "markdown",
   "metadata": {},
   "source": [
    "## 18) DAYS_EMPLOYED"
   ]
  },
  {
   "cell_type": "code",
   "execution_count": 63,
   "metadata": {},
   "outputs": [
    {
     "data": {
      "text/plain": [
       "0"
      ]
     },
     "execution_count": 63,
     "metadata": {},
     "output_type": "execute_result"
    }
   ],
   "source": [
    "train['DAYS_EMPLOYED'].isnull().sum()"
   ]
  },
  {
   "cell_type": "code",
   "execution_count": 64,
   "metadata": {},
   "outputs": [
    {
     "data": {
      "text/plain": [
       "0    -637\n",
       "1   -1188\n",
       "2    -225\n",
       "3   -3039\n",
       "4   -3038\n",
       "Name: DAYS_EMPLOYED, dtype: int64"
      ]
     },
     "execution_count": 64,
     "metadata": {},
     "output_type": "execute_result"
    }
   ],
   "source": [
    "train['DAYS_EMPLOYED'].head()"
   ]
  },
  {
   "cell_type": "markdown",
   "metadata": {},
   "source": [
    "## 19) DAYS_REGISTRATION"
   ]
  },
  {
   "cell_type": "code",
   "execution_count": 65,
   "metadata": {},
   "outputs": [
    {
     "data": {
      "text/plain": [
       "0   -3648.0\n",
       "1   -1186.0\n",
       "2   -4260.0\n",
       "3   -9833.0\n",
       "4   -4311.0\n",
       "Name: DAYS_REGISTRATION, dtype: float64"
      ]
     },
     "execution_count": 65,
     "metadata": {},
     "output_type": "execute_result"
    }
   ],
   "source": [
    "train['DAYS_REGISTRATION'].head()"
   ]
  },
  {
   "cell_type": "code",
   "execution_count": 66,
   "metadata": {},
   "outputs": [
    {
     "data": {
      "text/plain": [
       "0"
      ]
     },
     "execution_count": 66,
     "metadata": {},
     "output_type": "execute_result"
    }
   ],
   "source": [
    "train['DAYS_REGISTRATION'].isnull().sum()"
   ]
  },
  {
   "cell_type": "markdown",
   "metadata": {},
   "source": [
    "## 20) DAYS_ID_PUBLISH"
   ]
  },
  {
   "cell_type": "code",
   "execution_count": 68,
   "metadata": {},
   "outputs": [
    {
     "data": {
      "text/plain": [
       "0   -2120\n",
       "1    -291\n",
       "2   -2531\n",
       "3   -2437\n",
       "4   -3458\n",
       "Name: DAYS_ID_PUBLISH, dtype: int64"
      ]
     },
     "execution_count": 68,
     "metadata": {},
     "output_type": "execute_result"
    }
   ],
   "source": [
    "train['DAYS_ID_PUBLISH'].head()"
   ]
  },
  {
   "cell_type": "code",
   "execution_count": 69,
   "metadata": {},
   "outputs": [
    {
     "data": {
      "text/plain": [
       "0"
      ]
     },
     "execution_count": 69,
     "metadata": {},
     "output_type": "execute_result"
    }
   ],
   "source": [
    "train['DAYS_ID_PUBLISH'].isnull().sum()"
   ]
  },
  {
   "cell_type": "markdown",
   "metadata": {},
   "source": [
    "## 21) OWN_CAR_AGE"
   ]
  },
  {
   "cell_type": "code",
   "execution_count": 70,
   "metadata": {},
   "outputs": [
    {
     "data": {
      "text/plain": [
       "0     NaN\n",
       "1     NaN\n",
       "2    26.0\n",
       "3     NaN\n",
       "4     NaN\n",
       "Name: OWN_CAR_AGE, dtype: float64"
      ]
     },
     "execution_count": 70,
     "metadata": {},
     "output_type": "execute_result"
    }
   ],
   "source": [
    "train['OWN_CAR_AGE'].head()"
   ]
  },
  {
   "cell_type": "code",
   "execution_count": 71,
   "metadata": {},
   "outputs": [
    {
     "data": {
      "text/plain": [
       "array([nan, 26., 17.,  8., 23.,  7., 14.,  1.,  3., 13., 10.,  2., 21.,\n",
       "       20., 22., 65.,  5., 11.,  9.,  4., 15., 12., 25.,  6., 64.,  0.,\n",
       "       27., 19., 28., 18., 16., 30., 36., 24., 39., 29., 40., 41., 31.,\n",
       "       42., 37., 35., 34., 33., 54., 38., 32., 43., 55., 49., 44., 63.,\n",
       "       46., 45., 48., 56., 51., 57., 69., 50., 47., 91., 52.])"
      ]
     },
     "execution_count": 71,
     "metadata": {},
     "output_type": "execute_result"
    }
   ],
   "source": [
    "train['OWN_CAR_AGE'].unique()"
   ]
  },
  {
   "cell_type": "code",
   "execution_count": 72,
   "metadata": {},
   "outputs": [
    {
     "data": {
      "text/plain": [
       "count    104582.000000\n",
       "mean         12.061091\n",
       "std          11.944812\n",
       "min           0.000000\n",
       "25%           5.000000\n",
       "50%           9.000000\n",
       "75%          15.000000\n",
       "max          91.000000\n",
       "Name: OWN_CAR_AGE, dtype: float64"
      ]
     },
     "execution_count": 72,
     "metadata": {},
     "output_type": "execute_result"
    }
   ],
   "source": [
    "train['OWN_CAR_AGE'].describe()"
   ]
  },
  {
   "cell_type": "code",
   "execution_count": 73,
   "metadata": {},
   "outputs": [
    {
     "data": {
      "text/plain": [
       "202929"
      ]
     },
     "execution_count": 73,
     "metadata": {},
     "output_type": "execute_result"
    }
   ],
   "source": [
    "train['OWN_CAR_AGE'].isnull().sum()"
   ]
  },
  {
   "cell_type": "code",
   "execution_count": 77,
   "metadata": {},
   "outputs": [
    {
     "data": {
      "text/plain": [
       "count     104587\n",
       "unique         1\n",
       "top            Y\n",
       "freq      104587\n",
       "Name: FLAG_OWN_CAR, dtype: object"
      ]
     },
     "execution_count": 77,
     "metadata": {},
     "output_type": "execute_result"
    }
   ],
   "source": [
    "# 차량을 갖고 있는 사람들 수와 이 질문에 대답한 사람의 수가 같은지 확인\n",
    "train['FLAG_OWN_CAR'][train['FLAG_OWN_CAR'] == 'Y'].describe()"
   ]
  },
  {
   "cell_type": "markdown",
   "metadata": {},
   "source": [
    "## 22) FLAG_MOBIL"
   ]
  },
  {
   "cell_type": "code",
   "execution_count": 78,
   "metadata": {},
   "outputs": [
    {
     "data": {
      "text/plain": [
       "count    307511.000000\n",
       "mean          0.999997\n",
       "std           0.001803\n",
       "min           0.000000\n",
       "25%           1.000000\n",
       "50%           1.000000\n",
       "75%           1.000000\n",
       "max           1.000000\n",
       "Name: FLAG_MOBIL, dtype: float64"
      ]
     },
     "execution_count": 78,
     "metadata": {},
     "output_type": "execute_result"
    }
   ],
   "source": [
    "train['FLAG_MOBIL'].describe()"
   ]
  },
  {
   "cell_type": "code",
   "execution_count": 79,
   "metadata": {},
   "outputs": [
    {
     "data": {
      "text/plain": [
       "0    1\n",
       "1    1\n",
       "2    1\n",
       "3    1\n",
       "4    1\n",
       "Name: FLAG_MOBIL, dtype: int64"
      ]
     },
     "execution_count": 79,
     "metadata": {},
     "output_type": "execute_result"
    }
   ],
   "source": [
    "train['FLAG_MOBIL'].head()"
   ]
  },
  {
   "cell_type": "code",
   "execution_count": 80,
   "metadata": {},
   "outputs": [
    {
     "data": {
      "text/plain": [
       "0"
      ]
     },
     "execution_count": 80,
     "metadata": {},
     "output_type": "execute_result"
    }
   ],
   "source": [
    "train['FLAG_MOBIL'].isnull().sum()"
   ]
  },
  {
   "cell_type": "markdown",
   "metadata": {},
   "source": [
    "## 23) FLAG_EMP_PHONE"
   ]
  },
  {
   "cell_type": "code",
   "execution_count": 82,
   "metadata": {},
   "outputs": [
    {
     "data": {
      "text/plain": [
       "0"
      ]
     },
     "execution_count": 82,
     "metadata": {},
     "output_type": "execute_result"
    }
   ],
   "source": [
    "train['FLAG_EMP_PHONE'].isnull().sum()"
   ]
  },
  {
   "cell_type": "code",
   "execution_count": 83,
   "metadata": {},
   "outputs": [
    {
     "data": {
      "text/plain": [
       "count    307511.000000\n",
       "mean          0.819889\n",
       "std           0.384280\n",
       "min           0.000000\n",
       "25%           1.000000\n",
       "50%           1.000000\n",
       "75%           1.000000\n",
       "max           1.000000\n",
       "Name: FLAG_EMP_PHONE, dtype: float64"
      ]
     },
     "execution_count": 83,
     "metadata": {},
     "output_type": "execute_result"
    }
   ],
   "source": [
    "train['FLAG_EMP_PHONE'].describe()"
   ]
  },
  {
   "cell_type": "code",
   "execution_count": 84,
   "metadata": {},
   "outputs": [
    {
     "data": {
      "text/plain": [
       "array([1, 0], dtype=int64)"
      ]
     },
     "execution_count": 84,
     "metadata": {},
     "output_type": "execute_result"
    }
   ],
   "source": [
    "train['FLAG_EMP_PHONE'].unique()"
   ]
  },
  {
   "cell_type": "markdown",
   "metadata": {},
   "source": [
    "## 24) FLAG_WORK_PHONE"
   ]
  },
  {
   "cell_type": "code",
   "execution_count": 85,
   "metadata": {},
   "outputs": [
    {
     "data": {
      "text/plain": [
       "array([0, 1], dtype=int64)"
      ]
     },
     "execution_count": 85,
     "metadata": {},
     "output_type": "execute_result"
    }
   ],
   "source": [
    "train['FLAG_WORK_PHONE'].unique()"
   ]
  },
  {
   "cell_type": "code",
   "execution_count": 86,
   "metadata": {},
   "outputs": [
    {
     "data": {
      "text/plain": [
       "0"
      ]
     },
     "execution_count": 86,
     "metadata": {},
     "output_type": "execute_result"
    }
   ],
   "source": [
    "train['FLAG_WORK_PHONE'].isnull().sum()"
   ]
  },
  {
   "cell_type": "markdown",
   "metadata": {},
   "source": [
    "## 25) FLAG_CONT_MOBILE"
   ]
  },
  {
   "cell_type": "code",
   "execution_count": 87,
   "metadata": {},
   "outputs": [
    {
     "data": {
      "text/plain": [
       "array([1, 0], dtype=int64)"
      ]
     },
     "execution_count": 87,
     "metadata": {},
     "output_type": "execute_result"
    }
   ],
   "source": [
    "train['FLAG_CONT_MOBILE'].unique()"
   ]
  },
  {
   "cell_type": "code",
   "execution_count": 88,
   "metadata": {},
   "outputs": [
    {
     "data": {
      "text/plain": [
       "0"
      ]
     },
     "execution_count": 88,
     "metadata": {},
     "output_type": "execute_result"
    }
   ],
   "source": [
    "train['FLAG_CONT_MOBILE'].isnull().sum()"
   ]
  },
  {
   "cell_type": "code",
   "execution_count": 89,
   "metadata": {},
   "outputs": [
    {
     "data": {
      "text/plain": [
       "count    307511.000000\n",
       "mean          0.998133\n",
       "std           0.043164\n",
       "min           0.000000\n",
       "25%           1.000000\n",
       "50%           1.000000\n",
       "75%           1.000000\n",
       "max           1.000000\n",
       "Name: FLAG_CONT_MOBILE, dtype: float64"
      ]
     },
     "execution_count": 89,
     "metadata": {},
     "output_type": "execute_result"
    }
   ],
   "source": [
    "train['FLAG_CONT_MOBILE'].describe()"
   ]
  },
  {
   "cell_type": "markdown",
   "metadata": {},
   "source": [
    "## 26) FLAG_PHONE"
   ]
  },
  {
   "cell_type": "code",
   "execution_count": 90,
   "metadata": {},
   "outputs": [
    {
     "data": {
      "text/plain": [
       "array([1, 0], dtype=int64)"
      ]
     },
     "execution_count": 90,
     "metadata": {},
     "output_type": "execute_result"
    }
   ],
   "source": [
    "train['FLAG_PHONE'].unique()"
   ]
  },
  {
   "cell_type": "code",
   "execution_count": 91,
   "metadata": {},
   "outputs": [
    {
     "data": {
      "text/plain": [
       "0"
      ]
     },
     "execution_count": 91,
     "metadata": {},
     "output_type": "execute_result"
    }
   ],
   "source": [
    "train['FLAG_PHONE'].isnull().sum()"
   ]
  },
  {
   "cell_type": "code",
   "execution_count": 92,
   "metadata": {},
   "outputs": [
    {
     "data": {
      "text/plain": [
       "count    307511.000000\n",
       "mean          0.281066\n",
       "std           0.449521\n",
       "min           0.000000\n",
       "25%           0.000000\n",
       "50%           0.000000\n",
       "75%           1.000000\n",
       "max           1.000000\n",
       "Name: FLAG_PHONE, dtype: float64"
      ]
     },
     "execution_count": 92,
     "metadata": {},
     "output_type": "execute_result"
    }
   ],
   "source": [
    "train['FLAG_PHONE'].describe()"
   ]
  },
  {
   "cell_type": "markdown",
   "metadata": {},
   "source": [
    "## 27) FLAG_EMAIL"
   ]
  },
  {
   "cell_type": "code",
   "execution_count": 94,
   "metadata": {},
   "outputs": [
    {
     "data": {
      "text/plain": [
       "array([0, 1], dtype=int64)"
      ]
     },
     "execution_count": 94,
     "metadata": {},
     "output_type": "execute_result"
    }
   ],
   "source": [
    "train['FLAG_EMAIL'].unique()"
   ]
  },
  {
   "cell_type": "code",
   "execution_count": 95,
   "metadata": {},
   "outputs": [
    {
     "data": {
      "text/plain": [
       "0"
      ]
     },
     "execution_count": 95,
     "metadata": {},
     "output_type": "execute_result"
    }
   ],
   "source": [
    "train['FLAG_EMAIL'].isnull().sum()"
   ]
  },
  {
   "cell_type": "code",
   "execution_count": 97,
   "metadata": {},
   "outputs": [
    {
     "data": {
      "text/plain": [
       "count    307511.000000\n",
       "mean          0.056720\n",
       "std           0.231307\n",
       "min           0.000000\n",
       "25%           0.000000\n",
       "50%           0.000000\n",
       "75%           0.000000\n",
       "max           1.000000\n",
       "Name: FLAG_EMAIL, dtype: float64"
      ]
     },
     "execution_count": 97,
     "metadata": {},
     "output_type": "execute_result"
    }
   ],
   "source": [
    "train['FLAG_EMAIL'].describe()"
   ]
  },
  {
   "cell_type": "markdown",
   "metadata": {},
   "source": [
    "## 28) OCCUPATION_TYPE"
   ]
  },
  {
   "cell_type": "code",
   "execution_count": 98,
   "metadata": {},
   "outputs": [
    {
     "data": {
      "text/plain": [
       "array(['Laborers', 'Core staff', 'Accountants', 'Managers', nan,\n",
       "       'Drivers', 'Sales staff', 'Cleaning staff', 'Cooking staff',\n",
       "       'Private service staff', 'Medicine staff', 'Security staff',\n",
       "       'High skill tech staff', 'Waiters/barmen staff',\n",
       "       'Low-skill Laborers', 'Realty agents', 'Secretaries', 'IT staff',\n",
       "       'HR staff'], dtype=object)"
      ]
     },
     "execution_count": 98,
     "metadata": {},
     "output_type": "execute_result"
    }
   ],
   "source": [
    "train['OCCUPATION_TYPE'].unique()"
   ]
  },
  {
   "cell_type": "code",
   "execution_count": 99,
   "metadata": {},
   "outputs": [
    {
     "data": {
      "text/plain": [
       "96391"
      ]
     },
     "execution_count": 99,
     "metadata": {},
     "output_type": "execute_result"
    }
   ],
   "source": [
    "train['OCCUPATION_TYPE'].isnull().sum()"
   ]
  },
  {
   "cell_type": "markdown",
   "metadata": {},
   "source": [
    "## 29) CNT_FAM_MEMBERS"
   ]
  },
  {
   "cell_type": "code",
   "execution_count": 100,
   "metadata": {},
   "outputs": [
    {
     "data": {
      "text/plain": [
       "array([ 1.,  2.,  3.,  4.,  5.,  6.,  9.,  7.,  8., 10., 13., nan, 14.,\n",
       "       12., 20., 15., 16., 11.])"
      ]
     },
     "execution_count": 100,
     "metadata": {},
     "output_type": "execute_result"
    }
   ],
   "source": [
    "train[\"CNT_FAM_MEMBERS\"].unique()"
   ]
  },
  {
   "cell_type": "code",
   "execution_count": 101,
   "metadata": {},
   "outputs": [
    {
     "data": {
      "text/plain": [
       "2"
      ]
     },
     "execution_count": 101,
     "metadata": {},
     "output_type": "execute_result"
    }
   ],
   "source": [
    "train['CNT_FAM_MEMBERS'].isnull().sum()"
   ]
  },
  {
   "cell_type": "markdown",
   "metadata": {},
   "source": [
    "## 30) REGION_RATING_CLIENT"
   ]
  },
  {
   "cell_type": "code",
   "execution_count": 102,
   "metadata": {},
   "outputs": [
    {
     "data": {
      "text/plain": [
       "array([2, 1, 3], dtype=int64)"
      ]
     },
     "execution_count": 102,
     "metadata": {},
     "output_type": "execute_result"
    }
   ],
   "source": [
    "train['REGION_RATING_CLIENT'].unique()"
   ]
  },
  {
   "cell_type": "code",
   "execution_count": 103,
   "metadata": {},
   "outputs": [
    {
     "data": {
      "text/plain": [
       "0"
      ]
     },
     "execution_count": 103,
     "metadata": {},
     "output_type": "execute_result"
    }
   ],
   "source": [
    "train['REGION_RATING_CLIENT'].isnull().sum()"
   ]
  },
  {
   "cell_type": "markdown",
   "metadata": {},
   "source": [
    "## 31) REGION_RATING_CLIENT_W_CITY"
   ]
  },
  {
   "cell_type": "code",
   "execution_count": 104,
   "metadata": {},
   "outputs": [
    {
     "data": {
      "text/plain": [
       "array([2, 1, 3], dtype=int64)"
      ]
     },
     "execution_count": 104,
     "metadata": {},
     "output_type": "execute_result"
    }
   ],
   "source": [
    "train['REGION_RATING_CLIENT_W_CITY'].unique()"
   ]
  },
  {
   "cell_type": "code",
   "execution_count": 105,
   "metadata": {},
   "outputs": [
    {
     "data": {
      "text/plain": [
       "0"
      ]
     },
     "execution_count": 105,
     "metadata": {},
     "output_type": "execute_result"
    }
   ],
   "source": [
    "train['REGION_RATING_CLIENT_W_CITY'].isnull().sum()"
   ]
  },
  {
   "cell_type": "markdown",
   "metadata": {},
   "source": [
    "## 32) WEEKDAY_APPR_PROCESS_START"
   ]
  },
  {
   "cell_type": "code",
   "execution_count": 106,
   "metadata": {},
   "outputs": [
    {
     "data": {
      "text/plain": [
       "array(['WEDNESDAY', 'MONDAY', 'THURSDAY', 'SUNDAY', 'SATURDAY', 'FRIDAY',\n",
       "       'TUESDAY'], dtype=object)"
      ]
     },
     "execution_count": 106,
     "metadata": {},
     "output_type": "execute_result"
    }
   ],
   "source": [
    "train['WEEKDAY_APPR_PROCESS_START'].unique()"
   ]
  },
  {
   "cell_type": "code",
   "execution_count": 107,
   "metadata": {},
   "outputs": [
    {
     "data": {
      "text/plain": [
       "0"
      ]
     },
     "execution_count": 107,
     "metadata": {},
     "output_type": "execute_result"
    }
   ],
   "source": [
    "train['WEEKDAY_APPR_PROCESS_START'].isnull().sum()"
   ]
  },
  {
   "cell_type": "markdown",
   "metadata": {},
   "source": [
    "## 33) HOUR_APPR_PROCESS_START"
   ]
  },
  {
   "cell_type": "code",
   "execution_count": 113,
   "metadata": {},
   "outputs": [
    {
     "data": {
      "text/plain": [
       "array([10, 11,  9, 17, 16, 14,  8, 15,  7, 13,  6, 12, 19,  3, 18, 21,  4,\n",
       "        5, 20, 22,  1,  2, 23,  0], dtype=int64)"
      ]
     },
     "execution_count": 113,
     "metadata": {},
     "output_type": "execute_result"
    }
   ],
   "source": [
    "train['HOUR_APPR_PROCESS_START'].unique()"
   ]
  },
  {
   "cell_type": "code",
   "execution_count": 114,
   "metadata": {},
   "outputs": [
    {
     "data": {
      "text/plain": [
       "0"
      ]
     },
     "execution_count": 114,
     "metadata": {},
     "output_type": "execute_result"
    }
   ],
   "source": [
    "train['HOUR_APPR_PROCESS_START'].isnull().sum()"
   ]
  },
  {
   "cell_type": "markdown",
   "metadata": {},
   "source": [
    "## 34) REG_REGION_NOT_LIVE_REGION"
   ]
  },
  {
   "cell_type": "code",
   "execution_count": 115,
   "metadata": {},
   "outputs": [
    {
     "data": {
      "text/plain": [
       "array([0, 1], dtype=int64)"
      ]
     },
     "execution_count": 115,
     "metadata": {},
     "output_type": "execute_result"
    }
   ],
   "source": [
    "train['REG_REGION_NOT_LIVE_REGION'].unique()"
   ]
  },
  {
   "cell_type": "code",
   "execution_count": 116,
   "metadata": {},
   "outputs": [
    {
     "data": {
      "text/plain": [
       "0"
      ]
     },
     "execution_count": 116,
     "metadata": {},
     "output_type": "execute_result"
    }
   ],
   "source": [
    "train['REG_REGION_NOT_LIVE_REGION'].isnull().sum()"
   ]
  },
  {
   "cell_type": "markdown",
   "metadata": {},
   "source": [
    "## 35) REG_REGION_NOT_WORK_REGION"
   ]
  },
  {
   "cell_type": "code",
   "execution_count": 117,
   "metadata": {},
   "outputs": [
    {
     "data": {
      "text/plain": [
       "array([0, 1], dtype=int64)"
      ]
     },
     "execution_count": 117,
     "metadata": {},
     "output_type": "execute_result"
    }
   ],
   "source": [
    "train['REG_REGION_NOT_WORK_REGION'].unique()"
   ]
  },
  {
   "cell_type": "code",
   "execution_count": 118,
   "metadata": {},
   "outputs": [
    {
     "data": {
      "text/plain": [
       "0"
      ]
     },
     "execution_count": 118,
     "metadata": {},
     "output_type": "execute_result"
    }
   ],
   "source": [
    "train['REG_REGION_NOT_WORK_REGION'].isnull().sum()"
   ]
  },
  {
   "cell_type": "markdown",
   "metadata": {},
   "source": [
    "## 36) LIVE_REGION_NOT_WORK_REGION"
   ]
  },
  {
   "cell_type": "code",
   "execution_count": 119,
   "metadata": {},
   "outputs": [
    {
     "data": {
      "text/plain": [
       "array([0, 1], dtype=int64)"
      ]
     },
     "execution_count": 119,
     "metadata": {},
     "output_type": "execute_result"
    }
   ],
   "source": [
    "train['LIVE_REGION_NOT_WORK_REGION'].unique()"
   ]
  },
  {
   "cell_type": "code",
   "execution_count": 120,
   "metadata": {},
   "outputs": [
    {
     "data": {
      "text/plain": [
       "0"
      ]
     },
     "execution_count": 120,
     "metadata": {},
     "output_type": "execute_result"
    }
   ],
   "source": [
    "train['LIVE_REGION_NOT_WORK_REGION'].isnull().sum()"
   ]
  },
  {
   "cell_type": "markdown",
   "metadata": {},
   "source": [
    "## 37) REG_CITY_NOT_LIVE_CITY"
   ]
  },
  {
   "cell_type": "code",
   "execution_count": 121,
   "metadata": {},
   "outputs": [
    {
     "data": {
      "text/plain": [
       "array([0, 1], dtype=int64)"
      ]
     },
     "execution_count": 121,
     "metadata": {},
     "output_type": "execute_result"
    }
   ],
   "source": [
    "train['REG_CITY_NOT_LIVE_CITY'].unique()"
   ]
  },
  {
   "cell_type": "code",
   "execution_count": 122,
   "metadata": {},
   "outputs": [
    {
     "data": {
      "text/plain": [
       "0"
      ]
     },
     "execution_count": 122,
     "metadata": {},
     "output_type": "execute_result"
    }
   ],
   "source": [
    "train['REG_CITY_NOT_LIVE_CITY'].isnull().sum()"
   ]
  },
  {
   "cell_type": "markdown",
   "metadata": {},
   "source": [
    "## 38) REG_REGION_NOT_WORK_REGION"
   ]
  },
  {
   "cell_type": "code",
   "execution_count": 123,
   "metadata": {},
   "outputs": [
    {
     "data": {
      "text/plain": [
       "array([0, 1], dtype=int64)"
      ]
     },
     "execution_count": 123,
     "metadata": {},
     "output_type": "execute_result"
    }
   ],
   "source": [
    "train['REG_REGION_NOT_WORK_REGION'].unique()"
   ]
  },
  {
   "cell_type": "code",
   "execution_count": 124,
   "metadata": {},
   "outputs": [
    {
     "data": {
      "text/plain": [
       "0"
      ]
     },
     "execution_count": 124,
     "metadata": {},
     "output_type": "execute_result"
    }
   ],
   "source": [
    "train['REG_REGION_NOT_WORK_REGION'].isnull().sum()"
   ]
  },
  {
   "cell_type": "markdown",
   "metadata": {},
   "source": [
    "## 39) LIVE_REGION_NOT_WORK_REGION"
   ]
  },
  {
   "cell_type": "code",
   "execution_count": 125,
   "metadata": {},
   "outputs": [
    {
     "data": {
      "text/plain": [
       "array([0, 1], dtype=int64)"
      ]
     },
     "execution_count": 125,
     "metadata": {},
     "output_type": "execute_result"
    }
   ],
   "source": [
    "train['LIVE_REGION_NOT_WORK_REGION'].unique()"
   ]
  },
  {
   "cell_type": "code",
   "execution_count": 126,
   "metadata": {},
   "outputs": [
    {
     "data": {
      "text/plain": [
       "0"
      ]
     },
     "execution_count": 126,
     "metadata": {},
     "output_type": "execute_result"
    }
   ],
   "source": [
    "train['LIVE_REGION_NOT_WORK_REGION'].isnull().sum()"
   ]
  },
  {
   "cell_type": "markdown",
   "metadata": {},
   "source": [
    "## 40) ORGANIZATION_TYPE"
   ]
  },
  {
   "cell_type": "code",
   "execution_count": 131,
   "metadata": {},
   "outputs": [
    {
     "data": {
      "text/plain": [
       "count                     307511\n",
       "unique                        58\n",
       "top       Business Entity Type 3\n",
       "freq                       67992\n",
       "Name: ORGANIZATION_TYPE, dtype: object"
      ]
     },
     "execution_count": 131,
     "metadata": {},
     "output_type": "execute_result"
    }
   ],
   "source": [
    "train['ORGANIZATION_TYPE'].describe()"
   ]
  },
  {
   "cell_type": "code",
   "execution_count": 132,
   "metadata": {},
   "outputs": [
    {
     "data": {
      "text/plain": [
       "0"
      ]
     },
     "execution_count": 132,
     "metadata": {},
     "output_type": "execute_result"
    }
   ],
   "source": [
    "train['ORGANIZATION_TYPE'].isnull().sum()"
   ]
  },
  {
   "cell_type": "markdown",
   "metadata": {},
   "source": [
    "## 41, 42, 43) EXT_SOURCE_1"
   ]
  },
  {
   "cell_type": "code",
   "execution_count": 133,
   "metadata": {},
   "outputs": [
    {
     "data": {
      "text/plain": [
       "array([0.08303697, 0.31126731,        nan, ..., 0.14557045, 0.7440264 ,\n",
       "       0.73445967])"
      ]
     },
     "execution_count": 133,
     "metadata": {},
     "output_type": "execute_result"
    }
   ],
   "source": [
    "train['EXT_SOURCE_1'].unique()"
   ]
  },
  {
   "cell_type": "code",
   "execution_count": 136,
   "metadata": {},
   "outputs": [
    {
     "data": {
      "text/plain": [
       "array([0.26294859, 0.62224578, 0.55591208, ..., 0.13118876, 0.26448565,\n",
       "       0.2678342 ])"
      ]
     },
     "execution_count": 136,
     "metadata": {},
     "output_type": "execute_result"
    }
   ],
   "source": [
    "train['EXT_SOURCE_2'].unique()"
   ]
  },
  {
   "cell_type": "code",
   "execution_count": 137,
   "metadata": {
    "scrolled": true
   },
   "outputs": [
    {
     "data": {
      "text/plain": [
       "array([1.39375780e-01,            nan, 7.29566691e-01, 6.21226338e-01,\n",
       "       4.92060094e-01, 5.40654450e-01, 7.51723715e-01, 3.63945239e-01,\n",
       "       6.52896552e-01, 1.76652579e-01, 7.70087070e-01, 6.78567689e-01,\n",
       "       6.21030378e-02, 5.56727426e-01, 4.77649155e-01, 5.42445144e-01,\n",
       "       3.58951229e-01, 6.69056695e-01, 5.65607981e-01, 4.61482391e-01,\n",
       "       1.90705948e-01, 6.59405532e-01, 5.24496446e-01, 4.10102573e-01,\n",
       "       7.98137231e-01, 4.11848556e-01, 7.54406173e-01, 7.22392890e-01,\n",
       "       6.05836265e-01, 3.20163367e-01, 3.99675616e-01, 6.84827659e-01,\n",
       "       4.75849909e-01, 7.28141299e-01, 4.66864006e-01, 4.79448981e-01,\n",
       "       3.09275356e-01, 7.99296783e-01, 7.01695774e-01, 7.38019620e-01,\n",
       "       7.01088438e-02, 1.69428727e-01, 5.13693766e-01, 7.07699345e-01,\n",
       "       3.39287700e-01, 6.97146908e-01, 4.34733249e-01, 2.34015167e-01,\n",
       "       9.50703958e-02, 5.62060483e-01, 4.29423684e-01, 4.13596760e-01,\n",
       "       8.32785025e-01, 3.94495405e-01, 5.97192427e-01, 6.94092643e-01,\n",
       "       1.98620045e-01, 1.91821602e-01, 4.08358853e-01, 5.35276250e-01,\n",
       "       4.52533559e-01, 7.20944150e-01, 6.44679455e-01, 3.42528872e-01,\n",
       "       8.24594971e-01, 5.11891802e-01, 6.41368257e-01, 3.28063161e-01,\n",
       "       2.28883417e-01, 7.74985465e-02, 7.89880347e-01, 2.65049430e-01,\n",
       "       7.10551247e-02, 1.21408286e-01, 5.81483706e-01, 4.06617437e-01,\n",
       "       6.73830078e-01, 5.54946769e-01, 5.74446617e-01, 1.20641030e-01,\n",
       "       5.72682505e-01, 9.63186928e-02, 6.83268831e-01, 7.39411754e-01,\n",
       "       7.55740050e-01, 2.11550764e-01, 9.20128094e-02, 7.49021705e-01,\n",
       "       3.53987608e-01, 7.46300213e-01, 2.89611238e-01, 3.17031779e-01,\n",
       "       2.32724776e-01, 8.12822607e-01, 1.56639827e-01, 1.61463080e-01,\n",
       "       3.29655054e-01, 8.16092360e-01, 5.95456203e-01, 4.17099668e-01,\n",
       "       6.75413291e-01, 4.43615308e-01, 4.20610964e-01, 7.95803133e-01,\n",
       "       7.71361592e-01, 5.19097338e-01, 5.46023197e-01, 7.88680775e-01,\n",
       "       5.22697317e-01, 5.08286991e-01, 1.92942228e-01, 3.03146374e-01,\n",
       "       6.39707568e-01, 2.76440695e-01, 3.50695843e-01, 2.69285800e-01,\n",
       "       5.44234741e-01, 5.49596502e-01, 5.93717587e-01, 7.06205110e-01,\n",
       "       5.06484240e-01, 7.44932185e-01, 3.07736696e-01, 4.27657370e-01,\n",
       "       3.37672722e-01, 6.07557300e-01, 7.36622698e-01, 3.44155007e-01,\n",
       "       6.34705531e-01, 2.97086612e-01, 4.25892898e-01, 7.59712182e-01,\n",
       "       1.80887978e-01, 6.09275667e-01, 7.16570245e-01, 2.18859082e-01,\n",
       "       2.17628520e-01, 6.54529280e-01, 1.30947153e-01, 3.80799683e-01,\n",
       "       4.54321060e-01, 7.42181612e-01, 2.43186480e-01, 1.96333966e-01,\n",
       "       4.56109739e-01, 7.30987370e-01, 3.79100485e-01, 5.20897599e-01,\n",
       "       2.70707387e-01, 6.95621930e-01, 7.13631400e-01, 6.31354537e-01,\n",
       "       2.25086862e-01, 4.48962273e-01, 7.50375150e-01, 1.83035167e-01,\n",
       "       8.00451340e-01, 5.28092751e-01, 6.22922000e-01, 7.58393062e-01,\n",
       "       2.37916080e-01, 3.31250865e-01, 6.12704244e-01, 4.63275328e-01,\n",
       "       5.88487788e-01, 3.15472155e-01, 2.00926088e-01, 5.16817674e-02,\n",
       "       4.97468889e-01, 4.38281374e-01, 6.64248263e-01, 4.95665829e-01,\n",
       "       6.89479143e-01, 5.77969119e-01, 2.10350229e-01, 6.38043528e-01,\n",
       "       7.35220999e-01, 6.29674251e-01, 2.60855914e-01, 4.70456116e-01,\n",
       "       7.78904039e-01, 1.73527430e-01, 5.37069958e-01, 5.17296581e-01,\n",
       "       6.72242890e-01, 6.00657537e-01, 7.86266615e-01, 2.63646813e-01,\n",
       "       4.31191798e-01, 4.65069215e-01, 3.06202298e-01, 3.77404249e-01,\n",
       "       5.51381262e-01, 6.57783800e-01, 6.92559067e-01, 7.40799088e-01,\n",
       "       1.15386662e-01, 7.19490785e-01, 8.02745476e-01, 4.86653157e-01,\n",
       "       3.40906426e-01, 2.23831317e-01, 6.51260219e-01, 7.12155155e-01,\n",
       "       3.84206813e-01, 3.55638717e-01, 3.89338792e-01, 7.10674386e-01,\n",
       "       9.02209393e-02, 5.27265239e-04, 7.33814537e-01, 7.85052026e-01,\n",
       "       3.87625344e-01, 6.80138822e-01, 6.36376171e-01, 6.51096140e-02,\n",
       "       6.65854922e-01, 6.81705878e-01, 7.03203305e-01, 1.87388765e-01,\n",
       "       6.62637792e-01, 2.56705572e-01, 6.33031641e-01, 7.00183851e-01,\n",
       "       7.67523105e-01, 3.74020803e-01, 7.90596960e-02, 7.75155267e-01,\n",
       "       6.98667555e-01, 6.76992503e-01, 3.49055251e-01, 7.82607837e-01,\n",
       "       2.75000352e-01, 2.66456808e-01, 6.56158373e-01, 5.86740009e-01,\n",
       "       5.33481630e-01, 1.26100559e-01, 3.85914672e-01, 6.27990819e-01,\n",
       "       3.72333666e-01, 3.96219572e-01, 9.32250954e-02, 7.73895694e-01,\n",
       "       1.44648146e-01, 3.91054977e-01, 2.83711883e-01, 2.15182404e-01,\n",
       "       2.73564678e-01, 5.29889834e-01, 9.88592804e-02, 2.52598698e-01,\n",
       "       4.01407414e-01, 6.19527708e-01, 7.66233670e-01, 8.27702668e-01,\n",
       "       3.13916677e-01, 5.98926218e-01, 7.63639921e-01, 3.70649632e-01,\n",
       "       5.34780874e-02, 6.02386344e-01, 1.50085176e-01, 3.32850564e-01,\n",
       "       4.32961667e-01, 6.70651753e-01, 6.26304277e-01, 5.63835049e-01,\n",
       "       5.15495375e-01, 6.14414378e-01, 6.43025564e-01, 4.50747282e-01,\n",
       "       3.75711010e-01, 2.88129600e-01, 1.64414179e-01, 6.10991328e-01,\n",
       "       1.47345918e-01, 6.61023539e-01, 4.83050188e-01, 5.04681319e-01,\n",
       "       7.47663390e-01, 7.72631135e-01, 7.93449030e-01, 1.88489534e-01,\n",
       "       5.47810466e-01, 4.88455184e-01, 8.34784159e-01, 2.09154699e-01,\n",
       "       1.41991543e-01, 8.10618022e-01, 6.46329898e-01, 3.26475210e-01,\n",
       "       6.16121691e-01, 4.57899551e-01, 8.21443313e-01, 1.36800522e-01,\n",
       "       5.70916542e-01, 3.97946322e-01, 2.82248434e-01, 4.93862882e-01,\n",
       "       5.60284328e-01, 5.53164699e-01, 1.26897526e-01, 1.60488931e-01,\n",
       "       3.12365369e-01, 5.67379237e-01, 4.74051289e-01, 5.01075160e-01,\n",
       "       7.24966768e-02, 4.40057830e-01, 4.24130311e-01, 9.69483171e-02,\n",
       "       8.65895915e-01, 4.99272015e-01, 1.97474512e-01, 4.45396242e-01,\n",
       "       1.25307878e-01, 6.17826147e-01, 1.74564266e-01, 7.09189110e-01,\n",
       "       3.21735282e-01, 2.26347396e-01, 7.61026370e-01, 3.45784802e-01,\n",
       "       1.67408447e-01, 6.04112600e-01, 5.83237926e-01, 1.84116156e-01,\n",
       "       8.63363382e-01, 7.92264474e-01, 1.19877961e-01, 5.76208836e-01,\n",
       "       8.03885061e-01, 2.22580765e-01, 3.65616507e-01, 8.19317692e-01,\n",
       "       5.90233339e-01, 5.38862707e-01, 5.88259005e-02, 8.35776516e-01,\n",
       "       3.68968738e-01, 7.18032811e-01, 4.68659655e-01, 1.57594999e-01,\n",
       "       2.13966852e-01, 1.30128543e-01, 6.91021227e-01, 5.20364071e-02,\n",
       "       1.35106016e-01, 2.95582642e-01, 1.45542813e-01, 3.18595524e-01,\n",
       "       1.24519471e-01, 7.62335618e-01, 2.04422625e-01, 5.26294940e-01,\n",
       "       7.80143638e-01, 1.11756371e-01, 5.31686143e-01, 9.14119938e-02,\n",
       "       4.59690450e-01, 4.84851475e-01, 5.69148771e-01, 8.59924176e-01,\n",
       "       6.49620311e-01, 8.07273923e-01, 7.64735192e-02, 4.81249341e-01,\n",
       "       6.24614658e-01, 7.15326763e-02, 5.58506628e-01, 2.30158897e-01,\n",
       "       1.53802586e-01, 1.23735322e-01, 8.05019662e-01, 6.86382335e-01,\n",
       "       4.36506499e-01, 5.10089528e-01, 4.90257512e-01, 1.41115100e-01,\n",
       "       1.03449052e-01, 2.91097380e-01, 4.22369652e-01, 7.04706423e-01,\n",
       "       8.20382959e-01, 8.06149281e-01, 1.06155623e-01, 1.85202082e-01,\n",
       "       2.27612915e-01, 8.06495443e-02, 2.85179905e-01, 2.41861487e-01,\n",
       "       3.82501804e-01, 7.39651461e-02, 3.10818254e-01, 1.37654462e-01,\n",
       "       6.04436913e-02, 4.18854289e-01, 2.55331771e-01, 8.18247508e-01,\n",
       "       2.36610824e-01, 1.05473186e-01, 8.48244300e-01, 2.79335321e-01,\n",
       "       8.28728832e-01, 4.41835823e-01, 9.26171714e-02, 6.87932838e-01,\n",
       "       1.46442067e-01, 2.48535557e-01, 2.16402961e-01, 2.03252114e-01,\n",
       "       7.68807573e-01, 5.84990040e-01, 6.47976860e-01, 4.72253343e-01,\n",
       "       1.00151820e-01, 5.91976618e-01, 4.03141677e-01, 8.33641977e-02,\n",
       "       2.98594990e-01, 3.34454126e-01, 1.52866229e-01, 1.22955418e-01,\n",
       "       3.36061521e-01, 8.43543539e-01, 6.67457742e-01, 1.51934549e-01,\n",
       "       3.01624892e-01, 1.99770570e-01, 2.49885063e-01, 2.31439351e-01,\n",
       "       8.13917470e-01, 1.40243184e-01, 5.02878277e-01, 2.40541417e-01,\n",
       "       1.59519540e-01, 2.06778654e-01, 7.25276435e-01, 1.95198406e-01,\n",
       "       2.58084204e-01, 1.27698794e-01, 7.94628583e-01, 2.53962809e-01,\n",
       "       1.43758053e-01, 7.23836990e-01, 8.61652750e-01, 3.47418227e-01,\n",
       "       3.00107757e-01, 1.35951044e-01, 6.82511545e-02, 3.60612566e-01,\n",
       "       7.76409851e-01, 1.79821765e-01, 2.47190938e-01, 3.92773861e-01,\n",
       "       8.08393591e-01, 1.11042402e-01, 1.78760465e-01, 4.47178578e-01,\n",
       "       7.15103102e-01, 4.04878364e-01, 3.57293268e-01, 2.62248971e-01,\n",
       "       1.17613732e-01, 9.56927242e-02, 5.79727423e-01, 2.21335206e-01,\n",
       "       3.62277247e-01, 1.68416171e-01, 7.83832434e-01, 5.49573941e-02,\n",
       "       8.56412800e-01, 2.67868936e-01, 3.67291018e-01, 7.32403323e-01,\n",
       "       1.72495467e-01, 2.86652483e-01, 2.80789574e-01, 3.52339973e-01,\n",
       "       1.81959110e-01, 1.00803706e-01, 8.50326149e-02, 2.35310517e-01,\n",
       "       1.55689375e-01, 2.12756305e-01, 1.34265424e-01, 1.58554900e-01,\n",
       "       8.62510303e-01, 3.04672184e-01, 1.32597495e-01, 6.77939106e-02,\n",
       "       7.53067392e-01, 2.30618111e-02, 3.23311245e-01, 1.48254379e-01,\n",
       "       4.14716966e-02, 1.14652494e-01, 2.72133684e-01, 2.94083101e-01,\n",
       "       8.73042707e-02, 2.07964174e-01, 1.04119916e-01, 1.29314289e-01,\n",
       "       8.67312636e-02, 1.66405546e-01, 4.15347145e-01, 8.81026575e-01,\n",
       "       1.86292950e-01, 3.92377151e-02, 4.79287862e-02, 2.44516392e-01,\n",
       "       1.12474350e-01, 2.39226279e-01, 8.29750142e-01, 8.78806992e-02,\n",
       "       1.65407460e-01, 2.59467655e-01, 2.51239446e-01, 2.77885689e-01,\n",
       "       8.11722793e-01, 8.38724852e-01, 1.06841948e-01, 1.38512877e-01,\n",
       "       7.26711209e-01, 2.02086602e-01, 4.82589835e-02, 1.71468367e-01,\n",
       "       1.45563649e-02, 7.43559314e-01, 8.82530313e-01, 1.09626434e-01,\n",
       "       8.11859432e-02, 4.41303159e-02, 1.08226323e-01, 3.34404021e-02,\n",
       "       8.61616624e-02, 8.40666560e-01, 8.17255925e-02, 1.63425695e-01,\n",
       "       8.22498762e-01, 8.45437922e-01, 2.05598139e-01, 8.37746853e-01,\n",
       "       5.06315131e-02, 6.29485767e-02, 6.25244733e-02, 8.23549312e-01,\n",
       "       2.20094645e-01, 3.97851461e-02, 5.45839935e-02, 8.55523587e-01,\n",
       "       8.28147042e-02, 1.31770133e-01, 4.17593601e-02, 8.52828467e-01,\n",
       "       3.24891229e-01, 1.13196353e-01, 7.85361446e-02, 1.02782014e-01,\n",
       "       1.33429254e-01, 1.54743631e-01, 7.59656813e-02, 1.41482655e-02,\n",
       "       1.01459357e-01, 8.01600903e-01, 1.19119065e-01, 6.59932074e-02,\n",
       "       7.77659443e-01, 1.89595260e-01, 6.16842561e-02, 1.02118788e-01,\n",
       "       1.10332428e-01, 1.75605979e-01, 7.29831557e-02, 7.64939274e-01,\n",
       "       1.77704072e-01, 2.45851214e-01, 8.22685076e-02, 8.39170037e-02,\n",
       "       1.70446123e-01, 8.69210801e-01, 8.84605647e-02, 9.75816127e-02,\n",
       "       1.28504377e-01, 5.42129844e-02, 3.68624823e-02, 5.68607395e-02,\n",
       "       5.96296575e-02, 1.04794623e-01, 2.38884361e-02, 8.42589277e-01,\n",
       "       7.87476198e-01, 9.82185953e-02, 3.18464044e-02, 7.05805188e-02,\n",
       "       7.57069015e-01, 1.51007535e-01, 8.33786999e-01, 4.99426019e-02,\n",
       "       7.96972682e-01, 2.92588007e-01, 7.91074913e-01, 1.94067828e-01,\n",
       "       8.09508289e-01, 9.08147090e-02, 8.46378063e-01, 4.63097465e-02,\n",
       "       8.90438827e-02, 8.39698085e-01, 4.85913395e-02, 6.91742267e-02,\n",
       "       1.49167461e-01, 4.44355656e-02, 1.22179744e-01, 8.44731375e-02,\n",
       "       8.17172399e-01, 1.16867266e-01, 3.66072628e-02, 8.01163805e-02,\n",
       "       8.25635745e-01, 8.80268480e-01, 2.63596859e-02, 8.96306691e-02,\n",
       "       6.87112549e-02, 7.49592809e-02, 4.06200396e-02, 6.38048445e-02,\n",
       "       8.85488394e-01, 5.09793334e-02, 5.60920788e-02, 1.18364326e-01,\n",
       "       7.20131886e-02, 6.68879340e-02, 3.27480398e-02, 1.42872523e-01,\n",
       "       6.46719559e-02, 7.95864362e-02, 1.08924404e-01, 8.47313519e-01,\n",
       "       1.07532176e-01, 9.95036835e-02, 7.69844691e-02, 6.73395087e-02,\n",
       "       8.59053129e-01, 7.80157665e-02, 8.36764077e-01, 5.53331995e-02,\n",
       "       3.89667159e-02, 3.53564629e-02, 5.64751797e-02, 6.96400847e-02,\n",
       "       6.12681138e-02, 1.13922396e-01, 7.81378238e-01, 4.72748180e-02,\n",
       "       9.38365970e-02, 8.66731234e-01, 8.51008703e-01, 5.27525967e-02,\n",
       "       9.44516920e-02, 8.55954513e-02, 8.31778230e-01, 6.55500263e-02,\n",
       "       1.16124914e-01, 6.08545970e-02, 5.80323088e-02, 3.71194126e-02,\n",
       "       5.84278409e-02, 6.64391717e-02, 1.94675368e-02, 2.88760241e-02,\n",
       "       2.80779003e-02, 1.62441998e-01, 6.33753623e-02, 2.61752069e-02,\n",
       "       5.38443535e-02, 5.76392903e-02, 3.63537437e-02, 6.42370375e-02,\n",
       "       3.46258510e-02, 6.00353829e-02, 7.44606879e-02, 3.41468857e-02,\n",
       "       1.60781171e-02, 8.57297454e-01, 7.34726404e-02, 2.43982125e-02,\n",
       "       3.76384476e-02, 5.31141728e-02, 8.54629801e-01, 5.02859402e-02,\n",
       "       4.89258668e-02, 5.13294139e-02, 2.69207441e-02, 2.67324463e-02,\n",
       "       3.20695369e-02, 8.53731432e-01, 3.51112903e-02, 3.86975129e-02,\n",
       "       3.95105215e-02, 5.72487718e-02, 3.29772745e-02, 4.92625778e-02,\n",
       "       8.79506216e-01, 8.96009549e-01, 8.65056176e-01, 8.30766606e-01,\n",
       "       5.23933458e-02, 2.82753998e-02, 8.74844253e-01, 4.26338431e-02,\n",
       "       8.78739767e-01, 4.03398941e-02, 3.05388193e-02, 4.69510224e-02,\n",
       "       3.32080587e-02, 3.25203451e-02, 4.66293360e-02, 3.61019144e-02,\n",
       "       4.53634379e-02, 8.50091881e-01, 4.56768096e-02, 8.77194258e-01,\n",
       "       4.09020477e-02, 3.16247736e-02, 4.38270669e-02, 4.11859296e-02,\n",
       "       2.65454297e-02, 4.96014853e-02, 4.23404218e-02, 4.76007352e-02,\n",
       "       2.84742479e-02, 8.70841988e-01, 7.54609403e-02, 8.15007386e-01,\n",
       "       3.11859799e-02, 3.39098058e-02, 2.50944406e-02, 1.67772514e-02,\n",
       "       2.74934071e-02, 3.56032843e-02, 4.59922418e-02, 4.20489313e-02,\n",
       "       2.96961417e-02, 2.58100107e-02, 5.92265014e-02, 4.47428279e-02,\n",
       "       1.90587694e-02, 8.73256255e-01, 3.81644526e-02, 3.58517647e-02,\n",
       "       5.57114233e-02, 4.29292066e-02, 8.49170417e-01, 2.47439401e-02,\n",
       "       8.41630287e-01, 8.26671642e-01, 8.58177559e-01, 3.73780642e-02,\n",
       "       8.64212002e-01, 8.87664202e-01, 3.09687983e-02, 2.37208308e-02,\n",
       "       4.35258068e-02, 3.14046353e-02, 3.79005735e-02, 3.48677564e-02,\n",
       "       2.49185898e-02, 3.22941806e-02, 3.01146246e-02, 4.50521147e-02,\n",
       "       2.04550299e-02, 1.13457194e-02, 4.00616000e-02, 1.70168720e-02,\n",
       "       2.40571964e-02, 2.27390386e-02, 2.01679886e-02, 2.86744531e-02,\n",
       "       2.52715002e-02, 3.03260035e-02, 2.14915157e-02, 2.94890196e-02,\n",
       "       3.84300954e-02, 3.07530812e-02, 2.99046737e-02, 2.24206800e-02,\n",
       "       3.43855641e-02, 2.03110127e-02, 8.72455816e-01, 2.73012161e-02,\n",
       "       2.19512925e-02, 2.71103313e-02, 8.71651065e-01, 2.54497765e-02,\n",
       "       1.27159239e-02, 8.93976075e-01, 2.42271194e-02, 2.35543731e-02,\n",
       "       1.86584217e-02, 2.32248707e-02, 1.82663270e-02, 2.59919845e-02,\n",
       "       2.92832986e-02, 1.39484656e-02, 8.44493084e-01, 1.75062455e-02,\n",
       "       2.78817406e-02, 1.65409482e-02, 1.89243929e-02, 2.90789697e-02,\n",
       "       1.81374345e-02, 2.00259511e-02, 4.32265239e-02])"
      ]
     },
     "execution_count": 137,
     "metadata": {},
     "output_type": "execute_result"
    }
   ],
   "source": [
    "train['EXT_SOURCE_3'].unique()"
   ]
  },
  {
   "cell_type": "code",
   "execution_count": 134,
   "metadata": {},
   "outputs": [
    {
     "data": {
      "text/plain": [
       "count    134133.000000\n",
       "mean          0.502130\n",
       "std           0.211062\n",
       "min           0.014568\n",
       "25%           0.334007\n",
       "50%           0.505998\n",
       "75%           0.675053\n",
       "max           0.962693\n",
       "Name: EXT_SOURCE_1, dtype: float64"
      ]
     },
     "execution_count": 134,
     "metadata": {},
     "output_type": "execute_result"
    }
   ],
   "source": [
    "train['EXT_SOURCE_1'].describe()"
   ]
  },
  {
   "cell_type": "code",
   "execution_count": 138,
   "metadata": {},
   "outputs": [
    {
     "data": {
      "text/plain": [
       "count    3.068510e+05\n",
       "mean     5.143927e-01\n",
       "std      1.910602e-01\n",
       "min      8.173617e-08\n",
       "25%      3.924574e-01\n",
       "50%      5.659614e-01\n",
       "75%      6.636171e-01\n",
       "max      8.549997e-01\n",
       "Name: EXT_SOURCE_2, dtype: float64"
      ]
     },
     "execution_count": 138,
     "metadata": {},
     "output_type": "execute_result"
    }
   ],
   "source": [
    "train['EXT_SOURCE_2'].describe()"
   ]
  },
  {
   "cell_type": "code",
   "execution_count": 139,
   "metadata": {},
   "outputs": [
    {
     "data": {
      "text/plain": [
       "count    246546.000000\n",
       "mean          0.510853\n",
       "std           0.194844\n",
       "min           0.000527\n",
       "25%           0.370650\n",
       "50%           0.535276\n",
       "75%           0.669057\n",
       "max           0.896010\n",
       "Name: EXT_SOURCE_3, dtype: float64"
      ]
     },
     "execution_count": 139,
     "metadata": {},
     "output_type": "execute_result"
    }
   ],
   "source": [
    "train['EXT_SOURCE_3'].describe()"
   ]
  },
  {
   "cell_type": "code",
   "execution_count": 135,
   "metadata": {},
   "outputs": [
    {
     "data": {
      "text/plain": [
       "173378"
      ]
     },
     "execution_count": 135,
     "metadata": {},
     "output_type": "execute_result"
    }
   ],
   "source": [
    "train['EXT_SOURCE_1'].isnull().sum()"
   ]
  },
  {
   "cell_type": "code",
   "execution_count": 140,
   "metadata": {},
   "outputs": [
    {
     "data": {
      "text/plain": [
       "660"
      ]
     },
     "execution_count": 140,
     "metadata": {},
     "output_type": "execute_result"
    }
   ],
   "source": [
    "train['EXT_SOURCE_2'].isnull().sum()"
   ]
  },
  {
   "cell_type": "code",
   "execution_count": 141,
   "metadata": {},
   "outputs": [
    {
     "data": {
      "text/plain": [
       "60965"
      ]
     },
     "execution_count": 141,
     "metadata": {},
     "output_type": "execute_result"
    }
   ],
   "source": [
    "train['EXT_SOURCE_3'].isnull().sum()"
   ]
  },
  {
   "cell_type": "markdown",
   "metadata": {},
   "source": [
    "## 44) APARTMENT_AVG"
   ]
  },
  {
   "cell_type": "code",
   "execution_count": 143,
   "metadata": {},
   "outputs": [
    {
     "data": {
      "text/plain": [
       "array([0.0247, 0.0959,    nan, ..., 0.0261, 0.0731, 0.3466])"
      ]
     },
     "execution_count": 143,
     "metadata": {},
     "output_type": "execute_result"
    }
   ],
   "source": [
    "train['APARTMENTS_AVG'].unique()"
   ]
  },
  {
   "cell_type": "code",
   "execution_count": 142,
   "metadata": {},
   "outputs": [
    {
     "data": {
      "text/plain": [
       "156061"
      ]
     },
     "execution_count": 142,
     "metadata": {},
     "output_type": "execute_result"
    }
   ],
   "source": [
    "train['APARTMENTS_AVG'].isnull().sum()"
   ]
  },
  {
   "cell_type": "markdown",
   "metadata": {},
   "source": [
    "## 45) BASEMENTAREA_AVG"
   ]
  },
  {
   "cell_type": "code",
   "execution_count": 144,
   "metadata": {},
   "outputs": [
    {
     "data": {
      "text/plain": [
       "array([0.0369, 0.0529,    nan, ..., 0.274 , 0.2733, 0.636 ])"
      ]
     },
     "execution_count": 144,
     "metadata": {},
     "output_type": "execute_result"
    }
   ],
   "source": [
    "train['BASEMENTAREA_AVG'].unique()"
   ]
  },
  {
   "cell_type": "code",
   "execution_count": 145,
   "metadata": {},
   "outputs": [
    {
     "data": {
      "text/plain": [
       "179943"
      ]
     },
     "execution_count": 145,
     "metadata": {},
     "output_type": "execute_result"
    }
   ],
   "source": [
    "train['BASEMENTAREA_AVG'].isnull().sum()"
   ]
  },
  {
   "cell_type": "markdown",
   "metadata": {},
   "source": [
    "## 46 ~ 90) Building Information in Details"
   ]
  },
  {
   "cell_type": "markdown",
   "metadata": {},
   "source": [
    "## 91) OBS_30_CNT_SOCIAL_CIRCLE"
   ]
  },
  {
   "cell_type": "code",
   "execution_count": 146,
   "metadata": {},
   "outputs": [
    {
     "data": {
      "text/plain": [
       "array([  2.,   1.,   0.,   4.,   8.,  10.,  nan,   7.,   3.,   6.,   5.,\n",
       "        12.,   9.,  13.,  11.,  14.,  22.,  16.,  15.,  17.,  20.,  25.,\n",
       "        19.,  18.,  21.,  24.,  23.,  28.,  26.,  29.,  27.,  47., 348.,\n",
       "        30.])"
      ]
     },
     "execution_count": 146,
     "metadata": {},
     "output_type": "execute_result"
    }
   ],
   "source": [
    "train['OBS_30_CNT_SOCIAL_CIRCLE'].unique()"
   ]
  },
  {
   "cell_type": "code",
   "execution_count": 147,
   "metadata": {},
   "outputs": [
    {
     "data": {
      "text/plain": [
       "1021"
      ]
     },
     "execution_count": 147,
     "metadata": {},
     "output_type": "execute_result"
    }
   ],
   "source": [
    "train['OBS_30_CNT_SOCIAL_CIRCLE'].isnull().sum()"
   ]
  },
  {
   "cell_type": "code",
   "execution_count": 148,
   "metadata": {},
   "outputs": [
    {
     "data": {
      "text/plain": [
       "count    306490.000000\n",
       "mean          1.422245\n",
       "std           2.400989\n",
       "min           0.000000\n",
       "25%           0.000000\n",
       "50%           0.000000\n",
       "75%           2.000000\n",
       "max         348.000000\n",
       "Name: OBS_30_CNT_SOCIAL_CIRCLE, dtype: float64"
      ]
     },
     "execution_count": 148,
     "metadata": {},
     "output_type": "execute_result"
    }
   ],
   "source": [
    "train['OBS_30_CNT_SOCIAL_CIRCLE'].describe()"
   ]
  },
  {
   "cell_type": "markdown",
   "metadata": {},
   "source": [
    "## 92) DEF_30_CNT_SOCIAL_CIRCLE"
   ]
  },
  {
   "cell_type": "code",
   "execution_count": 149,
   "metadata": {},
   "outputs": [
    {
     "data": {
      "text/plain": [
       "array([ 2.,  0.,  1., nan,  3.,  4.,  5.,  6.,  7., 34.,  8.])"
      ]
     },
     "execution_count": 149,
     "metadata": {},
     "output_type": "execute_result"
    }
   ],
   "source": [
    "train['DEF_30_CNT_SOCIAL_CIRCLE'].unique()"
   ]
  },
  {
   "cell_type": "code",
   "execution_count": 150,
   "metadata": {},
   "outputs": [
    {
     "data": {
      "text/plain": [
       "1021"
      ]
     },
     "execution_count": 150,
     "metadata": {},
     "output_type": "execute_result"
    }
   ],
   "source": [
    "train['DEF_30_CNT_SOCIAL_CIRCLE'].isnull().sum()"
   ]
  },
  {
   "cell_type": "code",
   "execution_count": 151,
   "metadata": {},
   "outputs": [
    {
     "data": {
      "text/plain": [
       "count    306490.000000\n",
       "mean          0.143421\n",
       "std           0.446698\n",
       "min           0.000000\n",
       "25%           0.000000\n",
       "50%           0.000000\n",
       "75%           0.000000\n",
       "max          34.000000\n",
       "Name: DEF_30_CNT_SOCIAL_CIRCLE, dtype: float64"
      ]
     },
     "execution_count": 151,
     "metadata": {},
     "output_type": "execute_result"
    }
   ],
   "source": [
    "train['DEF_30_CNT_SOCIAL_CIRCLE'].describe()"
   ]
  },
  {
   "cell_type": "markdown",
   "metadata": {},
   "source": [
    "## 93) OBS_60_CNT_SOCIAL_CIRCLE"
   ]
  },
  {
   "cell_type": "code",
   "execution_count": 152,
   "metadata": {},
   "outputs": [
    {
     "data": {
      "text/plain": [
       "array([  2.,   1.,   0.,   4.,   8.,  10.,  nan,   7.,   3.,   6.,   5.,\n",
       "        12.,   9.,  13.,  11.,  14.,  21.,  15.,  22.,  16.,  20.,  25.,\n",
       "        17.,  19.,  18.,  24.,  23.,  28.,  29.,  27.,  47., 344.,  30.,\n",
       "        26.])"
      ]
     },
     "execution_count": 152,
     "metadata": {},
     "output_type": "execute_result"
    }
   ],
   "source": [
    "train['OBS_60_CNT_SOCIAL_CIRCLE'].unique()"
   ]
  },
  {
   "cell_type": "code",
   "execution_count": 153,
   "metadata": {},
   "outputs": [
    {
     "data": {
      "text/plain": [
       "1021"
      ]
     },
     "execution_count": 153,
     "metadata": {},
     "output_type": "execute_result"
    }
   ],
   "source": [
    "train['OBS_60_CNT_SOCIAL_CIRCLE'].isnull().sum()"
   ]
  },
  {
   "cell_type": "markdown",
   "metadata": {},
   "source": [
    "## 94) DEF_60_CNT_SOCIAL_CIRCLE"
   ]
  },
  {
   "cell_type": "code",
   "execution_count": 154,
   "metadata": {},
   "outputs": [
    {
     "data": {
      "text/plain": [
       "array([ 2.,  0.,  1., nan,  3.,  5.,  4.,  7., 24.,  6.])"
      ]
     },
     "execution_count": 154,
     "metadata": {},
     "output_type": "execute_result"
    }
   ],
   "source": [
    "train['DEF_60_CNT_SOCIAL_CIRCLE'].unique()"
   ]
  },
  {
   "cell_type": "code",
   "execution_count": 155,
   "metadata": {},
   "outputs": [
    {
     "data": {
      "text/plain": [
       "1021"
      ]
     },
     "execution_count": 155,
     "metadata": {},
     "output_type": "execute_result"
    }
   ],
   "source": [
    "train['DEF_60_CNT_SOCIAL_CIRCLE'].isnull().sum()"
   ]
  },
  {
   "cell_type": "markdown",
   "metadata": {},
   "source": [
    "## 95) DAYS_LAST_PHONE_CHANGE"
   ]
  },
  {
   "cell_type": "code",
   "execution_count": 156,
   "metadata": {},
   "outputs": [
    {
     "data": {
      "text/plain": [
       "array([-1134.,  -828.,  -815., ..., -3988., -3899., -3538.])"
      ]
     },
     "execution_count": 156,
     "metadata": {},
     "output_type": "execute_result"
    }
   ],
   "source": [
    "train['DAYS_LAST_PHONE_CHANGE'].unique()"
   ]
  },
  {
   "cell_type": "code",
   "execution_count": 157,
   "metadata": {},
   "outputs": [
    {
     "data": {
      "text/plain": [
       "1"
      ]
     },
     "execution_count": 157,
     "metadata": {},
     "output_type": "execute_result"
    }
   ],
   "source": [
    "train['DAYS_LAST_PHONE_CHANGE'].isnull().sum()"
   ]
  },
  {
   "cell_type": "code",
   "execution_count": 158,
   "metadata": {},
   "outputs": [
    {
     "data": {
      "text/plain": [
       "count    307510.000000\n",
       "mean       -962.858788\n",
       "std         826.808487\n",
       "min       -4292.000000\n",
       "25%       -1570.000000\n",
       "50%        -757.000000\n",
       "75%        -274.000000\n",
       "max           0.000000\n",
       "Name: DAYS_LAST_PHONE_CHANGE, dtype: float64"
      ]
     },
     "execution_count": 158,
     "metadata": {},
     "output_type": "execute_result"
    }
   ],
   "source": [
    "train['DAYS_LAST_PHONE_CHANGE'].describe()"
   ]
  },
  {
   "cell_type": "markdown",
   "metadata": {},
   "source": [
    "## 96 ~ 115) FLAG_DOCUMENT_2 ~ 21"
   ]
  },
  {
   "cell_type": "code",
   "execution_count": 169,
   "metadata": {},
   "outputs": [
    {
     "name": "stdout",
     "output_type": "stream",
     "text": [
      "[0 1]\n",
      "[1 0]\n",
      "[0 1]\n",
      "[0 1]\n",
      "[0 1]\n",
      "[0 1]\n",
      "[0 1]\n",
      "[0 1]\n",
      "[0 1]\n",
      "[0 1]\n",
      "[0 1]\n",
      "[0 1]\n",
      "[0 1]\n",
      "[0 1]\n",
      "[0 1]\n",
      "[0 1]\n",
      "[0 1]\n",
      "[0 1]\n",
      "[0 1]\n",
      "[0 1]\n"
     ]
    }
   ],
   "source": [
    "print(train['FLAG_DOCUMENT_2'].unique())\n",
    "print(train['FLAG_DOCUMENT_3'].unique())\n",
    "print(train['FLAG_DOCUMENT_4'].unique())\n",
    "print(train['FLAG_DOCUMENT_5'].unique())\n",
    "print(train['FLAG_DOCUMENT_6'].unique())\n",
    "print(train['FLAG_DOCUMENT_7'].unique())\n",
    "print(train['FLAG_DOCUMENT_8'].unique())\n",
    "print(train['FLAG_DOCUMENT_9'].unique())\n",
    "print(train['FLAG_DOCUMENT_10'].unique())\n",
    "print(train['FLAG_DOCUMENT_11'].unique())\n",
    "print(train['FLAG_DOCUMENT_12'].unique())\n",
    "print(train['FLAG_DOCUMENT_13'].unique())\n",
    "print(train['FLAG_DOCUMENT_14'].unique())\n",
    "print(train['FLAG_DOCUMENT_15'].unique())\n",
    "print(train['FLAG_DOCUMENT_16'].unique())\n",
    "print(train['FLAG_DOCUMENT_17'].unique())\n",
    "print(train['FLAG_DOCUMENT_18'].unique())\n",
    "print(train['FLAG_DOCUMENT_19'].unique())\n",
    "print(train['FLAG_DOCUMENT_20'].unique())\n",
    "print(train['FLAG_DOCUMENT_21'].unique())"
   ]
  },
  {
   "cell_type": "code",
   "execution_count": 170,
   "metadata": {},
   "outputs": [
    {
     "name": "stdout",
     "output_type": "stream",
     "text": [
      "0\n",
      "0\n",
      "0\n",
      "0\n",
      "0\n",
      "0\n",
      "0\n",
      "0\n",
      "0\n",
      "0\n",
      "0\n",
      "0\n",
      "0\n",
      "0\n",
      "0\n",
      "0\n",
      "0\n",
      "0\n",
      "0\n",
      "0\n"
     ]
    }
   ],
   "source": [
    "print(train['FLAG_DOCUMENT_2'].isnull().sum())\n",
    "print(train['FLAG_DOCUMENT_3'].isnull().sum())\n",
    "print(train['FLAG_DOCUMENT_4'].isnull().sum())\n",
    "print(train['FLAG_DOCUMENT_5'].isnull().sum())\n",
    "print(train['FLAG_DOCUMENT_6'].isnull().sum())\n",
    "print(train['FLAG_DOCUMENT_7'].isnull().sum())\n",
    "print(train['FLAG_DOCUMENT_8'].isnull().sum())\n",
    "print(train['FLAG_DOCUMENT_9'].isnull().sum())\n",
    "print(train['FLAG_DOCUMENT_10'].isnull().sum())\n",
    "print(train['FLAG_DOCUMENT_11'].isnull().sum())\n",
    "print(train['FLAG_DOCUMENT_12'].isnull().sum())\n",
    "print(train['FLAG_DOCUMENT_13'].isnull().sum())\n",
    "print(train['FLAG_DOCUMENT_14'].isnull().sum())\n",
    "print(train['FLAG_DOCUMENT_15'].isnull().sum())\n",
    "print(train['FLAG_DOCUMENT_16'].isnull().sum())\n",
    "print(train['FLAG_DOCUMENT_17'].isnull().sum())\n",
    "print(train['FLAG_DOCUMENT_18'].isnull().sum())\n",
    "print(train['FLAG_DOCUMENT_19'].isnull().sum())\n",
    "print(train['FLAG_DOCUMENT_20'].isnull().sum())\n",
    "print(train['FLAG_DOCUMENT_21'].isnull().sum())"
   ]
  },
  {
   "cell_type": "code",
   "execution_count": 171,
   "metadata": {},
   "outputs": [
    {
     "data": {
      "text/plain": [
       "Index(['SK_ID_CURR', 'TARGET', 'NAME_CONTRACT_TYPE', 'CODE_GENDER',\n",
       "       'FLAG_OWN_CAR', 'FLAG_OWN_REALTY', 'CNT_CHILDREN', 'AMT_INCOME_TOTAL',\n",
       "       'AMT_CREDIT', 'AMT_ANNUITY',\n",
       "       ...\n",
       "       'FLAG_DOCUMENT_18', 'FLAG_DOCUMENT_19', 'FLAG_DOCUMENT_20',\n",
       "       'FLAG_DOCUMENT_21', 'AMT_REQ_CREDIT_BUREAU_HOUR',\n",
       "       'AMT_REQ_CREDIT_BUREAU_DAY', 'AMT_REQ_CREDIT_BUREAU_WEEK',\n",
       "       'AMT_REQ_CREDIT_BUREAU_MON', 'AMT_REQ_CREDIT_BUREAU_QRT',\n",
       "       'AMT_REQ_CREDIT_BUREAU_YEAR'],\n",
       "      dtype='object', length=122)"
      ]
     },
     "execution_count": 171,
     "metadata": {},
     "output_type": "execute_result"
    }
   ],
   "source": [
    "train.columns"
   ]
  },
  {
   "cell_type": "markdown",
   "metadata": {},
   "source": [
    "## 116) AMT_REQ_CREDIT_BUREAU_HOUR"
   ]
  },
  {
   "cell_type": "code",
   "execution_count": 172,
   "metadata": {},
   "outputs": [
    {
     "data": {
      "text/plain": [
       "array([ 0., nan,  1.,  2.,  3.,  4.])"
      ]
     },
     "execution_count": 172,
     "metadata": {},
     "output_type": "execute_result"
    }
   ],
   "source": [
    "train['AMT_REQ_CREDIT_BUREAU_HOUR'].unique()"
   ]
  },
  {
   "cell_type": "code",
   "execution_count": 173,
   "metadata": {},
   "outputs": [
    {
     "data": {
      "text/plain": [
       "41519"
      ]
     },
     "execution_count": 173,
     "metadata": {},
     "output_type": "execute_result"
    }
   ],
   "source": [
    "train['AMT_REQ_CREDIT_BUREAU_HOUR'].isnull().sum()"
   ]
  },
  {
   "cell_type": "markdown",
   "metadata": {},
   "source": [
    "## 117) AMT_REQ_CREDIT_BUREAU_DAY"
   ]
  },
  {
   "cell_type": "code",
   "execution_count": 174,
   "metadata": {},
   "outputs": [
    {
     "data": {
      "text/plain": [
       "array([ 0., nan,  1.,  3.,  2.,  4.,  5.,  6.,  9.,  8.])"
      ]
     },
     "execution_count": 174,
     "metadata": {},
     "output_type": "execute_result"
    }
   ],
   "source": [
    "train['AMT_REQ_CREDIT_BUREAU_DAY'].unique()"
   ]
  },
  {
   "cell_type": "code",
   "execution_count": 175,
   "metadata": {},
   "outputs": [
    {
     "data": {
      "text/plain": [
       "41519"
      ]
     },
     "execution_count": 175,
     "metadata": {},
     "output_type": "execute_result"
    }
   ],
   "source": [
    "train['AMT_REQ_CREDIT_BUREAU_DAY'].isnull().sum()"
   ]
  },
  {
   "cell_type": "markdown",
   "metadata": {},
   "source": [
    "## 118) AMT_REQ_CREDIT_BUREAU_WEEK"
   ]
  },
  {
   "cell_type": "code",
   "execution_count": 176,
   "metadata": {},
   "outputs": [
    {
     "data": {
      "text/plain": [
       "array([ 0., nan,  1.,  3.,  2.,  4.,  5.,  6.,  8.,  7.])"
      ]
     },
     "execution_count": 176,
     "metadata": {},
     "output_type": "execute_result"
    }
   ],
   "source": [
    "train['AMT_REQ_CREDIT_BUREAU_WEEK'].unique()"
   ]
  },
  {
   "cell_type": "code",
   "execution_count": 177,
   "metadata": {},
   "outputs": [
    {
     "data": {
      "text/plain": [
       "41519"
      ]
     },
     "execution_count": 177,
     "metadata": {},
     "output_type": "execute_result"
    }
   ],
   "source": [
    "train['AMT_REQ_CREDIT_BUREAU_WEEK'].isnull().sum()"
   ]
  },
  {
   "cell_type": "markdown",
   "metadata": {},
   "source": [
    "## 119) AMT_REQ_CREDIT_BUREAU_MONTH"
   ]
  },
  {
   "cell_type": "code",
   "execution_count": 179,
   "metadata": {},
   "outputs": [
    {
     "data": {
      "text/plain": [
       "array([ 0., nan,  1.,  2.,  6.,  5.,  3.,  7.,  9.,  4., 11.,  8., 16.,\n",
       "       12., 14., 10., 13., 17., 24., 19., 15., 23., 18., 27., 22.])"
      ]
     },
     "execution_count": 179,
     "metadata": {},
     "output_type": "execute_result"
    }
   ],
   "source": [
    "train['AMT_REQ_CREDIT_BUREAU_MON'].unique()"
   ]
  },
  {
   "cell_type": "code",
   "execution_count": 180,
   "metadata": {},
   "outputs": [
    {
     "data": {
      "text/plain": [
       "41519"
      ]
     },
     "execution_count": 180,
     "metadata": {},
     "output_type": "execute_result"
    }
   ],
   "source": [
    "train['AMT_REQ_CREDIT_BUREAU_MON'].isnull().sum()"
   ]
  },
  {
   "cell_type": "markdown",
   "metadata": {},
   "source": [
    "## 120) AMT_REQ_CREDIT_BUREAU_QRT"
   ]
  },
  {
   "cell_type": "code",
   "execution_count": 181,
   "metadata": {},
   "outputs": [
    {
     "data": {
      "text/plain": [
       "array([  0.,  nan,   1.,   2.,   4.,   3.,   8.,   5.,   6.,   7., 261.,\n",
       "        19.])"
      ]
     },
     "execution_count": 181,
     "metadata": {},
     "output_type": "execute_result"
    }
   ],
   "source": [
    "train['AMT_REQ_CREDIT_BUREAU_QRT'].unique()"
   ]
  },
  {
   "cell_type": "code",
   "execution_count": 182,
   "metadata": {},
   "outputs": [
    {
     "data": {
      "text/plain": [
       "41519"
      ]
     },
     "execution_count": 182,
     "metadata": {},
     "output_type": "execute_result"
    }
   ],
   "source": [
    "train['AMT_REQ_CREDIT_BUREAU_QRT'].isnull().sum()"
   ]
  },
  {
   "cell_type": "markdown",
   "metadata": {},
   "source": [
    "## 121) AMT_REQ_CREDIT_BUREAU_YEAR"
   ]
  },
  {
   "cell_type": "code",
   "execution_count": 183,
   "metadata": {},
   "outputs": [
    {
     "data": {
      "text/plain": [
       "array([ 1.,  0., nan,  2.,  4.,  5.,  3.,  8.,  6.,  9.,  7., 10., 11.,\n",
       "       13., 16., 12., 25., 23., 15., 14., 22., 17., 19., 18., 21., 20.])"
      ]
     },
     "execution_count": 183,
     "metadata": {},
     "output_type": "execute_result"
    }
   ],
   "source": [
    "train['AMT_REQ_CREDIT_BUREAU_YEAR'].unique()"
   ]
  },
  {
   "cell_type": "code",
   "execution_count": 184,
   "metadata": {},
   "outputs": [
    {
     "data": {
      "text/plain": [
       "41519"
      ]
     },
     "execution_count": 184,
     "metadata": {},
     "output_type": "execute_result"
    }
   ],
   "source": [
    "train['AMT_REQ_CREDIT_BUREAU_YEAR'].isnull().sum()"
   ]
  },
  {
   "cell_type": "code",
   "execution_count": null,
   "metadata": {},
   "outputs": [],
   "source": []
  },
  {
   "cell_type": "markdown",
   "metadata": {},
   "source": [
    "# *2. Bureau.csv*"
   ]
  },
  {
   "cell_type": "code",
   "execution_count": 186,
   "metadata": {},
   "outputs": [
    {
     "data": {
      "text/plain": [
       "Index(['SK_ID_CURR', 'SK_ID_BUREAU', 'CREDIT_ACTIVE', 'CREDIT_CURRENCY',\n",
       "       'DAYS_CREDIT', 'CREDIT_DAY_OVERDUE', 'DAYS_CREDIT_ENDDATE',\n",
       "       'DAYS_ENDDATE_FACT', 'AMT_CREDIT_MAX_OVERDUE', 'CNT_CREDIT_PROLONG',\n",
       "       'AMT_CREDIT_SUM', 'AMT_CREDIT_SUM_DEBT', 'AMT_CREDIT_SUM_LIMIT',\n",
       "       'AMT_CREDIT_SUM_OVERDUE', 'CREDIT_TYPE', 'DAYS_CREDIT_UPDATE',\n",
       "       'AMT_ANNUITY'],\n",
       "      dtype='object')"
      ]
     },
     "execution_count": 186,
     "metadata": {},
     "output_type": "execute_result"
    }
   ],
   "source": [
    "bureau.columns"
   ]
  },
  {
   "cell_type": "code",
   "execution_count": 187,
   "metadata": {},
   "outputs": [
    {
     "data": {
      "text/plain": [
       "(1716428, 17)"
      ]
     },
     "execution_count": 187,
     "metadata": {},
     "output_type": "execute_result"
    }
   ],
   "source": [
    "bureau.shape"
   ]
  },
  {
   "cell_type": "markdown",
   "metadata": {},
   "source": [
    "## 1) SK_ID_CURR"
   ]
  },
  {
   "cell_type": "code",
   "execution_count": 191,
   "metadata": {},
   "outputs": [
    {
     "data": {
      "text/plain": [
       "array([215354, 162297, 402440, ..., 448157, 345866, 235871], dtype=int64)"
      ]
     },
     "execution_count": 191,
     "metadata": {},
     "output_type": "execute_result"
    }
   ],
   "source": [
    "bureau['SK_ID_CURR'].unique()"
   ]
  },
  {
   "cell_type": "code",
   "execution_count": 197,
   "metadata": {},
   "outputs": [
    {
     "data": {
      "text/plain": [
       "305811"
      ]
     },
     "execution_count": 197,
     "metadata": {},
     "output_type": "execute_result"
    }
   ],
   "source": [
    "bureau['SK_ID_CURR'].nunique()"
   ]
  },
  {
   "cell_type": "code",
   "execution_count": 198,
   "metadata": {},
   "outputs": [
    {
     "data": {
      "text/plain": [
       "307511"
      ]
     },
     "execution_count": 198,
     "metadata": {},
     "output_type": "execute_result"
    }
   ],
   "source": [
    "train['SK_ID_CURR'].nunique()"
   ]
  },
  {
   "cell_type": "code",
   "execution_count": 199,
   "metadata": {},
   "outputs": [
    {
     "data": {
      "text/plain": [
       "48744"
      ]
     },
     "execution_count": 199,
     "metadata": {},
     "output_type": "execute_result"
    }
   ],
   "source": [
    "test['SK_ID_CURR'].nunique()"
   ]
  },
  {
   "cell_type": "code",
   "execution_count": 208,
   "metadata": {},
   "outputs": [
    {
     "data": {
      "text/plain": [
       "263491"
      ]
     },
     "execution_count": 208,
     "metadata": {},
     "output_type": "execute_result"
    }
   ],
   "source": [
    "len(set(bureau['SK_ID_CURR']).intersection(train['SK_ID_CURR']))"
   ]
  },
  {
   "cell_type": "code",
   "execution_count": 207,
   "metadata": {},
   "outputs": [
    {
     "data": {
      "text/plain": [
       "42320"
      ]
     },
     "execution_count": 207,
     "metadata": {},
     "output_type": "execute_result"
    }
   ],
   "source": [
    "len(set(bureau['SK_ID_CURR']).intersection(test['SK_ID_CURR']))"
   ]
  },
  {
   "cell_type": "code",
   "execution_count": 209,
   "metadata": {},
   "outputs": [
    {
     "data": {
      "text/plain": [
       "305811"
      ]
     },
     "execution_count": 209,
     "metadata": {},
     "output_type": "execute_result"
    }
   ],
   "source": [
    "len(set(bureau['SK_ID_CURR']).intersection(train['SK_ID_CURR'])) + len(set(bureau['SK_ID_CURR']).intersection(test['SK_ID_CURR']))"
   ]
  },
  {
   "cell_type": "markdown",
   "metadata": {},
   "source": [
    "## 2) SK_ID_BUREAU"
   ]
  },
  {
   "cell_type": "code",
   "execution_count": 212,
   "metadata": {},
   "outputs": [
    {
     "data": {
      "text/plain": [
       "array([5714462, 5714463, 5714464, ..., 5057762, 5057770, 5057778],\n",
       "      dtype=int64)"
      ]
     },
     "execution_count": 212,
     "metadata": {},
     "output_type": "execute_result"
    }
   ],
   "source": [
    "bureau['SK_ID_BUREAU'].unique()"
   ]
  },
  {
   "cell_type": "markdown",
   "metadata": {},
   "source": [
    "## 3) CREDIT_ACTIVE"
   ]
  },
  {
   "cell_type": "code",
   "execution_count": 213,
   "metadata": {},
   "outputs": [
    {
     "data": {
      "text/plain": [
       "array(['Closed', 'Active', 'Sold', 'Bad debt'], dtype=object)"
      ]
     },
     "execution_count": 213,
     "metadata": {},
     "output_type": "execute_result"
    }
   ],
   "source": [
    "bureau['CREDIT_ACTIVE'].unique()"
   ]
  },
  {
   "cell_type": "code",
   "execution_count": 214,
   "metadata": {},
   "outputs": [
    {
     "data": {
      "text/plain": [
       "count     1716428\n",
       "unique          4\n",
       "top        Closed\n",
       "freq      1079273\n",
       "Name: CREDIT_ACTIVE, dtype: object"
      ]
     },
     "execution_count": 214,
     "metadata": {},
     "output_type": "execute_result"
    }
   ],
   "source": [
    "bureau['CREDIT_ACTIVE'].describe()"
   ]
  },
  {
   "cell_type": "code",
   "execution_count": 4,
   "metadata": {},
   "outputs": [
    {
     "name": "stdout",
     "output_type": "stream",
     "text": [
      "count     1079273\n",
      "unique          1\n",
      "top        Closed\n",
      "freq      1079273\n",
      "Name: CREDIT_ACTIVE, dtype: object\n",
      "count     630607\n",
      "unique         1\n",
      "top       Active\n",
      "freq      630607\n",
      "Name: CREDIT_ACTIVE, dtype: object\n",
      "count     6527\n",
      "unique       1\n",
      "top       Sold\n",
      "freq      6527\n",
      "Name: CREDIT_ACTIVE, dtype: object\n",
      "count           21\n",
      "unique           1\n",
      "top       Bad debt\n",
      "freq            21\n",
      "Name: CREDIT_ACTIVE, dtype: object\n"
     ]
    }
   ],
   "source": [
    "print(bureau['CREDIT_ACTIVE'][bureau['CREDIT_ACTIVE'] == 'Closed'].describe())\n",
    "print(bureau['CREDIT_ACTIVE'][bureau['CREDIT_ACTIVE'] == 'Active'].describe())\n",
    "print(bureau['CREDIT_ACTIVE'][bureau['CREDIT_ACTIVE'] == 'Sold'].describe())\n",
    "print(bureau['CREDIT_ACTIVE'][bureau['CREDIT_ACTIVE'] == 'Bad debt'].describe())"
   ]
  },
  {
   "cell_type": "markdown",
   "metadata": {},
   "source": [
    "## 4) CREDIT_CURRENCY"
   ]
  },
  {
   "cell_type": "code",
   "execution_count": 5,
   "metadata": {},
   "outputs": [
    {
     "data": {
      "text/plain": [
       "array(['currency 1', 'currency 2', 'currency 4', 'currency 3'],\n",
       "      dtype=object)"
      ]
     },
     "execution_count": 5,
     "metadata": {},
     "output_type": "execute_result"
    }
   ],
   "source": [
    "bureau['CREDIT_CURRENCY'].unique()"
   ]
  },
  {
   "cell_type": "code",
   "execution_count": 7,
   "metadata": {},
   "outputs": [
    {
     "name": "stdout",
     "output_type": "stream",
     "text": [
      "count           1224\n",
      "unique             1\n",
      "top       currency 2\n",
      "freq            1224\n",
      "Name: CREDIT_CURRENCY, dtype: object\n",
      "count            174\n",
      "unique             1\n",
      "top       currency 3\n",
      "freq             174\n",
      "Name: CREDIT_CURRENCY, dtype: object\n",
      "count             10\n",
      "unique             1\n",
      "top       currency 4\n",
      "freq              10\n",
      "Name: CREDIT_CURRENCY, dtype: object\n"
     ]
    }
   ],
   "source": [
    "### print(bureau['CREDIT_CURRENCY'][bureau['CREDIT_CURRENCY'] == 'currency 1'].describe())\n",
    "print(bureau['CREDIT_CURRENCY'][bureau['CREDIT_CURRENCY'] == 'currency 2'].describe())\n",
    "print(bureau['CREDIT_CURRENCY'][bureau['CREDIT_CURRENCY'] == 'currency 3'].describe())\n",
    "print(bureau['CREDIT_CURRENCY'][bureau['CREDIT_CURRENCY'] == 'currency 4'].describe())"
   ]
  },
  {
   "cell_type": "markdown",
   "metadata": {},
   "source": [
    "## 5) DAYS_CREDIT"
   ]
  },
  {
   "cell_type": "code",
   "execution_count": 8,
   "metadata": {},
   "outputs": [
    {
     "data": {
      "text/plain": [
       "array([-497, -208, -203, ...,    0,   -3,   -1], dtype=int64)"
      ]
     },
     "execution_count": 8,
     "metadata": {},
     "output_type": "execute_result"
    }
   ],
   "source": [
    "bureau['DAYS_CREDIT'].unique()"
   ]
  },
  {
   "cell_type": "markdown",
   "metadata": {},
   "source": [
    "## 6) CREDIT_DAY_OVERDUE"
   ]
  },
  {
   "cell_type": "code",
   "execution_count": 9,
   "metadata": {
    "scrolled": true
   },
   "outputs": [
    {
     "data": {
      "text/plain": [
       "array([   0, 2603,    6,   30, 2156,  496,  186, 2264,   41,    8,   71,\n",
       "         13,  252, 1201,   12,   38, 1777,  150,   18,   37,   64, 2050,\n",
       "          9,    4,   29,   22,   49, 1930,   34,  951,  936,  664,   45,\n",
       "       2625,  837,   21,   15,   31, 1715,   19,   67,    7,   26,   23,\n",
       "         48,   46,   73,   90, 1127,   53,   33, 1572,   39, 2582,   14,\n",
       "         25,   10,   50,   17,  193,   40,   20,   28,  123,  138,  700,\n",
       "        122, 1504,   32,  670,   75,  140,   24,  277, 2019,  161,  962,\n",
       "        187,   58,  106,  634,   83,  120,   60,   93, 1694,  227,   44,\n",
       "        344, 2085, 1248,  124, 1651, 2541, 1541,  642,  745,  163,  234,\n",
       "       1472,  688, 2455,  614,  319, 2187,   68,  831,  139,  283,  180,\n",
       "         47,  164,  174, 1604, 1326, 2149,   36,   62,  753,  374, 1573,\n",
       "       1562, 2400,   35,  860,   11,  776,  520,   77, 1892, 1786,   80,\n",
       "       2310, 2383,  136,  264,  131,    5, 2571, 1579,  198, 2534, 2292,\n",
       "         63,   72, 2238, 1475, 2614,  107,    3, 1195,  990, 1430,  242,\n",
       "        249,   16,  648,  659,  100, 2210, 2249,   57,  672, 2765,   52,\n",
       "       1899,  676,   43,   27,  288,   69, 1222, 2246,  108,  149, 1087,\n",
       "        212,  256,  192,  211, 2476,  144,  141,  650,  110,  372,  948,\n",
       "        651, 1674, 2188,   76, 2620,   82,  117, 1428, 2481,  104,  216,\n",
       "         91,  618,  635, 2133, 1409,  226, 1903, 2592,  338,  155, 2041,\n",
       "         42,   54,  143, 1632,  625,  132,  225,  890,  165,  241, 1747,\n",
       "         78,  719, 1760,  152, 1714,  363, 1406, 1032, 1307,   66,  477,\n",
       "       1058,   88,  621, 2463,   81, 1501,  669, 1727,  102,   84,  103,\n",
       "        418,  586, 2364, 2693, 1272, 2524, 2030, 1729, 2069,  171, 1417,\n",
       "       2527,  668, 2129,    2, 2537,  175,  199,  356,   56, 1761, 1704,\n",
       "        433,   61,  209,  652, 1769, 1455,  893,  183, 1142, 1172, 1695,\n",
       "        126, 1319,  817, 1077, 1862, 1601, 1482, 1018, 2349, 2312, 1100,\n",
       "         99, 1620,   98,   55,   59, 2442,  646, 2499,  865, 2234,   51,\n",
       "       2331, 1150, 1179,   79, 1072,  819,  480, 2384,   85,  895, 1062,\n",
       "        245, 1554,  127, 1796, 1506,    1,  114, 2141,   86, 2195,  237,\n",
       "        592,  388, 2640, 2610, 2282, 1982,  397, 1118,  458, 1097,  159,\n",
       "       2544,  952, 1973,   97, 1591, 1650,  653, 1678,  172, 1529, 2586,\n",
       "        612,  879,  101, 1240, 1038, 1587,  157, 1381, 1088,  691, 2602,\n",
       "        345,  748, 1881, 1474,  986,  208, 1000,  639, 1403,  640,  328,\n",
       "       2270,   65,  128,  276, 2078,  846,  907,  632, 1452, 2638,  686,\n",
       "       1036,   74, 1244,  552, 1774, 1763, 2700,  870,  204, 2456,  177,\n",
       "       2580,  610,  638,   87,  210,  943, 1927, 2184, 2165,  671, 1733,\n",
       "       2685, 2243, 2585, 2466, 2254, 1590,  195, 2397, 2595,   94,  677,\n",
       "        666,  105,  235,  366,  273,  142, 2770, 2679, 2379,  445,  724,\n",
       "       2121, 1921, 1814,  221,  403,  243, 2137,  296, 1011, 1637,  991,\n",
       "       1829, 1162, 1684, 1857,  364, 2317,  334,  285,  588,  649,  224,\n",
       "       1499, 1680,  689, 1512, 2644,  981, 1997,  213, 1826, 2542, 1570,\n",
       "        219,  244,  611, 1445,  188,  278,  707, 2193,  179, 2299, 1919,\n",
       "       2092, 1770, 2599, 2340,  166, 1275, 1540, 1469, 2354, 1671,  169,\n",
       "       2348, 1233,  752,  160,  493, 1047, 1845, 1206,  738, 1943, 2347,\n",
       "       2473,  718, 2629, 2134,  872, 2168, 2080,  268, 2781,   95,  547,\n",
       "       1835,  115,   70, 2598,  730, 1681, 2703, 2324, 2289,  190, 2028,\n",
       "       1618,   89, 2581,  153, 1764, 2609, 2395, 2529, 2652,  135,  414,\n",
       "        206,  953,  605, 2108, 1719, 2565, 2623,  147,  932, 2754, 1232,\n",
       "       1178, 2138, 1199, 2574,   92,  238, 1001,  312,  214, 1468,  934,\n",
       "       2657,  337, 2279, 1074,  519, 1075,  641,  473,  341,  321, 1051,\n",
       "       2286, 1226, 1338, 2275,  960, 1061,  158,  373,  673, 2391, 2221,\n",
       "        429, 2018,  130, 1993, 2034, 2358,  112,  326, 2484, 2616, 1947,\n",
       "       1742, 1631, 1629,  544, 1463, 1073, 2048, 1049,  220,  643,  615,\n",
       "        154,  423, 2217, 1682, 1131, 1086, 2553,  606, 2071, 2684,  761,\n",
       "       1009,  358, 2440,  476, 2513,  232,  630, 1055,  133, 1667,  113,\n",
       "       1875,  441,  768,  181, 1397, 2332, 1737, 1290,  148, 1635,  680,\n",
       "        714, 1325, 1521, 1522, 2059, 1724, 1313, 1740, 2277, 1352,  994,\n",
       "       1104, 2776, 2211, 1042, 2325, 2600,  426, 2552,  877, 1670, 1711,\n",
       "        733,  119, 2656, 2360, 1235, 1093, 1031, 1197, 2290,  920, 1887,\n",
       "       1530, 2117, 2591,  927,  265,  737, 2464, 1644,  685,  723, 2677,\n",
       "       2588,  647,  631, 1350,  325,  550, 2212,  756, 1939, 1167,  362,\n",
       "        251, 2058,  891,  781, 1502, 1205,  931,  944,  121,  525, 1116,\n",
       "       1068,  747,  472, 1285,  452,  619, 2164,  368, 1524, 2214, 1907,\n",
       "       1759,  280, 1274,  969, 1363, 2335,  303, 1936, 1247, 1552, 1177,\n",
       "        938,  261,  910,  170,  996, 1252,  827, 1736,  679,  982,  731,\n",
       "        720,  674,  919, 1388,  717, 2029, 2631, 2502, 2298,  830, 1638,\n",
       "        146, 2649,  915,  247,  806, 1634, 2252, 1200, 1218, 1408,  413,\n",
       "       2295, 2667,  537,  616, 1364,  422, 2353, 2066,  599,  656, 2474,\n",
       "       2637,  437, 2643, 2201, 2175,  289, 1189, 2661,  109, 2338, 1776,\n",
       "        348, 2102, 2053,  314,  974,  985,  292, 2099,  810, 1813, 1334,\n",
       "       1095,  137, 1489,  125, 1253, 1548,  502,  848, 2258, 1720, 1804,\n",
       "       1299,  455, 1194,  189,  929, 1706,  584,  942, 1420, 1213,  134,\n",
       "        290,  269, 2272,  657, 1766,  217, 2128,  408, 1822, 2627,  593,\n",
       "        129,  231,  178, 1020,  191, 2577,  485, 1961,  406, 1503, 1703,\n",
       "       2057, 2641,  795, 1901, 2093, 1752,  320,  317, 1255, 1523, 2228,\n",
       "        933, 2766, 1612,  995,  162, 1843,  694, 2176,  168, 1648, 2606,\n",
       "       1209, 1505,  514, 1797,  116, 2546, 2146,  504, 1755, 1692, 1722,\n",
       "        200,   96, 2157,  531, 1962, 1480,  743, 2688, 1588, 1402,  284,\n",
       "        440,  678, 2280, 1171,  629,  467, 1135,  786,  976, 1393, 2545,\n",
       "       1161, 2394, 1404,  176, 2220, 1183, 2497, 1972,  873,  299,  787,\n",
       "       1156,  118, 1739, 1060, 2426, 2604, 2792,  883, 2355, 2061, 1584,\n",
       "        465, 1556, 2301,  275, 1859,  184, 1546,  687,  439, 2634, 2540,\n",
       "        291, 1496, 1514, 1193, 2639, 2608, 2651, 1754, 1918, 1858, 1298,\n",
       "        554,  876,  323, 2528, 2681, 2496, 2109,  324,  765, 2256, 1278,\n",
       "       2284, 2536, 1693, 1398, 1912,  826, 2107,  167,  515,  407, 1863,\n",
       "        460, 1158,  727, 1610, 2204, 2654, 1931], dtype=int64)"
      ]
     },
     "execution_count": 9,
     "metadata": {},
     "output_type": "execute_result"
    }
   ],
   "source": [
    "bureau['CREDIT_DAY_OVERDUE'].unique()"
   ]
  },
  {
   "cell_type": "code",
   "execution_count": 10,
   "metadata": {},
   "outputs": [
    {
     "data": {
      "text/plain": [
       "count    1.716428e+06\n",
       "mean     8.181666e-01\n",
       "std      3.654443e+01\n",
       "min      0.000000e+00\n",
       "25%      0.000000e+00\n",
       "50%      0.000000e+00\n",
       "75%      0.000000e+00\n",
       "max      2.792000e+03\n",
       "Name: CREDIT_DAY_OVERDUE, dtype: float64"
      ]
     },
     "execution_count": 10,
     "metadata": {},
     "output_type": "execute_result"
    }
   ],
   "source": [
    "bureau['CREDIT_DAY_OVERDUE'].describe()"
   ]
  },
  {
   "cell_type": "code",
   "execution_count": 11,
   "metadata": {},
   "outputs": [
    {
     "data": {
      "text/plain": [
       "0"
      ]
     },
     "execution_count": 11,
     "metadata": {},
     "output_type": "execute_result"
    }
   ],
   "source": [
    "bureau['CREDIT_DAY_OVERDUE'].isnull().sum()"
   ]
  },
  {
   "cell_type": "markdown",
   "metadata": {},
   "source": [
    "## 7) DAYS_CREDIT_ENDDATE"
   ]
  },
  {
   "cell_type": "code",
   "execution_count": 14,
   "metadata": {},
   "outputs": [
    {
     "data": {
      "text/plain": [
       "array([-153., 1075.,  528., ..., 5922., 3835., 5650.])"
      ]
     },
     "execution_count": 14,
     "metadata": {},
     "output_type": "execute_result"
    }
   ],
   "source": [
    "bureau['DAYS_CREDIT_ENDDATE'].unique()"
   ]
  },
  {
   "cell_type": "code",
   "execution_count": 15,
   "metadata": {},
   "outputs": [
    {
     "data": {
      "text/plain": [
       "105553"
      ]
     },
     "execution_count": 15,
     "metadata": {},
     "output_type": "execute_result"
    }
   ],
   "source": [
    "bureau['DAYS_CREDIT_ENDDATE'].isnull().sum()"
   ]
  },
  {
   "cell_type": "markdown",
   "metadata": {},
   "source": [
    "## 8) DAYS_ENDDATE_FACT"
   ]
  },
  {
   "cell_type": "code",
   "execution_count": 16,
   "metadata": {},
   "outputs": [
    {
     "data": {
      "text/plain": [
       "array([ -153.,    nan, -1710., ..., -2919., -3042., -2891.])"
      ]
     },
     "execution_count": 16,
     "metadata": {},
     "output_type": "execute_result"
    }
   ],
   "source": [
    "bureau['DAYS_ENDDATE_FACT'].unique()"
   ]
  },
  {
   "cell_type": "code",
   "execution_count": 17,
   "metadata": {},
   "outputs": [
    {
     "data": {
      "text/plain": [
       "633653"
      ]
     },
     "execution_count": 17,
     "metadata": {},
     "output_type": "execute_result"
    }
   ],
   "source": [
    "bureau['DAYS_ENDDATE_FACT'].isnull().sum()"
   ]
  },
  {
   "cell_type": "markdown",
   "metadata": {},
   "source": [
    "## 9) AMT_CREDIT_MAX_OVERDUE"
   ]
  },
  {
   "cell_type": "code",
   "execution_count": 18,
   "metadata": {},
   "outputs": [
    {
     "data": {
      "text/plain": [
       "array([      nan, 77674.5  ,     0.   , ...,   173.07 , 11317.59 ,\n",
       "        5693.625])"
      ]
     },
     "execution_count": 18,
     "metadata": {},
     "output_type": "execute_result"
    }
   ],
   "source": [
    "bureau['AMT_CREDIT_MAX_OVERDUE'].unique()"
   ]
  },
  {
   "cell_type": "code",
   "execution_count": 19,
   "metadata": {},
   "outputs": [
    {
     "data": {
      "text/plain": [
       "1124488"
      ]
     },
     "execution_count": 19,
     "metadata": {},
     "output_type": "execute_result"
    }
   ],
   "source": [
    "bureau['AMT_CREDIT_MAX_OVERDUE'].isnull().sum()"
   ]
  },
  {
   "cell_type": "code",
   "execution_count": 22,
   "metadata": {},
   "outputs": [
    {
     "data": {
      "text/plain": [
       "115987185.0"
      ]
     },
     "execution_count": 22,
     "metadata": {},
     "output_type": "execute_result"
    }
   ],
   "source": [
    "bureau['AMT_CREDIT_MAX_OVERDUE'].max()"
   ]
  },
  {
   "cell_type": "markdown",
   "metadata": {},
   "source": [
    "## 10) CNT_CREDIT_PROLONG"
   ]
  },
  {
   "cell_type": "code",
   "execution_count": 23,
   "metadata": {},
   "outputs": [
    {
     "data": {
      "text/plain": [
       "array([0, 2, 1, 4, 3, 5, 9, 8, 6, 7], dtype=int64)"
      ]
     },
     "execution_count": 23,
     "metadata": {},
     "output_type": "execute_result"
    }
   ],
   "source": [
    "bureau['CNT_CREDIT_PROLONG'].unique()"
   ]
  },
  {
   "cell_type": "code",
   "execution_count": 24,
   "metadata": {},
   "outputs": [
    {
     "data": {
      "text/plain": [
       "0"
      ]
     },
     "execution_count": 24,
     "metadata": {},
     "output_type": "execute_result"
    }
   ],
   "source": [
    "bureau['CNT_CREDIT_PROLONG'].isnull().sum()"
   ]
  },
  {
   "cell_type": "markdown",
   "metadata": {},
   "source": [
    "## 11) AMT_CREDIT_SUM"
   ]
  },
  {
   "cell_type": "code",
   "execution_count": 25,
   "metadata": {},
   "outputs": [
    {
     "data": {
      "text/plain": [
       "array([ 91323.  , 225000.  , 464323.5 , ...,  77861.43, 112204.35,\n",
       "       108765.72])"
      ]
     },
     "execution_count": 25,
     "metadata": {},
     "output_type": "execute_result"
    }
   ],
   "source": [
    "bureau['AMT_CREDIT_SUM'].unique()"
   ]
  },
  {
   "cell_type": "code",
   "execution_count": 26,
   "metadata": {},
   "outputs": [
    {
     "name": "stdout",
     "output_type": "stream",
     "text": [
      "585000000.0\n",
      "0.0\n"
     ]
    }
   ],
   "source": [
    "print(bureau['AMT_CREDIT_SUM'].max())\n",
    "print(bureau['AMT_CREDIT_SUM'].min())"
   ]
  },
  {
   "cell_type": "code",
   "execution_count": 27,
   "metadata": {},
   "outputs": [
    {
     "data": {
      "text/plain": [
       "13"
      ]
     },
     "execution_count": 27,
     "metadata": {},
     "output_type": "execute_result"
    }
   ],
   "source": [
    "bureau['AMT_CREDIT_SUM'].isnull().sum()"
   ]
  },
  {
   "cell_type": "markdown",
   "metadata": {},
   "source": [
    "## 12. AMT_CREDIT_SUM_DEBT"
   ]
  },
  {
   "cell_type": "code",
   "execution_count": 29,
   "metadata": {},
   "outputs": [
    {
     "data": {
      "text/plain": [
       "array([      0.   ,  171342.   ,         nan, ...,  830860.875,\n",
       "        146502.   , 1092226.5  ])"
      ]
     },
     "execution_count": 29,
     "metadata": {},
     "output_type": "execute_result"
    }
   ],
   "source": [
    "bureau['AMT_CREDIT_SUM_DEBT'].unique()"
   ]
  },
  {
   "cell_type": "code",
   "execution_count": 30,
   "metadata": {},
   "outputs": [
    {
     "data": {
      "text/plain": [
       "170100000.0"
      ]
     },
     "execution_count": 30,
     "metadata": {},
     "output_type": "execute_result"
    }
   ],
   "source": [
    "bureau['AMT_CREDIT_SUM_DEBT'].max()"
   ]
  },
  {
   "cell_type": "code",
   "execution_count": 31,
   "metadata": {},
   "outputs": [
    {
     "data": {
      "text/plain": [
       "257669"
      ]
     },
     "execution_count": 31,
     "metadata": {},
     "output_type": "execute_result"
    }
   ],
   "source": [
    "bureau['AMT_CREDIT_SUM_DEBT'].isnull().sum()"
   ]
  },
  {
   "cell_type": "markdown",
   "metadata": {},
   "source": [
    "## 13) AMT_CREDIT_SUM_LIMIT"
   ]
  },
  {
   "cell_type": "code",
   "execution_count": 32,
   "metadata": {},
   "outputs": [
    {
     "data": {
      "text/plain": [
       "array([       nan, 108982.62 ,      0.   , ...,  10398.15 ,  10617.75 ,\n",
       "       135035.865])"
      ]
     },
     "execution_count": 32,
     "metadata": {},
     "output_type": "execute_result"
    }
   ],
   "source": [
    "bureau['AMT_CREDIT_SUM_LIMIT'].unique()"
   ]
  },
  {
   "cell_type": "code",
   "execution_count": 33,
   "metadata": {},
   "outputs": [
    {
     "data": {
      "text/plain": [
       "591780"
      ]
     },
     "execution_count": 33,
     "metadata": {},
     "output_type": "execute_result"
    }
   ],
   "source": [
    "bureau['AMT_CREDIT_SUM_LIMIT'].isnull().sum()"
   ]
  },
  {
   "cell_type": "code",
   "execution_count": 34,
   "metadata": {},
   "outputs": [
    {
     "data": {
      "text/plain": [
       "4705600.32"
      ]
     },
     "execution_count": 34,
     "metadata": {},
     "output_type": "execute_result"
    }
   ],
   "source": [
    "bureau['AMT_CREDIT_SUM_LIMIT'].max()"
   ]
  },
  {
   "cell_type": "markdown",
   "metadata": {},
   "source": [
    "## 14) AMT_CREDIT_SUM_OVERDUE"
   ]
  },
  {
   "cell_type": "code",
   "execution_count": 35,
   "metadata": {},
   "outputs": [
    {
     "data": {
      "text/plain": [
       "array([    0.   ,   231.525,   288.   , ...,   804.735, 22581.   ,\n",
       "         352.62 ])"
      ]
     },
     "execution_count": 35,
     "metadata": {},
     "output_type": "execute_result"
    }
   ],
   "source": [
    "bureau['AMT_CREDIT_SUM_OVERDUE'].unique()"
   ]
  },
  {
   "cell_type": "code",
   "execution_count": 36,
   "metadata": {},
   "outputs": [
    {
     "data": {
      "text/plain": [
       "0"
      ]
     },
     "execution_count": 36,
     "metadata": {},
     "output_type": "execute_result"
    }
   ],
   "source": [
    "bureau['AMT_CREDIT_SUM_OVERDUE'].isnull().sum()"
   ]
  },
  {
   "cell_type": "code",
   "execution_count": 37,
   "metadata": {},
   "outputs": [
    {
     "data": {
      "text/plain": [
       "3756681.0"
      ]
     },
     "execution_count": 37,
     "metadata": {},
     "output_type": "execute_result"
    }
   ],
   "source": [
    "bureau['AMT_CREDIT_SUM_OVERDUE'].max()"
   ]
  },
  {
   "cell_type": "markdown",
   "metadata": {},
   "source": [
    "## 15) CREDIT_TYPE"
   ]
  },
  {
   "cell_type": "code",
   "execution_count": 38,
   "metadata": {},
   "outputs": [
    {
     "data": {
      "text/plain": [
       "array(['Consumer credit', 'Credit card', 'Mortgage', 'Car loan',\n",
       "       'Microloan', 'Loan for working capital replenishment',\n",
       "       'Loan for business development', 'Real estate loan',\n",
       "       'Unknown type of loan', 'Another type of loan',\n",
       "       'Cash loan (non-earmarked)', 'Loan for the purchase of equipment',\n",
       "       'Mobile operator loan', 'Interbank credit',\n",
       "       'Loan for purchase of shares (margin lending)'], dtype=object)"
      ]
     },
     "execution_count": 38,
     "metadata": {},
     "output_type": "execute_result"
    }
   ],
   "source": [
    "bureau['CREDIT_TYPE'].unique()"
   ]
  },
  {
   "cell_type": "code",
   "execution_count": 39,
   "metadata": {},
   "outputs": [
    {
     "data": {
      "text/plain": [
       "0"
      ]
     },
     "execution_count": 39,
     "metadata": {},
     "output_type": "execute_result"
    }
   ],
   "source": [
    "bureau['CREDIT_TYPE'].isnull().sum()"
   ]
  },
  {
   "cell_type": "markdown",
   "metadata": {},
   "source": [
    "## 16) DAYS_CREDIT_UPDATE"
   ]
  },
  {
   "cell_type": "code",
   "execution_count": 40,
   "metadata": {},
   "outputs": [
    {
     "data": {
      "text/plain": [
       "array([  -131,    -20,    -16, ...,  -2901, -41918,  -2844], dtype=int64)"
      ]
     },
     "execution_count": 40,
     "metadata": {},
     "output_type": "execute_result"
    }
   ],
   "source": [
    "bureau['DAYS_CREDIT_UPDATE'].unique()"
   ]
  },
  {
   "cell_type": "code",
   "execution_count": 41,
   "metadata": {},
   "outputs": [
    {
     "data": {
      "text/plain": [
       "0"
      ]
     },
     "execution_count": 41,
     "metadata": {},
     "output_type": "execute_result"
    }
   ],
   "source": [
    "bureau['DAYS_CREDIT_UPDATE'].isnull().sum()"
   ]
  },
  {
   "cell_type": "markdown",
   "metadata": {},
   "source": [
    "## 17) AMT_ANNUITY"
   ]
  },
  {
   "cell_type": "code",
   "execution_count": 42,
   "metadata": {},
   "outputs": [
    {
     "data": {
      "text/plain": [
       "array([      nan,     0.   ,  2691.   , ...,  7681.95 ,  4482.585,\n",
       "       24351.435])"
      ]
     },
     "execution_count": 42,
     "metadata": {},
     "output_type": "execute_result"
    }
   ],
   "source": [
    "bureau['AMT_ANNUITY'].unique()"
   ]
  },
  {
   "cell_type": "code",
   "execution_count": 43,
   "metadata": {},
   "outputs": [
    {
     "data": {
      "text/plain": [
       "118453423.5"
      ]
     },
     "execution_count": 43,
     "metadata": {},
     "output_type": "execute_result"
    }
   ],
   "source": [
    "bureau['AMT_ANNUITY'].max()"
   ]
  },
  {
   "cell_type": "code",
   "execution_count": 44,
   "metadata": {},
   "outputs": [
    {
     "data": {
      "text/plain": [
       "1226791"
      ]
     },
     "execution_count": 44,
     "metadata": {},
     "output_type": "execute_result"
    }
   ],
   "source": [
    "bureau['AMT_ANNUITY'].isnull().sum()"
   ]
  },
  {
   "cell_type": "code",
   "execution_count": null,
   "metadata": {},
   "outputs": [],
   "source": []
  },
  {
   "cell_type": "markdown",
   "metadata": {},
   "source": [
    "# *3. Bureau_balance.csv*"
   ]
  },
  {
   "cell_type": "code",
   "execution_count": 46,
   "metadata": {},
   "outputs": [
    {
     "data": {
      "text/plain": [
       "(27299925, 3)"
      ]
     },
     "execution_count": 46,
     "metadata": {},
     "output_type": "execute_result"
    }
   ],
   "source": [
    "bureau_balance.shape"
   ]
  },
  {
   "cell_type": "code",
   "execution_count": 47,
   "metadata": {},
   "outputs": [
    {
     "data": {
      "text/plain": [
       "Index(['SK_ID_BUREAU', 'MONTHS_BALANCE', 'STATUS'], dtype='object')"
      ]
     },
     "execution_count": 47,
     "metadata": {},
     "output_type": "execute_result"
    }
   ],
   "source": [
    "bureau_balance.columns"
   ]
  },
  {
   "cell_type": "markdown",
   "metadata": {},
   "source": [
    "## 1) SK_ID_BUREAU"
   ]
  },
  {
   "cell_type": "code",
   "execution_count": 48,
   "metadata": {},
   "outputs": [
    {
     "data": {
      "text/plain": [
       "array([5715448, 5715449, 5715451, ..., 5041172, 5041332, 5041336],\n",
       "      dtype=int64)"
      ]
     },
     "execution_count": 48,
     "metadata": {},
     "output_type": "execute_result"
    }
   ],
   "source": [
    "bureau_balance['SK_ID_BUREAU'].unique()"
   ]
  },
  {
   "cell_type": "code",
   "execution_count": 49,
   "metadata": {},
   "outputs": [
    {
     "data": {
      "text/plain": [
       "0"
      ]
     },
     "execution_count": 49,
     "metadata": {},
     "output_type": "execute_result"
    }
   ],
   "source": [
    "bureau_balance['SK_ID_BUREAU'].isnull().sum()"
   ]
  },
  {
   "cell_type": "markdown",
   "metadata": {},
   "source": [
    "## 2) MONTHS_BALANCE"
   ]
  },
  {
   "cell_type": "code",
   "execution_count": 51,
   "metadata": {},
   "outputs": [
    {
     "data": {
      "text/plain": [
       "array([  0,  -1,  -2,  -3,  -4,  -5,  -6,  -7,  -8,  -9, -10, -11, -12,\n",
       "       -13, -14, -15, -16, -17, -18, -19, -20, -21, -22, -23, -24, -25,\n",
       "       -26, -27, -28, -29, -30, -31, -32, -33, -34, -35, -36, -37, -38,\n",
       "       -39, -40, -41, -42, -43, -44, -45, -46, -47, -48, -49, -50, -51,\n",
       "       -52, -53, -54, -55, -56, -57, -58, -59, -60, -61, -62, -63, -64,\n",
       "       -65, -66, -67, -68, -69, -70, -71, -72, -73, -74, -75, -76, -77,\n",
       "       -78, -79, -80, -81, -82, -83, -84, -85, -86, -87, -88, -89, -90,\n",
       "       -91, -92, -93, -94, -95, -96], dtype=int64)"
      ]
     },
     "execution_count": 51,
     "metadata": {},
     "output_type": "execute_result"
    }
   ],
   "source": [
    "bureau_balance['MONTHS_BALANCE'].unique()"
   ]
  },
  {
   "cell_type": "code",
   "execution_count": 52,
   "metadata": {},
   "outputs": [
    {
     "data": {
      "text/plain": [
       "0"
      ]
     },
     "execution_count": 52,
     "metadata": {},
     "output_type": "execute_result"
    }
   ],
   "source": [
    "bureau_balance['MONTHS_BALANCE'].isnull().sum()"
   ]
  },
  {
   "cell_type": "code",
   "execution_count": 53,
   "metadata": {},
   "outputs": [
    {
     "data": {
      "text/plain": [
       "count    2.729992e+07\n",
       "mean    -3.074169e+01\n",
       "std      2.386451e+01\n",
       "min     -9.600000e+01\n",
       "25%     -4.600000e+01\n",
       "50%     -2.500000e+01\n",
       "75%     -1.100000e+01\n",
       "max      0.000000e+00\n",
       "Name: MONTHS_BALANCE, dtype: float64"
      ]
     },
     "execution_count": 53,
     "metadata": {},
     "output_type": "execute_result"
    }
   ],
   "source": [
    "bureau_balance['MONTHS_BALANCE'].describe()"
   ]
  },
  {
   "cell_type": "markdown",
   "metadata": {},
   "source": [
    "## 3) STATUS"
   ]
  },
  {
   "cell_type": "code",
   "execution_count": 54,
   "metadata": {},
   "outputs": [
    {
     "data": {
      "text/plain": [
       "array(['C', '0', 'X', '1', '2', '3', '5', '4'], dtype=object)"
      ]
     },
     "execution_count": 54,
     "metadata": {},
     "output_type": "execute_result"
    }
   ],
   "source": [
    "bureau_balance['STATUS'].unique()"
   ]
  },
  {
   "cell_type": "code",
   "execution_count": 55,
   "metadata": {},
   "outputs": [
    {
     "data": {
      "text/plain": [
       "count     27299925\n",
       "unique           8\n",
       "top              C\n",
       "freq      13646993\n",
       "Name: STATUS, dtype: object"
      ]
     },
     "execution_count": 55,
     "metadata": {},
     "output_type": "execute_result"
    }
   ],
   "source": [
    "bureau_balance['STATUS'].describe()"
   ]
  },
  {
   "cell_type": "code",
   "execution_count": 56,
   "metadata": {},
   "outputs": [
    {
     "data": {
      "text/plain": [
       "0"
      ]
     },
     "execution_count": 56,
     "metadata": {},
     "output_type": "execute_result"
    }
   ],
   "source": [
    "bureau_balance['STATUS'].isnull().sum()"
   ]
  },
  {
   "cell_type": "code",
   "execution_count": null,
   "metadata": {},
   "outputs": [],
   "source": []
  }
 ],
 "metadata": {
  "kernelspec": {
   "display_name": "Python 3",
   "language": "python",
   "name": "python3"
  },
  "language_info": {
   "codemirror_mode": {
    "name": "ipython",
    "version": 3
   },
   "file_extension": ".py",
   "mimetype": "text/x-python",
   "name": "python",
   "nbconvert_exporter": "python",
   "pygments_lexer": "ipython3",
   "version": "3.6.4"
  }
 },
 "nbformat": 4,
 "nbformat_minor": 2
}
