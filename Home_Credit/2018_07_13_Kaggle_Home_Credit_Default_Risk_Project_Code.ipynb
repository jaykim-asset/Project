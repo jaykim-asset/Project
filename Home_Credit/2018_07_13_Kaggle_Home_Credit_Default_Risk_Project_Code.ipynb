{
 "cells": [
  {
   "cell_type": "markdown",
   "metadata": {},
   "source": [
    "### Data Specification Parts Code ### "
   ]
  },
  {
   "cell_type": "code",
   "execution_count": 1,
   "metadata": {},
   "outputs": [],
   "source": [
    "path = 'C:\\\\Users\\\\Jongjae\\\\Project\\\\Home_Credit\\\\'\n",
    "train = pd.read_csv(path + 'application_train.csv')\n",
    "test = pd.read_csv(path + 'application_test.csv')\n",
    "# test = pd.read_csv('\\\\Project\\\\Home_credit\\\\application_test.csv')"
   ]
  },
  {
   "cell_type": "markdown",
   "metadata": {},
   "source": [
    "### `test.csv`와 `train.csv`의 다른 Columns가 있는지 없는지 검증\n",
    "- 다른 Column: Only `Target Column`이 추가적으로 train.csv에 포함되어 있음 => `결과 값`"
   ]
  },
  {
   "cell_type": "code",
   "execution_count": 28,
   "metadata": {},
   "outputs": [
    {
     "name": "stdout",
     "output_type": "stream",
     "text": [
      "Index(['TARGET'], dtype='object')\n",
      "Index([], dtype='object')\n"
     ]
    }
   ],
   "source": [
    "print((train.columns).difference(test.columns))\n",
    "print((test.columns).difference(train.columns))"
   ]
  },
  {
   "cell_type": "markdown",
   "metadata": {},
   "source": [
    "## Missing_Value Verification"
   ]
  },
  {
   "cell_type": "code",
   "execution_count": 60,
   "metadata": {},
   "outputs": [
    {
     "data": {
      "text/plain": [
       "<matplotlib.axes._subplots.AxesSubplot at 0xddeba90>"
      ]
     },
     "execution_count": 60,
     "metadata": {},
     "output_type": "execute_result"
    },
    {
     "name": "stderr",
     "output_type": "stream",
     "text": [
      "C:\\ProgramData\\Anaconda3\\lib\\site-packages\\matplotlib\\font_manager.py:1320: UserWarning: findfont: Font family ['nanumgothic'] not found. Falling back to DejaVu Sans\n",
      "  (prop.get_family(), self.defaultFamily[fontext]))\n"
     ]
    },
    {
     "data": {
      "image/png": "[encoded data removed]",
      "text/plain": [
       "<matplotlib.figure.Figure at 0xdeea6d8>"
      ]
     },
     "metadata": {},
     "output_type": "display_data"
    }
   ],
   "source": [
    "plt.figure(figsize=(15,5))\n",
    "sns.barplot(np.arange(len(test.isnull().sum().index)), test.isnull().sum().values)"
   ]
  },
  {
   "cell_type": "code",
   "execution_count": 51,
   "metadata": {},
   "outputs": [
    {
     "data": {
      "text/plain": [
       "SK_ID_CURR                        0\n",
       "NAME_CONTRACT_TYPE                0\n",
       "CODE_GENDER                       0\n",
       "FLAG_OWN_CAR                      0\n",
       "FLAG_OWN_REALTY                   0\n",
       "CNT_CHILDREN                      0\n",
       "AMT_INCOME_TOTAL                  0\n",
       "AMT_CREDIT                        0\n",
       "AMT_ANNUITY                      24\n",
       "AMT_GOODS_PRICE                   0\n",
       "NAME_TYPE_SUITE                 911\n",
       "NAME_INCOME_TYPE                  0\n",
       "NAME_EDUCATION_TYPE               0\n",
       "NAME_FAMILY_STATUS                0\n",
       "NAME_HOUSING_TYPE                 0\n",
       "REGION_POPULATION_RELATIVE        0\n",
       "DAYS_BIRTH                        0\n",
       "DAYS_EMPLOYED                     0\n",
       "DAYS_REGISTRATION                 0\n",
       "DAYS_ID_PUBLISH                   0\n",
       "OWN_CAR_AGE                   32312\n",
       "FLAG_MOBIL                        0\n",
       "FLAG_EMP_PHONE                    0\n",
       "FLAG_WORK_PHONE                   0\n",
       "FLAG_CONT_MOBILE                  0\n",
       "FLAG_PHONE                        0\n",
       "FLAG_EMAIL                        0\n",
       "OCCUPATION_TYPE               15605\n",
       "CNT_FAM_MEMBERS                   0\n",
       "REGION_RATING_CLIENT              0\n",
       "                              ...  \n",
       "DEF_30_CNT_SOCIAL_CIRCLE         29\n",
       "OBS_60_CNT_SOCIAL_CIRCLE         29\n",
       "DEF_60_CNT_SOCIAL_CIRCLE         29\n",
       "DAYS_LAST_PHONE_CHANGE            0\n",
       "FLAG_DOCUMENT_2                   0\n",
       "FLAG_DOCUMENT_3                   0\n",
       "FLAG_DOCUMENT_4                   0\n",
       "FLAG_DOCUMENT_5                   0\n",
       "FLAG_DOCUMENT_6                   0\n",
       "FLAG_DOCUMENT_7                   0\n",
       "FLAG_DOCUMENT_8                   0\n",
       "FLAG_DOCUMENT_9                   0\n",
       "FLAG_DOCUMENT_10                  0\n",
       "FLAG_DOCUMENT_11                  0\n",
       "FLAG_DOCUMENT_12                  0\n",
       "FLAG_DOCUMENT_13                  0\n",
       "FLAG_DOCUMENT_14                  0\n",
       "FLAG_DOCUMENT_15                  0\n",
       "FLAG_DOCUMENT_16                  0\n",
       "FLAG_DOCUMENT_17                  0\n",
       "FLAG_DOCUMENT_18                  0\n",
       "FLAG_DOCUMENT_19                  0\n",
       "FLAG_DOCUMENT_20                  0\n",
       "FLAG_DOCUMENT_21                  0\n",
       "AMT_REQ_CREDIT_BUREAU_HOUR     6049\n",
       "AMT_REQ_CREDIT_BUREAU_DAY      6049\n",
       "AMT_REQ_CREDIT_BUREAU_WEEK     6049\n",
       "AMT_REQ_CREDIT_BUREAU_MON      6049\n",
       "AMT_REQ_CREDIT_BUREAU_QRT      6049\n",
       "AMT_REQ_CREDIT_BUREAU_YEAR     6049\n",
       "Length: 121, dtype: int64"
      ]
     },
     "execution_count": 51,
     "metadata": {},
     "output_type": "execute_result"
    }
   ],
   "source": [
    "test.isnull().sum()"
   ]
  },
  {
   "cell_type": "markdown",
   "metadata": {},
   "source": [
    "## 1) SK_ID_CURR"
   ]
  },
  {
   "cell_type": "markdown",
   "metadata": {},
   "source": [
    "### `test.csv` 와 `train.csv`의 공통된 ID 값이 있는지 없는지 검증  \n",
    "- 공통된 ID(SK_ID_CURR)가 없음 확인"
   ]
  },
  {
   "cell_type": "code",
   "execution_count": 14,
   "metadata": {},
   "outputs": [
    {
     "data": {
      "text/plain": [
       "set()"
      ]
     },
     "execution_count": 14,
     "metadata": {},
     "output_type": "execute_result"
    }
   ],
   "source": [
    "set(test['SK_ID_CURR']).intersection(train['SK_ID_CURR'])"
   ]
  },
  {
   "cell_type": "code",
   "execution_count": 30,
   "metadata": {},
   "outputs": [
    {
     "data": {
      "text/plain": [
       "((48744, 121), (307511, 122))"
      ]
     },
     "execution_count": 30,
     "metadata": {},
     "output_type": "execute_result"
    }
   ],
   "source": [
    "test.shape, train.shape"
   ]
  },
  {
   "cell_type": "markdown",
   "metadata": {},
   "source": [
    "## 2) NAME_CONTRACT_TYPE"
   ]
  },
  {
   "cell_type": "code",
   "execution_count": 33,
   "metadata": {},
   "outputs": [
    {
     "data": {
      "text/plain": [
       "array(['Cash loans', 'Revolving loans'], dtype=object)"
      ]
     },
     "execution_count": 33,
     "metadata": {},
     "output_type": "execute_result"
    }
   ],
   "source": [
    "test['NAME_CONTRACT_TYPE'].unique() ## Unique value 2개: Cash_Loans와 Revloving Loans "
   ]
  },
  {
   "cell_type": "code",
   "execution_count": 34,
   "metadata": {},
   "outputs": [
    {
     "data": {
      "text/plain": [
       "(48744,)"
      ]
     },
     "execution_count": 34,
     "metadata": {},
     "output_type": "execute_result"
    }
   ],
   "source": [
    "test['NAME_CONTRACT_TYPE'].shape"
   ]
  },
  {
   "cell_type": "code",
   "execution_count": null,
   "metadata": {},
   "outputs": [],
   "source": []
  }
 ],
 "metadata": {
  "kernelspec": {
   "display_name": "Python 3",
   "language": "python",
   "name": "python3"
  },
  "language_info": {
   "codemirror_mode": {
    "name": "ipython",
    "version": 3
   },
   "file_extension": ".py",
   "mimetype": "text/x-python",
   "name": "python",
   "nbconvert_exporter": "python",
   "pygments_lexer": "ipython3",
   "version": "3.6.4"
  }
 },
 "nbformat": 4,
 "nbformat_minor": 2
}
