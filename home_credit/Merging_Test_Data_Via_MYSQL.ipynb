{
 "cells": [
  {
   "cell_type": "code",
   "execution_count": 3,
   "metadata": {},
   "outputs": [],
   "source": [
    "path = ('C://Users//Jongjae//Project/home_credit_project/')\n",
    "\n",
    "trainset = pd.read_csv(path + 'application_trainset.csv')\n",
    "pre_app_train = pd.read_csv(path + 'previous_application_train.csv')\n",
    "pos_cash_train = pd.read_csv(path + 'POS_CASH_balance_train.csv')\n",
    "install_train = pd.read_csv(path + 'installments_payments_train.csv')\n",
    "credit_card_train = pd.read_csv(path + 'credit_card_balance_train.csv')\n",
    "bureau_train = pd.read_csv(path + 'bureau_train.csv')\n",
    "bureau_balance_train = pd.read_csv(path + 'bureau_balance_train.csv')"
   ]
  },
  {
   "cell_type": "code",
   "execution_count": null,
   "metadata": {},
   "outputs": [],
   "source": []
  }
 ],
 "metadata": {
  "kernelspec": {
   "display_name": "Python 3",
   "language": "python",
   "name": "python3"
  },
  "language_info": {
   "codemirror_mode": {
    "name": "ipython",
    "version": 3
   },
   "file_extension": ".py",
   "mimetype": "text/x-python",
   "name": "python",
   "nbconvert_exporter": "python",
   "pygments_lexer": "ipython3",
   "version": "3.6.4"
  }
 },
 "nbformat": 4,
 "nbformat_minor": 2
}
