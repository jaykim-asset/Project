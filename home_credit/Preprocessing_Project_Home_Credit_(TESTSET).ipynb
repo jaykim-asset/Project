{
 "cells": [
  {
   "cell_type": "code",
   "execution_count": 1,
   "metadata": {},
   "outputs": [],
   "source": [
    "path = ('C://Users//Jongjae//Project/home_credit/')\n",
    "trainset = pd.read_csv(path + 'application_trainset.csv')\n",
    "testset = pd.read_csv(path + 'application_testset.csv')\n",
    "del trainset['Unnamed: 0']\n",
    "del testset['Unnamed: 0']"
   ]
  },
  {
   "cell_type": "code",
   "execution_count": 2,
   "metadata": {},
   "outputs": [
    {
     "name": "stdout",
     "output_type": "stream",
     "text": [
      "(123005, 122)\n"
     ]
    }
   ],
   "source": [
    "print(testset.shape)"
   ]
  },
  {
   "cell_type": "code",
   "execution_count": 11,
   "metadata": {},
   "outputs": [],
   "source": [
    "from sklearn.preprocessing import OneHotEncoder\n",
    "from sklearn.preprocessing import LabelEncoder\n",
    "from sklearn.preprocessing import scale, robust_scale, minmax_scale, maxabs_scale\n",
    "import pprint\n",
    "pp = pprint.PrettyPrinter(indent=4)"
   ]
  },
  {
   "cell_type": "code",
   "execution_count": 13,
   "metadata": {},
   "outputs": [
    {
     "name": "stdout",
     "output_type": "stream",
     "text": [
      "[   'SK_ID_CURR',\n",
      "    'TARGET',\n",
      "    'NAME_CONTRACT_TYPE',\n",
      "    'CODE_GENDER',\n",
      "    'FLAG_OWN_CAR',\n",
      "    'FLAG_OWN_REALTY',\n",
      "    'CNT_CHILDREN',\n",
      "    'AMT_INCOME_TOTAL',\n",
      "    'AMT_CREDIT',\n",
      "    'AMT_ANNUITY',\n",
      "    'AMT_GOODS_PRICE',\n",
      "    'NAME_TYPE_SUITE',\n",
      "    'NAME_INCOME_TYPE',\n",
      "    'NAME_EDUCATION_TYPE',\n",
      "    'NAME_FAMILY_STATUS',\n",
      "    'NAME_HOUSING_TYPE',\n",
      "    'REGION_POPULATION_RELATIVE',\n",
      "    'DAYS_BIRTH',\n",
      "    'DAYS_EMPLOYED',\n",
      "    'DAYS_REGISTRATION',\n",
      "    'DAYS_ID_PUBLISH',\n",
      "    'OWN_CAR_AGE',\n",
      "    'FLAG_MOBIL',\n",
      "    'FLAG_EMP_PHONE',\n",
      "    'FLAG_WORK_PHONE',\n",
      "    'FLAG_CONT_MOBILE',\n",
      "    'FLAG_PHONE',\n",
      "    'FLAG_EMAIL',\n",
      "    'OCCUPATION_TYPE',\n",
      "    'CNT_FAM_MEMBERS',\n",
      "    'REGION_RATING_CLIENT',\n",
      "    'REGION_RATING_CLIENT_W_CITY',\n",
      "    'WEEKDAY_APPR_PROCESS_START',\n",
      "    'HOUR_APPR_PROCESS_START',\n",
      "    'REG_REGION_NOT_LIVE_REGION',\n",
      "    'REG_REGION_NOT_WORK_REGION',\n",
      "    'LIVE_REGION_NOT_WORK_REGION',\n",
      "    'REG_CITY_NOT_LIVE_CITY',\n",
      "    'REG_CITY_NOT_WORK_CITY',\n",
      "    'LIVE_CITY_NOT_WORK_CITY',\n",
      "    'ORGANIZATION_TYPE',\n",
      "    'EXT_SOURCE_1',\n",
      "    'EXT_SOURCE_2',\n",
      "    'EXT_SOURCE_3',\n",
      "    'APARTMENTS_AVG',\n",
      "    'BASEMENTAREA_AVG',\n",
      "    'YEARS_BEGINEXPLUATATION_AVG',\n",
      "    'YEARS_BUILD_AVG',\n",
      "    'COMMONAREA_AVG',\n",
      "    'ELEVATORS_AVG',\n",
      "    'ENTRANCES_AVG',\n",
      "    'FLOORSMAX_AVG',\n",
      "    'FLOORSMIN_AVG',\n",
      "    'LANDAREA_AVG',\n",
      "    'LIVINGAPARTMENTS_AVG',\n",
      "    'LIVINGAREA_AVG',\n",
      "    'NONLIVINGAPARTMENTS_AVG',\n",
      "    'NONLIVINGAREA_AVG',\n",
      "    'APARTMENTS_MODE',\n",
      "    'BASEMENTAREA_MODE',\n",
      "    'YEARS_BEGINEXPLUATATION_MODE',\n",
      "    'YEARS_BUILD_MODE',\n",
      "    'COMMONAREA_MODE',\n",
      "    'ELEVATORS_MODE',\n",
      "    'ENTRANCES_MODE',\n",
      "    'FLOORSMAX_MODE',\n",
      "    'FLOORSMIN_MODE',\n",
      "    'LANDAREA_MODE',\n",
      "    'LIVINGAPARTMENTS_MODE',\n",
      "    'LIVINGAREA_MODE',\n",
      "    'NONLIVINGAPARTMENTS_MODE',\n",
      "    'NONLIVINGAREA_MODE',\n",
      "    'APARTMENTS_MEDI',\n",
      "    'BASEMENTAREA_MEDI',\n",
      "    'YEARS_BEGINEXPLUATATION_MEDI',\n",
      "    'YEARS_BUILD_MEDI',\n",
      "    'COMMONAREA_MEDI',\n",
      "    'ELEVATORS_MEDI',\n",
      "    'ENTRANCES_MEDI',\n",
      "    'FLOORSMAX_MEDI',\n",
      "    'FLOORSMIN_MEDI',\n",
      "    'LANDAREA_MEDI',\n",
      "    'LIVINGAPARTMENTS_MEDI',\n",
      "    'LIVINGAREA_MEDI',\n",
      "    'NONLIVINGAPARTMENTS_MEDI',\n",
      "    'NONLIVINGAREA_MEDI',\n",
      "    'FONDKAPREMONT_MODE',\n",
      "    'HOUSETYPE_MODE',\n",
      "    'TOTALAREA_MODE',\n",
      "    'WALLSMATERIAL_MODE',\n",
      "    'EMERGENCYSTATE_MODE',\n",
      "    'OBS_30_CNT_SOCIAL_CIRCLE',\n",
      "    'DEF_30_CNT_SOCIAL_CIRCLE',\n",
      "    'OBS_60_CNT_SOCIAL_CIRCLE',\n",
      "    'DEF_60_CNT_SOCIAL_CIRCLE',\n",
      "    'DAYS_LAST_PHONE_CHANGE',\n",
      "    'FLAG_DOCUMENT_2',\n",
      "    'FLAG_DOCUMENT_3',\n",
      "    'FLAG_DOCUMENT_4',\n",
      "    'FLAG_DOCUMENT_5',\n",
      "    'FLAG_DOCUMENT_6',\n",
      "    'FLAG_DOCUMENT_7',\n",
      "    'FLAG_DOCUMENT_8',\n",
      "    'FLAG_DOCUMENT_9',\n",
      "    'FLAG_DOCUMENT_10',\n",
      "    'FLAG_DOCUMENT_11',\n",
      "    'FLAG_DOCUMENT_12',\n",
      "    'FLAG_DOCUMENT_13',\n",
      "    'FLAG_DOCUMENT_14',\n",
      "    'FLAG_DOCUMENT_15',\n",
      "    'FLAG_DOCUMENT_16',\n",
      "    'FLAG_DOCUMENT_17',\n",
      "    'FLAG_DOCUMENT_18',\n",
      "    'FLAG_DOCUMENT_19',\n",
      "    'FLAG_DOCUMENT_20',\n",
      "    'FLAG_DOCUMENT_21',\n",
      "    'AMT_REQ_CREDIT_BUREAU_HOUR',\n",
      "    'AMT_REQ_CREDIT_BUREAU_DAY',\n",
      "    'AMT_REQ_CREDIT_BUREAU_WEEK',\n",
      "    'AMT_REQ_CREDIT_BUREAU_MON',\n",
      "    'AMT_REQ_CREDIT_BUREAU_QRT',\n",
      "    'AMT_REQ_CREDIT_BUREAU_YEAR']\n"
     ]
    }
   ],
   "source": [
    "pp.pprint(list(trainset.columns))"
   ]
  },
  {
   "cell_type": "code",
   "execution_count": 18,
   "metadata": {
    "scrolled": true
   },
   "outputs": [
    {
     "name": "stdout",
     "output_type": "stream",
     "text": [
      "['Cash loans' 'Revolving loans'] 0\n",
      "['F' 'M' 'XNA'] 0\n",
      "['N' 'Y'] 0\n"
     ]
    }
   ],
   "source": [
    "print(testset[trainset.columns[2]].unique(), testset[trainset.columns[2]].isnull().sum())\n",
    "print(testset[trainset.columns[3]].unique(), testset[trainset.columns[3]].isnull().sum())\n",
    "print(testset[trainset.columns[4]].unique(), testset[trainset.columns[4]].isnull().sum())"
   ]
  },
  {
   "cell_type": "code",
   "execution_count": 19,
   "metadata": {},
   "outputs": [],
   "source": [
    "testset['NAME_CONTRACT_TYPE'] = LabelEncoder().fit_transform(testset['NAME_CONTRACT_TYPE'])\n",
    "testset['CODE_GENDER'] = LabelEncoder().fit_transform(testset['CODE_GENDER'])\n",
    "testset['FLAG_OWN_CAR'] = LabelEncoder().fit_transform(testset['FLAG_OWN_CAR'])"
   ]
  },
  {
   "cell_type": "code",
   "execution_count": 21,
   "metadata": {},
   "outputs": [
    {
     "name": "stdout",
     "output_type": "stream",
     "text": [
      "['N' 'Y'] 0\n",
      "[0 1 2 3 4 7 5 6 8 9] 0\n",
      "[270000.  135000.  121500.  ... 336825.  193396.5 134550. ] 0\n",
      "[1293502.5  312682.5  513000.  ... 1434195.  1324962.   697050. ] 0\n",
      "[35698.5 29686.5 21865.5 ...  5841.  71424.  13108.5] 5\n"
     ]
    }
   ],
   "source": [
    "print(testset[trainset.columns[5]].unique(), testset[trainset.columns[5]].isnull().sum())\n",
    "print(testset[trainset.columns[6]].unique(), testset[trainset.columns[6]].isnull().sum())\n",
    "print(testset[trainset.columns[7]].unique(), testset[trainset.columns[7]].isnull().sum())\n",
    "print(testset[trainset.columns[8]].unique(), testset[trainset.columns[8]].isnull().sum())\n",
    "print(testset[trainset.columns[9]].unique(), testset[trainset.columns[9]].isnull().sum())"
   ]
  },
  {
   "cell_type": "code",
   "execution_count": 22,
   "metadata": {},
   "outputs": [],
   "source": [
    "testset['FLAG_OWN_REALTY'] = LabelEncoder().fit_transform(testset['FLAG_OWN_REALTY'])"
   ]
  },
  {
   "cell_type": "code",
   "execution_count": null,
   "metadata": {},
   "outputs": [],
   "source": [
    "from sklearn.preprocessing import LabelBinarizer\n",
    "testset_CNT_CHILDREN = pd.DataFrame(LabelBinarizer().fit_transform(testset['CNT_CHILDREN']), \n",
    "                                           columns = ['CNT_CHILDREN_0', 'CNT_CHILDREN_1', 'CNT_CHILDREN_2',\n",
    "                                                    'CNT_CHILDREN_3', 'CNT_CHILDREN_4', 'CNT_CHILDREN_5',\n",
    "                                                    'CNT_CHILDREN_6', 'CNT_CHILDREN_7', 'CNT_CHILDREN_8',\n",
    "                                                    'CNT_CHILDREN_10', 'CNT_CHILDREN_11', 'CNT_CHILDREN_12',\n",
    "                                                    'CNT_CHILDREN_14', 'CNT_CHILDREN_19'], index=trainset.index)\n",
    "testset = pd.concat([testset, testset_CNT_CHILDREN], axis = 1)\n",
    "del(testset['CNT_CHILDREN'])"
   ]
  }
 ],
 "metadata": {
  "kernelspec": {
   "display_name": "Python 3",
   "language": "python",
   "name": "python3"
  },
  "language_info": {
   "codemirror_mode": {
    "name": "ipython",
    "version": 3
   },
   "file_extension": ".py",
   "mimetype": "text/x-python",
   "name": "python",
   "nbconvert_exporter": "python",
   "pygments_lexer": "ipython3",
   "version": "3.6.4"
  }
 },
 "nbformat": 4,
 "nbformat_minor": 2
}
