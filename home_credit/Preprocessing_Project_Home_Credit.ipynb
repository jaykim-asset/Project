{
 "cells": [
  {
   "cell_type": "code",
   "execution_count": 1,
   "metadata": {},
   "outputs": [],
   "source": [
    "path = ('C://Users//Jongjae//Project/home_credit/')\n",
    "trainset = pd.read_csv(path + 'application_trainset.csv')\n",
    "# pre_app_train = pd.read_csv(path + 'previous_application_train.csv')\n",
    "# pos_cash_train = pd.read_csv(path + 'POS_CASH_balance_train.csv')\n",
    "# install_train = pd.read_csv(path + 'installments_payments_train.csv')\n",
    "# credit_card_train = pd.read_csv(path + 'credit_card_balance_train.csv')\n",
    "# bureau_train = pd.read_csv(path + 'bureau_train.csv')\n",
    "# bureau_balance_train = pd.read_csv(path + 'bureau_balance_train.csv')"
   ]
  },
  {
   "cell_type": "code",
   "execution_count": 2,
   "metadata": {},
   "outputs": [],
   "source": [
    "del trainset['Unnamed: 0']\n",
    "# del bureau_train['Unnamed: 0']\n",
    "# # del bureau_train['Unnamed: 0.1']\n",
    "# del bureau_balance_train['Unnamed: 0']\n",
    "# # del bureau_balance_train['Unnamed: 0.1']\n",
    "# del credit_card_train['Unnamed: 0']\n",
    "# del install_train['Unnamed: 0']\n",
    "# del pre_app_train['Unnamed: 0']\n",
    "# # del pre_app_train['Unnamed: 0.1']\n",
    "# del pos_cash_train['Unnamed: 0']"
   ]
  },
  {
   "cell_type": "code",
   "execution_count": 3,
   "metadata": {},
   "outputs": [
    {
     "name": "stdout",
     "output_type": "stream",
     "text": [
      "(184506, 122)\n"
     ]
    }
   ],
   "source": [
    "print(trainset.shape)"
   ]
  },
  {
   "cell_type": "code",
   "execution_count": 4,
   "metadata": {},
   "outputs": [],
   "source": [
    "from sklearn.preprocessing import OneHotEncoder\n",
    "from sklearn.preprocessing import LabelEncoder\n",
    "from sklearn.preprocessing import scale, robust_scale, minmax_scale, maxabs_scale"
   ]
  },
  {
   "cell_type": "markdown",
   "metadata": {},
   "source": [
    "## Application_trainset.csv PreProcessing"
   ]
  },
  {
   "cell_type": "markdown",
   "metadata": {},
   "source": [
    "## 1 ~ 5 Columns \n",
    "- 1) SK_ID_CURR \n",
    "    - `ID 값`.\n",
    "    - Missing Values 없음.\n",
    "    - **전처리 X**\n",
    "- 2) TARGET \n",
    "    - `Target 값`.\n",
    "    - `0 또는 1` \n",
    "    - Missing Values 없음.\n",
    "    - **전처리 X**\n",
    "- 3) NAME_CONTRACT_TYPE\n",
    "    - Text이기에, 숫자 형태로 변환 필요함. (Encoding 필요)\n",
    "        - `Cash loans` - `0`\n",
    "        - `Revolving loans` - `1` \n",
    "- 4) CODE_GENDER\n",
    "    - `F`: 121,353개\n",
    "        - `F` => `0`\n",
    "    - `M`: 63,150개\n",
    "        - `M` => `1`\n",
    "    - `XNA`: 4개 \n",
    "        - `XNA` => `2`\n",
    "- 5) FLAG_OWN_CAR\n",
    "    - `Y`: 62,645개\n",
    "        - `Y` => `1`\n",
    "    - `N`: 121,861개\n",
    "        - `N` => `0`"
   ]
  },
  {
   "cell_type": "code",
   "execution_count": 5,
   "metadata": {},
   "outputs": [],
   "source": [
    "trainset['NAME_CONTRACT_TYPE'] = LabelEncoder().fit_transform(trainset['NAME_CONTRACT_TYPE'])\n",
    "trainset['CODE_GENDER'] = LabelEncoder().fit_transform(trainset['CODE_GENDER'])\n",
    "trainset['FLAG_OWN_CAR'] = LabelEncoder().fit_transform(trainset['FLAG_OWN_CAR'])"
   ]
  },
  {
   "cell_type": "markdown",
   "metadata": {},
   "source": [
    "## 6 ~ 10 Columns \n",
    "- 6) FLAG_OWN_REALTY\n",
    "    - 전처리 필요함\n",
    "        - `Y`: 128,057개\n",
    "            - `Y` => `1`\n",
    "        - `N`: 56,449개\n",
    "            - `N` => `0`\n",
    "    - Missing Values 없음.\n",
    "- 7) CNT_CHILDRN\n",
    "    - 전처리 필요함 (Category)\n",
    "    - 0 ~ 19명 (총 14명)\n",
    "        - `0` => `0`\n",
    "        - `1` => `1`\n",
    "        - `2` => `2`\n",
    "        - `3` => `3`\n",
    "        - `4` => `4`\n",
    "        - `5` => `5`\n",
    "        - `6` => `6`\n",
    "        - `7` => `7`\n",
    "        - `8` => `8`\n",
    "        - `10` => `9`\n",
    "        - `11` => `10`\n",
    "        - `12` => `11`\n",
    "        - `14` => `12`\n",
    "        - `19` => `13`\n",
    "            = > 모두 Dummy Variables로 DataFrame 끝으로 이동 됨\n",
    "    - Missing Values 없음.\n",
    "- 8) AMT_INCOME_TOTAL\n",
    "    - Scaling 필요함 \n",
    "    - Numeric 변수이기에, scaling 적용\n",
    "    - Missing Values 없음.\n",
    "- 9) AMT_CREDIT\n",
    "    - Scaling 필요함 \n",
    "    - Numeric 변수이기에, scaling 적용\n",
    "    - Missing Values 없음.\n",
    "- 10) AMT_ANNUITY\n",
    "    - Scaling 필요함 \n",
    "    - Numeric 변수이기에, scaling 적용\n",
    "    - Missing Values 7개 있음\n",
    "        - Missing values = > mean 값 적용 후, 스케일링 가능"
   ]
  },
  {
   "cell_type": "code",
   "execution_count": 6,
   "metadata": {},
   "outputs": [],
   "source": [
    "trainset['FLAG_OWN_REALTY'] = LabelEncoder().fit_transform(trainset['FLAG_OWN_REALTY'])"
   ]
  },
  {
   "cell_type": "code",
   "execution_count": 7,
   "metadata": {
    "scrolled": true
   },
   "outputs": [],
   "source": [
    "from sklearn.preprocessing import LabelBinarizer\n",
    "trainset_CNT_CHILDREN = pd.DataFrame(LabelBinarizer().fit_transform(trainset['CNT_CHILDREN']), \n",
    "                                           columns = ['CNT_CHILDREN_0', 'CNT_CHILDREN_1', 'CNT_CHILDREN_2',\n",
    "                                                    'CNT_CHILDREN_3', 'CNT_CHILDREN_4', 'CNT_CHILDREN_5',\n",
    "                                                    'CNT_CHILDREN_6', 'CNT_CHILDREN_7', 'CNT_CHILDREN_8',\n",
    "                                                    'CNT_CHILDREN_10', 'CNT_CHILDREN_11', 'CNT_CHILDREN_12',\n",
    "                                                    'CNT_CHILDREN_14', 'CNT_CHILDREN_19'], index=trainset.index)\n",
    "trainset = pd.concat([trainset, trainset_CNT_CHILDREN], axis = 1)\n",
    "del(trainset['CNT_CHILDREN'])"
   ]
  },
  {
   "cell_type": "code",
   "execution_count": 8,
   "metadata": {},
   "outputs": [],
   "source": [
    "trainset['AMT_INCOME_TOTAL'] = scale(trainset['AMT_INCOME_TOTAL'])\n",
    "trainset['AMT_CREDIT'] = scale(trainset['AMT_CREDIT'])"
   ]
  },
  {
   "cell_type": "code",
   "execution_count": 9,
   "metadata": {},
   "outputs": [],
   "source": [
    "trainset['AMT_ANNUITY'].fillna(trainset['AMT_ANNUITY'].mean(), inplace = True)\n",
    "trainset['AMT_ANNUITY'] = scale(trainset['AMT_ANNUITY'])"
   ]
  },
  {
   "cell_type": "markdown",
   "metadata": {},
   "source": [
    "## 11 ~ 15 Columns \n",
    "- 11) AMT_GOODS_PRICE\n",
    "    - Scaling 필요함 \n",
    "    - Missing Values 278 values. = > mean 값으로 대체\n",
    "- 12) NAME_TYPE_SUITE\n",
    "    - 전처리 필요함 (Binary로 변환)\n",
    "    - ['Unaccompanied', 'Family', 'Spouse, partner', 'Children',\n",
    "       'Other_A', nan, 'Other_B', 'Group of people'],\n",
    "            = > 모두 Dummy Variables로 DataFrame 끝으로 이동 됨\n",
    "    - Missing Values 1292 values. => mode 값으로 대체\n",
    "- 13) NAME_INCOME_TYPE\n",
    "    - 전처리 필요함 (Binary로 변환) \n",
    "    - ['Working', 'State servant', 'Commercial associate', 'Pensioner',\n",
    "       'Unemployed', 'Student', 'Businessman', 'Maternity leave']\n",
    "           = > 모두 Dummy Variables로 DataFrame 끝으로 이동 됨\n",
    "    - Missing Values 없음.\n",
    "- 14) NAME_EDUCATION_TYPE\n",
    "    - 전처리 필요함 (Binary로 변환) \n",
    "    - ['Secondary / secondary special', 'Higher education',\n",
    "       'Incomplete higher', 'Lower secondary', 'Academic degree']\n",
    "           = > 모두 Dummy Variables로 DataFrame 끝으로 이동 됨\n",
    "    - Missing Values 없음.\n",
    "- 15) NAME_FAMILY_STATUS\n",
    "    - 전처리 필요함 (Binary로 변환) \n",
    "    - ['Single / not married', 'Married', 'Civil marriage', 'Widow',\n",
    "       'Separated', 'Unknown']\n",
    "           = > 모두 Dummy Variables로 DataFrame 끝으로 이동 됨"
   ]
  },
  {
   "cell_type": "code",
   "execution_count": 10,
   "metadata": {},
   "outputs": [],
   "source": [
    "trainset['AMT_GOODS_PRICE'].fillna(trainset['AMT_GOODS_PRICE'].mean(), inplace = True)\n",
    "trainset['AMT_GOODS_PRICE'] = scale(trainset['AMT_GOODS_PRICE'])"
   ]
  },
  {
   "cell_type": "code",
   "execution_count": 11,
   "metadata": {},
   "outputs": [],
   "source": [
    "trainset['NAME_TYPE_SUITE'].fillna(trainset['NAME_TYPE_SUITE'].mode()[0], inplace = True)\n",
    "trainset_NAME_TYPE_SUITE = pd.get_dummies(trainset['NAME_TYPE_SUITE'])\n",
    "trainset = pd.concat([trainset, trainset_NAME_TYPE_SUITE], axis = 1)\n",
    "del(trainset['NAME_TYPE_SUITE'])"
   ]
  },
  {
   "cell_type": "code",
   "execution_count": 12,
   "metadata": {},
   "outputs": [],
   "source": [
    "trainset_NAME_INCOME_TYPE = pd.get_dummies(trainset['NAME_INCOME_TYPE'])\n",
    "trainset = pd.concat([trainset, trainset_NAME_INCOME_TYPE], axis = 1)\n",
    "del(trainset['NAME_INCOME_TYPE'])"
   ]
  },
  {
   "cell_type": "code",
   "execution_count": 13,
   "metadata": {},
   "outputs": [],
   "source": [
    "trainset_NAME_EDUCATION_TYPE = pd.get_dummies(trainset['NAME_EDUCATION_TYPE'])\n",
    "trainset = pd.concat([trainset, trainset_NAME_EDUCATION_TYPE], axis = 1)\n",
    "del(trainset['NAME_EDUCATION_TYPE'])"
   ]
  },
  {
   "cell_type": "code",
   "execution_count": 14,
   "metadata": {},
   "outputs": [],
   "source": [
    "trainset_NAME_FAMILY_STATUS = pd.get_dummies(trainset['NAME_FAMILY_STATUS'])\n",
    "trainset = pd.concat([trainset, trainset_NAME_FAMILY_STATUS], axis = 1)\n",
    "del(trainset['NAME_FAMILY_STATUS'])"
   ]
  },
  {
   "cell_type": "markdown",
   "metadata": {},
   "source": [
    "## 16 ~ 20 Columns \n",
    "- 16) NAME_HOUSING_TYPE\n",
    "    - 전처리 필요함 (Binary로 변환)\n",
    "    - Missing Values 없음\n",
    "    - ['House / apartment', 'Rented apartment', 'With parents',\n",
    "       'Municipal apartment', 'Office apartment', 'Co-op apartment']\n",
    "            = > 모두 Dummy Variables로 DataFrame 끝으로 이동 됨\n",
    "            \n",
    "- 17) REGION_POPULATION_RELATIVE\n",
    "    - 이미 정규화 된 값 (전처리 필요 X) \n",
    "    - Missing Values 없음\n",
    "    \n",
    "- 18) DAYS_BIRTH\n",
    "    - Numeric으로 보고, 전처리 Scaling 필요함.\n",
    "    - Missing Values 없음.\n",
    "- 19) DAYS_EMPLOYED\n",
    "    - Numeric으로 보고, 전처리 Scaling 필요함.\n",
    "    - Missing Values 없음.\n",
    "- 20) DAYS_REGISTRATION\n",
    "    - Numeric으로 보고, 전처리 Scaling 필요함.\n",
    "    - Missing Values 없음."
   ]
  },
  {
   "cell_type": "code",
   "execution_count": 15,
   "metadata": {},
   "outputs": [],
   "source": [
    "trainset_NAME_HOUSING_TYPE = pd.get_dummies(trainset['NAME_HOUSING_TYPE'])\n",
    "trainset = pd.concat([trainset, trainset_NAME_HOUSING_TYPE], axis = 1)\n",
    "del(trainset['NAME_HOUSING_TYPE'])"
   ]
  },
  {
   "cell_type": "code",
   "execution_count": 16,
   "metadata": {},
   "outputs": [
    {
     "name": "stderr",
     "output_type": "stream",
     "text": [
      "C:\\ProgramData\\Anaconda3\\lib\\site-packages\\sklearn\\utils\\validation.py:475: DataConversionWarning: Data with input dtype int64 was converted to float64 by the scale function.\n",
      "  warnings.warn(msg, DataConversionWarning)\n"
     ]
    }
   ],
   "source": [
    "trainset['DAYS_BIRTH'] = scale(trainset['DAYS_BIRTH'])\n",
    "trainset['DAYS_EMPLOYED'] = scale(trainset['DAYS_EMPLOYED'])\n",
    "trainset['DAYS_REGISTRATION'] = scale(trainset['DAYS_REGISTRATION'])"
   ]
  },
  {
   "cell_type": "markdown",
   "metadata": {},
   "source": [
    "## 21 ~ 25 Columns \n",
    "- 21) DAYS_ID_PUBLISH\n",
    "    - Numeric으로 보고, 전처리 Scaling 필요함.\n",
    "    - Missing Values 없음.\n",
    "- 22) **OWN_CAR_AGE** (상의가 필요해 보임)\n",
    "    - 일단, OWN_CAR_AGE는 Numeric 형태로 간주. 0 ~ 91년식 포함 in one column\n",
    "    - Missing Values 202,929 values\n",
    "- 23) FLAG_MOBILE\n",
    "    - 0 또는 1로 Category 값 으로 변경\n",
    "    - Missing Values 없음.\n",
    "- 24) FLAG_EMP_PHONE\n",
    "    - 0 또는 1로 Category 값 으로 변경\n",
    "    - Missing Values 없음.\n",
    "- 25) FLAG_WORK_PHONE\n",
    "    - 0 또는 1로 Category 값 으로 변경\n",
    "    - Missing Values 없음."
   ]
  },
  {
   "cell_type": "code",
   "execution_count": 17,
   "metadata": {},
   "outputs": [
    {
     "name": "stderr",
     "output_type": "stream",
     "text": [
      "C:\\ProgramData\\Anaconda3\\lib\\site-packages\\sklearn\\utils\\validation.py:475: DataConversionWarning: Data with input dtype int64 was converted to float64 by the scale function.\n",
      "  warnings.warn(msg, DataConversionWarning)\n"
     ]
    }
   ],
   "source": [
    "trainset['DAYS_ID_PUBLISH'] = scale(trainset['DAYS_ID_PUBLISH'])"
   ]
  },
  {
   "cell_type": "code",
   "execution_count": 18,
   "metadata": {
    "scrolled": true
   },
   "outputs": [],
   "source": [
    "trainset['OWN_CAR_AGE'].fillna(trainset['OWN_CAR_AGE'].mode()[0], inplace=True)"
   ]
  },
  {
   "cell_type": "code",
   "execution_count": 19,
   "metadata": {
    "scrolled": true
   },
   "outputs": [
    {
     "name": "stdout",
     "output_type": "stream",
     "text": [
      "[0.0, 1.0, 2.0, 3.0, 4.0, 5.0, 6.0, 7.0, 8.0, 9.0, 10.0, 11.0, 12.0, 13.0, 14.0, 15.0, 16.0, 17.0, 18.0, 19.0, 20.0, 21.0, 22.0, 23.0, 24.0, 25.0, 26.0, 27.0, 28.0, 29.0, 30.0, 31.0, 32.0, 33.0, 34.0, 35.0, 36.0, 37.0, 38.0, 39.0, 40.0, 41.0, 42.0, 43.0, 44.0, 45.0, 46.0, 49.0, 50.0, 51.0, 52.0, 54.0, 55.0, 63.0, 64.0, 65.0]\n"
     ]
    }
   ],
   "source": [
    "print(sorted(trainset['OWN_CAR_AGE'].unique()))"
   ]
  },
  {
   "cell_type": "code",
   "execution_count": 20,
   "metadata": {},
   "outputs": [],
   "source": [
    "from sklearn.preprocessing import LabelBinarizer\n",
    "trainset_OWN_CAR_AGE = pd.DataFrame(LabelBinarizer().fit_transform(trainset['OWN_CAR_AGE']), \n",
    "                                           columns = ['OWN_CAR_AGE_0', 'OWN_CAR_AGE_1', 'OWN_CAR_AGE_2',\n",
    "                                                    'OWN_CAR_AGE_3', 'OWN_CAR_AGE_4', 'OWN_CAR_AGE_5',\n",
    "                                                    'OWN_CAR_AGE_6', 'OWN_CAR_AGE_7', 'OWN_CAR_AGE_8',\n",
    "                                                    'OWN_CAR_AGE_9', 'OWN_CAR_AGE_10', 'OWN_CAR_AGE_11',\n",
    "                                                    'OWN_CAR_AGE_12', 'OWN_CAR_AGE_13', 'OWN_CAR_AGE_14',\n",
    "                                                     'OWN_CAR_AGE_15', 'OWN_CAR_AGE_16', 'OWN_CAR_AGE_17',\n",
    "                                                     'OWN_CAR_AGE_18', 'OWN_CAR_AGE_19', 'OWN_CAR_AGE_20', \n",
    "                                                     'OWN_CAR_AGE_21', 'OWN_CAR_AGE_22', 'OWN_CAR_AGE_23', \n",
    "                                                     'OWN_CAR_AGE_24', 'OWN_CAR_AGE_25', 'OWN_CAR_AGE_26',\n",
    "                                                     'OWN_CAR_AGE_27', 'OWN_CAR_AGE_28', 'OWN_CAR_AGE_29', \n",
    "                                                     'OWN_CAR_AGE_30', 'OWN_CAR_AGE_31', 'OWN_CAR_AGE_32',\n",
    "                                                     'OWN_CAR_AGE_33', 'OWN_CAR_AGE_34', 'OWN_CAR_AGE_35', \n",
    "                                                     'OWN_CAR_AGE_36', 'OWN_CAR_AGE_37', 'OWN_CAR_AGE_38', \n",
    "                                                     'OWN_CAR_AGE_39', 'OWN_CAR_AGE_40', 'OWN_CAR_AGE_41', \n",
    "                                                     'OWN_CAR_AGE_42', 'OWN_CAR_AGE_43', 'OWN_CAR_AGE_44', \n",
    "                                                     'OWN_CAR_AGE_45', 'OWN_CAR_AGE_46', 'OWN_CAR_AGE_49',\n",
    "                                                     'OWN_CAR_AGE_50', 'OWN_CAR_AGE_51', 'OWN_CAR_AGE_52',\n",
    "                                                     'OWN_CAR_AGE_54', 'OWN_CAR_AGE_55', 'OWN_CAR_AGE_63',\n",
    "                                                     'OWN_CAR_AGE_64', 'OWN_CAR_AGE_65'], index=trainset.index)\n",
    "trainset = pd.concat([trainset, trainset_OWN_CAR_AGE], axis = 1)\n",
    "del(trainset['OWN_CAR_AGE'])"
   ]
  },
  {
   "cell_type": "code",
   "execution_count": 21,
   "metadata": {},
   "outputs": [],
   "source": [
    "trainset['FLAG_MOBIL'] = LabelEncoder().fit_transform(trainset['FLAG_MOBIL'])\n",
    "trainset['FLAG_EMP_PHONE'] = LabelEncoder().fit_transform(trainset['FLAG_EMP_PHONE'])\n",
    "trainset['FLAG_WORK_PHONE'] = LabelEncoder().fit_transform(trainset['FLAG_WORK_PHONE'])"
   ]
  },
  {
   "cell_type": "markdown",
   "metadata": {},
   "source": [
    "## 26 ~ 30 Columns \n",
    "- 26) FLAG_CONT_MOBILE\n",
    "    - 0 또는 1로 Category 값 으로 변경\n",
    "    - Missing Values 없음.\n",
    "- 27) FLAG_PHONE\n",
    "    - 0 또는 1로 Category 값 으로 변경\n",
    "    - Missing Values 202,929 values\n",
    "- 28) FLAG_EMAIL\n",
    "    - 0 또는 1로 Category 값 으로 변경\n",
    "    - Missing Values 없음.\n",
    "- 29) OCCUPATION_TYPE\n",
    "    - ['Laborers', 'Core staff', 'Accountants', 'Managers', nan,\n",
    "       'Drivers', 'Sales staff', 'Cleaning staff', 'Cooking staff',\n",
    "       'Private service staff', 'Medicine staff', 'Security staff',\n",
    "       'High skill tech staff', 'Waiters/barmen staff',\n",
    "       'Low-skill Laborers', 'Realty agents', 'Secretaries', 'IT staff',\n",
    "       'HR staff']\n",
    "            = > 모두 Dummy Variables로 DataFrame 끝으로 이동 됨\n",
    "    - Missing Values 96,391 values\n",
    "- 30) CNT_FAM_MEMBERS\n",
    "    - [ 1.,  2.,  3.,  4.,  5.,  6.,  9.,  7.,  8., 10., 13., 14.,\n",
    "       12., 20., 15., 16., 11.]\n",
    "           = > 모두 Dummy Variables로 DataFrame 끝으로 이동 됨\n",
    "    - Missing Values 없음."
   ]
  },
  {
   "cell_type": "code",
   "execution_count": 22,
   "metadata": {},
   "outputs": [],
   "source": [
    "trainset['FLAG_CONT_MOBILE'] = LabelEncoder().fit_transform(trainset['FLAG_CONT_MOBILE'])"
   ]
  },
  {
   "cell_type": "code",
   "execution_count": 23,
   "metadata": {},
   "outputs": [],
   "source": [
    "trainset['FLAG_PHONE'].fillna(trainset['FLAG_PHONE'].mode()[0], inplace=True)\n",
    "trainset['FLAG_PHONE'] = LabelEncoder().fit_transform(trainset['FLAG_PHONE'])"
   ]
  },
  {
   "cell_type": "code",
   "execution_count": 24,
   "metadata": {},
   "outputs": [],
   "source": [
    "trainset['OCCUPATION_TYPE'].fillna(trainset['OCCUPATION_TYPE'].mode()[0], inplace=True)\n",
    "trainset_OCCUPATION_TYPE = pd.get_dummies(trainset['OCCUPATION_TYPE'])\n",
    "trainset = pd.concat([trainset, trainset_OCCUPATION_TYPE], axis = 1)\n",
    "del(trainset['OCCUPATION_TYPE'])"
   ]
  },
  {
   "cell_type": "code",
   "execution_count": 25,
   "metadata": {},
   "outputs": [],
   "source": [
    "from sklearn.preprocessing import LabelBinarizer\n",
    "trainset_CNT_FAM_MEMBERS = pd.DataFrame(LabelBinarizer().fit_transform(trainset['CNT_FAM_MEMBERS']), \n",
    "                                           columns = ['CNT_FAM_MEMBERS_1', 'CNT_FAM_MEMBERS_3', 'CNT_FAM_MEMBERS_2',\n",
    "                                                    'CNT_FAM_MEMBERS_4', 'CNT_FAM_MEMBERS_5', 'CNT_FAM_MEMBERS_6',\n",
    "                                                    'CNT_FAM_MEMBERS_7', 'CNT_FAM_MEMBERS_8', 'CNT_FAM_MEMBERS_10',\n",
    "                                                    'CNT_FAM_MEMBERS_9', 'CNT_FAM_MEMBERS_14', 'CNT_FAM_MEMBERS_12',\n",
    "                                                    'CNT_FAM_MEMBERS_20', 'CNT_FAM_MEMBERS_15', 'CNT_FAM_MEMBERS_16',\n",
    "                                                     'CNT_FAM_MEMBERS_13'], index=trainset.index)\n",
    "trainset = pd.concat([trainset, trainset_CNT_FAM_MEMBERS], axis = 1)\n",
    "del(trainset['CNT_FAM_MEMBERS'])"
   ]
  },
  {
   "cell_type": "markdown",
   "metadata": {},
   "source": [
    "## 31 ~ 35 Columns \n",
    "- 31) REGION_RATING_CLIENT\n",
    "    - 1, 2, 3\n",
    "           = > 모두 Dummy Variables로 DataFrame 끝으로 이동 됨\n",
    "    - Missing Values 없음.\n",
    "- 32) REGION_RATING_CLIENT_W_CITY\n",
    "    - 1, 2, 3\n",
    "           = > 모두 Dummy Variables로 DataFrame 끝으로 이동 됨\n",
    "    - Missing Values 없음.\n",
    "- 33) WEEKDAY_APPR_PROCESS_START\n",
    "    - Monday, Tuesday, Wednesday, Thursday, Friday, Saturday, Sunday\n",
    "           = > 모두 Dummy Variables로 DataFrame 끝으로 이동 됨\n",
    "    - Missing Values 없음.\n",
    "- 34) HOUR_APPR_PROCESS_START\n",
    "    - 0 ~ 24 시간\n",
    "           = > 모두 Dummy Variables로 DataFrame 끝으로 이동 됨\n",
    "    - Missing Values 없음.\n",
    "- 35) REG_REGION_NOT_LIV_REGION\n",
    "    - 0 또는 1\n",
    "           = > 그냥 둔다\n",
    "    - Missing Values 없음."
   ]
  },
  {
   "cell_type": "code",
   "execution_count": 26,
   "metadata": {},
   "outputs": [],
   "source": [
    "trainset_REGION_RATING_CLIENT = pd.DataFrame(LabelBinarizer().fit_transform(trainset['REGION_RATING_CLIENT']), \n",
    "                                           columns = ['REGION_RATING_CLIENT_1', 'REGION_RATING_CLIENT_2', 'REGION_RATING_CLIENT_3'], index=trainset.index)\n",
    "trainset = pd.concat([trainset, trainset_REGION_RATING_CLIENT], axis = 1)\n",
    "del(trainset['REGION_RATING_CLIENT'])"
   ]
  },
  {
   "cell_type": "code",
   "execution_count": 27,
   "metadata": {},
   "outputs": [],
   "source": [
    "trainset_REGION_RATING_CLIENT_W_CITY = pd.DataFrame(LabelBinarizer().fit_transform(trainset['REGION_RATING_CLIENT_W_CITY']), \n",
    "                                           columns = ['REGION_RATING_CLIENT_W_CITY_1', 'REGION_RATING_CLIENT_W_CITY_2', 'REGION_RATING_CLIENT_W_CITY_3'], index=trainset.index)\n",
    "trainset = pd.concat([trainset, trainset_REGION_RATING_CLIENT_W_CITY], axis = 1)\n",
    "del(trainset['REGION_RATING_CLIENT_W_CITY'])"
   ]
  },
  {
   "cell_type": "code",
   "execution_count": 28,
   "metadata": {},
   "outputs": [],
   "source": [
    "trainset_WEEKDAY_APPR_PROCESS_START = pd.get_dummies(trainset['WEEKDAY_APPR_PROCESS_START'])\n",
    "trainset = pd.concat([trainset, trainset_WEEKDAY_APPR_PROCESS_START], axis = 1)\n",
    "del(trainset['WEEKDAY_APPR_PROCESS_START'])"
   ]
  },
  {
   "cell_type": "code",
   "execution_count": 29,
   "metadata": {},
   "outputs": [],
   "source": [
    "trainset_HOUR_APPR_PROCESS_START = pd.DataFrame(LabelBinarizer().\n",
    "                                                fit_transform(trainset['HOUR_APPR_PROCESS_START']), \n",
    "                                           columns = ['HOUR_APPR_PROCESS_START_1', 'HOUR_APPR_PROCESS_START_2', 'HOUR_APPR_PROCESS_START_3',\n",
    "                                                      'HOUR_APPR_PROCESS_START_4', 'HOUR_APPR_PROCESS_START_5', 'HOUR_APPR_PROCESS_START_6',\n",
    "                                                      'HOUR_APPR_PROCESS_START_7', 'HOUR_APPR_PROCESS_START_8', 'HOUR_APPR_PROCESS_START_9',\n",
    "                                                      'HOUR_APPR_PROCESS_START_9', 'HOUR_APPR_PROCESS_START_10', 'HOUR_APPR_PROCESS_START_11',\n",
    "                                                     'HOUR_APPR_PROCESS_START_12', 'HOUR_APPR_PROCESS_START_13', 'HOUR_APPR_PROCESS_START_14',\n",
    "                                                     'HOUR_APPR_PROCESS_START_15', 'HOUR_APPR_PROCESS_START_16', 'HOUR_APPR_PROCESS_START_17',\n",
    "                                                     'HOUR_APPR_PROCESS_START_18', 'HOUR_APPR_PROCESS_START_19', 'HOUR_APPR_PROCESS_START_20',\n",
    "                                                     'HOUR_APPR_PROCESS_START_21', 'HOUR_APPR_PROCESS_START_22', 'HOUR_APPR_PROCESS_START_23'], index=trainset.index)\n",
    "trainset = pd.concat([trainset, trainset_HOUR_APPR_PROCESS_START], axis = 1)\n",
    "del(trainset['HOUR_APPR_PROCESS_START'])"
   ]
  },
  {
   "cell_type": "markdown",
   "metadata": {},
   "source": [
    "## 36 ~ 40 Columns \n",
    "- 36) REG_REGION_NOT_WORK_REGION\n",
    "    - 0 or 1 => 그대로 둔다\n",
    "- 37) LIVE_REGION_NOT_WORK_REGION\n",
    "    - 0 or 1 => 그대로 둔다\n",
    "- 38) REG_CITY_NOT_LIVE_CITY\n",
    "    - 0 or 1 => 그대로 둔다\n",
    "- 39) REG_REGION_NOT_WORK_REGION\n",
    "    - 0 or 1 => 그대로 둔다\n",
    "- 40) LIVE_REGION_NOT_WORK_REGION\n",
    "    - 0 or 1 => 그대로 둔다"
   ]
  },
  {
   "cell_type": "markdown",
   "metadata": {},
   "source": [
    "## 41 Column\n",
    "- 41) ORGANIZATION_TYPE\n",
    "    - 58개의 기관"
   ]
  },
  {
   "cell_type": "code",
   "execution_count": 30,
   "metadata": {},
   "outputs": [],
   "source": [
    "trainset_ORGANIZATION_TYPE = pd.get_dummies(trainset['ORGANIZATION_TYPE'])\n",
    "trainset = pd.concat([trainset, trainset_ORGANIZATION_TYPE], axis = 1)\n",
    "del(trainset['ORGANIZATION_TYPE'])"
   ]
  },
  {
   "cell_type": "markdown",
   "metadata": {},
   "source": [
    "## 42 ~ 91 정규화 된 변수 \n",
    "- 42) EXT_SOURCE_1\n",
    "- 43) EXT_SOURCE_2\n",
    "- 44) EXT_SOURCE_3\n",
    "- 45) APARTMENTS_AVG\n",
    "- 46) BASEMENTSARE_AVG\n",
    "- 47) YEARS_BEGINEXPLUATATION_AVG\n",
    "- 48) YEARS_BUILD_AVG\n",
    "- 49) COMMONAREA_AVG\n",
    "- 50) ELEVATORS_AVG\n",
    "- 51) ENTRANCES_AVG\n",
    "- 52) FLOORSMAX_AVG\n",
    "- 53) FLOORSMIN_AVG\n",
    "- 54) LANDAREA_AVG\n",
    "- 55) LIVINGAPARTMENTS_AVG\n",
    "- 56) LIVINGAREA_AVG\n",
    "- 57) NONLIVINGAPARTMENTS_AVG\n",
    "- 58) NONLIVINGAREA_AVG\n",
    "- 59) APARTMENTS_MODE\n",
    "- 60) BASEMENTSAREA_MODE\n",
    "- 61) YEARS_BEGINEXPLUATATION_MODE\n",
    "- 62) YEARS_BUILD_MODE\n",
    "- 63) COMMONAREA_MODE\n",
    "- 64) ELEVATORS_MODE\n",
    "- 65) ENTRANCES_MODE\n",
    "- 66) FLOORSMAX_MODE\n",
    "- 67) FLOORSMIN_MODE\n",
    "- 68) LANDAREA_MODE\n",
    "- 69) LIVINGAPARTMENTS_MODE\n",
    "- 70) LIVINGAREA_MODE\n",
    "- 71) NONLIVINGAPARTMENTS_MODE\n",
    "- 72) NONLIVINGAREA_MODE\n",
    "- 73) APARTMENTS_MEDI\n",
    "- 74) BASEMENTSAREA_MEDI\n",
    "- 75) YEARS_BEGINEXPLUATATION_MEDI\n",
    "- 76) YEARS_BUILD_MEDI\n",
    "- 77) COMMONAREA_MEDI\n",
    "- 78) ELEVATORS_MEDI\n",
    "- 79) ENTRANCES_MEDI\n",
    "- 80) FLOORSMAX_MEDI\n",
    "- 81) FLOORSMIN_MEDI\n",
    "- 82) LANDAREA_MEDI\n",
    "- 83) LIVINGAPARTMENTS_MEDI\n",
    "- 84) LIVINGAREA_MEDI\n",
    "- 85) NONLIVINGAPARTMENTS_MEDI\n",
    "- 86) NONLIVINGAREA_MEDI\n",
    "- 87) FONDKAPREMONT_MODE\n",
    "- 88) HOUSETYPE_MODE\n",
    "- 89) TOTALAREA_MODE\n",
    "- 90) WALLSMATERIAL_MODE\n",
    "- 91) EMERGENCYSTATE_MODE"
   ]
  },
  {
   "cell_type": "markdown",
   "metadata": {},
   "source": [
    "## 92 ~ 96\n",
    "- 92) OBS_30_CNT_SOCIAL_CIRCLE\n",
    "    - Missing Value 처리\n",
    "    - Dummies 처리\n",
    "- 93) OBS_30_CNT_SOCIAL_CIRCLE\n",
    "    - Missing Value 처리\n",
    "    - Dummies 처리\n",
    "- 94) OBS_30_CNT_SOCIAL_CIRCLE\n",
    "    - Missing Value 처리\n",
    "    - Dummies 처리\n",
    "- 95) OBS_30_CNT_SOCIAL_CIRCLE\n",
    "    - Missing Value 처리\n",
    "    - Dummies 처리\n",
    "- 96) DAYS_LAST_PHONE_CHANGE\n",
    "    - Numeric으로 보고, 전처리 Scaling 필요함.\n",
    "    - Missing Values 없음."
   ]
  },
  {
   "cell_type": "code",
   "execution_count": 31,
   "metadata": {
    "scrolled": true
   },
   "outputs": [],
   "source": [
    "trainset['OBS_30_CNT_SOCIAL_CIRCLE'] = trainset['OBS_30_CNT_SOCIAL_CIRCLE'].fillna(trainset['OBS_30_CNT_SOCIAL_CIRCLE'].mode()[0])"
   ]
  },
  {
   "cell_type": "code",
   "execution_count": 32,
   "metadata": {},
   "outputs": [
    {
     "data": {
      "text/plain": [
       "0"
      ]
     },
     "execution_count": 32,
     "metadata": {},
     "output_type": "execute_result"
    }
   ],
   "source": [
    "trainset['OBS_30_CNT_SOCIAL_CIRCLE'].isnull().sum()"
   ]
  },
  {
   "cell_type": "code",
   "execution_count": 33,
   "metadata": {},
   "outputs": [
    {
     "name": "stdout",
     "output_type": "stream",
     "text": [
      "[0.0, 1.0, 2.0, 3.0, 4.0, 5.0, 6.0, 7.0, 8.0, 9.0, 10.0, 11.0, 12.0, 13.0, 14.0, 15.0, 16.0, 17.0, 18.0, 19.0, 20.0, 21.0, 22.0, 23.0, 24.0, 25.0, 26.0, 27.0, 29.0, 30.0]\n"
     ]
    }
   ],
   "source": [
    "print(sorted(trainset['OBS_30_CNT_SOCIAL_CIRCLE'].unique()))"
   ]
  },
  {
   "cell_type": "code",
   "execution_count": 34,
   "metadata": {
    "scrolled": true
   },
   "outputs": [],
   "source": [
    "from sklearn.preprocessing import LabelBinarizer\n",
    "\n",
    "trainset_OBS_30_CNT_SOCIAL_CIRCLE = pd.DataFrame(LabelBinarizer().\n",
    "                                                fit_transform(trainset['OBS_30_CNT_SOCIAL_CIRCLE']), \n",
    "                                           columns = ['OBS_30_CNT_SOCIAL_CIRCLE_0', 'OBS_30_CNT_SOCIAL_CIRCLE_1', 'OBS_30_CNT_SOCIAL_CIRCLE_2',\n",
    "                                                      'OBS_30_CNT_SOCIAL_CIRCLE_3', 'OBS_30_CNT_SOCIAL_CIRCLE_4', 'OBS_30_CNT_SOCIAL_CIRCLE_5',\n",
    "                                                      'OBS_30_CNT_SOCIAL_CIRCLE_6', 'OBS_30_CNT_SOCIAL_CIRCLE_7', 'OBS_30_CNT_SOCIAL_CIRCLE_8',\n",
    "                                                      'OBS_30_CNT_SOCIAL_CIRCLE_9', 'OBS_30_CNT_SOCIAL_CIRCLE_10', 'OBS_30_CNT_SOCIAL_CIRCLE_11',\n",
    "                                                     'OBS_30_CNT_SOCIAL_CIRCLE_12', 'OBS_30_CNT_SOCIAL_CIRCLE_13', 'OBS_30_CNT_SOCIAL_CIRCLE_14',\n",
    "                                                     'OBS_30_CNT_SOCIAL_CIRCLE_15', 'OBS_30_CNT_SOCIAL_CIRCLE_16', 'OBS_30_CNT_SOCIAL_CIRCLE_17',\n",
    "                                                     'OBS_30_CNT_SOCIAL_CIRCLE_18', 'OBS_30_CNT_SOCIAL_CIRCLE_19', 'OBS_30_CNT_SOCIAL_CIRCLE_20',\n",
    "                                                     'OBS_30_CNT_SOCIAL_CIRCLE_21', 'OBS_30_CNT_SOCIAL_CIRCLE_22', 'OBS_30_CNT_SOCIAL_CIRCLE_23',\n",
    "                                                      'OBS_30_CNT_SOCIAL_CIRCLE_24', 'OBS_30_CNT_SOCIAL_CIRCLE_25', 'OBS_30_CNT_SOCIAL_CIRCLE_26',\n",
    "                                                     'OBS_30_CNT_SOCIAL_CIRCLE_27', 'OBS_30_CNT_SOCIAL_CIRCLE_29', 'OBS_30_CNT_SOCIAL_CIRCLE_30'], index=trainset.index)\n",
    "trainset = pd.concat([trainset, trainset_OBS_30_CNT_SOCIAL_CIRCLE], axis = 1)\n",
    "del(trainset['OBS_30_CNT_SOCIAL_CIRCLE'])"
   ]
  },
  {
   "cell_type": "code",
   "execution_count": 35,
   "metadata": {},
   "outputs": [
    {
     "data": {
      "text/plain": [
       "594"
      ]
     },
     "execution_count": 35,
     "metadata": {},
     "output_type": "execute_result"
    }
   ],
   "source": [
    "trainset['DEF_30_CNT_SOCIAL_CIRCLE'].isnull().sum()"
   ]
  },
  {
   "cell_type": "code",
   "execution_count": 36,
   "metadata": {},
   "outputs": [
    {
     "data": {
      "text/plain": [
       "[0.0, 1.0, 2.0, nan, 3.0, 4.0, 5.0, 6.0, 8.0]"
      ]
     },
     "execution_count": 36,
     "metadata": {},
     "output_type": "execute_result"
    }
   ],
   "source": [
    "sorted(trainset['DEF_30_CNT_SOCIAL_CIRCLE'].unique())"
   ]
  },
  {
   "cell_type": "code",
   "execution_count": 37,
   "metadata": {},
   "outputs": [
    {
     "data": {
      "text/plain": [
       "0    0.0\n",
       "dtype: float64"
      ]
     },
     "execution_count": 37,
     "metadata": {},
     "output_type": "execute_result"
    }
   ],
   "source": [
    "trainset['DEF_30_CNT_SOCIAL_CIRCLE'].mode()"
   ]
  },
  {
   "cell_type": "code",
   "execution_count": 38,
   "metadata": {},
   "outputs": [],
   "source": [
    "trainset['DEF_30_CNT_SOCIAL_CIRCLE'] = trainset['DEF_30_CNT_SOCIAL_CIRCLE'].fillna(0.0)"
   ]
  },
  {
   "cell_type": "code",
   "execution_count": 39,
   "metadata": {},
   "outputs": [
    {
     "data": {
      "text/plain": [
       "0"
      ]
     },
     "execution_count": 39,
     "metadata": {},
     "output_type": "execute_result"
    }
   ],
   "source": [
    "trainset['DEF_30_CNT_SOCIAL_CIRCLE'].isnull().sum()"
   ]
  },
  {
   "cell_type": "code",
   "execution_count": 40,
   "metadata": {},
   "outputs": [],
   "source": [
    "from sklearn.preprocessing import LabelBinarizer\n",
    "\n",
    "trainset_DEF_30_CNT_SOCIAL_CIRCLE = pd.DataFrame(LabelBinarizer().\n",
    "                                                fit_transform(trainset['DEF_30_CNT_SOCIAL_CIRCLE']), \n",
    "                                           columns = ['DEF_30_CNT_SOCIAL_CIRCLE_0', 'DEF_30_CNT_SOCIAL_CIRCLE_1', 'DEF_30_CNT_SOCIAL_CIRCLE_2',\n",
    "                                                      'DEF_30_CNT_SOCIAL_CIRCLE_3', 'DEF_30_CNT_SOCIAL_CIRCLE_4', 'DEF_30_CNT_SOCIAL_CIRCLE_5',\n",
    "                                                      'DEF_30_CNT_SOCIAL_CIRCLE_6', 'DEF_30_CNT_SOCIAL_CIRCLE_8'], index=trainset.index)\n",
    "trainset = pd.concat([trainset, trainset_DEF_30_CNT_SOCIAL_CIRCLE], axis = 1)\n",
    "del(trainset['DEF_30_CNT_SOCIAL_CIRCLE'])"
   ]
  },
  {
   "cell_type": "code",
   "execution_count": 41,
   "metadata": {},
   "outputs": [
    {
     "data": {
      "text/plain": [
       "594"
      ]
     },
     "execution_count": 41,
     "metadata": {},
     "output_type": "execute_result"
    }
   ],
   "source": [
    "trainset['OBS_60_CNT_SOCIAL_CIRCLE'].isnull().sum()"
   ]
  },
  {
   "cell_type": "code",
   "execution_count": 42,
   "metadata": {
    "scrolled": true
   },
   "outputs": [
    {
     "name": "stdout",
     "output_type": "stream",
     "text": [
      "[0.0, 1.0, 2.0, 3.0, 4.0, 5.0, 6.0, 7.0, 8.0, 9.0, 10.0, 11.0, 12.0, 13.0, nan, 14.0, 15.0, 16.0, 17.0, 18.0, 19.0, 20.0, 21.0, 22.0, 23.0, 24.0, 25.0, 26.0, 27.0, 29.0, 30.0]\n"
     ]
    }
   ],
   "source": [
    "print(sorted(trainset['OBS_60_CNT_SOCIAL_CIRCLE'].unique()))"
   ]
  },
  {
   "cell_type": "code",
   "execution_count": 43,
   "metadata": {},
   "outputs": [
    {
     "data": {
      "text/plain": [
       "0    0.0\n",
       "dtype: float64"
      ]
     },
     "execution_count": 43,
     "metadata": {},
     "output_type": "execute_result"
    }
   ],
   "source": [
    "trainset['OBS_60_CNT_SOCIAL_CIRCLE'].mode()"
   ]
  },
  {
   "cell_type": "code",
   "execution_count": 44,
   "metadata": {},
   "outputs": [],
   "source": [
    "trainset['OBS_60_CNT_SOCIAL_CIRCLE'].fillna(0.0, inplace=True)"
   ]
  },
  {
   "cell_type": "code",
   "execution_count": 45,
   "metadata": {},
   "outputs": [],
   "source": [
    "trainset['OBS_60_CNT_SOCIAL_CIRCLE'] = trainset['OBS_60_CNT_SOCIAL_CIRCLE'].fillna(0.0)"
   ]
  },
  {
   "cell_type": "code",
   "execution_count": 46,
   "metadata": {},
   "outputs": [],
   "source": [
    "from sklearn.preprocessing import LabelBinarizer\n",
    "\n",
    "trainset_OBS_60_CNT_SOCIAL_CIRCLE = pd.DataFrame(LabelBinarizer().\n",
    "                                                fit_transform(trainset['OBS_60_CNT_SOCIAL_CIRCLE']), \n",
    "                                           columns = ['OBS_60_CNT_SOCIAL_CIRCLE_0', 'OBS_60_CNT_SOCIAL_CIRCLE_1', 'OBS_60_CNT_SOCIAL_CIRCLE_2',\n",
    "                                                      'OBS_60_CNT_SOCIAL_CIRCLE_3', 'OBS_60_CNT_SOCIAL_CIRCLE_4', 'OBS_60_CNT_SOCIAL_CIRCLE_5',\n",
    "                                                      'OBS_60_CNT_SOCIAL_CIRCLE_6', 'OBS_60_CNT_SOCIAL_CIRCLE_7', 'OBS_60_CNT_SOCIAL_CIRCLE_8',\n",
    "                                                      'OBS_60_CNT_SOCIAL_CIRCLE_9', 'OBS_60_CNT_SOCIAL_CIRCLE_10', 'OBS_60_CNT_SOCIAL_CIRCLE_11',\n",
    "                                                     'OBS_60_CNT_SOCIAL_CIRCLE_12', 'OBS_60_CNT_SOCIAL_CIRCLE_13', 'OBS_60_CNT_SOCIAL_CIRCLE_14',\n",
    "                                                     'OBS_60_CNT_SOCIAL_CIRCLE_15', 'OBS_60_CNT_SOCIAL_CIRCLE_16', 'OBS_60_CNT_SOCIAL_CIRCLE_17',\n",
    "                                                     'OBS_60_CNT_SOCIAL_CIRCLE_18', 'OBS_60_CNT_SOCIAL_CIRCLE_19', 'OBS_60_CNT_SOCIAL_CIRCLE_20',\n",
    "                                                     'OBS_60_CNT_SOCIAL_CIRCLE_21', 'OBS_60_CNT_SOCIAL_CIRCLE_22', 'OBS_60_CNT_SOCIAL_CIRCLE_23',\n",
    "                                                      'OBS_60_CNT_SOCIAL_CIRCLE_24', 'OBS_60_CNT_SOCIAL_CIRCLE_25', 'OBS_60_CNT_SOCIAL_CIRCLE_26',\n",
    "                                                     'OBS_60_CNT_SOCIAL_CIRCLE_27', 'OBS_60_CNT_SOCIAL_CIRCLE_29', 'OBS_60_CNT_SOCIAL_CIRCLE_30'], index=trainset.index)\n",
    "trainset = pd.concat([trainset, trainset_OBS_60_CNT_SOCIAL_CIRCLE], axis = 1)\n",
    "del(trainset['OBS_60_CNT_SOCIAL_CIRCLE'])"
   ]
  },
  {
   "cell_type": "code",
   "execution_count": 47,
   "metadata": {},
   "outputs": [
    {
     "data": {
      "text/plain": [
       "594"
      ]
     },
     "execution_count": 47,
     "metadata": {},
     "output_type": "execute_result"
    }
   ],
   "source": [
    "trainset['DEF_60_CNT_SOCIAL_CIRCLE'].isnull().sum()"
   ]
  },
  {
   "cell_type": "code",
   "execution_count": 48,
   "metadata": {},
   "outputs": [
    {
     "data": {
      "text/plain": [
       "[0.0, 1.0, 2.0, nan, 3.0, 4.0, 5.0, 6.0]"
      ]
     },
     "execution_count": 48,
     "metadata": {},
     "output_type": "execute_result"
    }
   ],
   "source": [
    "sorted(trainset['DEF_60_CNT_SOCIAL_CIRCLE'].unique())"
   ]
  },
  {
   "cell_type": "code",
   "execution_count": 49,
   "metadata": {},
   "outputs": [
    {
     "data": {
      "text/plain": [
       "0    0.0\n",
       "dtype: float64"
      ]
     },
     "execution_count": 49,
     "metadata": {},
     "output_type": "execute_result"
    }
   ],
   "source": [
    "trainset['DEF_60_CNT_SOCIAL_CIRCLE'].mode()"
   ]
  },
  {
   "cell_type": "code",
   "execution_count": 50,
   "metadata": {},
   "outputs": [],
   "source": [
    "trainset['DEF_60_CNT_SOCIAL_CIRCLE'] = trainset['DEF_60_CNT_SOCIAL_CIRCLE'].fillna(0.0)"
   ]
  },
  {
   "cell_type": "code",
   "execution_count": 51,
   "metadata": {},
   "outputs": [
    {
     "data": {
      "text/plain": [
       "0"
      ]
     },
     "execution_count": 51,
     "metadata": {},
     "output_type": "execute_result"
    }
   ],
   "source": [
    "trainset['DEF_60_CNT_SOCIAL_CIRCLE'].isnull().sum()"
   ]
  },
  {
   "cell_type": "code",
   "execution_count": 52,
   "metadata": {},
   "outputs": [],
   "source": [
    "from sklearn.preprocessing import LabelBinarizer\n",
    "\n",
    "trainset_DEF_60_CNT_SOCIAL_CIRCLE = pd.DataFrame(LabelBinarizer().\n",
    "                                                fit_transform(trainset['DEF_60_CNT_SOCIAL_CIRCLE']), \n",
    "                                           columns = ['DEF_60_CNT_SOCIAL_CIRCLE_0', 'DEF_60_CNT_SOCIAL_CIRCLE_1', 'DEF_60_CNT_SOCIAL_CIRCLE_2',\n",
    "                                                      'DEF_60_CNT_SOCIAL_CIRCLE_3', 'DEF_60_CNT_SOCIAL_CIRCLE_4', 'DEF_60_CNT_SOCIAL_CIRCLE_5',\n",
    "                                                      'DEF_60_CNT_SOCIAL_CIRCLE_6'], index=trainset.index)\n",
    "trainset = pd.concat([trainset, trainset_DEF_60_CNT_SOCIAL_CIRCLE], axis = 1)\n",
    "del(trainset['DEF_60_CNT_SOCIAL_CIRCLE'])"
   ]
  },
  {
   "cell_type": "code",
   "execution_count": 53,
   "metadata": {},
   "outputs": [
    {
     "data": {
      "text/plain": [
       "0    0.0\n",
       "dtype: float64"
      ]
     },
     "execution_count": 53,
     "metadata": {},
     "output_type": "execute_result"
    }
   ],
   "source": [
    "trainset['DAYS_LAST_PHONE_CHANGE'].mode()"
   ]
  },
  {
   "cell_type": "code",
   "execution_count": 54,
   "metadata": {},
   "outputs": [],
   "source": [
    "trainset['DAYS_LAST_PHONE_CHANGE'] = trainset['DAYS_LAST_PHONE_CHANGE'].fillna(0.0)"
   ]
  },
  {
   "cell_type": "code",
   "execution_count": 55,
   "metadata": {},
   "outputs": [
    {
     "data": {
      "text/plain": [
       "array([ -815., -1562., -1070., ..., -3502., -3788., -3675.])"
      ]
     },
     "execution_count": 55,
     "metadata": {},
     "output_type": "execute_result"
    }
   ],
   "source": [
    "trainset['DAYS_LAST_PHONE_CHANGE'].unique()"
   ]
  },
  {
   "cell_type": "code",
   "execution_count": 56,
   "metadata": {},
   "outputs": [
    {
     "data": {
      "text/plain": [
       "0"
      ]
     },
     "execution_count": 56,
     "metadata": {},
     "output_type": "execute_result"
    }
   ],
   "source": [
    "trainset['DAYS_LAST_PHONE_CHANGE'].isnull().sum()"
   ]
  },
  {
   "cell_type": "code",
   "execution_count": 57,
   "metadata": {},
   "outputs": [],
   "source": [
    "trainset['DAYS_LAST_PHONE_CHANGE'] = scale(trainset['DAYS_LAST_PHONE_CHANGE'])"
   ]
  },
  {
   "cell_type": "markdown",
   "metadata": {},
   "source": [
    "## 97 ~ 116\n",
    "- FLAG_DOCUMENT_2\n",
    "- FLAG_DOCUMENT_3\n",
    "- FLAG_DOCUMENT_4\n",
    "- FLAG_DOCUMENT_5\n",
    "- FLAG_DOCUMENT_6\n",
    "- FLAG_DOCUMENT_7\n",
    "- FLAG_DOCUMENT_8\n",
    "- FLAG_DOCUMENT_9\n",
    "- FLAG_DOCUMENT_10\n",
    "- FLAG_DOCUMENT_11\n",
    "- FLAG_DOCUMENT_12\n",
    "- FLAG_DOCUMENT_13\n",
    "- FLAG_DOCUMENT_14\n",
    "- FLAG_DOCUMENT_15\n",
    "- FLAG_DOCUMENT_16\n",
    "- FLAG_DOCUMENT_17\n",
    "- FLAG_DOCUMENT_18\n",
    "- FLAG_DOCUMENT_19\n",
    "- FLAG_DOCUMENT_20\n",
    "- FLAG_DOCUMENT_21\n",
    "    - `0` or `1` = > 이미 카테고리 값이라서, 다른 전처리 필요 없음"
   ]
  },
  {
   "cell_type": "markdown",
   "metadata": {},
   "source": [
    "### 117 ~ 122 \n",
    "- 117) AMT_REQ_CREDIT_BUREAU_HOUR\n",
    "- 118) AMT_REQ_CREDIT_BUREAU_DAY\n",
    "- 119) AMT_REQ_CREDIT_BUREAU_WEEK\n",
    "- 120) AMT_REQ_CREDIT_BUREAU_MON\n",
    "- 121) AMT_REQ_CREDIT_BUREAU_QRT\n",
    "- 122) AMT_REQ_CREDIT_BUREAU_YEAR"
   ]
  },
  {
   "cell_type": "code",
   "execution_count": 58,
   "metadata": {},
   "outputs": [
    {
     "name": "stdout",
     "output_type": "stream",
     "text": [
      "0.0\n",
      "0.0\n",
      "0.0\n",
      "0.0\n",
      "0.0\n",
      "0.0\n"
     ]
    }
   ],
   "source": [
    "print(trainset['AMT_REQ_CREDIT_BUREAU_HOUR'].mode()[0])\n",
    "print(trainset['AMT_REQ_CREDIT_BUREAU_DAY'].mode()[0])\n",
    "print(trainset['AMT_REQ_CREDIT_BUREAU_WEEK'].mode()[0])\n",
    "print(trainset['AMT_REQ_CREDIT_BUREAU_MON'].mode()[0])\n",
    "print(trainset['AMT_REQ_CREDIT_BUREAU_QRT'].mode()[0])\n",
    "print(trainset['AMT_REQ_CREDIT_BUREAU_YEAR'].mode()[0])"
   ]
  },
  {
   "cell_type": "code",
   "execution_count": 59,
   "metadata": {},
   "outputs": [
    {
     "name": "stdout",
     "output_type": "stream",
     "text": [
      "[ 0. nan  1.  2.  3.]\n",
      "[ 0. nan  1.  3.  4.  2.  5.  6.  9.  8.]\n",
      "[ 0. nan  1.  3.  2.  5.  6.  4.  8.  7.]\n",
      "[ 0.  1. nan  6.  2.  7.  9.  3.  4. 11.  5.  8. 16. 12. 14. 10. 13. 17.\n",
      " 24. 19. 15. 18.]\n",
      "[  0.   1.  nan   2.   3.   4.   7.   5.   6.   8. 261.]\n",
      "[ 0.  2. nan  1.  4.  5.  3.  8.  6.  9.  7. 10. 11. 16. 12. 25. 15. 14.\n",
      " 13. 17. 19. 18.]\n"
     ]
    }
   ],
   "source": [
    "print(trainset['AMT_REQ_CREDIT_BUREAU_HOUR'].unique())\n",
    "print(trainset['AMT_REQ_CREDIT_BUREAU_DAY'].unique())\n",
    "print(trainset['AMT_REQ_CREDIT_BUREAU_WEEK'].unique())\n",
    "print(trainset['AMT_REQ_CREDIT_BUREAU_MON'].unique())\n",
    "print(trainset['AMT_REQ_CREDIT_BUREAU_QRT'].unique())\n",
    "print(trainset['AMT_REQ_CREDIT_BUREAU_YEAR'].unique())"
   ]
  },
  {
   "cell_type": "code",
   "execution_count": 60,
   "metadata": {},
   "outputs": [
    {
     "name": "stdout",
     "output_type": "stream",
     "text": [
      "24766\n",
      "24766\n",
      "24766\n",
      "24766\n",
      "24766\n",
      "24766\n"
     ]
    }
   ],
   "source": [
    "print(trainset['AMT_REQ_CREDIT_BUREAU_HOUR'].isnull().sum())\n",
    "print(trainset['AMT_REQ_CREDIT_BUREAU_DAY'].isnull().sum())\n",
    "print(trainset['AMT_REQ_CREDIT_BUREAU_WEEK'].isnull().sum())\n",
    "print(trainset['AMT_REQ_CREDIT_BUREAU_MON'].isnull().sum())\n",
    "print(trainset['AMT_REQ_CREDIT_BUREAU_QRT'].isnull().sum())\n",
    "print(trainset['AMT_REQ_CREDIT_BUREAU_YEAR'].isnull().sum())"
   ]
  },
  {
   "cell_type": "code",
   "execution_count": 61,
   "metadata": {},
   "outputs": [],
   "source": [
    "trainset['AMT_REQ_CREDIT_BUREAU_HOUR'] = trainset['AMT_REQ_CREDIT_BUREAU_HOUR'].fillna(0.0)\n",
    "trainset['AMT_REQ_CREDIT_BUREAU_DAY'] = trainset['AMT_REQ_CREDIT_BUREAU_DAY'].fillna(0.0)\n",
    "trainset['AMT_REQ_CREDIT_BUREAU_WEEK'] = trainset['AMT_REQ_CREDIT_BUREAU_WEEK'].fillna(0.0)\n",
    "trainset['AMT_REQ_CREDIT_BUREAU_MON'] = trainset['AMT_REQ_CREDIT_BUREAU_MON'].fillna(0.0)\n",
    "trainset['AMT_REQ_CREDIT_BUREAU_QRT'] = trainset['AMT_REQ_CREDIT_BUREAU_QRT'].fillna(0.0)\n",
    "trainset['AMT_REQ_CREDIT_BUREAU_YEAR'] = trainset['AMT_REQ_CREDIT_BUREAU_YEAR'].fillna(0.0)"
   ]
  },
  {
   "cell_type": "code",
   "execution_count": 62,
   "metadata": {},
   "outputs": [
    {
     "data": {
      "text/plain": [
       "array([0., 1., 2., 3.])"
      ]
     },
     "execution_count": 62,
     "metadata": {},
     "output_type": "execute_result"
    }
   ],
   "source": [
    "trainset['AMT_REQ_CREDIT_BUREAU_HOUR'].unique()"
   ]
  },
  {
   "cell_type": "code",
   "execution_count": 63,
   "metadata": {},
   "outputs": [],
   "source": [
    "from sklearn.preprocessing import LabelBinarizer\n",
    "\n",
    "trainset_AMT_REQ_CREDIT_BUREAU_HOUR = pd.DataFrame(LabelBinarizer().\n",
    "                                                fit_transform(trainset['AMT_REQ_CREDIT_BUREAU_HOUR']), \n",
    "                                           columns = ['AMT_REQ_CREDIT_BUREAU_HOUR_0', 'AMT_REQ_CREDIT_BUREAU_HOUR_1', 'AMT_REQ_CREDIT_BUREAU_HOUR_2',\n",
    "                                                      'AMT_REQ_CREDIT_BUREAU_HOUR_3'], index=trainset.index)\n",
    "trainset = pd.concat([trainset, trainset_AMT_REQ_CREDIT_BUREAU_HOUR], axis = 1)\n",
    "del(trainset['AMT_REQ_CREDIT_BUREAU_HOUR'])"
   ]
  },
  {
   "cell_type": "code",
   "execution_count": 64,
   "metadata": {},
   "outputs": [
    {
     "data": {
      "text/plain": [
       "array([0., 1., 3., 4., 2., 5., 6., 9., 8.])"
      ]
     },
     "execution_count": 64,
     "metadata": {},
     "output_type": "execute_result"
    }
   ],
   "source": [
    "trainset['AMT_REQ_CREDIT_BUREAU_DAY'].unique()"
   ]
  },
  {
   "cell_type": "code",
   "execution_count": 65,
   "metadata": {},
   "outputs": [],
   "source": [
    "from sklearn.preprocessing import LabelBinarizer\n",
    "\n",
    "trainset_AMT_REQ_CREDIT_BUREAU_DAY = pd.DataFrame(LabelBinarizer().\n",
    "                                                fit_transform(trainset['AMT_REQ_CREDIT_BUREAU_DAY']), \n",
    "                                           columns = ['AMT_REQ_CREDIT_BUREAU_DAY_0', 'AMT_REQ_CREDIT_BUREAU_DAY_1', 'AMT_REQ_CREDIT_BUREAU_DAY_2',\n",
    "                                                      'AMT_REQ_CREDIT_BUREAU_DAY_3', 'AMT_REQ_CREDIT_BUREAU_DAY_4', 'AMT_REQ_CREDIT_BUREAU_DAY_5',\n",
    "                                                      'AMT_REQ_CREDIT_BUREAU_DAY_6', 'AMT_REQ_CREDIT_BUREAU_DAY_8', 'AMT_REQ_CREDIT_BUREAU_DAY_9'], index=trainset.index)\n",
    "trainset = pd.concat([trainset, trainset_AMT_REQ_CREDIT_BUREAU_DAY], axis = 1)\n",
    "del(trainset['AMT_REQ_CREDIT_BUREAU_DAY'])"
   ]
  },
  {
   "cell_type": "code",
   "execution_count": 66,
   "metadata": {},
   "outputs": [
    {
     "data": {
      "text/plain": [
       "[0.0, 1.0, 2.0, 3.0, 4.0, 5.0, 6.0, 7.0, 8.0]"
      ]
     },
     "execution_count": 66,
     "metadata": {},
     "output_type": "execute_result"
    }
   ],
   "source": [
    "sorted(trainset['AMT_REQ_CREDIT_BUREAU_WEEK'].unique())"
   ]
  },
  {
   "cell_type": "code",
   "execution_count": 67,
   "metadata": {},
   "outputs": [],
   "source": [
    "from sklearn.preprocessing import LabelBinarizer\n",
    "\n",
    "trainset_AMT_REQ_CREDIT_BUREAU_WEEK = pd.DataFrame(LabelBinarizer().\n",
    "                                                fit_transform(trainset['AMT_REQ_CREDIT_BUREAU_WEEK']), \n",
    "                                           columns = ['AMT_REQ_CREDIT_BUREAU_WEEK_0', 'AMT_REQ_CREDIT_BUREAU_WEEK_1', 'AMT_REQ_CREDIT_BUREAU_WEEK_2',\n",
    "                                                      'AMT_REQ_CREDIT_BUREAU_WEEK_3', 'AMT_REQ_CREDIT_BUREAU_WEEK_4', 'AMT_REQ_CREDIT_BUREAU_WEEK_5',\n",
    "                                                      'AMT_REQ_CREDIT_BUREAU_WEEK_6', 'AMT_REQ_CREDIT_BUREAU_WEEK_7', 'AMT_REQ_CREDIT_BUREAU_WEEK_8'], index=trainset.index)\n",
    "trainset = pd.concat([trainset, trainset_AMT_REQ_CREDIT_BUREAU_WEEK], axis = 1)\n",
    "del(trainset['AMT_REQ_CREDIT_BUREAU_WEEK'])"
   ]
  },
  {
   "cell_type": "code",
   "execution_count": 68,
   "metadata": {},
   "outputs": [
    {
     "name": "stdout",
     "output_type": "stream",
     "text": [
      "[0.0, 1.0, 2.0, 3.0, 4.0, 5.0, 6.0, 7.0, 8.0, 9.0, 10.0, 11.0, 12.0, 13.0, 14.0, 15.0, 16.0, 17.0, 18.0, 19.0, 24.0]\n"
     ]
    }
   ],
   "source": [
    "print(sorted(trainset['AMT_REQ_CREDIT_BUREAU_MON'].unique()))"
   ]
  },
  {
   "cell_type": "code",
   "execution_count": 69,
   "metadata": {},
   "outputs": [],
   "source": [
    "from sklearn.preprocessing import LabelBinarizer\n",
    "\n",
    "trainset_AMT_REQ_CREDIT_BUREAU_MON = pd.DataFrame(LabelBinarizer().\n",
    "                                                fit_transform(trainset['AMT_REQ_CREDIT_BUREAU_MON']), \n",
    "                                           columns = ['AMT_REQ_CREDIT_BUREAU_MON_0', 'AMT_REQ_CREDIT_BUREAU_MON_1', 'AMT_REQ_CREDIT_BUREAU_MON_2',\n",
    "                                                      'AMT_REQ_CREDIT_BUREAU_MON_3', 'AMT_REQ_CREDIT_BUREAU_MON_4', 'AMT_REQ_CREDIT_BUREAU_MON_5',\n",
    "                                                      'AMT_REQ_CREDIT_BUREAU_MON_6', 'AMT_REQ_CREDIT_BUREAU_MON_7', 'AMT_REQ_CREDIT_BUREAU_MON_8',\n",
    "                                                      'AMT_REQ_CREDIT_BUREAU_MON_9', 'AMT_REQ_CREDIT_BUREAU_MON_10', 'AMT_REQ_CREDIT_BUREAU_MON_11', \n",
    "                                                      'AMT_REQ_CREDIT_BUREAU_MON_12', 'AMT_REQ_CREDIT_BUREAU_MON_13', 'AMT_REQ_CREDIT_BUREAU_MON_14',\n",
    "                                                      'AMT_REQ_CREDIT_BUREAU_MON_15', 'AMT_REQ_CREDIT_BUREAU_MON_16', 'AMT_REQ_CREDIT_BUREAU_MON_17',\n",
    "                                                      'AMT_REQ_CREDIT_BUREAU_MON_18', 'AMT_REQ_CREDIT_BUREAU_MON_19', 'AMT_REQ_CREDIT_BUREAU_MON_24'], index=trainset.index)\n",
    "trainset = pd.concat([trainset, trainset_AMT_REQ_CREDIT_BUREAU_MON], axis = 1)\n",
    "del(trainset['AMT_REQ_CREDIT_BUREAU_MON'])"
   ]
  },
  {
   "cell_type": "code",
   "execution_count": 70,
   "metadata": {},
   "outputs": [
    {
     "data": {
      "text/plain": [
       "[0.0, 1.0, 2.0, 3.0, 4.0, 5.0, 6.0, 7.0, 8.0, 261.0]"
      ]
     },
     "execution_count": 70,
     "metadata": {},
     "output_type": "execute_result"
    }
   ],
   "source": [
    "sorted(trainset['AMT_REQ_CREDIT_BUREAU_QRT'].unique())"
   ]
  },
  {
   "cell_type": "code",
   "execution_count": 71,
   "metadata": {},
   "outputs": [],
   "source": [
    "from sklearn.preprocessing import LabelBinarizer\n",
    "\n",
    "trainset_AMT_REQ_CREDIT_BUREAU_QRT = pd.DataFrame(LabelBinarizer().\n",
    "                                                fit_transform(trainset['AMT_REQ_CREDIT_BUREAU_QRT']), \n",
    "                                           columns = ['AMT_REQ_CREDIT_BUREAU_QRT_0', 'AMT_REQ_CREDIT_BUREAU_QRT_1', 'AMT_REQ_CREDIT_BUREAU_QRT_2',\n",
    "                                                      'AMT_REQ_CREDIT_BUREAU_QRT_3', 'AMT_REQ_CREDIT_BUREAU_QRT_4', 'AMT_REQ_CREDIT_BUREAU_QRT_5',\n",
    "                                                      'AMT_REQ_CREDIT_BUREAU_QRT_6', 'AMT_REQ_CREDIT_BUREAU_QRT_7', 'AMT_REQ_CREDIT_BUREAU_QRT_8',\n",
    "                                                      'AMT_REQ_CREDIT_BUREAU_QRT_261'\n",
    "                                                     ], index=trainset.index)\n",
    "trainset = pd.concat([trainset, trainset_AMT_REQ_CREDIT_BUREAU_QRT], axis = 1)\n",
    "del(trainset['AMT_REQ_CREDIT_BUREAU_QRT'])"
   ]
  },
  {
   "cell_type": "code",
   "execution_count": 72,
   "metadata": {},
   "outputs": [
    {
     "name": "stdout",
     "output_type": "stream",
     "text": [
      "[0.0, 1.0, 2.0, 3.0, 4.0, 5.0, 6.0, 7.0, 8.0, 9.0, 10.0, 11.0, 12.0, 13.0, 14.0, 15.0, 16.0, 17.0, 18.0, 19.0, 25.0]\n"
     ]
    }
   ],
   "source": [
    "print(sorted(trainset['AMT_REQ_CREDIT_BUREAU_YEAR'].unique()))"
   ]
  },
  {
   "cell_type": "code",
   "execution_count": 73,
   "metadata": {},
   "outputs": [],
   "source": [
    "from sklearn.preprocessing import LabelBinarizer\n",
    "\n",
    "trainset_AMT_REQ_CREDIT_BUREAU_YEAR = pd.DataFrame(LabelBinarizer().\n",
    "                                                fit_transform(trainset['AMT_REQ_CREDIT_BUREAU_YEAR']), \n",
    "                                           columns = ['AMT_REQ_CREDIT_BUREAU_YEAR_0', 'AMT_REQ_CREDIT_BUREAU_YEAR_1', 'AMT_REQ_CREDIT_BUREAU_YEAR_2',\n",
    "                                                      'AMT_REQ_CREDIT_BUREAU_YEAR_3', 'AMT_REQ_CREDIT_BUREAU_YEAR_4', 'AMT_REQ_CREDIT_BUREAU_YEAR_5',\n",
    "                                                      'AMT_REQ_CREDIT_BUREAU_YEAR_6', 'AMT_REQ_CREDIT_BUREAU_YEAR_7', 'AMT_REQ_CREDIT_BUREAU_YEAR_8',\n",
    "                                                      'AMT_REQ_CREDIT_BUREAU_YEAR_9', 'AMT_REQ_CREDIT_BUREAU_YEAR_10', 'AMT_REQ_CREDIT_BUREAU_YEAR_11', \n",
    "                                                      'AMT_REQ_CREDIT_BUREAU_YEAR_12', 'AMT_REQ_CREDIT_BUREAU_YEAR_13', 'AMT_REQ_CREDIT_BUREAU_YEAR_14',\n",
    "                                                      'AMT_REQ_CREDIT_BUREAU_YEAR_15', 'AMT_REQ_CREDIT_BUREAU_YEAR_16', 'AMT_REQ_CREDIT_BUREAU_YEAR_17',\n",
    "                                                      'AMT_REQ_CREDIT_BUREAU_YEAR_18', 'AMT_REQ_CREDIT_BUREAU_YEAR_19', 'AMT_REQ_CREDIT_BUREAU_YEAR_25'], index=trainset.index)\n",
    "trainset = pd.concat([trainset, trainset_AMT_REQ_CREDIT_BUREAU_YEAR], axis = 1)\n",
    "del(trainset['AMT_REQ_CREDIT_BUREAU_YEAR'])"
   ]
  },
  {
   "cell_type": "markdown",
   "metadata": {},
   "source": [
    "## FINAL FRAME"
   ]
  },
  {
   "cell_type": "code",
   "execution_count": 74,
   "metadata": {},
   "outputs": [
    {
     "data": {
      "text/plain": [
       "(184506, 476)"
      ]
     },
     "execution_count": 74,
     "metadata": {},
     "output_type": "execute_result"
    }
   ],
   "source": [
    "trainset.shape"
   ]
  },
  {
   "cell_type": "code",
   "execution_count": 84,
   "metadata": {},
   "outputs": [
    {
     "name": "stdout",
     "output_type": "stream",
     "text": [
      "SK_ID_CURR\n",
      "TARGET\n",
      "NAME_CONTRACT_TYPE\n",
      "CODE_GENDER\n",
      "FLAG_OWN_CAR\n",
      "FLAG_OWN_REALTY\n",
      "AMT_INCOME_TOTAL\n",
      "AMT_CREDIT\n",
      "AMT_ANNUITY\n",
      "AMT_GOODS_PRICE\n",
      "REGION_POPULATION_RELATIVE\n",
      "DAYS_BIRTH\n",
      "DAYS_EMPLOYED\n",
      "DAYS_REGISTRATION\n",
      "DAYS_ID_PUBLISH\n",
      "FLAG_MOBIL\n",
      "FLAG_EMP_PHONE\n",
      "FLAG_WORK_PHONE\n",
      "FLAG_CONT_MOBILE\n",
      "FLAG_PHONE\n",
      "FLAG_EMAIL\n",
      "REG_REGION_NOT_LIVE_REGION\n",
      "REG_REGION_NOT_WORK_REGION\n",
      "LIVE_REGION_NOT_WORK_REGION\n",
      "REG_CITY_NOT_LIVE_CITY\n",
      "REG_CITY_NOT_WORK_CITY\n",
      "LIVE_CITY_NOT_WORK_CITY\n",
      "EXT_SOURCE_1\n",
      "EXT_SOURCE_2\n",
      "EXT_SOURCE_3\n",
      "APARTMENTS_AVG\n",
      "BASEMENTAREA_AVG\n",
      "YEARS_BEGINEXPLUATATION_AVG\n",
      "YEARS_BUILD_AVG\n",
      "COMMONAREA_AVG\n",
      "ELEVATORS_AVG\n",
      "ENTRANCES_AVG\n",
      "FLOORSMAX_AVG\n",
      "FLOORSMIN_AVG\n",
      "LANDAREA_AVG\n",
      "LIVINGAPARTMENTS_AVG\n",
      "LIVINGAREA_AVG\n",
      "NONLIVINGAPARTMENTS_AVG\n",
      "NONLIVINGAREA_AVG\n",
      "APARTMENTS_MODE\n",
      "BASEMENTAREA_MODE\n",
      "YEARS_BEGINEXPLUATATION_MODE\n",
      "YEARS_BUILD_MODE\n",
      "COMMONAREA_MODE\n",
      "ELEVATORS_MODE\n",
      "ENTRANCES_MODE\n",
      "FLOORSMAX_MODE\n",
      "FLOORSMIN_MODE\n",
      "LANDAREA_MODE\n",
      "LIVINGAPARTMENTS_MODE\n",
      "LIVINGAREA_MODE\n",
      "NONLIVINGAPARTMENTS_MODE\n",
      "NONLIVINGAREA_MODE\n",
      "APARTMENTS_MEDI\n",
      "BASEMENTAREA_MEDI\n",
      "YEARS_BEGINEXPLUATATION_MEDI\n",
      "YEARS_BUILD_MEDI\n",
      "COMMONAREA_MEDI\n",
      "ELEVATORS_MEDI\n",
      "ENTRANCES_MEDI\n",
      "FLOORSMAX_MEDI\n",
      "FLOORSMIN_MEDI\n",
      "LANDAREA_MEDI\n",
      "LIVINGAPARTMENTS_MEDI\n",
      "LIVINGAREA_MEDI\n",
      "NONLIVINGAPARTMENTS_MEDI\n",
      "NONLIVINGAREA_MEDI\n",
      "FONDKAPREMONT_MODE\n",
      "HOUSETYPE_MODE\n",
      "TOTALAREA_MODE\n",
      "WALLSMATERIAL_MODE\n",
      "EMERGENCYSTATE_MODE\n",
      "DAYS_LAST_PHONE_CHANGE\n",
      "FLAG_DOCUMENT_2\n",
      "FLAG_DOCUMENT_3\n",
      "FLAG_DOCUMENT_4\n",
      "FLAG_DOCUMENT_5\n",
      "FLAG_DOCUMENT_6\n",
      "FLAG_DOCUMENT_7\n",
      "FLAG_DOCUMENT_8\n",
      "FLAG_DOCUMENT_9\n",
      "FLAG_DOCUMENT_10\n",
      "FLAG_DOCUMENT_11\n",
      "FLAG_DOCUMENT_12\n",
      "FLAG_DOCUMENT_13\n",
      "FLAG_DOCUMENT_14\n",
      "FLAG_DOCUMENT_15\n",
      "FLAG_DOCUMENT_16\n",
      "FLAG_DOCUMENT_17\n",
      "FLAG_DOCUMENT_18\n",
      "FLAG_DOCUMENT_19\n",
      "FLAG_DOCUMENT_20\n",
      "FLAG_DOCUMENT_21\n",
      "CNT_CHILDREN_0\n",
      "CNT_CHILDREN_1\n",
      "CNT_CHILDREN_2\n",
      "CNT_CHILDREN_3\n",
      "CNT_CHILDREN_4\n",
      "CNT_CHILDREN_5\n",
      "CNT_CHILDREN_6\n",
      "CNT_CHILDREN_7\n",
      "CNT_CHILDREN_8\n",
      "CNT_CHILDREN_10\n",
      "CNT_CHILDREN_11\n",
      "CNT_CHILDREN_12\n",
      "CNT_CHILDREN_14\n",
      "CNT_CHILDREN_19\n",
      "Children\n",
      "Family\n",
      "Group of people\n",
      "Other_A\n",
      "Other_B\n",
      "Spouse, partner\n",
      "Unaccompanied\n",
      "Businessman\n",
      "Commercial associate\n",
      "Pensioner\n",
      "State servant\n",
      "Student\n",
      "Unemployed\n",
      "Working\n",
      "Academic degree\n",
      "Higher education\n",
      "Incomplete higher\n",
      "Lower secondary\n",
      "Secondary / secondary special\n",
      "Civil marriage\n",
      "Married\n",
      "Separated\n",
      "Single / not married\n",
      "Widow\n",
      "Co-op apartment\n",
      "House / apartment\n",
      "Municipal apartment\n",
      "Office apartment\n",
      "Rented apartment\n",
      "With parents\n",
      "OWN_CAR_AGE_0\n",
      "OWN_CAR_AGE_1\n",
      "OWN_CAR_AGE_2\n",
      "OWN_CAR_AGE_3\n",
      "OWN_CAR_AGE_4\n",
      "OWN_CAR_AGE_5\n",
      "OWN_CAR_AGE_6\n",
      "OWN_CAR_AGE_7\n",
      "OWN_CAR_AGE_8\n",
      "OWN_CAR_AGE_9\n",
      "OWN_CAR_AGE_10\n",
      "OWN_CAR_AGE_11\n",
      "OWN_CAR_AGE_12\n",
      "OWN_CAR_AGE_13\n",
      "OWN_CAR_AGE_14\n",
      "OWN_CAR_AGE_15\n",
      "OWN_CAR_AGE_16\n",
      "OWN_CAR_AGE_17\n",
      "OWN_CAR_AGE_18\n",
      "OWN_CAR_AGE_19\n",
      "OWN_CAR_AGE_20\n",
      "OWN_CAR_AGE_21\n",
      "OWN_CAR_AGE_22\n",
      "OWN_CAR_AGE_23\n",
      "OWN_CAR_AGE_24\n",
      "OWN_CAR_AGE_25\n",
      "OWN_CAR_AGE_26\n",
      "OWN_CAR_AGE_27\n",
      "OWN_CAR_AGE_28\n",
      "OWN_CAR_AGE_29\n",
      "OWN_CAR_AGE_30\n",
      "OWN_CAR_AGE_31\n",
      "OWN_CAR_AGE_32\n",
      "OWN_CAR_AGE_33\n",
      "OWN_CAR_AGE_34\n",
      "OWN_CAR_AGE_35\n",
      "OWN_CAR_AGE_36\n",
      "OWN_CAR_AGE_37\n",
      "OWN_CAR_AGE_38\n",
      "OWN_CAR_AGE_39\n",
      "OWN_CAR_AGE_40\n",
      "OWN_CAR_AGE_41\n",
      "OWN_CAR_AGE_42\n",
      "OWN_CAR_AGE_43\n",
      "OWN_CAR_AGE_44\n",
      "OWN_CAR_AGE_45\n",
      "OWN_CAR_AGE_46\n",
      "OWN_CAR_AGE_49\n",
      "OWN_CAR_AGE_50\n",
      "OWN_CAR_AGE_51\n",
      "OWN_CAR_AGE_52\n",
      "OWN_CAR_AGE_54\n",
      "OWN_CAR_AGE_55\n",
      "OWN_CAR_AGE_63\n",
      "OWN_CAR_AGE_64\n",
      "OWN_CAR_AGE_65\n",
      "Accountants\n",
      "Cleaning staff\n",
      "Cooking staff\n",
      "Core staff\n",
      "Drivers\n",
      "HR staff\n",
      "High skill tech staff\n",
      "IT staff\n",
      "Laborers\n",
      "Low-skill Laborers\n",
      "Managers\n",
      "Medicine staff\n",
      "Private service staff\n",
      "Realty agents\n",
      "Sales staff\n",
      "Secretaries\n",
      "Security staff\n",
      "Waiters/barmen staff\n",
      "CNT_FAM_MEMBERS_1\n",
      "CNT_FAM_MEMBERS_3\n",
      "CNT_FAM_MEMBERS_2\n",
      "CNT_FAM_MEMBERS_4\n",
      "CNT_FAM_MEMBERS_5\n",
      "CNT_FAM_MEMBERS_6\n",
      "CNT_FAM_MEMBERS_7\n",
      "CNT_FAM_MEMBERS_8\n",
      "CNT_FAM_MEMBERS_10\n",
      "CNT_FAM_MEMBERS_9\n",
      "CNT_FAM_MEMBERS_14\n",
      "CNT_FAM_MEMBERS_12\n",
      "CNT_FAM_MEMBERS_20\n",
      "CNT_FAM_MEMBERS_15\n",
      "CNT_FAM_MEMBERS_16\n",
      "CNT_FAM_MEMBERS_13\n",
      "REGION_RATING_CLIENT_1\n",
      "REGION_RATING_CLIENT_2\n",
      "REGION_RATING_CLIENT_3\n",
      "REGION_RATING_CLIENT_W_CITY_1\n",
      "REGION_RATING_CLIENT_W_CITY_2\n",
      "REGION_RATING_CLIENT_W_CITY_3\n",
      "FRIDAY\n",
      "MONDAY\n",
      "SATURDAY\n",
      "SUNDAY\n",
      "THURSDAY\n",
      "TUESDAY\n",
      "WEDNESDAY\n",
      "HOUR_APPR_PROCESS_START_1\n",
      "HOUR_APPR_PROCESS_START_2\n",
      "HOUR_APPR_PROCESS_START_3\n",
      "HOUR_APPR_PROCESS_START_4\n",
      "HOUR_APPR_PROCESS_START_5\n",
      "HOUR_APPR_PROCESS_START_6\n",
      "HOUR_APPR_PROCESS_START_7\n",
      "HOUR_APPR_PROCESS_START_8\n",
      "HOUR_APPR_PROCESS_START_9\n",
      "HOUR_APPR_PROCESS_START_9\n",
      "HOUR_APPR_PROCESS_START_10\n",
      "HOUR_APPR_PROCESS_START_11\n",
      "HOUR_APPR_PROCESS_START_12\n",
      "HOUR_APPR_PROCESS_START_13\n",
      "HOUR_APPR_PROCESS_START_14\n",
      "HOUR_APPR_PROCESS_START_15\n",
      "HOUR_APPR_PROCESS_START_16\n",
      "HOUR_APPR_PROCESS_START_17\n",
      "HOUR_APPR_PROCESS_START_18\n",
      "HOUR_APPR_PROCESS_START_19\n",
      "HOUR_APPR_PROCESS_START_20\n",
      "HOUR_APPR_PROCESS_START_21\n",
      "HOUR_APPR_PROCESS_START_22\n",
      "HOUR_APPR_PROCESS_START_23\n",
      "Advertising\n",
      "Agriculture\n",
      "Bank\n",
      "Business Entity Type 1\n",
      "Business Entity Type 2\n",
      "Business Entity Type 3\n",
      "Cleaning\n",
      "Construction\n",
      "Culture\n",
      "Electricity\n",
      "Emergency\n",
      "Government\n",
      "Hotel\n",
      "Housing\n",
      "Industry: type 1\n",
      "Industry: type 10\n",
      "Industry: type 11\n",
      "Industry: type 12\n",
      "Industry: type 13\n",
      "Industry: type 2\n",
      "Industry: type 3\n",
      "Industry: type 4\n",
      "Industry: type 5\n",
      "Industry: type 6\n",
      "Industry: type 7\n",
      "Industry: type 8\n",
      "Industry: type 9\n",
      "Insurance\n",
      "Kindergarten\n",
      "Legal Services\n",
      "Medicine\n",
      "Military\n",
      "Mobile\n",
      "Other\n",
      "Police\n",
      "Postal\n",
      "Realtor\n",
      "Religion\n",
      "Restaurant\n",
      "School\n",
      "Security\n",
      "Security Ministries\n",
      "Self-employed\n",
      "Services\n",
      "Telecom\n",
      "Trade: type 1\n",
      "Trade: type 2\n",
      "Trade: type 3\n",
      "Trade: type 4\n",
      "Trade: type 5\n",
      "Trade: type 6\n",
      "Trade: type 7\n",
      "Transport: type 1\n",
      "Transport: type 2\n",
      "Transport: type 3\n",
      "Transport: type 4\n",
      "University\n",
      "XNA\n",
      "OBS_30_CNT_SOCIAL_CIRCLE_0\n",
      "OBS_30_CNT_SOCIAL_CIRCLE_1\n",
      "OBS_30_CNT_SOCIAL_CIRCLE_2\n",
      "OBS_30_CNT_SOCIAL_CIRCLE_3\n",
      "OBS_30_CNT_SOCIAL_CIRCLE_4\n",
      "OBS_30_CNT_SOCIAL_CIRCLE_5\n",
      "OBS_30_CNT_SOCIAL_CIRCLE_6\n",
      "OBS_30_CNT_SOCIAL_CIRCLE_7\n",
      "OBS_30_CNT_SOCIAL_CIRCLE_8\n",
      "OBS_30_CNT_SOCIAL_CIRCLE_9\n",
      "OBS_30_CNT_SOCIAL_CIRCLE_10\n",
      "OBS_30_CNT_SOCIAL_CIRCLE_11\n",
      "OBS_30_CNT_SOCIAL_CIRCLE_12\n",
      "OBS_30_CNT_SOCIAL_CIRCLE_13\n",
      "OBS_30_CNT_SOCIAL_CIRCLE_14\n",
      "OBS_30_CNT_SOCIAL_CIRCLE_15\n",
      "OBS_30_CNT_SOCIAL_CIRCLE_16\n",
      "OBS_30_CNT_SOCIAL_CIRCLE_17\n",
      "OBS_30_CNT_SOCIAL_CIRCLE_18\n",
      "OBS_30_CNT_SOCIAL_CIRCLE_19\n",
      "OBS_30_CNT_SOCIAL_CIRCLE_20\n",
      "OBS_30_CNT_SOCIAL_CIRCLE_21\n",
      "OBS_30_CNT_SOCIAL_CIRCLE_22\n",
      "OBS_30_CNT_SOCIAL_CIRCLE_23\n",
      "OBS_30_CNT_SOCIAL_CIRCLE_24\n",
      "OBS_30_CNT_SOCIAL_CIRCLE_25\n",
      "OBS_30_CNT_SOCIAL_CIRCLE_26\n",
      "OBS_30_CNT_SOCIAL_CIRCLE_27\n",
      "OBS_30_CNT_SOCIAL_CIRCLE_29\n",
      "OBS_30_CNT_SOCIAL_CIRCLE_30\n",
      "DEF_30_CNT_SOCIAL_CIRCLE_0\n",
      "DEF_30_CNT_SOCIAL_CIRCLE_1\n",
      "DEF_30_CNT_SOCIAL_CIRCLE_2\n",
      "DEF_30_CNT_SOCIAL_CIRCLE_3\n",
      "DEF_30_CNT_SOCIAL_CIRCLE_4\n",
      "DEF_30_CNT_SOCIAL_CIRCLE_5\n",
      "DEF_30_CNT_SOCIAL_CIRCLE_6\n",
      "DEF_30_CNT_SOCIAL_CIRCLE_8\n",
      "OBS_60_CNT_SOCIAL_CIRCLE_0\n",
      "OBS_60_CNT_SOCIAL_CIRCLE_1\n",
      "OBS_60_CNT_SOCIAL_CIRCLE_2\n",
      "OBS_60_CNT_SOCIAL_CIRCLE_3\n",
      "OBS_60_CNT_SOCIAL_CIRCLE_4\n",
      "OBS_60_CNT_SOCIAL_CIRCLE_5\n",
      "OBS_60_CNT_SOCIAL_CIRCLE_6\n",
      "OBS_60_CNT_SOCIAL_CIRCLE_7\n",
      "OBS_60_CNT_SOCIAL_CIRCLE_8\n",
      "OBS_60_CNT_SOCIAL_CIRCLE_9\n",
      "OBS_60_CNT_SOCIAL_CIRCLE_10\n",
      "OBS_60_CNT_SOCIAL_CIRCLE_11\n",
      "OBS_60_CNT_SOCIAL_CIRCLE_12\n",
      "OBS_60_CNT_SOCIAL_CIRCLE_13\n",
      "OBS_60_CNT_SOCIAL_CIRCLE_14\n",
      "OBS_60_CNT_SOCIAL_CIRCLE_15\n",
      "OBS_60_CNT_SOCIAL_CIRCLE_16\n",
      "OBS_60_CNT_SOCIAL_CIRCLE_17\n",
      "OBS_60_CNT_SOCIAL_CIRCLE_18\n",
      "OBS_60_CNT_SOCIAL_CIRCLE_19\n",
      "OBS_60_CNT_SOCIAL_CIRCLE_20\n",
      "OBS_60_CNT_SOCIAL_CIRCLE_21\n",
      "OBS_60_CNT_SOCIAL_CIRCLE_22\n",
      "OBS_60_CNT_SOCIAL_CIRCLE_23\n",
      "OBS_60_CNT_SOCIAL_CIRCLE_24\n",
      "OBS_60_CNT_SOCIAL_CIRCLE_25\n",
      "OBS_60_CNT_SOCIAL_CIRCLE_26\n",
      "OBS_60_CNT_SOCIAL_CIRCLE_27\n",
      "OBS_60_CNT_SOCIAL_CIRCLE_29\n",
      "OBS_60_CNT_SOCIAL_CIRCLE_30\n",
      "DEF_60_CNT_SOCIAL_CIRCLE_0\n",
      "DEF_60_CNT_SOCIAL_CIRCLE_1\n",
      "DEF_60_CNT_SOCIAL_CIRCLE_2\n",
      "DEF_60_CNT_SOCIAL_CIRCLE_3\n",
      "DEF_60_CNT_SOCIAL_CIRCLE_4\n",
      "DEF_60_CNT_SOCIAL_CIRCLE_5\n",
      "DEF_60_CNT_SOCIAL_CIRCLE_6\n",
      "AMT_REQ_CREDIT_BUREAU_HOUR_0\n",
      "AMT_REQ_CREDIT_BUREAU_HOUR_1\n",
      "AMT_REQ_CREDIT_BUREAU_HOUR_2\n",
      "AMT_REQ_CREDIT_BUREAU_HOUR_3\n",
      "AMT_REQ_CREDIT_BUREAU_DAY_0\n",
      "AMT_REQ_CREDIT_BUREAU_DAY_1\n",
      "AMT_REQ_CREDIT_BUREAU_DAY_2\n",
      "AMT_REQ_CREDIT_BUREAU_DAY_3\n",
      "AMT_REQ_CREDIT_BUREAU_DAY_4\n",
      "AMT_REQ_CREDIT_BUREAU_DAY_5\n",
      "AMT_REQ_CREDIT_BUREAU_DAY_6\n",
      "AMT_REQ_CREDIT_BUREAU_DAY_8\n",
      "AMT_REQ_CREDIT_BUREAU_DAY_9\n",
      "AMT_REQ_CREDIT_BUREAU_WEEK_0\n",
      "AMT_REQ_CREDIT_BUREAU_WEEK_1\n",
      "AMT_REQ_CREDIT_BUREAU_WEEK_2\n",
      "AMT_REQ_CREDIT_BUREAU_WEEK_3\n",
      "AMT_REQ_CREDIT_BUREAU_WEEK_4\n",
      "AMT_REQ_CREDIT_BUREAU_WEEK_5\n",
      "AMT_REQ_CREDIT_BUREAU_WEEK_6\n",
      "AMT_REQ_CREDIT_BUREAU_WEEK_7\n",
      "AMT_REQ_CREDIT_BUREAU_WEEK_8\n",
      "AMT_REQ_CREDIT_BUREAU_MON_0\n",
      "AMT_REQ_CREDIT_BUREAU_MON_1\n",
      "AMT_REQ_CREDIT_BUREAU_MON_2\n",
      "AMT_REQ_CREDIT_BUREAU_MON_3\n",
      "AMT_REQ_CREDIT_BUREAU_MON_4\n",
      "AMT_REQ_CREDIT_BUREAU_MON_5\n",
      "AMT_REQ_CREDIT_BUREAU_MON_6\n",
      "AMT_REQ_CREDIT_BUREAU_MON_7\n",
      "AMT_REQ_CREDIT_BUREAU_MON_8\n",
      "AMT_REQ_CREDIT_BUREAU_MON_9\n",
      "AMT_REQ_CREDIT_BUREAU_MON_10\n",
      "AMT_REQ_CREDIT_BUREAU_MON_11\n",
      "AMT_REQ_CREDIT_BUREAU_MON_12\n",
      "AMT_REQ_CREDIT_BUREAU_MON_13\n",
      "AMT_REQ_CREDIT_BUREAU_MON_14\n",
      "AMT_REQ_CREDIT_BUREAU_MON_15\n",
      "AMT_REQ_CREDIT_BUREAU_MON_16\n",
      "AMT_REQ_CREDIT_BUREAU_MON_17\n",
      "AMT_REQ_CREDIT_BUREAU_MON_18\n",
      "AMT_REQ_CREDIT_BUREAU_MON_19\n",
      "AMT_REQ_CREDIT_BUREAU_MON_24\n",
      "AMT_REQ_CREDIT_BUREAU_QRT_0\n",
      "AMT_REQ_CREDIT_BUREAU_QRT_1\n",
      "AMT_REQ_CREDIT_BUREAU_QRT_2\n",
      "AMT_REQ_CREDIT_BUREAU_QRT_3\n",
      "AMT_REQ_CREDIT_BUREAU_QRT_4\n",
      "AMT_REQ_CREDIT_BUREAU_QRT_5\n",
      "AMT_REQ_CREDIT_BUREAU_QRT_6\n",
      "AMT_REQ_CREDIT_BUREAU_QRT_7\n",
      "AMT_REQ_CREDIT_BUREAU_QRT_8\n",
      "AMT_REQ_CREDIT_BUREAU_QRT_261\n",
      "AMT_REQ_CREDIT_BUREAU_YEAR_0\n",
      "AMT_REQ_CREDIT_BUREAU_YEAR_1\n",
      "AMT_REQ_CREDIT_BUREAU_YEAR_2\n",
      "AMT_REQ_CREDIT_BUREAU_YEAR_3\n",
      "AMT_REQ_CREDIT_BUREAU_YEAR_4\n",
      "AMT_REQ_CREDIT_BUREAU_YEAR_5\n",
      "AMT_REQ_CREDIT_BUREAU_YEAR_6\n",
      "AMT_REQ_CREDIT_BUREAU_YEAR_7\n",
      "AMT_REQ_CREDIT_BUREAU_YEAR_8\n",
      "AMT_REQ_CREDIT_BUREAU_YEAR_9\n",
      "AMT_REQ_CREDIT_BUREAU_YEAR_10\n",
      "AMT_REQ_CREDIT_BUREAU_YEAR_11\n",
      "AMT_REQ_CREDIT_BUREAU_YEAR_12\n",
      "AMT_REQ_CREDIT_BUREAU_YEAR_13\n",
      "AMT_REQ_CREDIT_BUREAU_YEAR_14\n",
      "AMT_REQ_CREDIT_BUREAU_YEAR_15\n",
      "AMT_REQ_CREDIT_BUREAU_YEAR_16\n",
      "AMT_REQ_CREDIT_BUREAU_YEAR_17\n",
      "AMT_REQ_CREDIT_BUREAU_YEAR_18\n",
      "AMT_REQ_CREDIT_BUREAU_YEAR_19\n",
      "AMT_REQ_CREDIT_BUREAU_YEAR_25\n"
     ]
    }
   ],
   "source": [
    "for i in trainset.columns:\n",
    "    print(i)"
   ]
  },
  {
   "cell_type": "code",
   "execution_count": 85,
   "metadata": {},
   "outputs": [],
   "source": [
    "trainset.to_csv('trainset.csv')"
   ]
  },
  {
   "cell_type": "code",
   "execution_count": null,
   "metadata": {},
   "outputs": [],
   "source": []
  }
 ],
 "metadata": {
  "kernelspec": {
   "display_name": "Python 3",
   "language": "python",
   "name": "python3"
  },
  "language_info": {
   "codemirror_mode": {
    "name": "ipython",
    "version": 3
   },
   "file_extension": ".py",
   "mimetype": "text/x-python",
   "name": "python",
   "nbconvert_exporter": "python",
   "pygments_lexer": "ipython3",
   "version": "3.6.4"
  }
 },
 "nbformat": 4,
 "nbformat_minor": 2
}
