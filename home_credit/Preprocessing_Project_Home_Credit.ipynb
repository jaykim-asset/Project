{
 "cells": [
  {
   "cell_type": "code",
   "execution_count": 18,
   "metadata": {},
   "outputs": [],
   "source": [
    "path = ('C://Users//Jongjae//Project/home_credit/')\n",
    "trainset = pd.read_csv(path + 'application_trainset.csv')\n",
    "# pre_app_train = pd.read_csv(path + 'previous_application_train.csv')\n",
    "# pos_cash_train = pd.read_csv(path + 'POS_CASH_balance_train.csv')\n",
    "# install_train = pd.read_csv(path + 'installments_payments_train.csv')\n",
    "# credit_card_train = pd.read_csv(path + 'credit_card_balance_train.csv')\n",
    "# bureau_train = pd.read_csv(path + 'bureau_train.csv')\n",
    "# bureau_balance_train = pd.read_csv(path + 'bureau_balance_train.csv')"
   ]
  },
  {
   "cell_type": "code",
   "execution_count": 19,
   "metadata": {},
   "outputs": [],
   "source": [
    "del trainset['Unnamed: 0']\n",
    "# del bureau_train['Unnamed: 0']\n",
    "# # del bureau_train['Unnamed: 0.1']\n",
    "# del bureau_balance_train['Unnamed: 0']\n",
    "# # del bureau_balance_train['Unnamed: 0.1']\n",
    "# del credit_card_train['Unnamed: 0']\n",
    "# del install_train['Unnamed: 0']\n",
    "# del pre_app_train['Unnamed: 0']\n",
    "# # del pre_app_train['Unnamed: 0.1']\n",
    "# del pos_cash_train['Unnamed: 0']"
   ]
  },
  {
   "cell_type": "code",
   "execution_count": 3,
   "metadata": {},
   "outputs": [],
   "source": [
    "from sklearn.preprocessing import OneHotEncoder\n",
    "from sklearn.preprocessing import LabelEncoder\n",
    "from sklearn.preprocessing import scale, robust_scale, minmax_scale, maxabs_scale"
   ]
  },
  {
   "cell_type": "markdown",
   "metadata": {},
   "source": [
    "## Application_trainset.csv PreProcessing"
   ]
  },
  {
   "cell_type": "markdown",
   "metadata": {},
   "source": [
    "## 1 ~ 5 Columns \n",
    "- 1) SK_ID_CURR \n",
    "    - `ID 값`.\n",
    "    - Missing Values 없음.\n",
    "    - **전처리 X**\n",
    "- 2) TARGET \n",
    "    - `Target 값`.\n",
    "    - `0 또는 1` \n",
    "    - Missing Values 없음.\n",
    "    - **전처리 X**\n",
    "- 3) NAME_CONTRACT_TYPE\n",
    "    - Text이기에, 숫자 형태로 변환 필요함. (Encoding 필요)\n",
    "        - `Cash loans` - `0`\n",
    "        - `Revolving loans` - `1` \n",
    "- 4) CODE_GENDER\n",
    "    - `F`: 121,353개\n",
    "        - `F` => `0`\n",
    "    - `M`: 63,150개\n",
    "        - `M` => `1`\n",
    "    - `XNA`: 4개 \n",
    "        - `XNA` => `2`\n",
    "- 5) FLAG_OWN_CAR\n",
    "    - `Y`: 62,645개\n",
    "        - `Y` => `1`\n",
    "    - `N`: 121,861개\n",
    "        - `N` => `0`"
   ]
  },
  {
   "cell_type": "code",
   "execution_count": 4,
   "metadata": {},
   "outputs": [],
   "source": [
    "trainset['NAME_CONTRACT_TYPE'] = LabelEncoder().fit_transform(trainset['NAME_CONTRACT_TYPE'])\n",
    "trainset['CODE_GENDER'] = LabelEncoder().fit_transform(trainset['CODE_GENDER'])\n",
    "trainset['FLAG_OWN_CAR'] = LabelEncoder().fit_transform(trainset['FLAG_OWN_CAR'])"
   ]
  },
  {
   "cell_type": "markdown",
   "metadata": {},
   "source": [
    "#### 변환 전"
   ]
  },
  {
   "cell_type": "code",
   "execution_count": 5,
   "metadata": {},
   "outputs": [],
   "source": [
    "# trainset.iloc[:, [0,1,2,3,4]].head()"
   ]
  },
  {
   "cell_type": "code",
   "execution_count": 6,
   "metadata": {},
   "outputs": [],
   "source": [
    "# print(trainset['NAME_CONTRACT_TYPE'][trainset['NAME_CONTRACT_TYPE'] == 'Revolving loans'].count())\n",
    "# print(trainset['NAME_CONTRACT_TYPE'][trainset['NAME_CONTRACT_TYPE'] == 'Cash loans'].count())"
   ]
  },
  {
   "cell_type": "code",
   "execution_count": 7,
   "metadata": {},
   "outputs": [],
   "source": [
    "# print(trainset['CODE_GENDER'][trainset['CODE_GENDER'] == 'M'].count())\n",
    "# print(trainset['CODE_GENDER'][trainset['CODE_GENDER'] == 'F'].count())\n",
    "# print(trainset['CODE_GENDER'][trainset['CODE_GENDER'] == 'XNA'].count())"
   ]
  },
  {
   "cell_type": "code",
   "execution_count": 8,
   "metadata": {},
   "outputs": [],
   "source": [
    "# print(trainset['FLAG_OWN_CAR'][trainset['FLAG_OWN_CAR'] == 'Y'].count())\n",
    "# print(trainset['FLAG_OWN_CAR'][trainset['FLAG_OWN_CAR'] == 'N'].count())"
   ]
  },
  {
   "cell_type": "markdown",
   "metadata": {},
   "source": [
    "#### 변환 후"
   ]
  },
  {
   "cell_type": "code",
   "execution_count": 9,
   "metadata": {},
   "outputs": [],
   "source": [
    "# trainset.iloc[:, [0,1,2,3,4]].head()"
   ]
  },
  {
   "cell_type": "code",
   "execution_count": 10,
   "metadata": {},
   "outputs": [],
   "source": [
    "# print(trainset['NAME_CONTRACT_TYPE'][trainset['NAME_CONTRACT_TYPE'] == 1].count())\n",
    "# print(trainset['NAME_CONTRACT_TYPE'][trainset['NAME_CONTRACT_TYPE'] == 0].count())"
   ]
  },
  {
   "cell_type": "code",
   "execution_count": 11,
   "metadata": {},
   "outputs": [],
   "source": [
    "# print(trainset['CODE_GENDER'][trainset['CODE_GENDER'] == 1].count())\n",
    "# print(trainset['CODE_GENDER'][trainset['CODE_GENDER'] == 0].count())\n",
    "# print(trainset['CODE_GENDER'][trainset['CODE_GENDER'] == 2].count())"
   ]
  },
  {
   "cell_type": "code",
   "execution_count": 12,
   "metadata": {},
   "outputs": [],
   "source": [
    "# print(trainset['FLAG_OWN_CAR'][trainset['FLAG_OWN_CAR'] == 1].count())\n",
    "# print(trainset['FLAG_OWN_CAR'][trainset['FLAG_OWN_CAR'] == 0].count())"
   ]
  },
  {
   "cell_type": "markdown",
   "metadata": {},
   "source": [
    "## 6 ~ 10 Columns \n",
    "- 6) FLAG_OWN_REALTY\n",
    "    - 전처리 필요함\n",
    "        - `Y`: 128,057개\n",
    "            - `Y` => `1`\n",
    "        - `N`: 56,449개\n",
    "            - `N` => `0`\n",
    "    - Missing Values 없음.\n",
    "- 7) CNT_CHILDRN\n",
    "    - 전처리 필요함 (Category)\n",
    "    - 0 ~ 19명 (총 14명)\n",
    "        - `0` => `0`\n",
    "        - `1` => `1`\n",
    "        - `2` => `2`\n",
    "        - `3` => `3`\n",
    "        - `4` => `4`\n",
    "        - `5` => `5`\n",
    "        - `6` => `6`\n",
    "        - `7` => `7`\n",
    "        - `8` => `8`\n",
    "        - `10` => `9`\n",
    "        - `11` => `10`\n",
    "        - `12` => `11`\n",
    "        - `14` => `12`\n",
    "        - `19` => `13`\n",
    "            = > 모두 Dummy Variables로 DataFrame 끝으로 이동 됨\n",
    "    - Missing Values 없음.\n",
    "- 8) AMT_INCOME_TOTAL\n",
    "    - Scaling 필요함 \n",
    "    - Numeric 변수이기에, scaling 적용\n",
    "    - Missing Values 없음.\n",
    "- 9) AMT_CREDIT\n",
    "    - Scaling 필요함 \n",
    "    - Numeric 변수이기에, scaling 적용\n",
    "    - Missing Values 없음.\n",
    "- 10) AMT_ANNUITY\n",
    "    - Scaling 필요함 \n",
    "    - Numeric 변수이기에, scaling 적용\n",
    "    - Missing Values 7개 있음\n",
    "        - Missing values = > mean 값 적용 후, 스케일링 가능"
   ]
  },
  {
   "cell_type": "markdown",
   "metadata": {},
   "source": [
    "#### 변환 전"
   ]
  },
  {
   "cell_type": "code",
   "execution_count": 13,
   "metadata": {},
   "outputs": [],
   "source": [
    "# trainset.iloc[:,[5,6,7,8,9]].head()"
   ]
  },
  {
   "cell_type": "code",
   "execution_count": 5,
   "metadata": {},
   "outputs": [],
   "source": [
    "# LabelEncoder활용해 Preprocessing\n",
    "trainset['FLAG_OWN_REALTY'] = LabelEncoder().fit_transform(trainset['FLAG_OWN_REALTY'])\n",
    "# trainset['CNT_CHILDREN'] = LabelEncoder().fit_transform(trainset['CNT_CHILDREN'])\n",
    "# trainset['FLAG_OWN_CAR'] = LabelEncoder().fit_transform(trainset['FLAG_OWN_CAR'])"
   ]
  },
  {
   "cell_type": "code",
   "execution_count": 6,
   "metadata": {},
   "outputs": [],
   "source": [
    "# print(trainset['FLAG_OWN_REALTY'][trainset['FLAG_OWN_REALTY'] == 'Y'].count())\n",
    "# print(trainset['FLAG_OWN_REALTY'][trainset['FLAG_OWN_REALTY'] == 'N'].count())"
   ]
  },
  {
   "cell_type": "code",
   "execution_count": 7,
   "metadata": {},
   "outputs": [],
   "source": [
    "# print(trainset['CNT_CHILDREN'][trainset['CNT_CHILDREN'] == 0].count())\n",
    "# print(trainset['CNT_CHILDREN'][trainset['CNT_CHILDREN'] == 1].count())\n",
    "# print(trainset['CNT_CHILDREN'][trainset['CNT_CHILDREN'] == 2].count())\n",
    "# print(trainset['CNT_CHILDREN'][trainset['CNT_CHILDREN'] == 3].count())\n",
    "# print(trainset['CNT_CHILDREN'][trainset['CNT_CHILDREN'] == 4].count())\n",
    "# print(trainset['CNT_CHILDREN'][trainset['CNT_CHILDREN'] == 5].count())\n",
    "# print(trainset['CNT_CHILDREN'][trainset['CNT_CHILDREN'] == 6].count())\n",
    "# print(trainset['CNT_CHILDREN'][trainset['CNT_CHILDREN'] == 7].count())\n",
    "# print(trainset['CNT_CHILDREN'][trainset['CNT_CHILDREN'] == 8].count())\n",
    "# print(trainset['CNT_CHILDREN'][trainset['CNT_CHILDREN'] == 10].count())\n",
    "# print(trainset['CNT_CHILDREN'][trainset['CNT_CHILDREN'] == 11].count())\n",
    "# print(trainset['CNT_CHILDREN'][trainset['CNT_CHILDREN'] == 12].count())\n",
    "# print(trainset['CNT_CHILDREN'][trainset['CNT_CHILDREN'] == 14].count())\n",
    "# print(trainset['CNT_CHILDREN'][trainset['CNT_CHILDREN'] == 19].count())"
   ]
  },
  {
   "cell_type": "code",
   "execution_count": 6,
   "metadata": {
    "scrolled": true
   },
   "outputs": [],
   "source": [
    "from sklearn.preprocessing import LabelBinarizer\n",
    "trainset_CNT_CHILDREN = pd.DataFrame(LabelBinarizer().fit_transform(trainset['CNT_CHILDREN']), \n",
    "                                           columns = ['CNT_CHILDREN_0', 'CNT_CHILDREN_1', 'CNT_CHILDREN_2',\n",
    "                                                    'CNT_CHILDREN_3', 'CNT_CHILDREN_4', 'CNT_CHILDREN_5',\n",
    "                                                    'CNT_CHILDREN_6', 'CNT_CHILDREN_7', 'CNT_CHILDREN_8',\n",
    "                                                    'CNT_CHILDREN_10', 'CNT_CHILDREN_11', 'CNT_CHILDREN_12',\n",
    "                                                    'CNT_CHILDREN_14', 'CNT_CHILDREN_19'], index=trainset.index)\n",
    "trainset = pd.concat([trainset, trainset_CNT_CHILDREN], axis = 1)\n",
    "del(trainset['CNT_CHILDREN'])"
   ]
  },
  {
   "cell_type": "markdown",
   "metadata": {},
   "source": [
    "#### 변환 후"
   ]
  },
  {
   "cell_type": "code",
   "execution_count": 18,
   "metadata": {},
   "outputs": [],
   "source": [
    "# trainset.iloc[:,[5,6,7,8,9]].head()"
   ]
  },
  {
   "cell_type": "code",
   "execution_count": 19,
   "metadata": {},
   "outputs": [],
   "source": [
    "# print(trainset['FLAG_OWN_REALTY'][trainset['FLAG_OWN_REALTY'] == 1].count())\n",
    "# print(trainset['FLAG_OWN_REALTY'][trainset['FLAG_OWN_REALTY'] == 0].count())"
   ]
  },
  {
   "cell_type": "code",
   "execution_count": 8,
   "metadata": {},
   "outputs": [],
   "source": [
    "trainset['AMT_INCOME_TOTAL'] = scale(trainset['AMT_INCOME_TOTAL'])\n",
    "trainset['AMT_CREDIT'] = scale(trainset['AMT_CREDIT'])"
   ]
  },
  {
   "cell_type": "code",
   "execution_count": 10,
   "metadata": {},
   "outputs": [],
   "source": [
    "trainset['AMT_ANNUITY'].fillna(trainset['AMT_ANNUITY'].copy().mean( ), inplace=True)"
   ]
  },
  {
   "cell_type": "code",
   "execution_count": 16,
   "metadata": {},
   "outputs": [],
   "source": [
    "trainset['AMT_ANNUITY'] = trainset['AMT_ANNUITY'].fillna(trainset['AMT_ANNUITY'].copy().mode())"
   ]
  },
  {
   "cell_type": "code",
   "execution_count": 21,
   "metadata": {
    "scrolled": true
   },
   "outputs": [],
   "source": [
    "# Nan 값 mean 값으로 적용 후, scaling 적용\n",
    "trainset['AMT_ANNUITY'].fillna(trainset['AMT_ANNUITY'].mean(), inplace=True)\n",
    "trainset['AMT_ANNUITY'] = scale(trainset['AMT_ANNUITY'])"
   ]
  },
  {
   "cell_type": "code",
   "execution_count": 17,
   "metadata": {},
   "outputs": [
    {
     "data": {
      "text/plain": [
       "184506"
      ]
     },
     "execution_count": 17,
     "metadata": {},
     "output_type": "execute_result"
    }
   ],
   "source": [
    "trainset['AMT_ANNUITY'].isnull().sum()"
   ]
  },
  {
   "cell_type": "code",
   "execution_count": 42,
   "metadata": {},
   "outputs": [],
   "source": [
    "trainset['AMT_ANNUITY'].fillna(0,inplace=True)"
   ]
  },
  {
   "cell_type": "code",
   "execution_count": null,
   "metadata": {},
   "outputs": [],
   "source": []
  },
  {
   "cell_type": "markdown",
   "metadata": {},
   "source": [
    "## 11 ~ 15 Columns \n",
    "- 11) AMT_GOODS_PRICE\n",
    "    - Scaling 필요함 \n",
    "    - Missing Values 278 values. = > mean 값으로 대체\n",
    "- 12) NAME_TYPE_SUITE\n",
    "    - 전처리 필요함 (Binary로 변환)\n",
    "    - ['Unaccompanied', 'Family', 'Spouse, partner', 'Children',\n",
    "       'Other_A', nan, 'Other_B', 'Group of people'],\n",
    "            = > 모두 Dummy Variables로 DataFrame 끝으로 이동 됨\n",
    "    - Missing Values 1292 values. => mode 값으로 대체\n",
    "- 13) NAME_INCOME_TYPE\n",
    "    - 전처리 필요함 (Binary로 변환) \n",
    "    - ['Working', 'State servant', 'Commercial associate', 'Pensioner',\n",
    "       'Unemployed', 'Student', 'Businessman', 'Maternity leave']\n",
    "           = > 모두 Dummy Variables로 DataFrame 끝으로 이동 됨\n",
    "    - Missing Values 없음.\n",
    "- 14) NAME_EDUCATION_TYPE\n",
    "    - 전처리 필요함 (Binary로 변환) \n",
    "    - ['Secondary / secondary special', 'Higher education',\n",
    "       'Incomplete higher', 'Lower secondary', 'Academic degree']\n",
    "           = > 모두 Dummy Variables로 DataFrame 끝으로 이동 됨\n",
    "    - Missing Values 없음.\n",
    "- 15) NAME_FAMILY_STATUS\n",
    "    - 전처리 필요함 (Binary로 변환) \n",
    "    - ['Single / not married', 'Married', 'Civil marriage', 'Widow',\n",
    "       'Separated', 'Unknown']\n",
    "           = > 모두 Dummy Variables로 DataFrame 끝으로 이동 됨"
   ]
  },
  {
   "cell_type": "code",
   "execution_count": 22,
   "metadata": {},
   "outputs": [],
   "source": [
    "trainset['AMT_GOODS_PRICE'].fillna(trainset['AMT_GOODS_PRICE'].mean(), inplace=True)\n",
    "trainset['AMT_GOODS_PRICE'] = scale(trainset['AMT_GOODS_PRICE'])"
   ]
  },
  {
   "cell_type": "code",
   "execution_count": 23,
   "metadata": {},
   "outputs": [],
   "source": [
    "trainset['NAME_TYPE_SUITE'].fillna(trainset['NAME_TYPE_SUITE'].mode(), inplace=True)\n",
    "\n",
    "trainset_NAME_TYPE_SUITE = pd.get_dummies(trainset['NAME_TYPE_SUITE'])\n",
    "trainset = pd.concat([trainset, trainset_NAME_TYPE_SUITE], axis = 1)\n",
    "del(trainset['NAME_TYPE_SUITE'])"
   ]
  },
  {
   "cell_type": "code",
   "execution_count": 24,
   "metadata": {},
   "outputs": [],
   "source": [
    "trainset_NAME_INCOME_TYPE = pd.get_dummies(trainset['NAME_INCOME_TYPE'])\n",
    "trainset = pd.concat([trainset, trainset_NAME_INCOME_TYPE], axis = 1)\n",
    "del(trainset['NAME_INCOME_TYPE'])"
   ]
  },
  {
   "cell_type": "code",
   "execution_count": 25,
   "metadata": {},
   "outputs": [],
   "source": [
    "trainset_NAME_EDUCATION_TYPE = pd.get_dummies(trainset['NAME_EDUCATION_TYPE'])\n",
    "trainset = pd.concat([trainset, trainset_NAME_EDUCATION_TYPE], axis = 1)\n",
    "del(trainset['NAME_EDUCATION_TYPE'])"
   ]
  },
  {
   "cell_type": "code",
   "execution_count": 26,
   "metadata": {},
   "outputs": [],
   "source": [
    "trainset_NAME_FAMILY_STATUS = pd.get_dummies(trainset['NAME_FAMILY_STATUS'])\n",
    "trainset = pd.concat([trainset, trainset_NAME_FAMILY_STATUS], axis = 1)\n",
    "del(trainset['NAME_FAMILY_STATUS'])"
   ]
  },
  {
   "cell_type": "markdown",
   "metadata": {},
   "source": [
    "## 16 ~ 20 Columns \n",
    "- 16) NAME_HOUSING_TYPE\n",
    "    - 전처리 필요함 (Binary로 변환)\n",
    "    - Missing Values 없음\n",
    "    - ['House / apartment', 'Rented apartment', 'With parents',\n",
    "       'Municipal apartment', 'Office apartment', 'Co-op apartment']\n",
    "            = > 모두 Dummy Variables로 DataFrame 끝으로 이동 됨\n",
    "            \n",
    "- 17) REGION_POPULATION_RELATIVE\n",
    "    - 이미 정규화 된 값 (전처리 필요 X) \n",
    "    - Missing Values 없음\n",
    "    \n",
    "- 18) DAYS_BIRTH\n",
    "    - Numeric으로 보고, 전처리 Scaling 필요함.\n",
    "    - Missing Values 없음.\n",
    "- 19) DAYS_EMPLOYED\n",
    "    - Numeric으로 보고, 전처리 Scaling 필요함.\n",
    "    - Missing Values 없음.\n",
    "- 20) DAYS_REGISTRATION\n",
    "    - Numeric으로 보고, 전처리 Scaling 필요함.\n",
    "    - Missing Values 없음."
   ]
  },
  {
   "cell_type": "code",
   "execution_count": 27,
   "metadata": {},
   "outputs": [],
   "source": [
    "trainset_NAME_HOUSING_TYPE = pd.get_dummies(trainset['NAME_HOUSING_TYPE'])\n",
    "trainset = pd.concat([trainset, trainset_NAME_HOUSING_TYPE], axis = 1)\n",
    "del(trainset['NAME_HOUSING_TYPE'])"
   ]
  },
  {
   "cell_type": "code",
   "execution_count": 28,
   "metadata": {},
   "outputs": [
    {
     "name": "stderr",
     "output_type": "stream",
     "text": [
      "C:\\ProgramData\\Anaconda3\\lib\\site-packages\\sklearn\\utils\\validation.py:475: DataConversionWarning: Data with input dtype int64 was converted to float64 by the scale function.\n",
      "  warnings.warn(msg, DataConversionWarning)\n"
     ]
    }
   ],
   "source": [
    "trainset['DAYS_BIRTH'] = scale(trainset['DAYS_BIRTH'])\n",
    "trainset['DAYS_EMPLOYED'] = scale(trainset['DAYS_EMPLOYED'])\n",
    "trainset['DAYS_REGISTRATION'] = scale(trainset['DAYS_REGISTRATION'])"
   ]
  },
  {
   "cell_type": "markdown",
   "metadata": {},
   "source": [
    "## 21 ~ 25 Columns \n",
    "- 21) DAYS_ID_PUBLISH\n",
    "    - Numeric으로 보고, 전처리 Scaling 필요함.\n",
    "    - Missing Values 없음.\n",
    "- 22) OWN_CAR_AGE\n",
    "    - 일단, OWN_CAR_AGE는 Numeric 형태로 간주. 0 ~ 91년식 포함 in one column\n",
    "    - Missing Values 202,929 values\n",
    "- 23) FLAG_MOBILE\n",
    "    - 0 또는 1로 Category 값 으로 변경\n",
    "    - Missing Values 없음.\n",
    "- 24) FLAG_EMP_PHONE\n",
    "    - 0 또는 1로 Category 값 으로 변경\n",
    "    - Missing Values 없음.\n",
    "- 25) FLAG_WORK_PHONE\n",
    "    - 0 또는 1로 Category 값 으로 변경\n",
    "    - Missing Values 없음."
   ]
  },
  {
   "cell_type": "code",
   "execution_count": 29,
   "metadata": {},
   "outputs": [
    {
     "name": "stderr",
     "output_type": "stream",
     "text": [
      "C:\\ProgramData\\Anaconda3\\lib\\site-packages\\sklearn\\utils\\validation.py:475: DataConversionWarning: Data with input dtype int64 was converted to float64 by the scale function.\n",
      "  warnings.warn(msg, DataConversionWarning)\n"
     ]
    }
   ],
   "source": [
    "trainset['DAYS_ID_PUBLISH'] = scale(trainset['DAYS_ID_PUBLISH'])"
   ]
  },
  {
   "cell_type": "code",
   "execution_count": 30,
   "metadata": {},
   "outputs": [],
   "source": [
    "trainset['OWN_CAR_AGE'].fillna(trainset['OWN_CAR_AGE'].mean(), inplace=True)\n",
    "trainset['OWN_CAR_AGE'] = scale(trainset['OWN_CAR_AGE'])"
   ]
  },
  {
   "cell_type": "code",
   "execution_count": 31,
   "metadata": {},
   "outputs": [],
   "source": [
    "trainset['FLAG_MOBIL'] = LabelEncoder().fit_transform(trainset['FLAG_MOBIL'])\n",
    "trainset['FLAG_EMP_PHONE'] = LabelEncoder().fit_transform(trainset['FLAG_EMP_PHONE'])\n",
    "trainset['FLAG_WORK_PHONE'] = LabelEncoder().fit_transform(trainset['FLAG_WORK_PHONE'])"
   ]
  },
  {
   "cell_type": "markdown",
   "metadata": {},
   "source": [
    "## 26 ~ 30 Columns \n",
    "- 26) FLAG_CONT_MOBILE\n",
    "    - 0 또는 1로 Category 값 으로 변경\n",
    "    - Missing Values 없음.\n",
    "- 27) FLAG_PHONE\n",
    "    - 0 또는 1로 Category 값 으로 변경\n",
    "    - Missing Values 202,929 values\n",
    "- 28) FLAG_EMAIL\n",
    "    - 0 또는 1로 Category 값 으로 변경\n",
    "    - Missing Values 없음.\n",
    "- 29) OCCUPATION_TYPE\n",
    "    - ['Laborers', 'Core staff', 'Accountants', 'Managers', nan,\n",
    "       'Drivers', 'Sales staff', 'Cleaning staff', 'Cooking staff',\n",
    "       'Private service staff', 'Medicine staff', 'Security staff',\n",
    "       'High skill tech staff', 'Waiters/barmen staff',\n",
    "       'Low-skill Laborers', 'Realty agents', 'Secretaries', 'IT staff',\n",
    "       'HR staff']\n",
    "            = > 모두 Dummy Variables로 DataFrame 끝으로 이동 됨\n",
    "    - Missing Values 96,391 values\n",
    "- 30) CNT_FAM_MEMBERS\n",
    "    - [ 1.,  2.,  3.,  4.,  5.,  6.,  9.,  7.,  8., 10., 13., 14.,\n",
    "       12., 20., 15., 16., 11.]\n",
    "           = > 모두 Dummy Variables로 DataFrame 끝으로 이동 됨\n",
    "    - Missing Values 없음."
   ]
  },
  {
   "cell_type": "code",
   "execution_count": 32,
   "metadata": {},
   "outputs": [],
   "source": [
    "trainset['FLAG_CONT_MOBILE'] = LabelEncoder().fit_transform(trainset['FLAG_CONT_MOBILE'])"
   ]
  },
  {
   "cell_type": "code",
   "execution_count": 33,
   "metadata": {},
   "outputs": [],
   "source": [
    "trainset['FLAG_PHONE'].fillna(trainset['FLAG_PHONE'].mode(), inplace=True)\n",
    "trainset['FLAG_PHONE'] = LabelEncoder().fit_transform(trainset['FLAG_PHONE'])"
   ]
  },
  {
   "cell_type": "code",
   "execution_count": 34,
   "metadata": {},
   "outputs": [],
   "source": [
    "trainset['FLAG_EMAIL'] = LabelEncoder().fit_transform(trainset['FLAG_EMAIL'])"
   ]
  },
  {
   "cell_type": "code",
   "execution_count": 35,
   "metadata": {},
   "outputs": [],
   "source": [
    "trainset['OCCUPATION_TYPE'].fillna('Laborers', inplace=True)\n",
    "trainset_OCCUPATION_TYPE = pd.get_dummies(trainset['OCCUPATION_TYPE'])\n",
    "trainset = pd.concat([trainset, trainset_OCCUPATION_TYPE], axis = 1)\n",
    "del(trainset['OCCUPATION_TYPE'])"
   ]
  },
  {
   "cell_type": "code",
   "execution_count": 36,
   "metadata": {},
   "outputs": [],
   "source": [
    "# trainset_CNT_FAM_MEMBERS = pd.get_dummies(trainset['CNT_FAM_MEMBERS'])\n",
    "# trainset = pd.concat([trainset, trainset_CNT_FAM_MEMBERS], axis = 1)\n",
    "# del(trainset['CNT_FAM_MEMBERS'])"
   ]
  },
  {
   "cell_type": "code",
   "execution_count": 37,
   "metadata": {},
   "outputs": [
    {
     "data": {
      "text/plain": [
       "Index(['SK_ID_CURR', 'TARGET', 'NAME_CONTRACT_TYPE', 'CODE_GENDER',\n",
       "       'FLAG_OWN_CAR', 'FLAG_OWN_REALTY', 'AMT_INCOME_TOTAL', 'AMT_CREDIT',\n",
       "       'AMT_ANNUITY', 'AMT_GOODS_PRICE',\n",
       "       ...\n",
       "       'Laborers', 'Low-skill Laborers', 'Managers', 'Medicine staff',\n",
       "       'Private service staff', 'Realty agents', 'Sales staff', 'Secretaries',\n",
       "       'Security staff', 'Waiters/barmen staff'],\n",
       "      dtype='object', length=177)"
      ]
     },
     "execution_count": 37,
     "metadata": {},
     "output_type": "execute_result"
    }
   ],
   "source": [
    "# trainset['CNT_FAM_MEMBERS'].unique()\n",
    "trainset.columns"
   ]
  },
  {
   "cell_type": "code",
   "execution_count": 38,
   "metadata": {},
   "outputs": [
    {
     "data": {
      "text/plain": [
       "Index(['SK_ID_CURR', 'TARGET', 'NAME_CONTRACT_TYPE', 'CODE_GENDER',\n",
       "       'FLAG_OWN_CAR', 'FLAG_OWN_REALTY', 'AMT_INCOME_TOTAL', 'AMT_CREDIT',\n",
       "       'AMT_ANNUITY', 'AMT_GOODS_PRICE',\n",
       "       ...\n",
       "       'CNT_FAM_MEMBERS_7', 'CNT_FAM_MEMBERS_8', 'CNT_FAM_MEMBERS_10',\n",
       "       'CNT_FAM_MEMBERS_9', 'CNT_FAM_MEMBERS_14', 'CNT_FAM_MEMBERS_12',\n",
       "       'CNT_FAM_MEMBERS_20', 'CNT_FAM_MEMBERS_15', 'CNT_FAM_MEMBERS_16',\n",
       "       'CNT_FAM_MEMBERS_13'],\n",
       "      dtype='object', length=192)"
      ]
     },
     "execution_count": 38,
     "metadata": {},
     "output_type": "execute_result"
    }
   ],
   "source": [
    "from sklearn.preprocessing import LabelBinarizer\n",
    "trainset_CNT_FAM_MEMBERS = pd.DataFrame(LabelBinarizer().fit_transform(trainset['CNT_FAM_MEMBERS']), \n",
    "                                           columns = ['CNT_FAM_MEMBERS_1', 'CNT_FAM_MEMBERS_3', 'CNT_FAM_MEMBERS_2',\n",
    "                                                    'CNT_FAM_MEMBERS_4', 'CNT_FAM_MEMBERS_5', 'CNT_FAM_MEMBERS_6',\n",
    "                                                    'CNT_FAM_MEMBERS_7', 'CNT_FAM_MEMBERS_8', 'CNT_FAM_MEMBERS_10',\n",
    "                                                    'CNT_FAM_MEMBERS_9', 'CNT_FAM_MEMBERS_14', 'CNT_FAM_MEMBERS_12',\n",
    "                                                    'CNT_FAM_MEMBERS_20', 'CNT_FAM_MEMBERS_15', 'CNT_FAM_MEMBERS_16',\n",
    "                                                     'CNT_FAM_MEMBERS_13'], index=trainset.index)\n",
    "trainset = pd.concat([trainset, trainset_CNT_FAM_MEMBERS], axis = 1)\n",
    "del(trainset['CNT_FAM_MEMBERS'])"
   ]
  },
  {
   "cell_type": "markdown",
   "metadata": {},
   "source": [
    "## 31 ~ 35 Columns \n",
    "- 31) REGION_RATING_CLIENT\n",
    "    - 1, 2, 3\n",
    "           = > 모두 Dummy Variables로 DataFrame 끝으로 이동 됨\n",
    "    - Missing Values 없음.\n",
    "- 32) REGION_RATING_CLIENT_W_CITY\n",
    "    - 1, 2, 3\n",
    "           = > 모두 Dummy Variables로 DataFrame 끝으로 이동 됨\n",
    "    - Missing Values 없음.\n",
    "- 33) WEEKDAY_APPR_PROCESS_START\n",
    "    - Monday, Tuesday, Wednesday, Thursday, Friday, Saturday, Sunday\n",
    "           = > 모두 Dummy Variables로 DataFrame 끝으로 이동 됨\n",
    "    - Missing Values 없음.\n",
    "- 34) HOUR_APPR_PROCESS_START\n",
    "    - 0 ~ 24 시간\n",
    "           = > 모두 Dummy Variables로 DataFrame 끝으로 이동 됨\n",
    "    - Missing Values 없음.\n",
    "- 35) REG_REGION_NOT_LIV_REGION\n",
    "    - 0 또는 1\n",
    "           = > 그냥 둔다\n",
    "    - Missing Values 없음."
   ]
  },
  {
   "cell_type": "code",
   "execution_count": 39,
   "metadata": {},
   "outputs": [],
   "source": [
    "trainset_REGION_RATING_CLIENT = pd.DataFrame(LabelBinarizer().fit_transform(trainset['REGION_RATING_CLIENT']), \n",
    "                                           columns = ['REGION_RATING_CLIENT_1', 'REGION_RATING_CLIENT_2', 'REGION_RATING_CLIENT_3'], index=trainset.index)\n",
    "trainset = pd.concat([trainset, trainset_REGION_RATING_CLIENT], axis = 1)\n",
    "del(trainset['REGION_RATING_CLIENT'])"
   ]
  },
  {
   "cell_type": "code",
   "execution_count": 40,
   "metadata": {},
   "outputs": [],
   "source": [
    "trainset_REGION_RATING_CLIENT_W_CITY = pd.DataFrame(LabelBinarizer().fit_transform(trainset['REGION_RATING_CLIENT_W_CITY']), \n",
    "                                           columns = ['REGION_RATING_CLIENT_W_CITY_1', 'REGION_RATING_CLIENT_W_CITY_2', 'REGION_RATING_CLIENT_W_CITY_3'], index=trainset.index)\n",
    "trainset = pd.concat([trainset, trainset_REGION_RATING_CLIENT_W_CITY], axis = 1)\n",
    "del(trainset['REGION_RATING_CLIENT_W_CITY'])"
   ]
  },
  {
   "cell_type": "code",
   "execution_count": 41,
   "metadata": {},
   "outputs": [],
   "source": [
    "trainset_WEEKDAY_APPR_PROCESS_START = pd.get_dummies(trainset['WEEKDAY_APPR_PROCESS_START'])\n",
    "trainset = pd.concat([trainset, trainset_WEEKDAY_APPR_PROCESS_START], axis = 1)\n",
    "del(trainset['WEEKDAY_APPR_PROCESS_START'])"
   ]
  },
  {
   "cell_type": "code",
   "execution_count": 43,
   "metadata": {},
   "outputs": [],
   "source": [
    "trainset_HOUR_APPR_PROCESS_START = pd.DataFrame(LabelBinarizer().\n",
    "                                                fit_transform(trainset['HOUR_APPR_PROCESS_START']), \n",
    "                                           columns = ['HOUR_APPR_PROCESS_START_1', 'HOUR_APPR_PROCESS_START_2', 'HOUR_APPR_PROCESS_START_3',\n",
    "                                                      'HOUR_APPR_PROCESS_START_4', 'HOUR_APPR_PROCESS_START_5', 'HOUR_APPR_PROCESS_START_6',\n",
    "                                                      'HOUR_APPR_PROCESS_START_7', 'HOUR_APPR_PROCESS_START_8', 'HOUR_APPR_PROCESS_START_9',\n",
    "                                                      'HOUR_APPR_PROCESS_START_9', 'HOUR_APPR_PROCESS_START_10', 'HOUR_APPR_PROCESS_START_11',\n",
    "                                                     'HOUR_APPR_PROCESS_START_12', 'HOUR_APPR_PROCESS_START_13', 'HOUR_APPR_PROCESS_START_14',\n",
    "                                                     'HOUR_APPR_PROCESS_START_15', 'HOUR_APPR_PROCESS_START_16', 'HOUR_APPR_PROCESS_START_17',\n",
    "                                                     'HOUR_APPR_PROCESS_START_18', 'HOUR_APPR_PROCESS_START_19', 'HOUR_APPR_PROCESS_START_20',\n",
    "                                                     'HOUR_APPR_PROCESS_START_21', 'HOUR_APPR_PROCESS_START_22', 'HOUR_APPR_PROCESS_START_23'], index=trainset.index)\n",
    "trainset = pd.concat([trainset, trainset_HOUR_APPR_PROCESS_START], axis = 1)\n",
    "del(trainset['HOUR_APPR_PROCESS_START'])"
   ]
  },
  {
   "cell_type": "markdown",
   "metadata": {},
   "source": [
    "## 36 ~ 40 Columns \n",
    "- 36) REG_REGION_NOT_WORK_REGION\n",
    "    - 0 or 1 => 그대로 둔다\n",
    "- 37) LIVE_REGION_NOT_WORK_REGION\n",
    "    - 0 or 1 => 그대로 둔다\n",
    "- 38) REG_CITY_NOT_LIVE_CITY\n",
    "    - 0 or 1 => 그대로 둔다\n",
    "- 39) REG_REGION_NOT_WORK_REGION\n",
    "    - 0 or 1 => 그대로 둔다\n",
    "- 40) LIVE_REGION_NOT_WORK_REGION\n",
    "    - 0 or 1 => 그대로 둔다"
   ]
  },
  {
   "cell_type": "markdown",
   "metadata": {},
   "source": [
    "## 41 Column\n",
    "- 41) ORGANIZATION_TYPE\n",
    "    - 58개의 기관"
   ]
  },
  {
   "cell_type": "code",
   "execution_count": 44,
   "metadata": {},
   "outputs": [],
   "source": [
    "trainset_ORGANIZATION_TYPE = pd.get_dummies(trainset['ORGANIZATION_TYPE'])\n",
    "trainset = pd.concat([trainset, trainset_ORGANIZATION_TYPE], axis = 1)\n",
    "del(trainset['ORGANIZATION_TYPE'])"
   ]
  },
  {
   "cell_type": "markdown",
   "metadata": {},
   "source": [
    "## 42 ~ 91 정규화 된 변수 \n",
    "- 42) EXT_SOURCE_1\n",
    "- 43) EXT_SOURCE_2\n",
    "- 44) EXT_SOURCE_3\n",
    "- 45) APARTMENTS_AVG\n",
    "- 46) BASEMENTSARE_AVG\n",
    "- 47) YEARS_BEGINEXPLUATATION_AVG\n",
    "- 48) YEARS_BUILD_AVG\n",
    "- 49) COMMONAREA_AVG\n",
    "- 50) ELEVATORS_AVG\n",
    "- 51) ENTRANCES_AVG\n",
    "- 52) FLOORSMAX_AVG\n",
    "- 53) FLOORSMIN_AVG\n",
    "- 54) LANDAREA_AVG\n",
    "- 55) LIVINGAPARTMENTS_AVG\n",
    "- 56) LIVINGAREA_AVG\n",
    "- 57) NONLIVINGAPARTMENTS_AVG\n",
    "- 58) NONLIVINGAREA_AVG\n",
    "- 59) APARTMENTS_MODE\n",
    "- 60) BASEMENTSAREA_MODE\n",
    "- 61) YEARS_BEGINEXPLUATATION_MODE\n",
    "- 62) YEARS_BUILD_MODE\n",
    "- 63) COMMONAREA_MODE\n",
    "- 64) ELEVATORS_MODE\n",
    "- 65) ENTRANCES_MODE\n",
    "- 66) FLOORSMAX_MODE\n",
    "- 67) FLOORSMIN_MODE\n",
    "- 68) LANDAREA_MODE\n",
    "- 69) LIVINGAPARTMENTS_MODE\n",
    "- 70) LIVINGAREA_MODE\n",
    "- 71) NONLIVINGAPARTMENTS_MODE\n",
    "- 72) NONLIVINGAREA_MODE\n",
    "- 73) APARTMENTS_MEDI\n",
    "- 74) BASEMENTSAREA_MEDI\n",
    "- 75) YEARS_BEGINEXPLUATATION_MEDI\n",
    "- 76) YEARS_BUILD_MEDI\n",
    "- 77) COMMONAREA_MEDI\n",
    "- 78) ELEVATORS_MEDI\n",
    "- 79) ENTRANCES_MEDI\n",
    "- 80) FLOORSMAX_MEDI\n",
    "- 81) FLOORSMIN_MEDI\n",
    "- 82) LANDAREA_MEDI\n",
    "- 83) LIVINGAPARTMENTS_MEDI\n",
    "- 84) LIVINGAREA_MEDI\n",
    "- 85) NONLIVINGAPARTMENTS_MEDI\n",
    "- 86) NONLIVINGAREA_MEDI\n",
    "- 87) FONDKAPREMONT_MODE\n",
    "- 88) HOUSETYPE_MODE\n",
    "- 89) TOTALAREA_MODE\n",
    "- 90) WALLSMATERIAL_MODE\n",
    "- 91) EMERGENCYSTATE_MODE"
   ]
  },
  {
   "cell_type": "markdown",
   "metadata": {},
   "source": [
    "## 92 ~ 96\n",
    "- 92) OBS_30_CNT_SOCIAL_CIRCLE\n",
    "    - Missing Value 처리\n",
    "    - Numeric 처리\n",
    "- 93) OBS_30_CNT_SOCIAL_CIRCLE\n",
    "    - Missing Value 처리\n",
    "    - Numeric 처리\n",
    "- 94) OBS_30_CNT_SOCIAL_CIRCLE\n",
    "    - Missing Value 처리\n",
    "    - Numeric 처리\n",
    "- 95) OBS_30_CNT_SOCIAL_CIRCLE\n",
    "    - Missing Value 처리\n",
    "    - Numeric 처리\n",
    "- 96) DAYS_LAST_PHONE_CHANGE\n",
    "    - Numeric으로 보고, 전처리 Scaling 필요함.\n",
    "    - Missing Values 없음."
   ]
  },
  {
   "cell_type": "code",
   "execution_count": 14,
   "metadata": {
    "scrolled": true
   },
   "outputs": [],
   "source": [
    "trainset['OBS_30_CNT_SOCIAL_CIRCLE'].fillna(trainset['OBS_30_CNT_SOCIAL_CIRCLE'].copy().mean(), inplace=True)"
   ]
  },
  {
   "cell_type": "code",
   "execution_count": null,
   "metadata": {},
   "outputs": [],
   "source": [
    "trainset['OBS_30_CNT_SOCIAL_CIRCLE'].fillna(trainset['OBS_30_CNT_SOCIAL_CIRCLE'].copy().mean(), inplace=True)"
   ]
  },
  {
   "cell_type": "code",
   "execution_count": 87,
   "metadata": {},
   "outputs": [],
   "source": [
    "trainset['OBS_30_CNT_SOCIAL_CIRCLE'].copy().fillna(0.0, inplace = True)"
   ]
  },
  {
   "cell_type": "code",
   "execution_count": 15,
   "metadata": {},
   "outputs": [
    {
     "data": {
      "text/plain": [
       "0"
      ]
     },
     "execution_count": 15,
     "metadata": {},
     "output_type": "execute_result"
    }
   ],
   "source": [
    "trainset['OBS_30_CNT_SOCIAL_CIRCLE'].isnull().sum()"
   ]
  },
  {
   "cell_type": "code",
   "execution_count": 82,
   "metadata": {
    "scrolled": true
   },
   "outputs": [
    {
     "data": {
      "text/plain": [
       "206      NaN\n",
       "578      NaN\n",
       "653      NaN\n",
       "827      NaN\n",
       "967      NaN\n",
       "1025     NaN\n",
       "1075     NaN\n",
       "1489     NaN\n",
       "1558     NaN\n",
       "1678     NaN\n",
       "1861     NaN\n",
       "1907     NaN\n",
       "2144     NaN\n",
       "2446     NaN\n",
       "3420     NaN\n",
       "3991     NaN\n",
       "4164     NaN\n",
       "4805     NaN\n",
       "4989     NaN\n",
       "5450     NaN\n",
       "5532     NaN\n",
       "5593     NaN\n",
       "5657     NaN\n",
       "5663     NaN\n",
       "6003     NaN\n",
       "6682     NaN\n",
       "6768     NaN\n",
       "6941     NaN\n",
       "7039     NaN\n",
       "7761     NaN\n",
       "          ..\n",
       "167414   NaN\n",
       "167742   NaN\n",
       "167889   NaN\n",
       "168047   NaN\n",
       "168426   NaN\n",
       "168569   NaN\n",
       "168577   NaN\n",
       "168578   NaN\n",
       "169550   NaN\n",
       "170716   NaN\n",
       "170751   NaN\n",
       "174046   NaN\n",
       "174123   NaN\n",
       "174879   NaN\n",
       "175263   NaN\n",
       "175293   NaN\n",
       "175975   NaN\n",
       "176191   NaN\n",
       "176938   NaN\n",
       "176987   NaN\n",
       "177782   NaN\n",
       "177790   NaN\n",
       "178023   NaN\n",
       "178168   NaN\n",
       "181876   NaN\n",
       "181917   NaN\n",
       "182246   NaN\n",
       "183211   NaN\n",
       "183787   NaN\n",
       "184085   NaN\n",
       "Name: OBS_30_CNT_SOCIAL_CIRCLE, Length: 594, dtype: float64"
      ]
     },
     "execution_count": 82,
     "metadata": {},
     "output_type": "execute_result"
    }
   ],
   "source": [
    "trainset['OBS_30_CNT_SOCIAL_CIRCLE'][trainset['OBS_30_CNT_SOCIAL_CIRCLE'].isnull()]"
   ]
  },
  {
   "cell_type": "code",
   "execution_count": 9,
   "metadata": {},
   "outputs": [
    {
     "data": {
      "text/plain": [
       "206      NaN\n",
       "578      NaN\n",
       "653      NaN\n",
       "827      NaN\n",
       "967      NaN\n",
       "1025     NaN\n",
       "1075     NaN\n",
       "1489     NaN\n",
       "1558     NaN\n",
       "1678     NaN\n",
       "1861     NaN\n",
       "1907     NaN\n",
       "2144     NaN\n",
       "2446     NaN\n",
       "3420     NaN\n",
       "3991     NaN\n",
       "4164     NaN\n",
       "4805     NaN\n",
       "4989     NaN\n",
       "5450     NaN\n",
       "5532     NaN\n",
       "5593     NaN\n",
       "5657     NaN\n",
       "5663     NaN\n",
       "6003     NaN\n",
       "6682     NaN\n",
       "6768     NaN\n",
       "6941     NaN\n",
       "7039     NaN\n",
       "7761     NaN\n",
       "          ..\n",
       "167414   NaN\n",
       "167742   NaN\n",
       "167889   NaN\n",
       "168047   NaN\n",
       "168426   NaN\n",
       "168569   NaN\n",
       "168577   NaN\n",
       "168578   NaN\n",
       "169550   NaN\n",
       "170716   NaN\n",
       "170751   NaN\n",
       "174046   NaN\n",
       "174123   NaN\n",
       "174879   NaN\n",
       "175263   NaN\n",
       "175293   NaN\n",
       "175975   NaN\n",
       "176191   NaN\n",
       "176938   NaN\n",
       "176987   NaN\n",
       "177782   NaN\n",
       "177790   NaN\n",
       "178023   NaN\n",
       "178168   NaN\n",
       "181876   NaN\n",
       "181917   NaN\n",
       "182246   NaN\n",
       "183211   NaN\n",
       "183787   NaN\n",
       "184085   NaN\n",
       "Name: OBS_30_CNT_SOCIAL_CIRCLE, Length: 594, dtype: float64"
      ]
     },
     "execution_count": 9,
     "metadata": {},
     "output_type": "execute_result"
    }
   ],
   "source": [
    "trainset['OBS_30_CNT_SOCIAL_CIRCLE'][trainset['OBS_30_CNT_SOCIAL_CIRCLE'].isnull()]"
   ]
  },
  {
   "cell_type": "code",
   "execution_count": 44,
   "metadata": {},
   "outputs": [
    {
     "data": {
      "text/plain": [
       "594"
      ]
     },
     "execution_count": 44,
     "metadata": {},
     "output_type": "execute_result"
    }
   ],
   "source": [
    "trainset['OBS_30_CNT_SOCIAL_CIRCLE'].isnull().sum()"
   ]
  },
  {
   "cell_type": "code",
   "execution_count": 48,
   "metadata": {},
   "outputs": [
    {
     "data": {
      "text/plain": [
       "Index(['SK_ID_CURR', 'TARGET', 'NAME_CONTRACT_TYPE', 'CODE_GENDER',\n",
       "       'FLAG_OWN_CAR', 'FLAG_OWN_REALTY', 'AMT_INCOME_TOTAL', 'AMT_CREDIT',\n",
       "       'AMT_ANNUITY', 'AMT_GOODS_PRICE',\n",
       "       ...\n",
       "       'Trade: type 4', 'Trade: type 5', 'Trade: type 6', 'Trade: type 7',\n",
       "       'Transport: type 1', 'Transport: type 2', 'Transport: type 3',\n",
       "       'Transport: type 4', 'University', 'XNA'],\n",
       "      dtype='object', length=282)"
      ]
     },
     "execution_count": 48,
     "metadata": {},
     "output_type": "execute_result"
    }
   ],
   "source": [
    "# trainset.columns"
   ]
  },
  {
   "cell_type": "code",
   "execution_count": 57,
   "metadata": {},
   "outputs": [
    {
     "data": {
      "text/plain": [
       "array([ 0.,  1.,  2.,  4.,  3.,  6.,  5., 12.,  9., 10., 13.,  8., nan,\n",
       "       11.,  7., 22., 14., 17., 20., 15., 25., 16., 19., 18., 21., 23.,\n",
       "       29., 24., 27., 30., 26.])"
      ]
     },
     "execution_count": 57,
     "metadata": {},
     "output_type": "execute_result"
    }
   ],
   "source": [
    "trainset['OBS_30_CNT_SOCIAL_CIRCLE'].unique()"
   ]
  },
  {
   "cell_type": "code",
   "execution_count": 56,
   "metadata": {
    "scrolled": true
   },
   "outputs": [
    {
     "ename": "ValueError",
     "evalue": "Unknown label type: (0         0.0\n1         1.0\n2         2.0\n3         2.0\n4         0.0\n5         0.0\n6         0.0\n7         0.0\n8         0.0\n9         0.0\n10        0.0\n11        1.0\n12        0.0\n13        2.0\n14        0.0\n15        2.0\n16        0.0\n17        0.0\n18        0.0\n19        0.0\n20        1.0\n21        0.0\n22        4.0\n23        1.0\n24        4.0\n25        1.0\n26        0.0\n27        0.0\n28        0.0\n29        0.0\n         ... \n184476    4.0\n184477    1.0\n184478    1.0\n184479    0.0\n184480    5.0\n184481    0.0\n184482    0.0\n184483    0.0\n184484    2.0\n184485    2.0\n184486    1.0\n184487    3.0\n184488    1.0\n184489    0.0\n184490    0.0\n184491    1.0\n184492    6.0\n184493    4.0\n184494    0.0\n184495    0.0\n184496    6.0\n184497    9.0\n184498    1.0\n184499    3.0\n184500    0.0\n184501    5.0\n184502    0.0\n184503    0.0\n184504    0.0\n184505    1.0\nName: OBS_30_CNT_SOCIAL_CIRCLE, Length: 184506, dtype: float64,)",
     "output_type": "error",
     "traceback": [
      "\u001b[1;31m---------------------------------------------------------------------------\u001b[0m",
      "\u001b[1;31mValueError\u001b[0m                                Traceback (most recent call last)",
      "\u001b[1;32m<ipython-input-56-4262853600a8>\u001b[0m in \u001b[0;36m<module>\u001b[1;34m()\u001b[0m\n\u001b[0;32m      2\u001b[0m \u001b[1;33m\u001b[0m\u001b[0m\n\u001b[0;32m      3\u001b[0m trainset_OBS_30_CNT_SOCIAL_CIRCLE = pd.DataFrame(LabelBinarizer().\n\u001b[1;32m----> 4\u001b[1;33m                                                 \u001b[0mfit_transform\u001b[0m\u001b[1;33m(\u001b[0m\u001b[0mtrainset\u001b[0m\u001b[1;33m[\u001b[0m\u001b[1;34m'OBS_30_CNT_SOCIAL_CIRCLE'\u001b[0m\u001b[1;33m]\u001b[0m\u001b[1;33m)\u001b[0m\u001b[1;33m,\u001b[0m\u001b[1;33m\u001b[0m\u001b[0m\n\u001b[0m\u001b[0;32m      5\u001b[0m                                            columns = ['OBS_30_CNT_SOCIAL_CIRCLE_0', 'OBS_30_CNT_SOCIAL_CIRCLE_1', 'OBS_30_CNT_SOCIAL_CIRCLE_2',\n\u001b[0;32m      6\u001b[0m                                                       \u001b[1;34m'OBS_30_CNT_SOCIAL_CIRCLE_3'\u001b[0m\u001b[1;33m,\u001b[0m \u001b[1;34m'OBS_30_CNT_SOCIAL_CIRCLE_4'\u001b[0m\u001b[1;33m,\u001b[0m \u001b[1;34m'OBS_30_CNT_SOCIAL_CIRCLE_5'\u001b[0m\u001b[1;33m,\u001b[0m\u001b[1;33m\u001b[0m\u001b[0m\n",
      "\u001b[1;32mC:\\ProgramData\\Anaconda3\\lib\\site-packages\\sklearn\\preprocessing\\label.py\u001b[0m in \u001b[0;36mfit_transform\u001b[1;34m(self, y)\u001b[0m\n\u001b[0;32m    305\u001b[0m             \u001b[0mShape\u001b[0m \u001b[0mwill\u001b[0m \u001b[0mbe\u001b[0m \u001b[1;33m[\u001b[0m\u001b[0mn_samples\u001b[0m\u001b[1;33m,\u001b[0m \u001b[1;36m1\u001b[0m\u001b[1;33m]\u001b[0m \u001b[1;32mfor\u001b[0m \u001b[0mbinary\u001b[0m \u001b[0mproblems\u001b[0m\u001b[1;33m.\u001b[0m\u001b[1;33m\u001b[0m\u001b[0m\n\u001b[0;32m    306\u001b[0m         \"\"\"\n\u001b[1;32m--> 307\u001b[1;33m         \u001b[1;32mreturn\u001b[0m \u001b[0mself\u001b[0m\u001b[1;33m.\u001b[0m\u001b[0mfit\u001b[0m\u001b[1;33m(\u001b[0m\u001b[0my\u001b[0m\u001b[1;33m)\u001b[0m\u001b[1;33m.\u001b[0m\u001b[0mtransform\u001b[0m\u001b[1;33m(\u001b[0m\u001b[0my\u001b[0m\u001b[1;33m)\u001b[0m\u001b[1;33m\u001b[0m\u001b[0m\n\u001b[0m\u001b[0;32m    308\u001b[0m \u001b[1;33m\u001b[0m\u001b[0m\n\u001b[0;32m    309\u001b[0m     \u001b[1;32mdef\u001b[0m \u001b[0mtransform\u001b[0m\u001b[1;33m(\u001b[0m\u001b[0mself\u001b[0m\u001b[1;33m,\u001b[0m \u001b[0my\u001b[0m\u001b[1;33m)\u001b[0m\u001b[1;33m:\u001b[0m\u001b[1;33m\u001b[0m\u001b[0m\n",
      "\u001b[1;32mC:\\ProgramData\\Anaconda3\\lib\\site-packages\\sklearn\\preprocessing\\label.py\u001b[0m in \u001b[0;36mfit\u001b[1;34m(self, y)\u001b[0m\n\u001b[0;32m    282\u001b[0m \u001b[1;33m\u001b[0m\u001b[0m\n\u001b[0;32m    283\u001b[0m         \u001b[0mself\u001b[0m\u001b[1;33m.\u001b[0m\u001b[0msparse_input_\u001b[0m \u001b[1;33m=\u001b[0m \u001b[0msp\u001b[0m\u001b[1;33m.\u001b[0m\u001b[0missparse\u001b[0m\u001b[1;33m(\u001b[0m\u001b[0my\u001b[0m\u001b[1;33m)\u001b[0m\u001b[1;33m\u001b[0m\u001b[0m\n\u001b[1;32m--> 284\u001b[1;33m         \u001b[0mself\u001b[0m\u001b[1;33m.\u001b[0m\u001b[0mclasses_\u001b[0m \u001b[1;33m=\u001b[0m \u001b[0munique_labels\u001b[0m\u001b[1;33m(\u001b[0m\u001b[0my\u001b[0m\u001b[1;33m)\u001b[0m\u001b[1;33m\u001b[0m\u001b[0m\n\u001b[0m\u001b[0;32m    285\u001b[0m         \u001b[1;32mreturn\u001b[0m \u001b[0mself\u001b[0m\u001b[1;33m\u001b[0m\u001b[0m\n\u001b[0;32m    286\u001b[0m \u001b[1;33m\u001b[0m\u001b[0m\n",
      "\u001b[1;32mC:\\ProgramData\\Anaconda3\\lib\\site-packages\\sklearn\\utils\\multiclass.py\u001b[0m in \u001b[0;36munique_labels\u001b[1;34m(*ys)\u001b[0m\n\u001b[0;32m     95\u001b[0m     \u001b[0m_unique_labels\u001b[0m \u001b[1;33m=\u001b[0m \u001b[0m_FN_UNIQUE_LABELS\u001b[0m\u001b[1;33m.\u001b[0m\u001b[0mget\u001b[0m\u001b[1;33m(\u001b[0m\u001b[0mlabel_type\u001b[0m\u001b[1;33m,\u001b[0m \u001b[1;32mNone\u001b[0m\u001b[1;33m)\u001b[0m\u001b[1;33m\u001b[0m\u001b[0m\n\u001b[0;32m     96\u001b[0m     \u001b[1;32mif\u001b[0m \u001b[1;32mnot\u001b[0m \u001b[0m_unique_labels\u001b[0m\u001b[1;33m:\u001b[0m\u001b[1;33m\u001b[0m\u001b[0m\n\u001b[1;32m---> 97\u001b[1;33m         \u001b[1;32mraise\u001b[0m \u001b[0mValueError\u001b[0m\u001b[1;33m(\u001b[0m\u001b[1;34m\"Unknown label type: %s\"\u001b[0m \u001b[1;33m%\u001b[0m \u001b[0mrepr\u001b[0m\u001b[1;33m(\u001b[0m\u001b[0mys\u001b[0m\u001b[1;33m)\u001b[0m\u001b[1;33m)\u001b[0m\u001b[1;33m\u001b[0m\u001b[0m\n\u001b[0m\u001b[0;32m     98\u001b[0m \u001b[1;33m\u001b[0m\u001b[0m\n\u001b[0;32m     99\u001b[0m     \u001b[0mys_labels\u001b[0m \u001b[1;33m=\u001b[0m \u001b[0mset\u001b[0m\u001b[1;33m(\u001b[0m\u001b[0mchain\u001b[0m\u001b[1;33m.\u001b[0m\u001b[0mfrom_iterable\u001b[0m\u001b[1;33m(\u001b[0m\u001b[0m_unique_labels\u001b[0m\u001b[1;33m(\u001b[0m\u001b[0my\u001b[0m\u001b[1;33m)\u001b[0m \u001b[1;32mfor\u001b[0m \u001b[0my\u001b[0m \u001b[1;32min\u001b[0m \u001b[0mys\u001b[0m\u001b[1;33m)\u001b[0m\u001b[1;33m)\u001b[0m\u001b[1;33m\u001b[0m\u001b[0m\n",
      "\u001b[1;31mValueError\u001b[0m: Unknown label type: (0         0.0\n1         1.0\n2         2.0\n3         2.0\n4         0.0\n5         0.0\n6         0.0\n7         0.0\n8         0.0\n9         0.0\n10        0.0\n11        1.0\n12        0.0\n13        2.0\n14        0.0\n15        2.0\n16        0.0\n17        0.0\n18        0.0\n19        0.0\n20        1.0\n21        0.0\n22        4.0\n23        1.0\n24        4.0\n25        1.0\n26        0.0\n27        0.0\n28        0.0\n29        0.0\n         ... \n184476    4.0\n184477    1.0\n184478    1.0\n184479    0.0\n184480    5.0\n184481    0.0\n184482    0.0\n184483    0.0\n184484    2.0\n184485    2.0\n184486    1.0\n184487    3.0\n184488    1.0\n184489    0.0\n184490    0.0\n184491    1.0\n184492    6.0\n184493    4.0\n184494    0.0\n184495    0.0\n184496    6.0\n184497    9.0\n184498    1.0\n184499    3.0\n184500    0.0\n184501    5.0\n184502    0.0\n184503    0.0\n184504    0.0\n184505    1.0\nName: OBS_30_CNT_SOCIAL_CIRCLE, Length: 184506, dtype: float64,)"
     ]
    }
   ],
   "source": [
    "from sklearn.preprocessing import LabelBinarizer\n",
    "\n",
    "trainset_OBS_30_CNT_SOCIAL_CIRCLE = pd.DataFrame(LabelBinarizer().\n",
    "                                                fit_transform(trainset['OBS_30_CNT_SOCIAL_CIRCLE']), \n",
    "                                           columns = ['OBS_30_CNT_SOCIAL_CIRCLE_0', 'OBS_30_CNT_SOCIAL_CIRCLE_1', 'OBS_30_CNT_SOCIAL_CIRCLE_2',\n",
    "                                                      'OBS_30_CNT_SOCIAL_CIRCLE_3', 'OBS_30_CNT_SOCIAL_CIRCLE_4', 'OBS_30_CNT_SOCIAL_CIRCLE_5',\n",
    "                                                      'OBS_30_CNT_SOCIAL_CIRCLE_6', 'OBS_30_CNT_SOCIAL_CIRCLE_7', 'OBS_30_CNT_SOCIAL_CIRCLE_8',\n",
    "                                                      'OBS_30_CNT_SOCIAL_CIRCLE_9', 'OBS_30_CNT_SOCIAL_CIRCLE_10', 'OBS_30_CNT_SOCIAL_CIRCLE_11',\n",
    "                                                     'OBS_30_CNT_SOCIAL_CIRCLE_12', 'OBS_30_CNT_SOCIAL_CIRCLE_13', 'OBS_30_CNT_SOCIAL_CIRCLE_14',\n",
    "                                                     'OBS_30_CNT_SOCIAL_CIRCLE_15', 'OBS_30_CNT_SOCIAL_CIRCLE_16', 'OBS_30_CNT_SOCIAL_CIRCLE_17',\n",
    "                                                     'OBS_30_CNT_SOCIAL_CIRCLE_18', 'OBS_30_CNT_SOCIAL_CIRCLE_19', 'OBS_30_CNT_SOCIAL_CIRCLE_20',\n",
    "                                                     'OBS_30_CNT_SOCIAL_CIRCLE_21', 'OBS_30_CNT_SOCIAL_CIRCLE_22', 'OBS_30_CNT_SOCIAL_CIRCLE_23',\n",
    "                                                      'OBS_30_CNT_SOCIAL_CIRCLE_24', 'OBS_30_CNT_SOCIAL_CIRCLE_25', 'OBS_30_CNT_SOCIAL_CIRCLE_26',\n",
    "                                                     'OBS_30_CNT_SOCIAL_CIRCLE_27', 'OBS_30_CNT_SOCIAL_CIRCLE_29', 'OBS_30_CNT_SOCIAL_CIRCLE_30'], index=trainset.index)\n",
    "trainset = pd.concat([trainset, trainset_OBS_30_CNT_SOCIAL_CIRCLE], axis = 1)\n",
    "del(trainset['OBS_30_CNT_SOCIAL_CIRCLE'])"
   ]
  },
  {
   "cell_type": "code",
   "execution_count": 30,
   "metadata": {},
   "outputs": [
    {
     "data": {
      "text/plain": [
       "594"
      ]
     },
     "execution_count": 30,
     "metadata": {},
     "output_type": "execute_result"
    }
   ],
   "source": [
    "trainset['DEF_30_CNT_SOCIAL_CIRCLE'].isnull().sum()"
   ]
  },
  {
   "cell_type": "code",
   "execution_count": 32,
   "metadata": {},
   "outputs": [
    {
     "data": {
      "text/plain": [
       "[0.0, 1.0, 2.0, nan, 3.0, 4.0, 5.0, 6.0, 8.0]"
      ]
     },
     "execution_count": 32,
     "metadata": {},
     "output_type": "execute_result"
    }
   ],
   "source": [
    "sorted(trainset['DEF_30_CNT_SOCIAL_CIRCLE'].unique())"
   ]
  },
  {
   "cell_type": "code",
   "execution_count": 33,
   "metadata": {},
   "outputs": [
    {
     "data": {
      "text/plain": [
       "0    0.0\n",
       "dtype: float64"
      ]
     },
     "execution_count": 33,
     "metadata": {},
     "output_type": "execute_result"
    }
   ],
   "source": [
    "trainset['DEF_30_CNT_SOCIAL_CIRCLE'].mode()"
   ]
  },
  {
   "cell_type": "code",
   "execution_count": 34,
   "metadata": {},
   "outputs": [],
   "source": [
    "trainset['DEF_30_CNT_SOCIAL_CIRCLE'].fillna(0.0, inplace=True)"
   ]
  },
  {
   "cell_type": "code",
   "execution_count": 35,
   "metadata": {},
   "outputs": [
    {
     "data": {
      "text/plain": [
       "0"
      ]
     },
     "execution_count": 35,
     "metadata": {},
     "output_type": "execute_result"
    }
   ],
   "source": [
    "trainset['DEF_30_CNT_SOCIAL_CIRCLE'].isnull().sum()"
   ]
  },
  {
   "cell_type": "code",
   "execution_count": 36,
   "metadata": {},
   "outputs": [],
   "source": [
    "from sklearn.preprocessing import LabelBinarizer\n",
    "\n",
    "trainset_DEF_30_CNT_SOCIAL_CIRCLE = pd.DataFrame(LabelBinarizer().\n",
    "                                                fit_transform(trainset['DEF_30_CNT_SOCIAL_CIRCLE']), \n",
    "                                           columns = ['DEF_30_CNT_SOCIAL_CIRCLE_0', 'DEF_30_CNT_SOCIAL_CIRCLE_1', 'DEF_30_CNT_SOCIAL_CIRCLE_2',\n",
    "                                                      'DEF_30_CNT_SOCIAL_CIRCLE_3', 'DEF_30_CNT_SOCIAL_CIRCLE_4', 'DEF_30_CNT_SOCIAL_CIRCLE_5',\n",
    "                                                      'DEF_30_CNT_SOCIAL_CIRCLE_6', 'DEF_30_CNT_SOCIAL_CIRCLE_8'], index=trainset.index)\n",
    "trainset = pd.concat([trainset, trainset_DEF_30_CNT_SOCIAL_CIRCLE], axis = 1)\n",
    "del(trainset['DEF_30_CNT_SOCIAL_CIRCLE'])"
   ]
  },
  {
   "cell_type": "code",
   "execution_count": 37,
   "metadata": {},
   "outputs": [
    {
     "data": {
      "text/plain": [
       "594"
      ]
     },
     "execution_count": 37,
     "metadata": {},
     "output_type": "execute_result"
    }
   ],
   "source": [
    "trainset['OBS_60_CNT_SOCIAL_CIRCLE'].isnull().sum()"
   ]
  },
  {
   "cell_type": "code",
   "execution_count": 38,
   "metadata": {
    "scrolled": true
   },
   "outputs": [
    {
     "data": {
      "text/plain": [
       "[0.0,\n",
       " 1.0,\n",
       " 2.0,\n",
       " 3.0,\n",
       " 4.0,\n",
       " 5.0,\n",
       " 6.0,\n",
       " 7.0,\n",
       " 8.0,\n",
       " 9.0,\n",
       " 10.0,\n",
       " 11.0,\n",
       " 12.0,\n",
       " 13.0,\n",
       " nan,\n",
       " 14.0,\n",
       " 15.0,\n",
       " 16.0,\n",
       " 17.0,\n",
       " 18.0,\n",
       " 19.0,\n",
       " 20.0,\n",
       " 21.0,\n",
       " 22.0,\n",
       " 23.0,\n",
       " 24.0,\n",
       " 25.0,\n",
       " 26.0,\n",
       " 27.0,\n",
       " 29.0,\n",
       " 30.0]"
      ]
     },
     "execution_count": 38,
     "metadata": {},
     "output_type": "execute_result"
    }
   ],
   "source": [
    "sorted(trainset['OBS_60_CNT_SOCIAL_CIRCLE'].unique())"
   ]
  },
  {
   "cell_type": "code",
   "execution_count": 40,
   "metadata": {},
   "outputs": [
    {
     "data": {
      "text/plain": [
       "0    0.0\n",
       "dtype: float64"
      ]
     },
     "execution_count": 40,
     "metadata": {},
     "output_type": "execute_result"
    }
   ],
   "source": [
    "trainset['OBS_60_CNT_SOCIAL_CIRCLE'].mode()"
   ]
  },
  {
   "cell_type": "code",
   "execution_count": 41,
   "metadata": {},
   "outputs": [],
   "source": [
    "trainset['OBS_60_CNT_SOCIAL_CIRCLE'].fillna(0.0, inplace=True)"
   ]
  },
  {
   "cell_type": "code",
   "execution_count": 42,
   "metadata": {},
   "outputs": [
    {
     "data": {
      "text/plain": [
       "0"
      ]
     },
     "execution_count": 42,
     "metadata": {},
     "output_type": "execute_result"
    }
   ],
   "source": [
    "trainset['OBS_60_CNT_SOCIAL_CIRCLE'].isnull().sum()"
   ]
  },
  {
   "cell_type": "code",
   "execution_count": 43,
   "metadata": {},
   "outputs": [],
   "source": [
    "from sklearn.preprocessing import LabelBinarizer\n",
    "\n",
    "trainset_OBS_60_CNT_SOCIAL_CIRCLE = pd.DataFrame(LabelBinarizer().\n",
    "                                                fit_transform(trainset['OBS_60_CNT_SOCIAL_CIRCLE']), \n",
    "                                           columns = ['OBS_60_CNT_SOCIAL_CIRCLE_0', 'OBS_60_CNT_SOCIAL_CIRCLE_1', 'OBS_60_CNT_SOCIAL_CIRCLE_2',\n",
    "                                                      'OBS_60_CNT_SOCIAL_CIRCLE_3', 'OBS_60_CNT_SOCIAL_CIRCLE_4', 'OBS_60_CNT_SOCIAL_CIRCLE_5',\n",
    "                                                      'OBS_60_CNT_SOCIAL_CIRCLE_6', 'OBS_60_CNT_SOCIAL_CIRCLE_7', 'OBS_60_CNT_SOCIAL_CIRCLE_8',\n",
    "                                                      'OBS_60_CNT_SOCIAL_CIRCLE_9', 'OBS_60_CNT_SOCIAL_CIRCLE_10', 'OBS_60_CNT_SOCIAL_CIRCLE_11',\n",
    "                                                     'OBS_60_CNT_SOCIAL_CIRCLE_12', 'OBS_60_CNT_SOCIAL_CIRCLE_13', 'OBS_60_CNT_SOCIAL_CIRCLE_14',\n",
    "                                                     'OBS_60_CNT_SOCIAL_CIRCLE_15', 'OBS_60_CNT_SOCIAL_CIRCLE_16', 'OBS_60_CNT_SOCIAL_CIRCLE_17',\n",
    "                                                     'OBS_60_CNT_SOCIAL_CIRCLE_18', 'OBS_60_CNT_SOCIAL_CIRCLE_19', 'OBS_60_CNT_SOCIAL_CIRCLE_20',\n",
    "                                                     'OBS_60_CNT_SOCIAL_CIRCLE_21', 'OBS_60_CNT_SOCIAL_CIRCLE_22', 'OBS_60_CNT_SOCIAL_CIRCLE_23',\n",
    "                                                      'OBS_60_CNT_SOCIAL_CIRCLE_24', 'OBS_60_CNT_SOCIAL_CIRCLE_25', 'OBS_60_CNT_SOCIAL_CIRCLE_26',\n",
    "                                                     'OBS_60_CNT_SOCIAL_CIRCLE_27', 'OBS_60_CNT_SOCIAL_CIRCLE_29', 'OBS_60_CNT_SOCIAL_CIRCLE_30'], index=trainset.index)\n",
    "trainset = pd.concat([trainset, trainset_OBS_60_CNT_SOCIAL_CIRCLE], axis = 1)\n",
    "del(trainset['OBS_60_CNT_SOCIAL_CIRCLE'])"
   ]
  },
  {
   "cell_type": "code",
   "execution_count": 44,
   "metadata": {},
   "outputs": [
    {
     "data": {
      "text/plain": [
       "594"
      ]
     },
     "execution_count": 44,
     "metadata": {},
     "output_type": "execute_result"
    }
   ],
   "source": [
    "trainset['DEF_60_CNT_SOCIAL_CIRCLE'].isnull().sum()"
   ]
  },
  {
   "cell_type": "code",
   "execution_count": 46,
   "metadata": {},
   "outputs": [
    {
     "data": {
      "text/plain": [
       "[0.0, 1.0, 2.0, nan, 3.0, 4.0, 5.0, 6.0]"
      ]
     },
     "execution_count": 46,
     "metadata": {},
     "output_type": "execute_result"
    }
   ],
   "source": [
    "sorted(trainset['DEF_60_CNT_SOCIAL_CIRCLE'].unique())"
   ]
  },
  {
   "cell_type": "code",
   "execution_count": 47,
   "metadata": {},
   "outputs": [
    {
     "data": {
      "text/plain": [
       "0    0.0\n",
       "dtype: float64"
      ]
     },
     "execution_count": 47,
     "metadata": {},
     "output_type": "execute_result"
    }
   ],
   "source": [
    "trainset['DEF_60_CNT_SOCIAL_CIRCLE'].mode()"
   ]
  },
  {
   "cell_type": "code",
   "execution_count": 48,
   "metadata": {},
   "outputs": [],
   "source": [
    "trainset['DEF_60_CNT_SOCIAL_CIRCLE'].fillna(0.0, inplace=True)"
   ]
  },
  {
   "cell_type": "code",
   "execution_count": 50,
   "metadata": {},
   "outputs": [
    {
     "data": {
      "text/plain": [
       "0"
      ]
     },
     "execution_count": 50,
     "metadata": {},
     "output_type": "execute_result"
    }
   ],
   "source": [
    "trainset['DEF_60_CNT_SOCIAL_CIRCLE'].isnull().sum()"
   ]
  },
  {
   "cell_type": "code",
   "execution_count": 51,
   "metadata": {},
   "outputs": [],
   "source": [
    "from sklearn.preprocessing import LabelBinarizer\n",
    "\n",
    "trainset_DEF_60_CNT_SOCIAL_CIRCLE = pd.DataFrame(LabelBinarizer().\n",
    "                                                fit_transform(trainset['DEF_60_CNT_SOCIAL_CIRCLE']), \n",
    "                                           columns = ['DEF_60_CNT_SOCIAL_CIRCLE_0', 'DEF_60_CNT_SOCIAL_CIRCLE_1', 'DEF_60_CNT_SOCIAL_CIRCLE_2',\n",
    "                                                      'DEF_60_CNT_SOCIAL_CIRCLE_3', 'DEF_60_CNT_SOCIAL_CIRCLE_4', 'DEF_60_CNT_SOCIAL_CIRCLE_5',\n",
    "                                                      'DEF_60_CNT_SOCIAL_CIRCLE_6'], index=trainset.index)\n",
    "trainset = pd.concat([trainset, trainset_DEF_60_CNT_SOCIAL_CIRCLE], axis = 1)\n",
    "del(trainset['DEF_60_CNT_SOCIAL_CIRCLE'])"
   ]
  },
  {
   "cell_type": "code",
   "execution_count": 59,
   "metadata": {},
   "outputs": [],
   "source": [
    "trainset['DAYS_LAST_PHONE_CHANGE'].fillna(0.0, inplace=True)"
   ]
  },
  {
   "cell_type": "code",
   "execution_count": 60,
   "metadata": {},
   "outputs": [
    {
     "data": {
      "text/plain": [
       "array([ -815., -1562., -1070., ..., -3502., -3788., -3675.])"
      ]
     },
     "execution_count": 60,
     "metadata": {},
     "output_type": "execute_result"
    }
   ],
   "source": [
    "trainset['DAYS_LAST_PHONE_CHANGE'].unique()"
   ]
  },
  {
   "cell_type": "code",
   "execution_count": 63,
   "metadata": {},
   "outputs": [],
   "source": [
    "trainset['DAYS_LAST_PHONE_CHANGE'] = scale(trainset['DAYS_LAST_PHONE_CHANGE'])"
   ]
  },
  {
   "cell_type": "markdown",
   "metadata": {},
   "source": [
    "## 97 ~ 116\n",
    "- FLAG_DOCUMENT_2\n",
    "- FLAG_DOCUMENT_3\n",
    "- FLAG_DOCUMENT_4\n",
    "- FLAG_DOCUMENT_5\n",
    "- FLAG_DOCUMENT_6\n",
    "- FLAG_DOCUMENT_7\n",
    "- FLAG_DOCUMENT_8\n",
    "- FLAG_DOCUMENT_9\n",
    "- FLAG_DOCUMENT_10\n",
    "- FLAG_DOCUMENT_11\n",
    "- FLAG_DOCUMENT_12\n",
    "- FLAG_DOCUMENT_13\n",
    "- FLAG_DOCUMENT_14\n",
    "- FLAG_DOCUMENT_15\n",
    "- FLAG_DOCUMENT_16\n",
    "- FLAG_DOCUMENT_17\n",
    "- FLAG_DOCUMENT_18\n",
    "- FLAG_DOCUMENT_19\n",
    "- FLAG_DOCUMENT_20\n",
    "- FLAG_DOCUMENT_21\n",
    "    - `0` or `1` = > 이미 카테고리 값이라서, 다른 전처리 필요 없음"
   ]
  },
  {
   "cell_type": "markdown",
   "metadata": {},
   "source": [
    "### 117 ~ 122 \n",
    "- 117) AMT_REQ_CREDIT_BUREAU_HOUR\n",
    "- 118) AMT_REQ_CREDIT_BUREAU_DAY\n",
    "- 119) AMT_REQ_CREDIT_BUREAU_WEEK\n",
    "- 120) AMT_REQ_CREDIT_BUREAU_MON\n",
    "- 121) AMT_REQ_CREDIT_BUREAU_QRT\n",
    "- 122) AMT_REQ_CREDIT_BUREAU_YEAR"
   ]
  },
  {
   "cell_type": "code",
   "execution_count": 100,
   "metadata": {},
   "outputs": [
    {
     "data": {
      "text/plain": [
       "0"
      ]
     },
     "execution_count": 100,
     "metadata": {},
     "output_type": "execute_result"
    }
   ],
   "source": [
    "trainset['AMT_REQ_CREDIT_BUREAU_HOUR'].isnull().sum()"
   ]
  },
  {
   "cell_type": "code",
   "execution_count": 99,
   "metadata": {},
   "outputs": [],
   "source": [
    "trainset['AMT_REQ_CREDIT_BUREAU_HOUR'].fillna(0.0, inplace=True)\n",
    "trainset['AMT_REQ_CREDIT_BUREAU_DAY'].fillna(0.0, inplace=True)\n",
    "trainset['AMT_REQ_CREDIT_BUREAU_WEEK'].fillna(0.0, inplace=True)\n",
    "trainset['AMT_REQ_CREDIT_BUREAU_MON'].fillna(0.0, inplace=True)\n",
    "trainset['AMT_REQ_CREDIT_BUREAU_QRT'].fillna(0.0, inplace=True)\n",
    "trainset['AMT_REQ_CREDIT_BUREAU_YEAR'].fillna(0.0, inplace=True)"
   ]
  },
  {
   "cell_type": "code",
   "execution_count": 101,
   "metadata": {},
   "outputs": [
    {
     "data": {
      "text/plain": [
       "array([0., 1., 2., 3.])"
      ]
     },
     "execution_count": 101,
     "metadata": {},
     "output_type": "execute_result"
    }
   ],
   "source": [
    "trainset['AMT_REQ_CREDIT_BUREAU_HOUR'].unique()"
   ]
  },
  {
   "cell_type": "code",
   "execution_count": 102,
   "metadata": {},
   "outputs": [],
   "source": [
    "from sklearn.preprocessing import LabelBinarizer\n",
    "\n",
    "trainset_AMT_REQ_CREDIT_BUREAU_HOUR = pd.DataFrame(LabelBinarizer().\n",
    "                                                fit_transform(trainset['AMT_REQ_CREDIT_BUREAU_HOUR']), \n",
    "                                           columns = ['AMT_REQ_CREDIT_BUREAU_HOUR_0', 'AMT_REQ_CREDIT_BUREAU_HOUR_1', 'AMT_REQ_CREDIT_BUREAU_HOUR_2',\n",
    "                                                      'AMT_REQ_CREDIT_BUREAU_HOUR_3'], index=trainset.index)\n",
    "trainset = pd.concat([trainset, trainset_AMT_REQ_CREDIT_BUREAU_HOUR], axis = 1)\n",
    "del(trainset['AMT_REQ_CREDIT_BUREAU_HOUR'])"
   ]
  },
  {
   "cell_type": "code",
   "execution_count": 103,
   "metadata": {},
   "outputs": [
    {
     "data": {
      "text/plain": [
       "array([0., 1., 3., 4., 2., 5., 6., 9., 8.])"
      ]
     },
     "execution_count": 103,
     "metadata": {},
     "output_type": "execute_result"
    }
   ],
   "source": [
    "trainset['AMT_REQ_CREDIT_BUREAU_DAY'].unique()"
   ]
  },
  {
   "cell_type": "code",
   "execution_count": 104,
   "metadata": {},
   "outputs": [],
   "source": [
    "from sklearn.preprocessing import LabelBinarizer\n",
    "\n",
    "trainset_AMT_REQ_CREDIT_BUREAU_DAY = pd.DataFrame(LabelBinarizer().\n",
    "                                                fit_transform(trainset['AMT_REQ_CREDIT_BUREAU_DAY']), \n",
    "                                           columns = ['AMT_REQ_CREDIT_BUREAU_DAY_0', 'AMT_REQ_CREDIT_BUREAU_DAY_1', 'AMT_REQ_CREDIT_BUREAU_DAY_2',\n",
    "                                                      'AMT_REQ_CREDIT_BUREAU_DAY_3', 'AMT_REQ_CREDIT_BUREAU_DAY_4', 'AMT_REQ_CREDIT_BUREAU_DAY_5',\n",
    "                                                      'AMT_REQ_CREDIT_BUREAU_DAY_6', 'AMT_REQ_CREDIT_BUREAU_DAY_8', 'AMT_REQ_CREDIT_BUREAU_DAY_9'], index=trainset.index)\n",
    "trainset = pd.concat([trainset, trainset_AMT_REQ_CREDIT_BUREAU_DAY], axis = 1)\n",
    "del(trainset['AMT_REQ_CREDIT_BUREAU_DAY'])"
   ]
  },
  {
   "cell_type": "code",
   "execution_count": 106,
   "metadata": {},
   "outputs": [
    {
     "data": {
      "text/plain": [
       "[0.0, 1.0, 2.0, 3.0, 4.0, 5.0, 6.0, 7.0, 8.0]"
      ]
     },
     "execution_count": 106,
     "metadata": {},
     "output_type": "execute_result"
    }
   ],
   "source": [
    "sorted(trainset['AMT_REQ_CREDIT_BUREAU_WEEK'].unique())"
   ]
  },
  {
   "cell_type": "code",
   "execution_count": 107,
   "metadata": {},
   "outputs": [],
   "source": [
    "from sklearn.preprocessing import LabelBinarizer\n",
    "\n",
    "trainset_AMT_REQ_CREDIT_BUREAU_WEEK = pd.DataFrame(LabelBinarizer().\n",
    "                                                fit_transform(trainset['AMT_REQ_CREDIT_BUREAU_WEEK']), \n",
    "                                           columns = ['AMT_REQ_CREDIT_BUREAU_WEEK_0', 'AMT_REQ_CREDIT_BUREAU_WEEK_1', 'AMT_REQ_CREDIT_BUREAU_WEEK_2',\n",
    "                                                      'AMT_REQ_CREDIT_BUREAU_WEEK_3', 'AMT_REQ_CREDIT_BUREAU_WEEK_4', 'AMT_REQ_CREDIT_BUREAU_WEEK_5',\n",
    "                                                      'AMT_REQ_CREDIT_BUREAU_WEEK_6', 'AMT_REQ_CREDIT_BUREAU_WEEK_7', 'AMT_REQ_CREDIT_BUREAU_WEEK_8'], index=trainset.index)\n",
    "trainset = pd.concat([trainset, trainset_AMT_REQ_CREDIT_BUREAU_WEEK], axis = 1)\n",
    "del(trainset['AMT_REQ_CREDIT_BUREAU_WEEK'])"
   ]
  },
  {
   "cell_type": "code",
   "execution_count": 108,
   "metadata": {},
   "outputs": [
    {
     "data": {
      "text/plain": [
       "[0.0,\n",
       " 1.0,\n",
       " 2.0,\n",
       " 3.0,\n",
       " 4.0,\n",
       " 5.0,\n",
       " 6.0,\n",
       " 7.0,\n",
       " 8.0,\n",
       " 9.0,\n",
       " 10.0,\n",
       " 11.0,\n",
       " 12.0,\n",
       " 13.0,\n",
       " 14.0,\n",
       " 15.0,\n",
       " 16.0,\n",
       " 17.0,\n",
       " 18.0,\n",
       " 19.0,\n",
       " 24.0]"
      ]
     },
     "execution_count": 108,
     "metadata": {},
     "output_type": "execute_result"
    }
   ],
   "source": [
    "sorted(trainset['AMT_REQ_CREDIT_BUREAU_MON'].unique())"
   ]
  },
  {
   "cell_type": "code",
   "execution_count": 109,
   "metadata": {},
   "outputs": [],
   "source": [
    "from sklearn.preprocessing import LabelBinarizer\n",
    "\n",
    "trainset_AMT_REQ_CREDIT_BUREAU_MON = pd.DataFrame(LabelBinarizer().\n",
    "                                                fit_transform(trainset['AMT_REQ_CREDIT_BUREAU_MON']), \n",
    "                                           columns = ['AMT_REQ_CREDIT_BUREAU_MON_0', 'AMT_REQ_CREDIT_BUREAU_MON_1', 'AMT_REQ_CREDIT_BUREAU_MON_2',\n",
    "                                                      'AMT_REQ_CREDIT_BUREAU_MON_3', 'AMT_REQ_CREDIT_BUREAU_MON_4', 'AMT_REQ_CREDIT_BUREAU_MON_5',\n",
    "                                                      'AMT_REQ_CREDIT_BUREAU_MON_6', 'AMT_REQ_CREDIT_BUREAU_MON_7', 'AMT_REQ_CREDIT_BUREAU_MON_8',\n",
    "                                                      'AMT_REQ_CREDIT_BUREAU_MON_9', 'AMT_REQ_CREDIT_BUREAU_MON_10', 'AMT_REQ_CREDIT_BUREAU_MON_11', \n",
    "                                                      'AMT_REQ_CREDIT_BUREAU_MON_12', 'AMT_REQ_CREDIT_BUREAU_MON_13', 'AMT_REQ_CREDIT_BUREAU_MON_14',\n",
    "                                                      'AMT_REQ_CREDIT_BUREAU_MON_15', 'AMT_REQ_CREDIT_BUREAU_MON_16', 'AMT_REQ_CREDIT_BUREAU_MON_17',\n",
    "                                                      'AMT_REQ_CREDIT_BUREAU_MON_18', 'AMT_REQ_CREDIT_BUREAU_MON_19', 'AMT_REQ_CREDIT_BUREAU_MON_24'], index=trainset.index)\n",
    "trainset = pd.concat([trainset, trainset_AMT_REQ_CREDIT_BUREAU_MON], axis = 1)\n",
    "del(trainset['AMT_REQ_CREDIT_BUREAU_MON'])"
   ]
  },
  {
   "cell_type": "code",
   "execution_count": 110,
   "metadata": {},
   "outputs": [
    {
     "data": {
      "text/plain": [
       "[0.0, 1.0, 2.0, 3.0, 4.0, 5.0, 6.0, 7.0, 8.0, 261.0]"
      ]
     },
     "execution_count": 110,
     "metadata": {},
     "output_type": "execute_result"
    }
   ],
   "source": [
    "sorted(trainset['AMT_REQ_CREDIT_BUREAU_QRT'].unique())"
   ]
  },
  {
   "cell_type": "code",
   "execution_count": 111,
   "metadata": {},
   "outputs": [],
   "source": [
    "from sklearn.preprocessing import LabelBinarizer\n",
    "\n",
    "trainset_AMT_REQ_CREDIT_BUREAU_QRT = pd.DataFrame(LabelBinarizer().\n",
    "                                                fit_transform(trainset['AMT_REQ_CREDIT_BUREAU_QRT']), \n",
    "                                           columns = ['AMT_REQ_CREDIT_BUREAU_QRT_0', 'AMT_REQ_CREDIT_BUREAU_QRT_1', 'AMT_REQ_CREDIT_BUREAU_QRT_2',\n",
    "                                                      'AMT_REQ_CREDIT_BUREAU_QRT_3', 'AMT_REQ_CREDIT_BUREAU_QRT_4', 'AMT_REQ_CREDIT_BUREAU_QRT_5',\n",
    "                                                      'AMT_REQ_CREDIT_BUREAU_QRT_6', 'AMT_REQ_CREDIT_BUREAU_QRT_7', 'AMT_REQ_CREDIT_BUREAU_QRT_8',\n",
    "                                                      'AMT_REQ_CREDIT_BUREAU_QRT_261'\n",
    "                                                     ], index=trainset.index)\n",
    "trainset = pd.concat([trainset, trainset_AMT_REQ_CREDIT_BUREAU_QRT], axis = 1)\n",
    "del(trainset['AMT_REQ_CREDIT_BUREAU_QRT'])"
   ]
  },
  {
   "cell_type": "code",
   "execution_count": 112,
   "metadata": {},
   "outputs": [
    {
     "data": {
      "text/plain": [
       "[0.0,\n",
       " 1.0,\n",
       " 2.0,\n",
       " 3.0,\n",
       " 4.0,\n",
       " 5.0,\n",
       " 6.0,\n",
       " 7.0,\n",
       " 8.0,\n",
       " 9.0,\n",
       " 10.0,\n",
       " 11.0,\n",
       " 12.0,\n",
       " 13.0,\n",
       " 14.0,\n",
       " 15.0,\n",
       " 16.0,\n",
       " 17.0,\n",
       " 18.0,\n",
       " 19.0,\n",
       " 25.0]"
      ]
     },
     "execution_count": 112,
     "metadata": {},
     "output_type": "execute_result"
    }
   ],
   "source": [
    "sorted(trainset['AMT_REQ_CREDIT_BUREAU_YEAR'].unique())"
   ]
  },
  {
   "cell_type": "code",
   "execution_count": 113,
   "metadata": {},
   "outputs": [],
   "source": [
    "from sklearn.preprocessing import LabelBinarizer\n",
    "\n",
    "trainset_AMT_REQ_CREDIT_BUREAU_YEAR = pd.DataFrame(LabelBinarizer().\n",
    "                                                fit_transform(trainset['AMT_REQ_CREDIT_BUREAU_YEAR']), \n",
    "                                           columns = ['AMT_REQ_CREDIT_BUREAU_YEAR_0', 'AMT_REQ_CREDIT_BUREAU_YEAR_1', 'AMT_REQ_CREDIT_BUREAU_YEAR_2',\n",
    "                                                      'AMT_REQ_CREDIT_BUREAU_YEAR_3', 'AMT_REQ_CREDIT_BUREAU_YEAR_4', 'AMT_REQ_CREDIT_BUREAU_YEAR_5',\n",
    "                                                      'AMT_REQ_CREDIT_BUREAU_YEAR_6', 'AMT_REQ_CREDIT_BUREAU_YEAR_7', 'AMT_REQ_CREDIT_BUREAU_YEAR_8',\n",
    "                                                      'AMT_REQ_CREDIT_BUREAU_YEAR_9', 'AMT_REQ_CREDIT_BUREAU_YEAR_10', 'AMT_REQ_CREDIT_BUREAU_YEAR_11', \n",
    "                                                      'AMT_REQ_CREDIT_BUREAU_YEAR_12', 'AMT_REQ_CREDIT_BUREAU_YEAR_13', 'AMT_REQ_CREDIT_BUREAU_YEAR_14',\n",
    "                                                      'AMT_REQ_CREDIT_BUREAU_YEAR_15', 'AMT_REQ_CREDIT_BUREAU_YEAR_16', 'AMT_REQ_CREDIT_BUREAU_YEAR_17',\n",
    "                                                      'AMT_REQ_CREDIT_BUREAU_YEAR_18', 'AMT_REQ_CREDIT_BUREAU_YEAR_19', 'AMT_REQ_CREDIT_BUREAU_YEAR_25'], index=trainset.index)\n",
    "trainset = pd.concat([trainset, trainset_AMT_REQ_CREDIT_BUREAU_YEAR], axis = 1)\n",
    "del(trainset['AMT_REQ_CREDIT_BUREAU_YEAR'])"
   ]
  },
  {
   "cell_type": "code",
   "execution_count": null,
   "metadata": {},
   "outputs": [],
   "source": []
  }
 ],
 "metadata": {
  "kernelspec": {
   "display_name": "Python 3",
   "language": "python",
   "name": "python3"
  },
  "language_info": {
   "codemirror_mode": {
    "name": "ipython",
    "version": 3
   },
   "file_extension": ".py",
   "mimetype": "text/x-python",
   "name": "python",
   "nbconvert_exporter": "python",
   "pygments_lexer": "ipython3",
   "version": "3.6.4"
  }
 },
 "nbformat": 4,
 "nbformat_minor": 2
}
