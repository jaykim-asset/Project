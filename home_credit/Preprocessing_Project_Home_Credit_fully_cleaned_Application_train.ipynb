{
 "cells": [
  {
   "cell_type": "code",
   "execution_count": 1,
   "metadata": {},
   "outputs": [],
   "source": [
    "path = ('C://Users//Jongjae//Project/home_credit/')\n",
    "train = pd.read_csv(path + 'application_train.csv')"
   ]
  },
  {
   "cell_type": "code",
   "execution_count": 2,
   "metadata": {},
   "outputs": [],
   "source": [
    "from sklearn.preprocessing import OneHotEncoder\n",
    "from sklearn.preprocessing import LabelEncoder\n",
    "from sklearn.preprocessing import scale, robust_scale, minmax_scale, maxabs_scale"
   ]
  },
  {
   "cell_type": "code",
   "execution_count": 3,
   "metadata": {},
   "outputs": [],
   "source": [
    "def missing_values_table(df):\n",
    "        # Total missing values\n",
    "        mis_val = df.isnull().sum()\n",
    "        \n",
    "        # Percentage of missing values\n",
    "        mis_val_percent = 100 * df.isnull().sum() / len(df)\n",
    "        \n",
    "        # Make a table with the results\n",
    "        mis_val_table = pd.concat([mis_val, mis_val_percent], axis=1)\n",
    "        \n",
    "        # Rename the columns\n",
    "        mis_val_table_ren_columns = mis_val_table.rename(\n",
    "        columns = {0 : 'Missing Values', 1 : '% of Total Values'})\n",
    "        \n",
    "        # Sort the table by percentage of missing descending\n",
    "        mis_val_table_ren_columns = mis_val_table_ren_columns[\n",
    "            mis_val_table_ren_columns.iloc[:,1] != 0].round(1)\n",
    "        \n",
    "        # Print some summary information\n",
    "        print (\"Your selected dataframe has \" + str(df.shape[1]) + \" columns.\\n\"      \n",
    "            \"There are \" + str(mis_val_table_ren_columns.shape[0]) +\n",
    "              \" columns that have missing values.\")\n",
    "        \n",
    "        # Return the dataframe with missing information\n",
    "        return mis_val_table_ren_columns"
   ]
  },
  {
   "cell_type": "code",
   "execution_count": 6,
   "metadata": {},
   "outputs": [],
   "source": [
    "train['NAME_CONTRACT_TYPE'] = LabelEncoder().fit_transform(train['NAME_CONTRACT_TYPE'])\n",
    "train['CODE_GENDER'] = LabelEncoder().fit_transform(train['CODE_GENDER'])\n",
    "train['FLAG_OWN_CAR'] = LabelEncoder().fit_transform(train['FLAG_OWN_CAR'])"
   ]
  },
  {
   "cell_type": "code",
   "execution_count": 7,
   "metadata": {},
   "outputs": [],
   "source": [
    "train['FLAG_OWN_REALTY'] = LabelEncoder().fit_transform(train['FLAG_OWN_REALTY'])"
   ]
  },
  {
   "cell_type": "code",
   "execution_count": 8,
   "metadata": {},
   "outputs": [
    {
     "data": {
      "text/plain": [
       "array([ 0,  1,  2,  3,  4,  7,  5,  6,  8,  9, 11, 12, 10, 19, 14],\n",
       "      dtype=int64)"
      ]
     },
     "execution_count": 8,
     "metadata": {},
     "output_type": "execute_result"
    }
   ],
   "source": [
    "train['CNT_CHILDREN'].unique()"
   ]
  },
  {
   "cell_type": "code",
   "execution_count": 9,
   "metadata": {},
   "outputs": [],
   "source": [
    "from sklearn.preprocessing import LabelBinarizer\n",
    "train_CNT_CHILDREN = pd.DataFrame(LabelBinarizer().fit_transform(train['CNT_CHILDREN']), \n",
    "                                           columns = ['CNT_CHILDREN_0', 'CNT_CHILDREN_1', 'CNT_CHILDREN_2',\n",
    "                                                    'CNT_CHILDREN_3', 'CNT_CHILDREN_4', 'CNT_CHILDREN_5',\n",
    "                                                    'CNT_CHILDREN_6', 'CNT_CHILDREN_7', 'CNT_CHILDREN_8', 'CNT_CHILDREN_9',\n",
    "                                                    'CNT_CHILDREN_10', 'CNT_CHILDREN_11', 'CNT_CHILDREN_12',\n",
    "                                                    'CNT_CHILDREN_14', 'CNT_CHILDREN_19'], index=train.index)\n",
    "train = pd.concat([train, train_CNT_CHILDREN], axis = 1)\n",
    "del(train['CNT_CHILDREN'])"
   ]
  },
  {
   "cell_type": "code",
   "execution_count": 10,
   "metadata": {},
   "outputs": [],
   "source": [
    "train['AMT_INCOME_TOTAL'] = scale(train['AMT_INCOME_TOTAL'])\n",
    "train['AMT_CREDIT'] = scale(train['AMT_CREDIT'])"
   ]
  },
  {
   "cell_type": "code",
   "execution_count": 11,
   "metadata": {},
   "outputs": [],
   "source": [
    "train['AMT_ANNUITY'].fillna(train['AMT_ANNUITY'].mean(), inplace = True)\n",
    "train['AMT_ANNUITY'] = scale(train['AMT_ANNUITY'])"
   ]
  },
  {
   "cell_type": "code",
   "execution_count": 12,
   "metadata": {},
   "outputs": [],
   "source": [
    "train['AMT_GOODS_PRICE'].fillna(train['AMT_GOODS_PRICE'].mean(), inplace = True)\n",
    "train['AMT_GOODS_PRICE'] = scale(train['AMT_GOODS_PRICE'])"
   ]
  },
  {
   "cell_type": "code",
   "execution_count": 13,
   "metadata": {},
   "outputs": [],
   "source": [
    "train['NAME_TYPE_SUITE'].fillna(train['NAME_TYPE_SUITE'].mode()[0], inplace = True)\n",
    "train_NAME_TYPE_SUITE = pd.get_dummies(train['NAME_TYPE_SUITE'])\n",
    "train = pd.concat([train, train_NAME_TYPE_SUITE], axis = 1)\n",
    "del(train['NAME_TYPE_SUITE'])"
   ]
  },
  {
   "cell_type": "code",
   "execution_count": 14,
   "metadata": {},
   "outputs": [],
   "source": [
    "train_NAME_EDUCATION_TYPE = pd.get_dummies(train['NAME_EDUCATION_TYPE'])\n",
    "train = pd.concat([train, train_NAME_EDUCATION_TYPE], axis = 1)\n",
    "del(train['NAME_EDUCATION_TYPE'])"
   ]
  },
  {
   "cell_type": "code",
   "execution_count": 15,
   "metadata": {},
   "outputs": [],
   "source": [
    "train_NAME_FAMILY_STATUS = pd.get_dummies(train['NAME_FAMILY_STATUS'])\n",
    "train = pd.concat([train, train_NAME_FAMILY_STATUS], axis = 1)\n",
    "del(train['NAME_FAMILY_STATUS'])"
   ]
  },
  {
   "cell_type": "code",
   "execution_count": 16,
   "metadata": {},
   "outputs": [],
   "source": [
    "train_NAME_HOUSING_TYPE = pd.get_dummies(train['NAME_HOUSING_TYPE'])\n",
    "train = pd.concat([train, train_NAME_HOUSING_TYPE], axis = 1)\n",
    "del(train['NAME_HOUSING_TYPE'])"
   ]
  },
  {
   "cell_type": "code",
   "execution_count": 17,
   "metadata": {},
   "outputs": [
    {
     "name": "stderr",
     "output_type": "stream",
     "text": [
      "C:\\ProgramData\\Anaconda3\\lib\\site-packages\\sklearn\\utils\\validation.py:475: DataConversionWarning: Data with input dtype int64 was converted to float64 by the scale function.\n",
      "  warnings.warn(msg, DataConversionWarning)\n"
     ]
    }
   ],
   "source": [
    "train['DAYS_BIRTH'] = scale(train['DAYS_BIRTH'])\n",
    "train['DAYS_EMPLOYED'] = scale(train['DAYS_EMPLOYED'])\n",
    "train['DAYS_REGISTRATION'] = scale(train['DAYS_REGISTRATION'])"
   ]
  },
  {
   "cell_type": "code",
   "execution_count": 18,
   "metadata": {},
   "outputs": [
    {
     "name": "stderr",
     "output_type": "stream",
     "text": [
      "C:\\ProgramData\\Anaconda3\\lib\\site-packages\\sklearn\\utils\\validation.py:475: DataConversionWarning: Data with input dtype int64 was converted to float64 by the scale function.\n",
      "  warnings.warn(msg, DataConversionWarning)\n"
     ]
    }
   ],
   "source": [
    "train['DAYS_ID_PUBLISH'] = scale(train['DAYS_ID_PUBLISH'])"
   ]
  },
  {
   "cell_type": "code",
   "execution_count": 19,
   "metadata": {},
   "outputs": [],
   "source": [
    "train['OWN_CAR_AGE'].fillna(train['OWN_CAR_AGE'].mode()[0], inplace=True)"
   ]
  },
  {
   "cell_type": "code",
   "execution_count": 20,
   "metadata": {},
   "outputs": [
    {
     "name": "stdout",
     "output_type": "stream",
     "text": [
      "[0.0, 1.0, 2.0, 3.0, 4.0, 5.0, 6.0, 7.0, 8.0, 9.0, 10.0, 11.0, 12.0, 13.0, 14.0, 15.0, 16.0, 17.0, 18.0, 19.0, 20.0, 21.0, 22.0, 23.0, 24.0, 25.0, 26.0, 27.0, 28.0, 29.0, 30.0, 31.0, 32.0, 33.0, 34.0, 35.0, 36.0, 37.0, 38.0, 39.0, 40.0, 41.0, 42.0, 43.0, 44.0, 45.0, 46.0, 47.0, 48.0, 49.0, 50.0, 51.0, 52.0, 54.0, 55.0, 56.0, 57.0, 63.0, 64.0, 65.0, 69.0, 91.0]\n"
     ]
    }
   ],
   "source": [
    "print(sorted(train['OWN_CAR_AGE'].unique()))"
   ]
  },
  {
   "cell_type": "code",
   "execution_count": 21,
   "metadata": {},
   "outputs": [],
   "source": [
    "from sklearn.preprocessing import LabelBinarizer\n",
    "train_OWN_CAR_AGE = pd.DataFrame(LabelBinarizer().fit_transform(train['OWN_CAR_AGE']), \n",
    "                                           columns = ['OWN_CAR_AGE_0', 'OWN_CAR_AGE_1', 'OWN_CAR_AGE_2',\n",
    "                                                    'OWN_CAR_AGE_3', 'OWN_CAR_AGE_4', 'OWN_CAR_AGE_5',\n",
    "                                                    'OWN_CAR_AGE_6', 'OWN_CAR_AGE_7', 'OWN_CAR_AGE_8',\n",
    "                                                    'OWN_CAR_AGE_9', 'OWN_CAR_AGE_10', 'OWN_CAR_AGE_11',\n",
    "                                                    'OWN_CAR_AGE_12', 'OWN_CAR_AGE_13', 'OWN_CAR_AGE_14',\n",
    "                                                     'OWN_CAR_AGE_15', 'OWN_CAR_AGE_16', 'OWN_CAR_AGE_17',\n",
    "                                                     'OWN_CAR_AGE_18', 'OWN_CAR_AGE_19', 'OWN_CAR_AGE_20', \n",
    "                                                     'OWN_CAR_AGE_21', 'OWN_CAR_AGE_22', 'OWN_CAR_AGE_23', \n",
    "                                                     'OWN_CAR_AGE_24', 'OWN_CAR_AGE_25', 'OWN_CAR_AGE_26',\n",
    "                                                     'OWN_CAR_AGE_27', 'OWN_CAR_AGE_28', 'OWN_CAR_AGE_29', \n",
    "                                                     'OWN_CAR_AGE_30', 'OWN_CAR_AGE_31', 'OWN_CAR_AGE_32',\n",
    "                                                     'OWN_CAR_AGE_33', 'OWN_CAR_AGE_34', 'OWN_CAR_AGE_35', \n",
    "                                                     'OWN_CAR_AGE_36', 'OWN_CAR_AGE_37', 'OWN_CAR_AGE_38', \n",
    "                                                     'OWN_CAR_AGE_39', 'OWN_CAR_AGE_40', 'OWN_CAR_AGE_41', \n",
    "                                                     'OWN_CAR_AGE_42', 'OWN_CAR_AGE_43', 'OWN_CAR_AGE_44', \n",
    "                                                     'OWN_CAR_AGE_45', 'OWN_CAR_AGE_46', 'OWN_CAR_AGE_47',\n",
    "                                                     'OWN_CAR_AGE_48', 'OWN_CAR_AGE_49',\n",
    "                                                     'OWN_CAR_AGE_50', 'OWN_CAR_AGE_51', 'OWN_CAR_AGE_52',\n",
    "                                                     'OWN_CAR_AGE_54', 'OWN_CAR_AGE_55', 'OWN_CAR_AGE_56',\n",
    "                                                     'OWN_CAR_AGE_57', 'OWN_CAR_AGE_63', 'OWN_CAR_AGE_64',\n",
    "                                                      'OWN_CAR_AGE_65', 'OWN_CAR_AGE_69', 'OWN_CAR_AGE_91'], index=train.index)\n",
    "train = pd.concat([train, train_OWN_CAR_AGE], axis = 1)\n",
    "del(train['OWN_CAR_AGE'])"
   ]
  },
  {
   "cell_type": "code",
   "execution_count": 22,
   "metadata": {},
   "outputs": [],
   "source": [
    "train['FLAG_MOBIL'] = LabelEncoder().fit_transform(train['FLAG_MOBIL'])\n",
    "train['FLAG_EMP_PHONE'] = LabelEncoder().fit_transform(train['FLAG_EMP_PHONE'])\n",
    "train['FLAG_WORK_PHONE'] = LabelEncoder().fit_transform(train['FLAG_WORK_PHONE'])"
   ]
  },
  {
   "cell_type": "code",
   "execution_count": 23,
   "metadata": {},
   "outputs": [],
   "source": [
    "train['FLAG_CONT_MOBILE'] = LabelEncoder().fit_transform(train['FLAG_CONT_MOBILE'])"
   ]
  },
  {
   "cell_type": "code",
   "execution_count": 24,
   "metadata": {},
   "outputs": [],
   "source": [
    "train['FLAG_PHONE'].fillna(train['FLAG_PHONE'].mode()[0], inplace=True)\n",
    "train['FLAG_PHONE'] = LabelEncoder().fit_transform(train['FLAG_PHONE'])"
   ]
  },
  {
   "cell_type": "code",
   "execution_count": 25,
   "metadata": {},
   "outputs": [],
   "source": [
    "train['OCCUPATION_TYPE'].fillna(train['OCCUPATION_TYPE'].mode()[0], inplace=True)\n",
    "train_OCCUPATION_TYPE = pd.get_dummies(train['OCCUPATION_TYPE'])\n",
    "train = pd.concat([train, train_OCCUPATION_TYPE], axis = 1)\n",
    "del(train['OCCUPATION_TYPE'])"
   ]
  },
  {
   "cell_type": "code",
   "execution_count": 28,
   "metadata": {},
   "outputs": [
    {
     "name": "stdout",
     "output_type": "stream",
     "text": [
      "[1.0, 2.0, 3.0, 4.0, 5.0, 6.0, 7.0, 8.0, 9.0, 10.0, 11.0, 12.0, 13.0, 14.0, 15.0, 16.0, 20.0]\n"
     ]
    }
   ],
   "source": [
    "print(sorted(train['CNT_FAM_MEMBERS'].unique()))"
   ]
  },
  {
   "cell_type": "code",
   "execution_count": 27,
   "metadata": {},
   "outputs": [],
   "source": [
    "train['CNT_FAM_MEMBERS'].fillna(train['CNT_FAM_MEMBERS'].mode()[0], inplace=True)"
   ]
  },
  {
   "cell_type": "code",
   "execution_count": 29,
   "metadata": {},
   "outputs": [],
   "source": [
    "from sklearn.preprocessing import LabelBinarizer\n",
    "train_CNT_FAM_MEMBERS = pd.DataFrame(LabelBinarizer().fit_transform(train['CNT_FAM_MEMBERS']), \n",
    "                                           columns = ['CNT_FAM_MEMBERS_1', 'CNT_FAM_MEMBERS_2', 'CNT_FAM_MEMBERS_3',\n",
    "                                                    'CNT_FAM_MEMBERS_4', 'CNT_FAM_MEMBERS_5', 'CNT_FAM_MEMBERS_6',\n",
    "                                                    'CNT_FAM_MEMBERS_7', 'CNT_FAM_MEMBERS_8', 'CNT_FAM_MEMBERS_9',\n",
    "                                                    'CNT_FAM_MEMBERS_10', 'CNT_FAM_MEMBERS_11', 'CNT_FAM_MEMBERS_12',\n",
    "                                                    'CNT_FAM_MEMBERS_13', 'CNT_FAM_MEMBERS_14', 'CNT_FAM_MEMBERS_15',\n",
    "                                                    'CNT_FAM_MEMBERS_16', 'CNT_FAM_MEMBERS_20'], index=train.index)\n",
    "train = pd.concat([train, train_CNT_FAM_MEMBERS], axis = 1)\n",
    "del(train['CNT_FAM_MEMBERS'])"
   ]
  },
  {
   "cell_type": "code",
   "execution_count": 30,
   "metadata": {},
   "outputs": [],
   "source": [
    "train_REGION_RATING_CLIENT_W_CITY = pd.DataFrame(LabelBinarizer().fit_transform(train['REGION_RATING_CLIENT_W_CITY']), \n",
    "                                           columns = ['REGION_RATING_CLIENT_W_CITY_1', 'REGION_RATING_CLIENT_W_CITY_2', 'REGION_RATING_CLIENT_W_CITY_3'], index=train.index)\n",
    "train = pd.concat([train, train_REGION_RATING_CLIENT_W_CITY], axis = 1)\n",
    "del(train['REGION_RATING_CLIENT_W_CITY'])"
   ]
  },
  {
   "cell_type": "code",
   "execution_count": 31,
   "metadata": {},
   "outputs": [],
   "source": [
    "train_WEEKDAY_APPR_PROCESS_START = pd.get_dummies(train['WEEKDAY_APPR_PROCESS_START'])\n",
    "train = pd.concat([train, train_WEEKDAY_APPR_PROCESS_START], axis = 1)\n",
    "del(train['WEEKDAY_APPR_PROCESS_START'])"
   ]
  },
  {
   "cell_type": "code",
   "execution_count": 32,
   "metadata": {},
   "outputs": [
    {
     "name": "stdout",
     "output_type": "stream",
     "text": [
      "[0, 1, 2, 3, 4, 5, 6, 7, 8, 9, 10, 11, 12, 13, 14, 15, 16, 17, 18, 19, 20, 21, 22, 23]\n"
     ]
    }
   ],
   "source": [
    "print(sorted(train['HOUR_APPR_PROCESS_START'].unique()))"
   ]
  },
  {
   "cell_type": "code",
   "execution_count": 33,
   "metadata": {},
   "outputs": [],
   "source": [
    "train_HOUR_APPR_PROCESS_START = pd.DataFrame(LabelBinarizer().\n",
    "                                                fit_transform(train['HOUR_APPR_PROCESS_START']), \n",
    "                                           columns = ['HOUR_APPR_PROCESS_START_0', 'HOUR_APPR_PROCESS_START_1', 'HOUR_APPR_PROCESS_START_2', 'HOUR_APPR_PROCESS_START_3',\n",
    "                                                      'HOUR_APPR_PROCESS_START_4', 'HOUR_APPR_PROCESS_START_5', 'HOUR_APPR_PROCESS_START_6',\n",
    "                                                      'HOUR_APPR_PROCESS_START_7', 'HOUR_APPR_PROCESS_START_8', 'HOUR_APPR_PROCESS_START_9',\n",
    "                                                      'HOUR_APPR_PROCESS_START_10', 'HOUR_APPR_PROCESS_START_11',\n",
    "                                                     'HOUR_APPR_PROCESS_START_12', 'HOUR_APPR_PROCESS_START_13', 'HOUR_APPR_PROCESS_START_14',\n",
    "                                                     'HOUR_APPR_PROCESS_START_15', 'HOUR_APPR_PROCESS_START_16', 'HOUR_APPR_PROCESS_START_17',\n",
    "                                                     'HOUR_APPR_PROCESS_START_18', 'HOUR_APPR_PROCESS_START_19', 'HOUR_APPR_PROCESS_START_20',\n",
    "                                                     'HOUR_APPR_PROCESS_START_21', 'HOUR_APPR_PROCESS_START_22', 'HOUR_APPR_PROCESS_START_23'], index=train.index)\n",
    "train = pd.concat([train, train_HOUR_APPR_PROCESS_START], axis = 1)\n",
    "del(train['HOUR_APPR_PROCESS_START'])"
   ]
  },
  {
   "cell_type": "code",
   "execution_count": 34,
   "metadata": {},
   "outputs": [],
   "source": [
    "train_ORGANIZATION_TYPE = pd.get_dummies(train['ORGANIZATION_TYPE'])\n",
    "train = pd.concat([train, train_ORGANIZATION_TYPE], axis = 1)\n",
    "del(train['ORGANIZATION_TYPE'])"
   ]
  },
  {
   "cell_type": "code",
   "execution_count": 38,
   "metadata": {},
   "outputs": [
    {
     "name": "stdout",
     "output_type": "stream",
     "text": [
      "EXT_SOURCE_1 EMERGENCYSTATE_MODE\n"
     ]
    }
   ],
   "source": [
    "print(train.columns[29], train.columns[78])"
   ]
  },
  {
   "cell_type": "code",
   "execution_count": 39,
   "metadata": {},
   "outputs": [],
   "source": [
    "normalized_train = train.iloc[:, [29,30,31,32,33,34,35,36,37,38,39,40,\n",
    "                                  41,42,43,44,45,46,47,48,49,50,51,52,53,54,\n",
    "                                  55,56,57,58,59,60,61,62,63,64,65,66,67,68,\n",
    "                                  69,70,71,72,73,74,75,76,77,78]]"
   ]
  },
  {
   "cell_type": "code",
   "execution_count": 41,
   "metadata": {
    "scrolled": true
   },
   "outputs": [
    {
     "name": "stdout",
     "output_type": "stream",
     "text": [
      "Your selected dataframe has 50 columns.\n",
      "There are 50 columns that have missing values.\n"
     ]
    },
    {
     "data": {
      "text/html": [
       "<div>\n",
       "<style scoped>\n",
       "    .dataframe tbody tr th:only-of-type {\n",
       "        vertical-align: middle;\n",
       "    }\n",
       "\n",
       "    .dataframe tbody tr th {\n",
       "        vertical-align: top;\n",
       "    }\n",
       "\n",
       "    .dataframe thead th {\n",
       "        text-align: right;\n",
       "    }\n",
       "</style>\n",
       "<table border=\"1\" class=\"dataframe\">\n",
       "  <thead>\n",
       "    <tr style=\"text-align: right;\">\n",
       "      <th></th>\n",
       "      <th>Missing Values</th>\n",
       "      <th>% of Total Values</th>\n",
       "    </tr>\n",
       "  </thead>\n",
       "  <tbody>\n",
       "    <tr>\n",
       "      <th>EXT_SOURCE_1</th>\n",
       "      <td>173378</td>\n",
       "      <td>56.4</td>\n",
       "    </tr>\n",
       "    <tr>\n",
       "      <th>EXT_SOURCE_2</th>\n",
       "      <td>660</td>\n",
       "      <td>0.2</td>\n",
       "    </tr>\n",
       "    <tr>\n",
       "      <th>EXT_SOURCE_3</th>\n",
       "      <td>60965</td>\n",
       "      <td>19.8</td>\n",
       "    </tr>\n",
       "    <tr>\n",
       "      <th>APARTMENTS_AVG</th>\n",
       "      <td>156061</td>\n",
       "      <td>50.7</td>\n",
       "    </tr>\n",
       "    <tr>\n",
       "      <th>BASEMENTAREA_AVG</th>\n",
       "      <td>179943</td>\n",
       "      <td>58.5</td>\n",
       "    </tr>\n",
       "    <tr>\n",
       "      <th>YEARS_BEGINEXPLUATATION_AVG</th>\n",
       "      <td>150007</td>\n",
       "      <td>48.8</td>\n",
       "    </tr>\n",
       "    <tr>\n",
       "      <th>YEARS_BUILD_AVG</th>\n",
       "      <td>204488</td>\n",
       "      <td>66.5</td>\n",
       "    </tr>\n",
       "    <tr>\n",
       "      <th>COMMONAREA_AVG</th>\n",
       "      <td>214865</td>\n",
       "      <td>69.9</td>\n",
       "    </tr>\n",
       "    <tr>\n",
       "      <th>ELEVATORS_AVG</th>\n",
       "      <td>163891</td>\n",
       "      <td>53.3</td>\n",
       "    </tr>\n",
       "    <tr>\n",
       "      <th>ENTRANCES_AVG</th>\n",
       "      <td>154828</td>\n",
       "      <td>50.3</td>\n",
       "    </tr>\n",
       "    <tr>\n",
       "      <th>FLOORSMAX_AVG</th>\n",
       "      <td>153020</td>\n",
       "      <td>49.8</td>\n",
       "    </tr>\n",
       "    <tr>\n",
       "      <th>FLOORSMIN_AVG</th>\n",
       "      <td>208642</td>\n",
       "      <td>67.8</td>\n",
       "    </tr>\n",
       "    <tr>\n",
       "      <th>LANDAREA_AVG</th>\n",
       "      <td>182590</td>\n",
       "      <td>59.4</td>\n",
       "    </tr>\n",
       "    <tr>\n",
       "      <th>LIVINGAPARTMENTS_AVG</th>\n",
       "      <td>210199</td>\n",
       "      <td>68.4</td>\n",
       "    </tr>\n",
       "    <tr>\n",
       "      <th>LIVINGAREA_AVG</th>\n",
       "      <td>154350</td>\n",
       "      <td>50.2</td>\n",
       "    </tr>\n",
       "    <tr>\n",
       "      <th>NONLIVINGAPARTMENTS_AVG</th>\n",
       "      <td>213514</td>\n",
       "      <td>69.4</td>\n",
       "    </tr>\n",
       "    <tr>\n",
       "      <th>NONLIVINGAREA_AVG</th>\n",
       "      <td>169682</td>\n",
       "      <td>55.2</td>\n",
       "    </tr>\n",
       "    <tr>\n",
       "      <th>APARTMENTS_MODE</th>\n",
       "      <td>156061</td>\n",
       "      <td>50.7</td>\n",
       "    </tr>\n",
       "    <tr>\n",
       "      <th>BASEMENTAREA_MODE</th>\n",
       "      <td>179943</td>\n",
       "      <td>58.5</td>\n",
       "    </tr>\n",
       "    <tr>\n",
       "      <th>YEARS_BEGINEXPLUATATION_MODE</th>\n",
       "      <td>150007</td>\n",
       "      <td>48.8</td>\n",
       "    </tr>\n",
       "    <tr>\n",
       "      <th>YEARS_BUILD_MODE</th>\n",
       "      <td>204488</td>\n",
       "      <td>66.5</td>\n",
       "    </tr>\n",
       "    <tr>\n",
       "      <th>COMMONAREA_MODE</th>\n",
       "      <td>214865</td>\n",
       "      <td>69.9</td>\n",
       "    </tr>\n",
       "    <tr>\n",
       "      <th>ELEVATORS_MODE</th>\n",
       "      <td>163891</td>\n",
       "      <td>53.3</td>\n",
       "    </tr>\n",
       "    <tr>\n",
       "      <th>ENTRANCES_MODE</th>\n",
       "      <td>154828</td>\n",
       "      <td>50.3</td>\n",
       "    </tr>\n",
       "    <tr>\n",
       "      <th>FLOORSMAX_MODE</th>\n",
       "      <td>153020</td>\n",
       "      <td>49.8</td>\n",
       "    </tr>\n",
       "    <tr>\n",
       "      <th>FLOORSMIN_MODE</th>\n",
       "      <td>208642</td>\n",
       "      <td>67.8</td>\n",
       "    </tr>\n",
       "    <tr>\n",
       "      <th>LANDAREA_MODE</th>\n",
       "      <td>182590</td>\n",
       "      <td>59.4</td>\n",
       "    </tr>\n",
       "    <tr>\n",
       "      <th>LIVINGAPARTMENTS_MODE</th>\n",
       "      <td>210199</td>\n",
       "      <td>68.4</td>\n",
       "    </tr>\n",
       "    <tr>\n",
       "      <th>LIVINGAREA_MODE</th>\n",
       "      <td>154350</td>\n",
       "      <td>50.2</td>\n",
       "    </tr>\n",
       "    <tr>\n",
       "      <th>NONLIVINGAPARTMENTS_MODE</th>\n",
       "      <td>213514</td>\n",
       "      <td>69.4</td>\n",
       "    </tr>\n",
       "    <tr>\n",
       "      <th>NONLIVINGAREA_MODE</th>\n",
       "      <td>169682</td>\n",
       "      <td>55.2</td>\n",
       "    </tr>\n",
       "    <tr>\n",
       "      <th>APARTMENTS_MEDI</th>\n",
       "      <td>156061</td>\n",
       "      <td>50.7</td>\n",
       "    </tr>\n",
       "    <tr>\n",
       "      <th>BASEMENTAREA_MEDI</th>\n",
       "      <td>179943</td>\n",
       "      <td>58.5</td>\n",
       "    </tr>\n",
       "    <tr>\n",
       "      <th>YEARS_BEGINEXPLUATATION_MEDI</th>\n",
       "      <td>150007</td>\n",
       "      <td>48.8</td>\n",
       "    </tr>\n",
       "    <tr>\n",
       "      <th>YEARS_BUILD_MEDI</th>\n",
       "      <td>204488</td>\n",
       "      <td>66.5</td>\n",
       "    </tr>\n",
       "    <tr>\n",
       "      <th>COMMONAREA_MEDI</th>\n",
       "      <td>214865</td>\n",
       "      <td>69.9</td>\n",
       "    </tr>\n",
       "    <tr>\n",
       "      <th>ELEVATORS_MEDI</th>\n",
       "      <td>163891</td>\n",
       "      <td>53.3</td>\n",
       "    </tr>\n",
       "    <tr>\n",
       "      <th>ENTRANCES_MEDI</th>\n",
       "      <td>154828</td>\n",
       "      <td>50.3</td>\n",
       "    </tr>\n",
       "    <tr>\n",
       "      <th>FLOORSMAX_MEDI</th>\n",
       "      <td>153020</td>\n",
       "      <td>49.8</td>\n",
       "    </tr>\n",
       "    <tr>\n",
       "      <th>FLOORSMIN_MEDI</th>\n",
       "      <td>208642</td>\n",
       "      <td>67.8</td>\n",
       "    </tr>\n",
       "    <tr>\n",
       "      <th>LANDAREA_MEDI</th>\n",
       "      <td>182590</td>\n",
       "      <td>59.4</td>\n",
       "    </tr>\n",
       "    <tr>\n",
       "      <th>LIVINGAPARTMENTS_MEDI</th>\n",
       "      <td>210199</td>\n",
       "      <td>68.4</td>\n",
       "    </tr>\n",
       "    <tr>\n",
       "      <th>LIVINGAREA_MEDI</th>\n",
       "      <td>154350</td>\n",
       "      <td>50.2</td>\n",
       "    </tr>\n",
       "    <tr>\n",
       "      <th>NONLIVINGAPARTMENTS_MEDI</th>\n",
       "      <td>213514</td>\n",
       "      <td>69.4</td>\n",
       "    </tr>\n",
       "    <tr>\n",
       "      <th>NONLIVINGAREA_MEDI</th>\n",
       "      <td>169682</td>\n",
       "      <td>55.2</td>\n",
       "    </tr>\n",
       "    <tr>\n",
       "      <th>FONDKAPREMONT_MODE</th>\n",
       "      <td>210295</td>\n",
       "      <td>68.4</td>\n",
       "    </tr>\n",
       "    <tr>\n",
       "      <th>HOUSETYPE_MODE</th>\n",
       "      <td>154297</td>\n",
       "      <td>50.2</td>\n",
       "    </tr>\n",
       "    <tr>\n",
       "      <th>TOTALAREA_MODE</th>\n",
       "      <td>148431</td>\n",
       "      <td>48.3</td>\n",
       "    </tr>\n",
       "    <tr>\n",
       "      <th>WALLSMATERIAL_MODE</th>\n",
       "      <td>156341</td>\n",
       "      <td>50.8</td>\n",
       "    </tr>\n",
       "    <tr>\n",
       "      <th>EMERGENCYSTATE_MODE</th>\n",
       "      <td>145755</td>\n",
       "      <td>47.4</td>\n",
       "    </tr>\n",
       "  </tbody>\n",
       "</table>\n",
       "</div>"
      ],
      "text/plain": [
       "                              Missing Values  % of Total Values\n",
       "EXT_SOURCE_1                          173378               56.4\n",
       "EXT_SOURCE_2                             660                0.2\n",
       "EXT_SOURCE_3                           60965               19.8\n",
       "APARTMENTS_AVG                        156061               50.7\n",
       "BASEMENTAREA_AVG                      179943               58.5\n",
       "YEARS_BEGINEXPLUATATION_AVG           150007               48.8\n",
       "YEARS_BUILD_AVG                       204488               66.5\n",
       "COMMONAREA_AVG                        214865               69.9\n",
       "ELEVATORS_AVG                         163891               53.3\n",
       "ENTRANCES_AVG                         154828               50.3\n",
       "FLOORSMAX_AVG                         153020               49.8\n",
       "FLOORSMIN_AVG                         208642               67.8\n",
       "LANDAREA_AVG                          182590               59.4\n",
       "LIVINGAPARTMENTS_AVG                  210199               68.4\n",
       "LIVINGAREA_AVG                        154350               50.2\n",
       "NONLIVINGAPARTMENTS_AVG               213514               69.4\n",
       "NONLIVINGAREA_AVG                     169682               55.2\n",
       "APARTMENTS_MODE                       156061               50.7\n",
       "BASEMENTAREA_MODE                     179943               58.5\n",
       "YEARS_BEGINEXPLUATATION_MODE          150007               48.8\n",
       "YEARS_BUILD_MODE                      204488               66.5\n",
       "COMMONAREA_MODE                       214865               69.9\n",
       "ELEVATORS_MODE                        163891               53.3\n",
       "ENTRANCES_MODE                        154828               50.3\n",
       "FLOORSMAX_MODE                        153020               49.8\n",
       "FLOORSMIN_MODE                        208642               67.8\n",
       "LANDAREA_MODE                         182590               59.4\n",
       "LIVINGAPARTMENTS_MODE                 210199               68.4\n",
       "LIVINGAREA_MODE                       154350               50.2\n",
       "NONLIVINGAPARTMENTS_MODE              213514               69.4\n",
       "NONLIVINGAREA_MODE                    169682               55.2\n",
       "APARTMENTS_MEDI                       156061               50.7\n",
       "BASEMENTAREA_MEDI                     179943               58.5\n",
       "YEARS_BEGINEXPLUATATION_MEDI          150007               48.8\n",
       "YEARS_BUILD_MEDI                      204488               66.5\n",
       "COMMONAREA_MEDI                       214865               69.9\n",
       "ELEVATORS_MEDI                        163891               53.3\n",
       "ENTRANCES_MEDI                        154828               50.3\n",
       "FLOORSMAX_MEDI                        153020               49.8\n",
       "FLOORSMIN_MEDI                        208642               67.8\n",
       "LANDAREA_MEDI                         182590               59.4\n",
       "LIVINGAPARTMENTS_MEDI                 210199               68.4\n",
       "LIVINGAREA_MEDI                       154350               50.2\n",
       "NONLIVINGAPARTMENTS_MEDI              213514               69.4\n",
       "NONLIVINGAREA_MEDI                    169682               55.2\n",
       "FONDKAPREMONT_MODE                    210295               68.4\n",
       "HOUSETYPE_MODE                        154297               50.2\n",
       "TOTALAREA_MODE                        148431               48.3\n",
       "WALLSMATERIAL_MODE                    156341               50.8\n",
       "EMERGENCYSTATE_MODE                   145755               47.4"
      ]
     },
     "execution_count": 41,
     "metadata": {},
     "output_type": "execute_result"
    }
   ],
   "source": [
    "%matplotlib inline\n",
    "missing_values_table(normalized_train)"
   ]
  },
  {
   "cell_type": "code",
   "execution_count": 42,
   "metadata": {
    "scrolled": true
   },
   "outputs": [
    {
     "data": {
      "text/plain": [
       "EXT_SOURCE_1                    float64\n",
       "EXT_SOURCE_2                    float64\n",
       "EXT_SOURCE_3                    float64\n",
       "APARTMENTS_AVG                  float64\n",
       "BASEMENTAREA_AVG                float64\n",
       "YEARS_BEGINEXPLUATATION_AVG     float64\n",
       "YEARS_BUILD_AVG                 float64\n",
       "COMMONAREA_AVG                  float64\n",
       "ELEVATORS_AVG                   float64\n",
       "ENTRANCES_AVG                   float64\n",
       "FLOORSMAX_AVG                   float64\n",
       "FLOORSMIN_AVG                   float64\n",
       "LANDAREA_AVG                    float64\n",
       "LIVINGAPARTMENTS_AVG            float64\n",
       "LIVINGAREA_AVG                  float64\n",
       "NONLIVINGAPARTMENTS_AVG         float64\n",
       "NONLIVINGAREA_AVG               float64\n",
       "APARTMENTS_MODE                 float64\n",
       "BASEMENTAREA_MODE               float64\n",
       "YEARS_BEGINEXPLUATATION_MODE    float64\n",
       "YEARS_BUILD_MODE                float64\n",
       "COMMONAREA_MODE                 float64\n",
       "ELEVATORS_MODE                  float64\n",
       "ENTRANCES_MODE                  float64\n",
       "FLOORSMAX_MODE                  float64\n",
       "FLOORSMIN_MODE                  float64\n",
       "LANDAREA_MODE                   float64\n",
       "LIVINGAPARTMENTS_MODE           float64\n",
       "LIVINGAREA_MODE                 float64\n",
       "NONLIVINGAPARTMENTS_MODE        float64\n",
       "NONLIVINGAREA_MODE              float64\n",
       "APARTMENTS_MEDI                 float64\n",
       "BASEMENTAREA_MEDI               float64\n",
       "YEARS_BEGINEXPLUATATION_MEDI    float64\n",
       "YEARS_BUILD_MEDI                float64\n",
       "COMMONAREA_MEDI                 float64\n",
       "ELEVATORS_MEDI                  float64\n",
       "ENTRANCES_MEDI                  float64\n",
       "FLOORSMAX_MEDI                  float64\n",
       "FLOORSMIN_MEDI                  float64\n",
       "LANDAREA_MEDI                   float64\n",
       "LIVINGAPARTMENTS_MEDI           float64\n",
       "LIVINGAREA_MEDI                 float64\n",
       "NONLIVINGAPARTMENTS_MEDI        float64\n",
       "NONLIVINGAREA_MEDI              float64\n",
       "FONDKAPREMONT_MODE               object\n",
       "HOUSETYPE_MODE                   object\n",
       "TOTALAREA_MODE                  float64\n",
       "WALLSMATERIAL_MODE               object\n",
       "EMERGENCYSTATE_MODE              object\n",
       "dtype: object"
      ]
     },
     "execution_count": 42,
     "metadata": {},
     "output_type": "execute_result"
    }
   ],
   "source": [
    "normalized_train.dtypes"
   ]
  },
  {
   "cell_type": "code",
   "execution_count": 43,
   "metadata": {},
   "outputs": [],
   "source": [
    "# 1. train['FONDKAPREMONT_MODE'] "
   ]
  },
  {
   "cell_type": "code",
   "execution_count": 44,
   "metadata": {},
   "outputs": [],
   "source": [
    "train['FONDKAPREMONT_MODE'].mode()[0]\n",
    "train['FONDKAPREMONT_MODE'] = train['FONDKAPREMONT_MODE'].fillna('reg oper account')\n",
    "train_FONDKAPREMONT_MODE = pd.get_dummies(train['FONDKAPREMONT_MODE'])\n",
    "train = pd.concat([train, train_FONDKAPREMONT_MODE], axis = 1)\n",
    "del(train['FONDKAPREMONT_MODE'])"
   ]
  },
  {
   "cell_type": "code",
   "execution_count": null,
   "metadata": {},
   "outputs": [],
   "source": [
    "# 2. train['HOUSETYPE_MODE']"
   ]
  },
  {
   "cell_type": "code",
   "execution_count": 45,
   "metadata": {},
   "outputs": [],
   "source": [
    "train['HOUSETYPE_MODE'].mode()[0]\n",
    "train['HOUSETYPE_MODE'] = train['HOUSETYPE_MODE'].fillna('block of flats')\n",
    "train_HOUSETYPE_MODE = pd.get_dummies(train['HOUSETYPE_MODE'])\n",
    "train = pd.concat([train, train_HOUSETYPE_MODE], axis = 1)\n",
    "del(train['HOUSETYPE_MODE'])"
   ]
  },
  {
   "cell_type": "code",
   "execution_count": 46,
   "metadata": {},
   "outputs": [],
   "source": [
    "#3, train['WALLSMATERIAL_MODE']"
   ]
  },
  {
   "cell_type": "code",
   "execution_count": 47,
   "metadata": {},
   "outputs": [],
   "source": [
    "train['WALLSMATERIAL_MODE'].mode()[0]\n",
    "train['WALLSMATERIAL_MODE'] = train['WALLSMATERIAL_MODE'].fillna('Panel')\n",
    "train_WALLSMATERIAL_MODE = pd.get_dummies(train['WALLSMATERIAL_MODE'])\n",
    "train = pd.concat([train, train_WALLSMATERIAL_MODE], axis = 1)\n",
    "del(train['WALLSMATERIAL_MODE'])"
   ]
  },
  {
   "cell_type": "code",
   "execution_count": 48,
   "metadata": {},
   "outputs": [],
   "source": [
    "#4. trainset['EMERGENCYSTATE_MODE']"
   ]
  },
  {
   "cell_type": "code",
   "execution_count": 49,
   "metadata": {},
   "outputs": [],
   "source": [
    "train['EMERGENCYSTATE_MODE'].mode()[0]\n",
    "train['EMERGENCYSTATE_MODE'] = train['EMERGENCYSTATE_MODE'].fillna('No')\n",
    "train['EMERGENCYSTATE_MODE'] = LabelEncoder().fit_transform(train['EMERGENCYSTATE_MODE'])"
   ]
  },
  {
   "cell_type": "code",
   "execution_count": 51,
   "metadata": {},
   "outputs": [
    {
     "data": {
      "text/plain": [
       "'EMERGENCYSTATE_MODE'"
      ]
     },
     "execution_count": 51,
     "metadata": {},
     "output_type": "execute_result"
    }
   ],
   "source": [
    "train.columns[75]"
   ]
  },
  {
   "cell_type": "code",
   "execution_count": 53,
   "metadata": {},
   "outputs": [],
   "source": [
    "troubles = train.iloc[:, [29,30,31,32,33,34,35,36,37,38,39,40,\n",
    "                                  41,42,43,44,45,46,47,48,49,50,51,52,53,54,\n",
    "                                  55,56,57,58,59,60,61,62,63,64,65,66,67,68,\n",
    "                                  69,70,71,72,73,74,75]]"
   ]
  },
  {
   "cell_type": "code",
   "execution_count": 54,
   "metadata": {},
   "outputs": [],
   "source": [
    "for i in troubles.columns:\n",
    "    train['{}'.format(i)] = train['{}'.format(i)].fillna(train['{}'.format(i)].mean())"
   ]
  },
  {
   "cell_type": "code",
   "execution_count": 55,
   "metadata": {},
   "outputs": [
    {
     "name": "stdout",
     "output_type": "stream",
     "text": [
      "EXT_SOURCE_1 0\n",
      "EXT_SOURCE_2 0\n",
      "EXT_SOURCE_3 0\n",
      "APARTMENTS_AVG 0\n",
      "BASEMENTAREA_AVG 0\n",
      "YEARS_BEGINEXPLUATATION_AVG 0\n",
      "YEARS_BUILD_AVG 0\n",
      "COMMONAREA_AVG 0\n",
      "ELEVATORS_AVG 0\n",
      "ENTRANCES_AVG 0\n",
      "FLOORSMAX_AVG 0\n",
      "FLOORSMIN_AVG 0\n",
      "LANDAREA_AVG 0\n",
      "LIVINGAPARTMENTS_AVG 0\n",
      "LIVINGAREA_AVG 0\n",
      "NONLIVINGAPARTMENTS_AVG 0\n",
      "NONLIVINGAREA_AVG 0\n",
      "APARTMENTS_MODE 0\n",
      "BASEMENTAREA_MODE 0\n",
      "YEARS_BEGINEXPLUATATION_MODE 0\n",
      "YEARS_BUILD_MODE 0\n",
      "COMMONAREA_MODE 0\n",
      "ELEVATORS_MODE 0\n",
      "ENTRANCES_MODE 0\n",
      "FLOORSMAX_MODE 0\n",
      "FLOORSMIN_MODE 0\n",
      "LANDAREA_MODE 0\n",
      "LIVINGAPARTMENTS_MODE 0\n",
      "LIVINGAREA_MODE 0\n",
      "NONLIVINGAPARTMENTS_MODE 0\n",
      "NONLIVINGAREA_MODE 0\n",
      "APARTMENTS_MEDI 0\n",
      "BASEMENTAREA_MEDI 0\n",
      "YEARS_BEGINEXPLUATATION_MEDI 0\n",
      "YEARS_BUILD_MEDI 0\n",
      "COMMONAREA_MEDI 0\n",
      "ELEVATORS_MEDI 0\n",
      "ENTRANCES_MEDI 0\n",
      "FLOORSMAX_MEDI 0\n",
      "FLOORSMIN_MEDI 0\n",
      "LANDAREA_MEDI 0\n",
      "LIVINGAPARTMENTS_MEDI 0\n",
      "LIVINGAREA_MEDI 0\n",
      "NONLIVINGAPARTMENTS_MEDI 0\n",
      "NONLIVINGAREA_MEDI 0\n",
      "TOTALAREA_MODE 0\n",
      "EMERGENCYSTATE_MODE 0\n"
     ]
    }
   ],
   "source": [
    "for i in troubles.columns:\n",
    "    print(i, train['{}'.format(i)].isnull().sum())"
   ]
  },
  {
   "cell_type": "code",
   "execution_count": 56,
   "metadata": {},
   "outputs": [],
   "source": [
    "train['OBS_30_CNT_SOCIAL_CIRCLE'] = train['OBS_30_CNT_SOCIAL_CIRCLE'].fillna(train['OBS_30_CNT_SOCIAL_CIRCLE'].mode()[0])"
   ]
  },
  {
   "cell_type": "code",
   "execution_count": 57,
   "metadata": {},
   "outputs": [
    {
     "name": "stdout",
     "output_type": "stream",
     "text": [
      "[0.0, 1.0, 2.0, 3.0, 4.0, 5.0, 6.0, 7.0, 8.0, 9.0, 10.0, 11.0, 12.0, 13.0, 14.0, 15.0, 16.0, 17.0, 18.0, 19.0, 20.0, 21.0, 22.0, 23.0, 24.0, 25.0, 26.0, 27.0, 28.0, 29.0, 30.0, 47.0, 348.0]\n"
     ]
    }
   ],
   "source": [
    "print(sorted(train['OBS_30_CNT_SOCIAL_CIRCLE'].unique()))"
   ]
  },
  {
   "cell_type": "code",
   "execution_count": 58,
   "metadata": {},
   "outputs": [],
   "source": [
    "from sklearn.preprocessing import LabelBinarizer\n",
    "\n",
    "train_OBS_30_CNT_SOCIAL_CIRCLE = pd.DataFrame(LabelBinarizer().\n",
    "                                                fit_transform(train['OBS_30_CNT_SOCIAL_CIRCLE']), \n",
    "                                           columns = ['OBS_30_CNT_SOCIAL_CIRCLE_0', 'OBS_30_CNT_SOCIAL_CIRCLE_1', 'OBS_30_CNT_SOCIAL_CIRCLE_2',\n",
    "                                                      'OBS_30_CNT_SOCIAL_CIRCLE_3', 'OBS_30_CNT_SOCIAL_CIRCLE_4', 'OBS_30_CNT_SOCIAL_CIRCLE_5',\n",
    "                                                      'OBS_30_CNT_SOCIAL_CIRCLE_6', 'OBS_30_CNT_SOCIAL_CIRCLE_7', 'OBS_30_CNT_SOCIAL_CIRCLE_8',\n",
    "                                                      'OBS_30_CNT_SOCIAL_CIRCLE_9', 'OBS_30_CNT_SOCIAL_CIRCLE_10', 'OBS_30_CNT_SOCIAL_CIRCLE_11',\n",
    "                                                     'OBS_30_CNT_SOCIAL_CIRCLE_12', 'OBS_30_CNT_SOCIAL_CIRCLE_13', 'OBS_30_CNT_SOCIAL_CIRCLE_14',\n",
    "                                                     'OBS_30_CNT_SOCIAL_CIRCLE_15', 'OBS_30_CNT_SOCIAL_CIRCLE_16', 'OBS_30_CNT_SOCIAL_CIRCLE_17',\n",
    "                                                     'OBS_30_CNT_SOCIAL_CIRCLE_18', 'OBS_30_CNT_SOCIAL_CIRCLE_19', 'OBS_30_CNT_SOCIAL_CIRCLE_20',\n",
    "                                                     'OBS_30_CNT_SOCIAL_CIRCLE_21', 'OBS_30_CNT_SOCIAL_CIRCLE_22', 'OBS_30_CNT_SOCIAL_CIRCLE_23',\n",
    "                                                      'OBS_30_CNT_SOCIAL_CIRCLE_24', 'OBS_30_CNT_SOCIAL_CIRCLE_25', 'OBS_30_CNT_SOCIAL_CIRCLE_26',\n",
    "                                                     'OBS_30_CNT_SOCIAL_CIRCLE_27', 'OBS_30_CNT_SOCIAL_CIRCLE_28', 'OBS_30_CNT_SOCIAL_CIRCLE_29',\n",
    "                                                     'OBS_30_CNT_SOCIAL_CIRCLE_30', 'OBS_30_CNT_SOCIAL_CIRCLE_47', 'OBS_30_CNT_SOCIAL_CIRCLE_348'], index=train.index)\n",
    "train = pd.concat([train, train_OBS_30_CNT_SOCIAL_CIRCLE], axis = 1)\n",
    "del(train['OBS_30_CNT_SOCIAL_CIRCLE'])"
   ]
  },
  {
   "cell_type": "code",
   "execution_count": 59,
   "metadata": {},
   "outputs": [],
   "source": [
    "train['DEF_30_CNT_SOCIAL_CIRCLE'] = train['DEF_30_CNT_SOCIAL_CIRCLE'].fillna(0.0)"
   ]
  },
  {
   "cell_type": "code",
   "execution_count": 60,
   "metadata": {},
   "outputs": [],
   "source": [
    "from sklearn.preprocessing import LabelBinarizer\n",
    "\n",
    "train_DEF_30_CNT_SOCIAL_CIRCLE = pd.DataFrame(LabelBinarizer().\n",
    "                                                fit_transform(train['DEF_30_CNT_SOCIAL_CIRCLE']), \n",
    "                                           columns = ['DEF_30_CNT_SOCIAL_CIRCLE_0', 'DEF_30_CNT_SOCIAL_CIRCLE_1', 'DEF_30_CNT_SOCIAL_CIRCLE_2',\n",
    "                                                      'DEF_30_CNT_SOCIAL_CIRCLE_3', 'DEF_30_CNT_SOCIAL_CIRCLE_4', 'DEF_30_CNT_SOCIAL_CIRCLE_5',\n",
    "                                                      'DEF_30_CNT_SOCIAL_CIRCLE_6', 'DEF_30_CNT_SOCIAL_CIRCLE_7', 'DEF_30_CNT_SOCIAL_CIRCLE_8',\n",
    "                                                      'DEF_30_CNT_SOCIAL_CIRCLE_34'], index=train.index)\n",
    "train = pd.concat([train, train_DEF_30_CNT_SOCIAL_CIRCLE], axis = 1)\n",
    "del(train['DEF_30_CNT_SOCIAL_CIRCLE'])"
   ]
  },
  {
   "cell_type": "code",
   "execution_count": 61,
   "metadata": {},
   "outputs": [
    {
     "name": "stdout",
     "output_type": "stream",
     "text": [
      "[0.0, 1.0, 2.0, 3.0, 4.0, 5.0, 6.0, 7.0, 8.0, 9.0, 10.0, nan, 11.0, 12.0, 13.0, 14.0, 15.0, 16.0, 17.0, 18.0, 19.0, 20.0, 21.0, 22.0, 23.0, 24.0, 25.0, 26.0, 27.0, 28.0, 29.0, 30.0, 47.0, 344.0]\n"
     ]
    }
   ],
   "source": [
    "print(sorted(train['OBS_60_CNT_SOCIAL_CIRCLE'].unique()))"
   ]
  },
  {
   "cell_type": "code",
   "execution_count": 62,
   "metadata": {},
   "outputs": [],
   "source": [
    "train['OBS_60_CNT_SOCIAL_CIRCLE'].fillna(0.0, inplace=True)"
   ]
  },
  {
   "cell_type": "code",
   "execution_count": 63,
   "metadata": {},
   "outputs": [],
   "source": [
    "from sklearn.preprocessing import LabelBinarizer\n",
    "\n",
    "train_OBS_60_CNT_SOCIAL_CIRCLE = pd.DataFrame(LabelBinarizer().\n",
    "                                                fit_transform(train['OBS_60_CNT_SOCIAL_CIRCLE']), \n",
    "                                           columns = ['OBS_60_CNT_SOCIAL_CIRCLE_0', 'OBS_60_CNT_SOCIAL_CIRCLE_1', 'OBS_60_CNT_SOCIAL_CIRCLE_2',\n",
    "                                                      'OBS_60_CNT_SOCIAL_CIRCLE_3', 'OBS_60_CNT_SOCIAL_CIRCLE_4', 'OBS_60_CNT_SOCIAL_CIRCLE_5',\n",
    "                                                      'OBS_60_CNT_SOCIAL_CIRCLE_6', 'OBS_60_CNT_SOCIAL_CIRCLE_7', 'OBS_60_CNT_SOCIAL_CIRCLE_8',\n",
    "                                                      'OBS_60_CNT_SOCIAL_CIRCLE_9', 'OBS_60_CNT_SOCIAL_CIRCLE_10', 'OBS_60_CNT_SOCIAL_CIRCLE_11',\n",
    "                                                     'OBS_60_CNT_SOCIAL_CIRCLE_12', 'OBS_60_CNT_SOCIAL_CIRCLE_13', 'OBS_60_CNT_SOCIAL_CIRCLE_14',\n",
    "                                                     'OBS_60_CNT_SOCIAL_CIRCLE_15', 'OBS_60_CNT_SOCIAL_CIRCLE_16', 'OBS_60_CNT_SOCIAL_CIRCLE_17',\n",
    "                                                     'OBS_60_CNT_SOCIAL_CIRCLE_18', 'OBS_60_CNT_SOCIAL_CIRCLE_19', 'OBS_60_CNT_SOCIAL_CIRCLE_20',\n",
    "                                                     'OBS_60_CNT_SOCIAL_CIRCLE_21', 'OBS_60_CNT_SOCIAL_CIRCLE_22', 'OBS_60_CNT_SOCIAL_CIRCLE_23',\n",
    "                                                      'OBS_60_CNT_SOCIAL_CIRCLE_24', 'OBS_60_CNT_SOCIAL_CIRCLE_25', 'OBS_60_CNT_SOCIAL_CIRCLE_26',\n",
    "                                                     'OBS_60_CNT_SOCIAL_CIRCLE_27', 'OBS_60_CNT_SOCIAL_CIRCLE_28', 'OBS_60_CNT_SOCIAL_CIRCLE_29',\n",
    "                                                     'OBS_60_CNT_SOCIAL_CIRCLE_30', 'OBS_60_CNT_SOCIAL_CIRCLE_47', 'OBS_60_CNT_SOCIAL_CIRCLE_344'], index=train.index)\n",
    "train = pd.concat([train, train_OBS_60_CNT_SOCIAL_CIRCLE], axis = 1)\n",
    "del(train['OBS_60_CNT_SOCIAL_CIRCLE'])"
   ]
  },
  {
   "cell_type": "code",
   "execution_count": 64,
   "metadata": {},
   "outputs": [
    {
     "data": {
      "text/plain": [
       "[0.0, 1.0, 2.0, nan, 3.0, 4.0, 5.0, 6.0, 7.0, 24.0]"
      ]
     },
     "execution_count": 64,
     "metadata": {},
     "output_type": "execute_result"
    }
   ],
   "source": [
    "sorted(train['DEF_60_CNT_SOCIAL_CIRCLE'].unique())"
   ]
  },
  {
   "cell_type": "code",
   "execution_count": 65,
   "metadata": {},
   "outputs": [],
   "source": [
    "train['DEF_60_CNT_SOCIAL_CIRCLE'] = train['DEF_60_CNT_SOCIAL_CIRCLE'].fillna(0.0)"
   ]
  },
  {
   "cell_type": "code",
   "execution_count": 66,
   "metadata": {},
   "outputs": [],
   "source": [
    "from sklearn.preprocessing import LabelBinarizer\n",
    "\n",
    "train_DEF_60_CNT_SOCIAL_CIRCLE = pd.DataFrame(LabelBinarizer().\n",
    "                                                fit_transform(train['DEF_60_CNT_SOCIAL_CIRCLE']), \n",
    "                                           columns = ['DEF_60_CNT_SOCIAL_CIRCLE_0', 'DEF_60_CNT_SOCIAL_CIRCLE_1', 'DEF_60_CNT_SOCIAL_CIRCLE_2',\n",
    "                                                      'DEF_60_CNT_SOCIAL_CIRCLE_3', 'DEF_60_CNT_SOCIAL_CIRCLE_4', 'DEF_60_CNT_SOCIAL_CIRCLE_5',\n",
    "                                                      'DEF_60_CNT_SOCIAL_CIRCLE_6', 'DEF_60_CNT_SOCIAL_CIRCLE_7', 'DEF_60_CNT_SOCIAL_CIRCLE_24'], index=train.index)\n",
    "train = pd.concat([train, train_DEF_60_CNT_SOCIAL_CIRCLE], axis = 1)\n",
    "del(train['DEF_60_CNT_SOCIAL_CIRCLE'])"
   ]
  },
  {
   "cell_type": "code",
   "execution_count": 67,
   "metadata": {},
   "outputs": [],
   "source": [
    "train['DAYS_LAST_PHONE_CHANGE'] = train['DAYS_LAST_PHONE_CHANGE'].fillna(0.0)"
   ]
  },
  {
   "cell_type": "code",
   "execution_count": 68,
   "metadata": {},
   "outputs": [],
   "source": [
    "train['DAYS_LAST_PHONE_CHANGE'] = scale(train['DAYS_LAST_PHONE_CHANGE'])"
   ]
  },
  {
   "cell_type": "code",
   "execution_count": 69,
   "metadata": {},
   "outputs": [
    {
     "name": "stdout",
     "output_type": "stream",
     "text": [
      "0.0\n",
      "0.0\n",
      "0.0\n",
      "0.0\n",
      "0.0\n",
      "0.0\n"
     ]
    }
   ],
   "source": [
    "print(train['AMT_REQ_CREDIT_BUREAU_HOUR'].mode()[0])\n",
    "print(train['AMT_REQ_CREDIT_BUREAU_DAY'].mode()[0])\n",
    "print(train['AMT_REQ_CREDIT_BUREAU_WEEK'].mode()[0])\n",
    "print(train['AMT_REQ_CREDIT_BUREAU_MON'].mode()[0])\n",
    "print(train['AMT_REQ_CREDIT_BUREAU_QRT'].mode()[0])\n",
    "print(train['AMT_REQ_CREDIT_BUREAU_YEAR'].mode()[0])"
   ]
  },
  {
   "cell_type": "code",
   "execution_count": 70,
   "metadata": {},
   "outputs": [
    {
     "name": "stdout",
     "output_type": "stream",
     "text": [
      "[ 0. nan  1.  2.  3.  4.]\n",
      "[ 0. nan  1.  3.  2.  4.  5.  6.  9.  8.]\n",
      "[ 0. nan  1.  3.  2.  4.  5.  6.  8.  7.]\n",
      "[ 0. nan  1.  2.  6.  5.  3.  7.  9.  4. 11.  8. 16. 12. 14. 10. 13. 17.\n",
      " 24. 19. 15. 23. 18. 27. 22.]\n",
      "[  0.  nan   1.   2.   4.   3.   8.   5.   6.   7. 261.  19.]\n",
      "[ 1.  0. nan  2.  4.  5.  3.  8.  6.  9.  7. 10. 11. 13. 16. 12. 25. 23.\n",
      " 15. 14. 22. 17. 19. 18. 21. 20.]\n"
     ]
    }
   ],
   "source": [
    "print(train['AMT_REQ_CREDIT_BUREAU_HOUR'].unique())\n",
    "print(train['AMT_REQ_CREDIT_BUREAU_DAY'].unique())\n",
    "print(train['AMT_REQ_CREDIT_BUREAU_WEEK'].unique())\n",
    "print(train['AMT_REQ_CREDIT_BUREAU_MON'].unique())\n",
    "print(train['AMT_REQ_CREDIT_BUREAU_QRT'].unique())\n",
    "print(train['AMT_REQ_CREDIT_BUREAU_YEAR'].unique())"
   ]
  },
  {
   "cell_type": "code",
   "execution_count": 71,
   "metadata": {},
   "outputs": [
    {
     "name": "stdout",
     "output_type": "stream",
     "text": [
      "41519\n",
      "41519\n",
      "41519\n",
      "41519\n",
      "41519\n",
      "41519\n"
     ]
    }
   ],
   "source": [
    "print(train['AMT_REQ_CREDIT_BUREAU_HOUR'].isnull().sum())\n",
    "print(train['AMT_REQ_CREDIT_BUREAU_DAY'].isnull().sum())\n",
    "print(train['AMT_REQ_CREDIT_BUREAU_WEEK'].isnull().sum())\n",
    "print(train['AMT_REQ_CREDIT_BUREAU_MON'].isnull().sum())\n",
    "print(train['AMT_REQ_CREDIT_BUREAU_QRT'].isnull().sum())\n",
    "print(train['AMT_REQ_CREDIT_BUREAU_YEAR'].isnull().sum())"
   ]
  },
  {
   "cell_type": "code",
   "execution_count": 72,
   "metadata": {},
   "outputs": [],
   "source": [
    "train['AMT_REQ_CREDIT_BUREAU_HOUR'] = train['AMT_REQ_CREDIT_BUREAU_HOUR'].fillna(0.0)\n",
    "train['AMT_REQ_CREDIT_BUREAU_DAY'] = train['AMT_REQ_CREDIT_BUREAU_DAY'].fillna(0.0)\n",
    "train['AMT_REQ_CREDIT_BUREAU_WEEK'] = train['AMT_REQ_CREDIT_BUREAU_WEEK'].fillna(0.0)\n",
    "train['AMT_REQ_CREDIT_BUREAU_MON'] = train['AMT_REQ_CREDIT_BUREAU_MON'].fillna(0.0)\n",
    "train['AMT_REQ_CREDIT_BUREAU_QRT'] = train['AMT_REQ_CREDIT_BUREAU_QRT'].fillna(0.0)\n",
    "train['AMT_REQ_CREDIT_BUREAU_YEAR'] = train['AMT_REQ_CREDIT_BUREAU_YEAR'].fillna(0.0)"
   ]
  },
  {
   "cell_type": "code",
   "execution_count": 73,
   "metadata": {},
   "outputs": [
    {
     "data": {
      "text/plain": [
       "array([0., 1., 2., 3., 4.])"
      ]
     },
     "execution_count": 73,
     "metadata": {},
     "output_type": "execute_result"
    }
   ],
   "source": [
    "train['AMT_REQ_CREDIT_BUREAU_HOUR'].unique()"
   ]
  },
  {
   "cell_type": "code",
   "execution_count": 74,
   "metadata": {},
   "outputs": [],
   "source": [
    "from sklearn.preprocessing import LabelBinarizer\n",
    "\n",
    "train_AMT_REQ_CREDIT_BUREAU_HOUR = pd.DataFrame(LabelBinarizer().fit_transform(train['AMT_REQ_CREDIT_BUREAU_HOUR']), \n",
    "                                           columns = ['AMT_REQ_CREDIT_BUREAU_HOUR_0', 'AMT_REQ_CREDIT_BUREAU_HOUR_1', \n",
    "                                                      'AMT_REQ_CREDIT_BUREAU_HOUR_2', 'AMT_REQ_CREDIT_BUREAU_HOUR_3',\n",
    "                                                      'AMT_REQ_CREDIT_BUREAU_HOUR_4'], index=train.index)\n",
    "train = pd.concat([train, train_AMT_REQ_CREDIT_BUREAU_HOUR], axis = 1)\n",
    "del(train['AMT_REQ_CREDIT_BUREAU_HOUR'])"
   ]
  },
  {
   "cell_type": "code",
   "execution_count": 75,
   "metadata": {},
   "outputs": [
    {
     "data": {
      "text/plain": [
       "[0.0, 1.0, 2.0, 3.0, 4.0, 5.0, 6.0, 7.0, 8.0]"
      ]
     },
     "execution_count": 75,
     "metadata": {},
     "output_type": "execute_result"
    }
   ],
   "source": [
    "sorted(train['AMT_REQ_CREDIT_BUREAU_WEEK'].unique())"
   ]
  },
  {
   "cell_type": "code",
   "execution_count": 76,
   "metadata": {},
   "outputs": [],
   "source": [
    "from sklearn.preprocessing import LabelBinarizer\n",
    "\n",
    "train_AMT_REQ_CREDIT_BUREAU_WEEK = pd.DataFrame(LabelBinarizer().fit_transform(train['AMT_REQ_CREDIT_BUREAU_WEEK']), \n",
    "                                           columns = ['AMT_REQ_CREDIT_BUREAU_WEEK_0', 'AMT_REQ_CREDIT_BUREAU_WEEK_1', 'AMT_REQ_CREDIT_BUREAU_WEEK_2',\n",
    "                                                      'AMT_REQ_CREDIT_BUREAU_WEEK_3', 'AMT_REQ_CREDIT_BUREAU_WEEK_4', 'AMT_REQ_CREDIT_BUREAU_WEEK_5',\n",
    "                                                      'AMT_REQ_CREDIT_BUREAU_WEEK_6', 'AMT_REQ_CREDIT_BUREAU_WEEK_7', 'AMT_REQ_CREDIT_BUREAU_WEEK_8'], index=train.index)\n",
    "train = pd.concat([train, train_AMT_REQ_CREDIT_BUREAU_WEEK], axis = 1)\n",
    "del(train['AMT_REQ_CREDIT_BUREAU_WEEK'])"
   ]
  },
  {
   "cell_type": "code",
   "execution_count": 77,
   "metadata": {},
   "outputs": [
    {
     "name": "stdout",
     "output_type": "stream",
     "text": [
      "[0.0, 1.0, 2.0, 3.0, 4.0, 5.0, 6.0, 7.0, 8.0, 9.0, 10.0, 11.0, 12.0, 13.0, 14.0, 15.0, 16.0, 17.0, 18.0, 19.0, 22.0, 23.0, 24.0, 27.0]\n"
     ]
    }
   ],
   "source": [
    "print(sorted(train['AMT_REQ_CREDIT_BUREAU_MON'].unique()))"
   ]
  },
  {
   "cell_type": "code",
   "execution_count": 78,
   "metadata": {},
   "outputs": [],
   "source": [
    "from sklearn.preprocessing import LabelBinarizer\n",
    "\n",
    "train_AMT_REQ_CREDIT_BUREAU_MON = pd.DataFrame(LabelBinarizer().\n",
    "                                                fit_transform(train['AMT_REQ_CREDIT_BUREAU_MON']), \n",
    "                                           columns = ['AMT_REQ_CREDIT_BUREAU_MON_0', 'AMT_REQ_CREDIT_BUREAU_MON_1', 'AMT_REQ_CREDIT_BUREAU_MON_2',\n",
    "                                                      'AMT_REQ_CREDIT_BUREAU_MON_3', 'AMT_REQ_CREDIT_BUREAU_MON_4', 'AMT_REQ_CREDIT_BUREAU_MON_5',\n",
    "                                                      'AMT_REQ_CREDIT_BUREAU_MON_6', 'AMT_REQ_CREDIT_BUREAU_MON_7', 'AMT_REQ_CREDIT_BUREAU_MON_8',\n",
    "                                                      'AMT_REQ_CREDIT_BUREAU_MON_9', 'AMT_REQ_CREDIT_BUREAU_MON_10', 'AMT_REQ_CREDIT_BUREAU_MON_11', \n",
    "                                                      'AMT_REQ_CREDIT_BUREAU_MON_12', 'AMT_REQ_CREDIT_BUREAU_MON_13', 'AMT_REQ_CREDIT_BUREAU_MON_14',\n",
    "                                                      'AMT_REQ_CREDIT_BUREAU_MON_15', 'AMT_REQ_CREDIT_BUREAU_MON_16', 'AMT_REQ_CREDIT_BUREAU_MON_17',\n",
    "                                                      'AMT_REQ_CREDIT_BUREAU_MON_18', 'AMT_REQ_CREDIT_BUREAU_MON_19', 'AMT_REQ_CREDIT_BUREAU_MON_22', \n",
    "                                                      'AMT_REQ_CREDIT_BUREAU_MON_23', 'AMT_REQ_CREDIT_BUREAU_MON_24', 'AMT_REQ_CREDIT_BUREAU_MON_27'], index=train.index)\n",
    "train = pd.concat([train, train_AMT_REQ_CREDIT_BUREAU_MON], axis = 1)\n",
    "del(train['AMT_REQ_CREDIT_BUREAU_MON'])"
   ]
  },
  {
   "cell_type": "code",
   "execution_count": 79,
   "metadata": {},
   "outputs": [
    {
     "data": {
      "text/plain": [
       "[0.0, 1.0, 2.0, 3.0, 4.0, 5.0, 6.0, 7.0, 8.0, 19.0, 261.0]"
      ]
     },
     "execution_count": 79,
     "metadata": {},
     "output_type": "execute_result"
    }
   ],
   "source": [
    "sorted(train['AMT_REQ_CREDIT_BUREAU_QRT'].unique())"
   ]
  },
  {
   "cell_type": "code",
   "execution_count": 80,
   "metadata": {},
   "outputs": [],
   "source": [
    "from sklearn.preprocessing import LabelBinarizer\n",
    "\n",
    "train_AMT_REQ_CREDIT_BUREAU_QRT = pd.DataFrame(LabelBinarizer().\n",
    "                                                fit_transform(train['AMT_REQ_CREDIT_BUREAU_QRT']), \n",
    "                                           columns = ['AMT_REQ_CREDIT_BUREAU_QRT_0', 'AMT_REQ_CREDIT_BUREAU_QRT_1', 'AMT_REQ_CREDIT_BUREAU_QRT_2',\n",
    "                                                      'AMT_REQ_CREDIT_BUREAU_QRT_3', 'AMT_REQ_CREDIT_BUREAU_QRT_4', 'AMT_REQ_CREDIT_BUREAU_QRT_5',\n",
    "                                                      'AMT_REQ_CREDIT_BUREAU_QRT_6', 'AMT_REQ_CREDIT_BUREAU_QRT_7', 'AMT_REQ_CREDIT_BUREAU_QRT_8',\n",
    "                                                      'AMT_REQ_CREDIT_BUREAU_QRT_19', 'AMT_REQ_CREDIT_BUREAU_QRT_261'\n",
    "                                                     ], index=train.index)\n",
    "train = pd.concat([train, train_AMT_REQ_CREDIT_BUREAU_QRT], axis = 1)\n",
    "del(train['AMT_REQ_CREDIT_BUREAU_QRT'])"
   ]
  },
  {
   "cell_type": "code",
   "execution_count": 81,
   "metadata": {},
   "outputs": [
    {
     "name": "stdout",
     "output_type": "stream",
     "text": [
      "[0.0, 1.0, 2.0, 3.0, 4.0, 5.0, 6.0, 7.0, 8.0, 9.0, 10.0, 11.0, 12.0, 13.0, 14.0, 15.0, 16.0, 17.0, 18.0, 19.0, 20.0, 21.0, 22.0, 23.0, 25.0]\n"
     ]
    }
   ],
   "source": [
    "print(sorted(train['AMT_REQ_CREDIT_BUREAU_YEAR'].unique()))"
   ]
  },
  {
   "cell_type": "code",
   "execution_count": 82,
   "metadata": {},
   "outputs": [],
   "source": [
    "from sklearn.preprocessing import LabelBinarizer\n",
    "\n",
    "train_AMT_REQ_CREDIT_BUREAU_YEAR = pd.DataFrame(LabelBinarizer().\n",
    "                                                fit_transform(train['AMT_REQ_CREDIT_BUREAU_YEAR']), \n",
    "                                           columns = ['AMT_REQ_CREDIT_BUREAU_YEAR_0', 'AMT_REQ_CREDIT_BUREAU_YEAR_1', 'AMT_REQ_CREDIT_BUREAU_YEAR_2',\n",
    "                                                      'AMT_REQ_CREDIT_BUREAU_YEAR_3', 'AMT_REQ_CREDIT_BUREAU_YEAR_4', 'AMT_REQ_CREDIT_BUREAU_YEAR_5',\n",
    "                                                      'AMT_REQ_CREDIT_BUREAU_YEAR_6', 'AMT_REQ_CREDIT_BUREAU_YEAR_7', 'AMT_REQ_CREDIT_BUREAU_YEAR_8',\n",
    "                                                      'AMT_REQ_CREDIT_BUREAU_YEAR_9', 'AMT_REQ_CREDIT_BUREAU_YEAR_10', 'AMT_REQ_CREDIT_BUREAU_YEAR_11', \n",
    "                                                      'AMT_REQ_CREDIT_BUREAU_YEAR_12', 'AMT_REQ_CREDIT_BUREAU_YEAR_13', 'AMT_REQ_CREDIT_BUREAU_YEAR_14',\n",
    "                                                      'AMT_REQ_CREDIT_BUREAU_YEAR_15', 'AMT_REQ_CREDIT_BUREAU_YEAR_16', 'AMT_REQ_CREDIT_BUREAU_YEAR_17',\n",
    "                                                      'AMT_REQ_CREDIT_BUREAU_YEAR_18', 'AMT_REQ_CREDIT_BUREAU_YEAR_19', 'AMT_REQ_CREDIT_BUREAU_YEAR_20',\n",
    "                                                      'AMT_REQ_CREDIT_BUREAU_YEAR_21', 'AMT_REQ_CREDIT_BUREAU_YEAR_22', 'AMT_REQ_CREDIT_BUREAU_YEAR_23', \n",
    "                                                      'AMT_REQ_CREDIT_BUREAU_YEAR_25'], index=train.index)\n",
    "train = pd.concat([train, train_AMT_REQ_CREDIT_BUREAU_YEAR], axis = 1)\n",
    "del(train['AMT_REQ_CREDIT_BUREAU_YEAR'])"
   ]
  },
  {
   "cell_type": "markdown",
   "metadata": {},
   "source": [
    "# FINAL FRAME"
   ]
  },
  {
   "cell_type": "code",
   "execution_count": 83,
   "metadata": {},
   "outputs": [
    {
     "data": {
      "text/plain": [
       "(307511, 499)"
      ]
     },
     "execution_count": 83,
     "metadata": {},
     "output_type": "execute_result"
    }
   ],
   "source": [
    "train.shape"
   ]
  },
  {
   "cell_type": "code",
   "execution_count": 84,
   "metadata": {},
   "outputs": [
    {
     "name": "stdout",
     "output_type": "stream",
     "text": [
      "SK_ID_CURR\n",
      "TARGET\n",
      "NAME_CONTRACT_TYPE\n",
      "CODE_GENDER\n",
      "FLAG_OWN_CAR\n",
      "FLAG_OWN_REALTY\n",
      "AMT_INCOME_TOTAL\n",
      "AMT_CREDIT\n",
      "AMT_ANNUITY\n",
      "AMT_GOODS_PRICE\n",
      "NAME_INCOME_TYPE\n",
      "REGION_POPULATION_RELATIVE\n",
      "DAYS_BIRTH\n",
      "DAYS_EMPLOYED\n",
      "DAYS_REGISTRATION\n",
      "DAYS_ID_PUBLISH\n",
      "FLAG_MOBIL\n",
      "FLAG_EMP_PHONE\n",
      "FLAG_WORK_PHONE\n",
      "FLAG_CONT_MOBILE\n",
      "FLAG_PHONE\n",
      "FLAG_EMAIL\n",
      "REGION_RATING_CLIENT\n",
      "REG_REGION_NOT_LIVE_REGION\n",
      "REG_REGION_NOT_WORK_REGION\n",
      "LIVE_REGION_NOT_WORK_REGION\n",
      "REG_CITY_NOT_LIVE_CITY\n",
      "REG_CITY_NOT_WORK_CITY\n",
      "LIVE_CITY_NOT_WORK_CITY\n",
      "EXT_SOURCE_1\n",
      "EXT_SOURCE_2\n",
      "EXT_SOURCE_3\n",
      "APARTMENTS_AVG\n",
      "BASEMENTAREA_AVG\n",
      "YEARS_BEGINEXPLUATATION_AVG\n",
      "YEARS_BUILD_AVG\n",
      "COMMONAREA_AVG\n",
      "ELEVATORS_AVG\n",
      "ENTRANCES_AVG\n",
      "FLOORSMAX_AVG\n",
      "FLOORSMIN_AVG\n",
      "LANDAREA_AVG\n",
      "LIVINGAPARTMENTS_AVG\n",
      "LIVINGAREA_AVG\n",
      "NONLIVINGAPARTMENTS_AVG\n",
      "NONLIVINGAREA_AVG\n",
      "APARTMENTS_MODE\n",
      "BASEMENTAREA_MODE\n",
      "YEARS_BEGINEXPLUATATION_MODE\n",
      "YEARS_BUILD_MODE\n",
      "COMMONAREA_MODE\n",
      "ELEVATORS_MODE\n",
      "ENTRANCES_MODE\n",
      "FLOORSMAX_MODE\n",
      "FLOORSMIN_MODE\n",
      "LANDAREA_MODE\n",
      "LIVINGAPARTMENTS_MODE\n",
      "LIVINGAREA_MODE\n",
      "NONLIVINGAPARTMENTS_MODE\n",
      "NONLIVINGAREA_MODE\n",
      "APARTMENTS_MEDI\n",
      "BASEMENTAREA_MEDI\n",
      "YEARS_BEGINEXPLUATATION_MEDI\n",
      "YEARS_BUILD_MEDI\n",
      "COMMONAREA_MEDI\n",
      "ELEVATORS_MEDI\n",
      "ENTRANCES_MEDI\n",
      "FLOORSMAX_MEDI\n",
      "FLOORSMIN_MEDI\n",
      "LANDAREA_MEDI\n",
      "LIVINGAPARTMENTS_MEDI\n",
      "LIVINGAREA_MEDI\n",
      "NONLIVINGAPARTMENTS_MEDI\n",
      "NONLIVINGAREA_MEDI\n",
      "TOTALAREA_MODE\n",
      "EMERGENCYSTATE_MODE\n",
      "DAYS_LAST_PHONE_CHANGE\n",
      "FLAG_DOCUMENT_2\n",
      "FLAG_DOCUMENT_3\n",
      "FLAG_DOCUMENT_4\n",
      "FLAG_DOCUMENT_5\n",
      "FLAG_DOCUMENT_6\n",
      "FLAG_DOCUMENT_7\n",
      "FLAG_DOCUMENT_8\n",
      "FLAG_DOCUMENT_9\n",
      "FLAG_DOCUMENT_10\n",
      "FLAG_DOCUMENT_11\n",
      "FLAG_DOCUMENT_12\n",
      "FLAG_DOCUMENT_13\n",
      "FLAG_DOCUMENT_14\n",
      "FLAG_DOCUMENT_15\n",
      "FLAG_DOCUMENT_16\n",
      "FLAG_DOCUMENT_17\n",
      "FLAG_DOCUMENT_18\n",
      "FLAG_DOCUMENT_19\n",
      "FLAG_DOCUMENT_20\n",
      "FLAG_DOCUMENT_21\n",
      "AMT_REQ_CREDIT_BUREAU_DAY\n",
      "CNT_CHILDREN_0\n",
      "CNT_CHILDREN_1\n",
      "CNT_CHILDREN_2\n",
      "CNT_CHILDREN_3\n",
      "CNT_CHILDREN_4\n",
      "CNT_CHILDREN_5\n",
      "CNT_CHILDREN_6\n",
      "CNT_CHILDREN_7\n",
      "CNT_CHILDREN_8\n",
      "CNT_CHILDREN_9\n",
      "CNT_CHILDREN_10\n",
      "CNT_CHILDREN_11\n",
      "CNT_CHILDREN_12\n",
      "CNT_CHILDREN_14\n",
      "CNT_CHILDREN_19\n",
      "Children\n",
      "Family\n",
      "Group of people\n",
      "Other_A\n",
      "Other_B\n",
      "Spouse, partner\n",
      "Unaccompanied\n",
      "Academic degree\n",
      "Higher education\n",
      "Incomplete higher\n",
      "Lower secondary\n",
      "Secondary / secondary special\n",
      "Civil marriage\n",
      "Married\n",
      "Separated\n",
      "Single / not married\n",
      "Unknown\n",
      "Widow\n",
      "Co-op apartment\n",
      "House / apartment\n",
      "Municipal apartment\n",
      "Office apartment\n",
      "Rented apartment\n",
      "With parents\n",
      "OWN_CAR_AGE_0\n",
      "OWN_CAR_AGE_1\n",
      "OWN_CAR_AGE_2\n",
      "OWN_CAR_AGE_3\n",
      "OWN_CAR_AGE_4\n",
      "OWN_CAR_AGE_5\n",
      "OWN_CAR_AGE_6\n",
      "OWN_CAR_AGE_7\n",
      "OWN_CAR_AGE_8\n",
      "OWN_CAR_AGE_9\n",
      "OWN_CAR_AGE_10\n",
      "OWN_CAR_AGE_11\n",
      "OWN_CAR_AGE_12\n",
      "OWN_CAR_AGE_13\n",
      "OWN_CAR_AGE_14\n",
      "OWN_CAR_AGE_15\n",
      "OWN_CAR_AGE_16\n",
      "OWN_CAR_AGE_17\n",
      "OWN_CAR_AGE_18\n",
      "OWN_CAR_AGE_19\n",
      "OWN_CAR_AGE_20\n",
      "OWN_CAR_AGE_21\n",
      "OWN_CAR_AGE_22\n",
      "OWN_CAR_AGE_23\n",
      "OWN_CAR_AGE_24\n",
      "OWN_CAR_AGE_25\n",
      "OWN_CAR_AGE_26\n",
      "OWN_CAR_AGE_27\n",
      "OWN_CAR_AGE_28\n",
      "OWN_CAR_AGE_29\n",
      "OWN_CAR_AGE_30\n",
      "OWN_CAR_AGE_31\n",
      "OWN_CAR_AGE_32\n",
      "OWN_CAR_AGE_33\n",
      "OWN_CAR_AGE_34\n",
      "OWN_CAR_AGE_35\n",
      "OWN_CAR_AGE_36\n",
      "OWN_CAR_AGE_37\n",
      "OWN_CAR_AGE_38\n",
      "OWN_CAR_AGE_39\n",
      "OWN_CAR_AGE_40\n",
      "OWN_CAR_AGE_41\n",
      "OWN_CAR_AGE_42\n",
      "OWN_CAR_AGE_43\n",
      "OWN_CAR_AGE_44\n",
      "OWN_CAR_AGE_45\n",
      "OWN_CAR_AGE_46\n",
      "OWN_CAR_AGE_47\n",
      "OWN_CAR_AGE_48\n",
      "OWN_CAR_AGE_49\n",
      "OWN_CAR_AGE_50\n",
      "OWN_CAR_AGE_51\n",
      "OWN_CAR_AGE_52\n",
      "OWN_CAR_AGE_54\n",
      "OWN_CAR_AGE_55\n",
      "OWN_CAR_AGE_56\n",
      "OWN_CAR_AGE_57\n",
      "OWN_CAR_AGE_63\n",
      "OWN_CAR_AGE_64\n",
      "OWN_CAR_AGE_65\n",
      "OWN_CAR_AGE_69\n",
      "OWN_CAR_AGE_91\n",
      "Accountants\n",
      "Cleaning staff\n",
      "Cooking staff\n",
      "Core staff\n",
      "Drivers\n",
      "HR staff\n",
      "High skill tech staff\n",
      "IT staff\n",
      "Laborers\n",
      "Low-skill Laborers\n",
      "Managers\n",
      "Medicine staff\n",
      "Private service staff\n",
      "Realty agents\n",
      "Sales staff\n",
      "Secretaries\n",
      "Security staff\n",
      "Waiters/barmen staff\n",
      "CNT_FAM_MEMBERS_1\n",
      "CNT_FAM_MEMBERS_2\n",
      "CNT_FAM_MEMBERS_3\n",
      "CNT_FAM_MEMBERS_4\n",
      "CNT_FAM_MEMBERS_5\n",
      "CNT_FAM_MEMBERS_6\n",
      "CNT_FAM_MEMBERS_7\n",
      "CNT_FAM_MEMBERS_8\n",
      "CNT_FAM_MEMBERS_9\n",
      "CNT_FAM_MEMBERS_10\n",
      "CNT_FAM_MEMBERS_11\n",
      "CNT_FAM_MEMBERS_12\n",
      "CNT_FAM_MEMBERS_13\n",
      "CNT_FAM_MEMBERS_14\n",
      "CNT_FAM_MEMBERS_15\n",
      "CNT_FAM_MEMBERS_16\n",
      "CNT_FAM_MEMBERS_20\n",
      "REGION_RATING_CLIENT_W_CITY_1\n",
      "REGION_RATING_CLIENT_W_CITY_2\n",
      "REGION_RATING_CLIENT_W_CITY_3\n",
      "FRIDAY\n",
      "MONDAY\n",
      "SATURDAY\n",
      "SUNDAY\n",
      "THURSDAY\n",
      "TUESDAY\n",
      "WEDNESDAY\n",
      "HOUR_APPR_PROCESS_START_0\n",
      "HOUR_APPR_PROCESS_START_1\n",
      "HOUR_APPR_PROCESS_START_2\n",
      "HOUR_APPR_PROCESS_START_3\n",
      "HOUR_APPR_PROCESS_START_4\n",
      "HOUR_APPR_PROCESS_START_5\n",
      "HOUR_APPR_PROCESS_START_6\n",
      "HOUR_APPR_PROCESS_START_7\n",
      "HOUR_APPR_PROCESS_START_8\n",
      "HOUR_APPR_PROCESS_START_9\n",
      "HOUR_APPR_PROCESS_START_10\n",
      "HOUR_APPR_PROCESS_START_11\n",
      "HOUR_APPR_PROCESS_START_12\n",
      "HOUR_APPR_PROCESS_START_13\n",
      "HOUR_APPR_PROCESS_START_14\n",
      "HOUR_APPR_PROCESS_START_15\n",
      "HOUR_APPR_PROCESS_START_16\n",
      "HOUR_APPR_PROCESS_START_17\n",
      "HOUR_APPR_PROCESS_START_18\n",
      "HOUR_APPR_PROCESS_START_19\n",
      "HOUR_APPR_PROCESS_START_20\n",
      "HOUR_APPR_PROCESS_START_21\n",
      "HOUR_APPR_PROCESS_START_22\n",
      "HOUR_APPR_PROCESS_START_23\n",
      "Advertising\n",
      "Agriculture\n",
      "Bank\n",
      "Business Entity Type 1\n",
      "Business Entity Type 2\n",
      "Business Entity Type 3\n",
      "Cleaning\n",
      "Construction\n",
      "Culture\n",
      "Electricity\n",
      "Emergency\n",
      "Government\n",
      "Hotel\n",
      "Housing\n",
      "Industry: type 1\n",
      "Industry: type 10\n",
      "Industry: type 11\n",
      "Industry: type 12\n",
      "Industry: type 13\n",
      "Industry: type 2\n",
      "Industry: type 3\n",
      "Industry: type 4\n",
      "Industry: type 5\n",
      "Industry: type 6\n",
      "Industry: type 7\n",
      "Industry: type 8\n",
      "Industry: type 9\n",
      "Insurance\n",
      "Kindergarten\n",
      "Legal Services\n",
      "Medicine\n",
      "Military\n",
      "Mobile\n",
      "Other\n",
      "Police\n",
      "Postal\n",
      "Realtor\n",
      "Religion\n",
      "Restaurant\n",
      "School\n",
      "Security\n",
      "Security Ministries\n",
      "Self-employed\n",
      "Services\n",
      "Telecom\n",
      "Trade: type 1\n",
      "Trade: type 2\n",
      "Trade: type 3\n",
      "Trade: type 4\n",
      "Trade: type 5\n",
      "Trade: type 6\n",
      "Trade: type 7\n",
      "Transport: type 1\n",
      "Transport: type 2\n",
      "Transport: type 3\n",
      "Transport: type 4\n",
      "University\n",
      "XNA\n",
      "not specified\n",
      "org spec account\n",
      "reg oper account\n",
      "reg oper spec account\n",
      "block of flats\n",
      "specific housing\n",
      "terraced house\n",
      "Block\n",
      "Mixed\n",
      "Monolithic\n",
      "Others\n",
      "Panel\n",
      "Stone, brick\n",
      "Wooden\n",
      "OBS_30_CNT_SOCIAL_CIRCLE_0\n",
      "OBS_30_CNT_SOCIAL_CIRCLE_1\n",
      "OBS_30_CNT_SOCIAL_CIRCLE_2\n",
      "OBS_30_CNT_SOCIAL_CIRCLE_3\n",
      "OBS_30_CNT_SOCIAL_CIRCLE_4\n",
      "OBS_30_CNT_SOCIAL_CIRCLE_5\n",
      "OBS_30_CNT_SOCIAL_CIRCLE_6\n",
      "OBS_30_CNT_SOCIAL_CIRCLE_7\n",
      "OBS_30_CNT_SOCIAL_CIRCLE_8\n",
      "OBS_30_CNT_SOCIAL_CIRCLE_9\n",
      "OBS_30_CNT_SOCIAL_CIRCLE_10\n",
      "OBS_30_CNT_SOCIAL_CIRCLE_11\n",
      "OBS_30_CNT_SOCIAL_CIRCLE_12\n",
      "OBS_30_CNT_SOCIAL_CIRCLE_13\n",
      "OBS_30_CNT_SOCIAL_CIRCLE_14\n",
      "OBS_30_CNT_SOCIAL_CIRCLE_15\n",
      "OBS_30_CNT_SOCIAL_CIRCLE_16\n",
      "OBS_30_CNT_SOCIAL_CIRCLE_17\n",
      "OBS_30_CNT_SOCIAL_CIRCLE_18\n",
      "OBS_30_CNT_SOCIAL_CIRCLE_19\n",
      "OBS_30_CNT_SOCIAL_CIRCLE_20\n",
      "OBS_30_CNT_SOCIAL_CIRCLE_21\n",
      "OBS_30_CNT_SOCIAL_CIRCLE_22\n",
      "OBS_30_CNT_SOCIAL_CIRCLE_23\n",
      "OBS_30_CNT_SOCIAL_CIRCLE_24\n",
      "OBS_30_CNT_SOCIAL_CIRCLE_25\n",
      "OBS_30_CNT_SOCIAL_CIRCLE_26\n",
      "OBS_30_CNT_SOCIAL_CIRCLE_27\n",
      "OBS_30_CNT_SOCIAL_CIRCLE_28\n",
      "OBS_30_CNT_SOCIAL_CIRCLE_29\n",
      "OBS_30_CNT_SOCIAL_CIRCLE_30\n",
      "OBS_30_CNT_SOCIAL_CIRCLE_47\n",
      "OBS_30_CNT_SOCIAL_CIRCLE_348\n",
      "DEF_30_CNT_SOCIAL_CIRCLE_0\n",
      "DEF_30_CNT_SOCIAL_CIRCLE_1\n",
      "DEF_30_CNT_SOCIAL_CIRCLE_2\n",
      "DEF_30_CNT_SOCIAL_CIRCLE_3\n",
      "DEF_30_CNT_SOCIAL_CIRCLE_4\n",
      "DEF_30_CNT_SOCIAL_CIRCLE_5\n",
      "DEF_30_CNT_SOCIAL_CIRCLE_6\n",
      "DEF_30_CNT_SOCIAL_CIRCLE_7\n",
      "DEF_30_CNT_SOCIAL_CIRCLE_8\n",
      "DEF_30_CNT_SOCIAL_CIRCLE_34\n",
      "OBS_60_CNT_SOCIAL_CIRCLE_0\n",
      "OBS_60_CNT_SOCIAL_CIRCLE_1\n",
      "OBS_60_CNT_SOCIAL_CIRCLE_2\n",
      "OBS_60_CNT_SOCIAL_CIRCLE_3\n",
      "OBS_60_CNT_SOCIAL_CIRCLE_4\n",
      "OBS_60_CNT_SOCIAL_CIRCLE_5\n",
      "OBS_60_CNT_SOCIAL_CIRCLE_6\n",
      "OBS_60_CNT_SOCIAL_CIRCLE_7\n",
      "OBS_60_CNT_SOCIAL_CIRCLE_8\n",
      "OBS_60_CNT_SOCIAL_CIRCLE_9\n",
      "OBS_60_CNT_SOCIAL_CIRCLE_10\n",
      "OBS_60_CNT_SOCIAL_CIRCLE_11\n",
      "OBS_60_CNT_SOCIAL_CIRCLE_12\n",
      "OBS_60_CNT_SOCIAL_CIRCLE_13\n",
      "OBS_60_CNT_SOCIAL_CIRCLE_14\n",
      "OBS_60_CNT_SOCIAL_CIRCLE_15\n",
      "OBS_60_CNT_SOCIAL_CIRCLE_16\n",
      "OBS_60_CNT_SOCIAL_CIRCLE_17\n",
      "OBS_60_CNT_SOCIAL_CIRCLE_18\n",
      "OBS_60_CNT_SOCIAL_CIRCLE_19\n",
      "OBS_60_CNT_SOCIAL_CIRCLE_20\n",
      "OBS_60_CNT_SOCIAL_CIRCLE_21\n",
      "OBS_60_CNT_SOCIAL_CIRCLE_22\n",
      "OBS_60_CNT_SOCIAL_CIRCLE_23\n",
      "OBS_60_CNT_SOCIAL_CIRCLE_24\n",
      "OBS_60_CNT_SOCIAL_CIRCLE_25\n",
      "OBS_60_CNT_SOCIAL_CIRCLE_26\n",
      "OBS_60_CNT_SOCIAL_CIRCLE_27\n",
      "OBS_60_CNT_SOCIAL_CIRCLE_28\n",
      "OBS_60_CNT_SOCIAL_CIRCLE_29\n",
      "OBS_60_CNT_SOCIAL_CIRCLE_30\n",
      "OBS_60_CNT_SOCIAL_CIRCLE_47\n",
      "OBS_60_CNT_SOCIAL_CIRCLE_344\n",
      "DEF_60_CNT_SOCIAL_CIRCLE_0\n",
      "DEF_60_CNT_SOCIAL_CIRCLE_1\n",
      "DEF_60_CNT_SOCIAL_CIRCLE_2\n",
      "DEF_60_CNT_SOCIAL_CIRCLE_3\n",
      "DEF_60_CNT_SOCIAL_CIRCLE_4\n",
      "DEF_60_CNT_SOCIAL_CIRCLE_5\n",
      "DEF_60_CNT_SOCIAL_CIRCLE_6\n",
      "DEF_60_CNT_SOCIAL_CIRCLE_7\n",
      "DEF_60_CNT_SOCIAL_CIRCLE_24\n",
      "AMT_REQ_CREDIT_BUREAU_HOUR_0\n",
      "AMT_REQ_CREDIT_BUREAU_HOUR_1\n",
      "AMT_REQ_CREDIT_BUREAU_HOUR_2\n",
      "AMT_REQ_CREDIT_BUREAU_HOUR_3\n",
      "AMT_REQ_CREDIT_BUREAU_HOUR_4\n",
      "AMT_REQ_CREDIT_BUREAU_WEEK_0\n",
      "AMT_REQ_CREDIT_BUREAU_WEEK_1\n",
      "AMT_REQ_CREDIT_BUREAU_WEEK_2\n",
      "AMT_REQ_CREDIT_BUREAU_WEEK_3\n",
      "AMT_REQ_CREDIT_BUREAU_WEEK_4\n",
      "AMT_REQ_CREDIT_BUREAU_WEEK_5\n",
      "AMT_REQ_CREDIT_BUREAU_WEEK_6\n",
      "AMT_REQ_CREDIT_BUREAU_WEEK_7\n",
      "AMT_REQ_CREDIT_BUREAU_WEEK_8\n",
      "AMT_REQ_CREDIT_BUREAU_MON_0\n",
      "AMT_REQ_CREDIT_BUREAU_MON_1\n",
      "AMT_REQ_CREDIT_BUREAU_MON_2\n",
      "AMT_REQ_CREDIT_BUREAU_MON_3\n",
      "AMT_REQ_CREDIT_BUREAU_MON_4\n",
      "AMT_REQ_CREDIT_BUREAU_MON_5\n",
      "AMT_REQ_CREDIT_BUREAU_MON_6\n",
      "AMT_REQ_CREDIT_BUREAU_MON_7\n",
      "AMT_REQ_CREDIT_BUREAU_MON_8\n",
      "AMT_REQ_CREDIT_BUREAU_MON_9\n",
      "AMT_REQ_CREDIT_BUREAU_MON_10\n",
      "AMT_REQ_CREDIT_BUREAU_MON_11\n",
      "AMT_REQ_CREDIT_BUREAU_MON_12\n",
      "AMT_REQ_CREDIT_BUREAU_MON_13\n",
      "AMT_REQ_CREDIT_BUREAU_MON_14\n",
      "AMT_REQ_CREDIT_BUREAU_MON_15\n",
      "AMT_REQ_CREDIT_BUREAU_MON_16\n",
      "AMT_REQ_CREDIT_BUREAU_MON_17\n",
      "AMT_REQ_CREDIT_BUREAU_MON_18\n",
      "AMT_REQ_CREDIT_BUREAU_MON_19\n",
      "AMT_REQ_CREDIT_BUREAU_MON_22\n",
      "AMT_REQ_CREDIT_BUREAU_MON_23\n",
      "AMT_REQ_CREDIT_BUREAU_MON_24\n",
      "AMT_REQ_CREDIT_BUREAU_MON_27\n",
      "AMT_REQ_CREDIT_BUREAU_QRT_0\n",
      "AMT_REQ_CREDIT_BUREAU_QRT_1\n",
      "AMT_REQ_CREDIT_BUREAU_QRT_2\n",
      "AMT_REQ_CREDIT_BUREAU_QRT_3\n",
      "AMT_REQ_CREDIT_BUREAU_QRT_4\n",
      "AMT_REQ_CREDIT_BUREAU_QRT_5\n",
      "AMT_REQ_CREDIT_BUREAU_QRT_6\n",
      "AMT_REQ_CREDIT_BUREAU_QRT_7\n",
      "AMT_REQ_CREDIT_BUREAU_QRT_8\n",
      "AMT_REQ_CREDIT_BUREAU_QRT_19\n",
      "AMT_REQ_CREDIT_BUREAU_QRT_261\n",
      "AMT_REQ_CREDIT_BUREAU_YEAR_0\n",
      "AMT_REQ_CREDIT_BUREAU_YEAR_1\n",
      "AMT_REQ_CREDIT_BUREAU_YEAR_2\n",
      "AMT_REQ_CREDIT_BUREAU_YEAR_3\n",
      "AMT_REQ_CREDIT_BUREAU_YEAR_4\n",
      "AMT_REQ_CREDIT_BUREAU_YEAR_5\n",
      "AMT_REQ_CREDIT_BUREAU_YEAR_6\n",
      "AMT_REQ_CREDIT_BUREAU_YEAR_7\n",
      "AMT_REQ_CREDIT_BUREAU_YEAR_8\n",
      "AMT_REQ_CREDIT_BUREAU_YEAR_9\n",
      "AMT_REQ_CREDIT_BUREAU_YEAR_10\n",
      "AMT_REQ_CREDIT_BUREAU_YEAR_11\n",
      "AMT_REQ_CREDIT_BUREAU_YEAR_12\n",
      "AMT_REQ_CREDIT_BUREAU_YEAR_13\n",
      "AMT_REQ_CREDIT_BUREAU_YEAR_14\n",
      "AMT_REQ_CREDIT_BUREAU_YEAR_15\n",
      "AMT_REQ_CREDIT_BUREAU_YEAR_16\n",
      "AMT_REQ_CREDIT_BUREAU_YEAR_17\n",
      "AMT_REQ_CREDIT_BUREAU_YEAR_18\n",
      "AMT_REQ_CREDIT_BUREAU_YEAR_19\n",
      "AMT_REQ_CREDIT_BUREAU_YEAR_20\n",
      "AMT_REQ_CREDIT_BUREAU_YEAR_21\n",
      "AMT_REQ_CREDIT_BUREAU_YEAR_22\n",
      "AMT_REQ_CREDIT_BUREAU_YEAR_23\n",
      "AMT_REQ_CREDIT_BUREAU_YEAR_25\n"
     ]
    }
   ],
   "source": [
    "for i in train.columns:\n",
    "    print(i)"
   ]
  },
  {
   "cell_type": "code",
   "execution_count": 85,
   "metadata": {},
   "outputs": [
    {
     "name": "stdout",
     "output_type": "stream",
     "text": [
      "Your selected dataframe has 499 columns.\n",
      "There are 0 columns that have missing values.\n"
     ]
    },
    {
     "data": {
      "text/html": [
       "<div>\n",
       "<style scoped>\n",
       "    .dataframe tbody tr th:only-of-type {\n",
       "        vertical-align: middle;\n",
       "    }\n",
       "\n",
       "    .dataframe tbody tr th {\n",
       "        vertical-align: top;\n",
       "    }\n",
       "\n",
       "    .dataframe thead th {\n",
       "        text-align: right;\n",
       "    }\n",
       "</style>\n",
       "<table border=\"1\" class=\"dataframe\">\n",
       "  <thead>\n",
       "    <tr style=\"text-align: right;\">\n",
       "      <th></th>\n",
       "      <th>Missing Values</th>\n",
       "      <th>% of Total Values</th>\n",
       "    </tr>\n",
       "  </thead>\n",
       "  <tbody>\n",
       "  </tbody>\n",
       "</table>\n",
       "</div>"
      ],
      "text/plain": [
       "Empty DataFrame\n",
       "Columns: [Missing Values, % of Total Values]\n",
       "Index: []"
      ]
     },
     "execution_count": 85,
     "metadata": {},
     "output_type": "execute_result"
    }
   ],
   "source": [
    "missing_values_table(train)"
   ]
  },
  {
   "cell_type": "code",
   "execution_count": 86,
   "metadata": {},
   "outputs": [],
   "source": [
    "train.to_csv('fully_cleaned_application_train.csv')"
   ]
  },
  {
   "cell_type": "code",
   "execution_count": null,
   "metadata": {},
   "outputs": [],
   "source": []
  }
 ],
 "metadata": {
  "kernelspec": {
   "display_name": "Python 3",
   "language": "python",
   "name": "python3"
  },
  "language_info": {
   "codemirror_mode": {
    "name": "ipython",
    "version": 3
   },
   "file_extension": ".py",
   "mimetype": "text/x-python",
   "name": "python",
   "nbconvert_exporter": "python",
   "pygments_lexer": "ipython3",
   "version": "3.6.4"
  }
 },
 "nbformat": 4,
 "nbformat_minor": 2
}
