{
 "cells": [
  {
   "cell_type": "markdown",
   "metadata": {},
   "source": [
    "## 3년 국채 선물 Data Handling"
   ]
  },
  {
   "cell_type": "code",
   "execution_count": 2,
   "metadata": {},
   "outputs": [
    {
     "name": "stdout",
     "output_type": "stream",
     "text": [
      "Wall time: 432 ms\n"
     ]
    },
    {
     "name": "stderr",
     "output_type": "stream",
     "text": [
      "C:\\ProgramData\\Anaconda3\\lib\\site-packages\\ipykernel_launcher.py:45: DeprecationWarning: \n",
      ".ix is deprecated. Please use\n",
      ".loc for label based indexing or\n",
      ".iloc for positional indexing\n",
      "\n",
      "See the documentation here:\n",
      "http://pandas.pydata.org/pandas-docs/stable/indexing.html#ix-indexer-is-deprecated\n"
     ]
    }
   ],
   "source": [
    "%%time\n",
    "import numpy as np\n",
    "import pandas as pd\n",
    "import time\n",
    "\n",
    "f = open('C:\\\\Finance_team\\\\raw_data\\\\sise2local.ALL_CMDT.0213', 'r', encoding='ISO-8859-1') # Raw Data File Open\n",
    "\n",
    "KTB3_productID = ' ' # KTB3_productID ==> 뒤의 While문에서 3년 국채 선물 Product이름을 찾아서, 여기에 할당. \n",
    "date = ' '\n",
    "\n",
    "\n",
    "while KTB3_productID:\n",
    "    line = f.readline()\n",
    "    if (line[17:22] == 'A0016') and (line[425:428] == 'BM3') and (line[471:474] == '001') == True:\n",
    "        KTB3_productID = line[35:47]\n",
    "        date = line[27:35] \n",
    "        break\n",
    "        \n",
    "        ## 3년 국채 선물 code: BM3\n",
    "        ## A0016: 상품선물_종목정보 데이터 Code\n",
    "        ## line[471:475] == 001 --> 최근월물 의미함. (Spec 참조)\n",
    "        ## line[35:47] ==> product ID 자리. ## KR165N3000\n",
    "        ## line[27:35] ==> date ## 20180213\n",
    "        \n",
    "f_1 = open('C:\\\\Finance_team\\\\transformed_data\\\\{0}_{1}.csv'.format(KTB3_productID, date), 'a', encoding='ISO-8859-1') # New File Open\n",
    "f_1.write('time,cur_price,exe_quantity,short_lvl1_price,short_lvl1_quantity,long_lvl1_price,long_lvl1_quantity,long_or_short,All_short_quantity,All_long_quantity\\n')\n",
    "\n",
    "while True:\n",
    "    line = f.readline()\n",
    "\n",
    "    if not line:\n",
    "        break\n",
    "\n",
    "    if (line[17:19] == 'A3') and (line.count(KTB3_productID) == 1):\n",
    "        line = line[0:17] + ',' + line[40:48] + ',' + line[48:54] + ',,,,,' + line[152] + '\\n'\n",
    "        f_1.write(line)\n",
    "\n",
    "    elif line[17:19] == 'G7' and line.count(KTB3_productID):\n",
    "        line = line[0:17] + ',' + line[40:48] + ',' + line[48:54] + ',' + line[243:251] + ',' + line[-135:-129] + ',' + line[161:169] + ',' + line[169:175] + ',' + line[152] + ',' + line[-151:-144] + ',' + line[153:160] + '\\n'\n",
    "        f_1.write(line)\n",
    "\n",
    "f_1.close()\n",
    "f.close()\n",
    "\n",
    "data = pd.read_csv('C:\\\\Finance_team\\\\transformed_data\\\\{0}_{1}.csv'.format(KTB3_productID, date),index_col=None)\n",
    "data = data.ix[1:]     # row(1) 삭제 하기 위함 - Auction Period 체결량이지만, 지금 활용하고 싶지는 않음\n",
    "data.to_csv('C:\\\\Finance_team\\\\transformed_data\\\\{0}_{1}.csv'.format(KTB3_productID, date), index = False)"
   ]
  },
  {
   "cell_type": "code",
   "execution_count": null,
   "metadata": {},
   "outputs": [],
   "source": []
  }
 ],
 "metadata": {
  "kernelspec": {
   "display_name": "Python 3",
   "language": "python",
   "name": "python3"
  },
  "language_info": {
   "codemirror_mode": {
    "name": "ipython",
    "version": 3
   },
   "file_extension": ".py",
   "mimetype": "text/x-python",
   "name": "python",
   "nbconvert_exporter": "python",
   "pygments_lexer": "ipython3",
   "version": "3.6.4"
  }
 },
 "nbformat": 4,
 "nbformat_minor": 2
}
